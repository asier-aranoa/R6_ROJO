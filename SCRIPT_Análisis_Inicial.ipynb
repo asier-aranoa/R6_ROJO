{
 "cells": [
  {
   "cell_type": "code",
   "execution_count": 78,
   "metadata": {},
   "outputs": [],
   "source": [
    "import pandas as pd\n",
    "import numpy as np\n",
    "import seaborn as sns\n",
    "import matplotlib.pyplot as plt"
   ]
  },
  {
   "cell_type": "code",
   "execution_count": 11,
   "metadata": {},
   "outputs": [],
   "source": [
    "pd.options.display.max_columns = None"
   ]
  },
  {
   "cell_type": "code",
   "execution_count": 13,
   "metadata": {},
   "outputs": [],
   "source": [
    "df = pd.read_excel('C:/Users/colom/Desktop/uni/RETO 06/EDERJAKIN_LA_Datos_2021 (COPIA).xlsm', sheet_name=None)"
   ]
  },
  {
   "cell_type": "code",
   "execution_count": 14,
   "metadata": {},
   "outputs": [],
   "source": [
    "for sheet_name in list(df.keys()):\n",
    "   df[sheet_name].to_csv(sheet_name + 'Sheet.csv')"
   ]
  },
  {
   "cell_type": "code",
   "execution_count": 20,
   "metadata": {},
   "outputs": [],
   "source": [
    "Usuarios = pd.read_csv('UsuariosSheet.csv')\n",
    "Tutores_perfil = pd.read_csv('Tutores perfilSheet.csv')\n",
    "Conocimientos = pd.read_csv('ConocimientosSheet.csv')\n",
    "Cursos = pd.read_csv('CursosSheet.csv')\n",
    "Programas = pd.read_csv('ProgramasSheet.csv')\n",
    "Cursos_en_Programas = pd.read_csv('Cursos en ProgramasSheet.csv')\n",
    "Itinearios = pd.read_csv('ItineariosSheet.csv')\n",
    "Notas_Cursos = pd.read_csv('Notas_CursosSheet.csv')\n",
    "Roles = pd.read_csv('RolesSheet.csv')\n",
    "Plantas = pd.read_csv('PlantasSheet.csv')\n",
    "Accesos = pd.read_csv('AccesosSheet.csv')\n",
    "Acceso_1ero_ultimo = pd.read_csv('Acceso_1ero_ultimoSheet.csv')\n",
    "Actividades = pd.read_csv('ActividadesSheet.csv')"
   ]
  },
  {
   "cell_type": "code",
   "execution_count": 23,
   "metadata": {},
   "outputs": [
    {
     "name": "stdout",
     "output_type": "stream",
     "text": [
      "<class 'pandas.core.frame.DataFrame'>\n",
      "RangeIndex: 3464 entries, 0 to 3463\n",
      "Data columns (total 8 columns):\n",
      " #   Column          Non-Null Count  Dtype  \n",
      "---  ------          --------------  -----  \n",
      " 0   Unnamed: 0      3464 non-null   int64  \n",
      " 1   mdl_user_id     3464 non-null   int64  \n",
      " 2   course_name     3464 non-null   object \n",
      " 3   course_id       3464 non-null   int64  \n",
      " 4   category        3464 non-null   object \n",
      " 5   actividad_name  3460 non-null   object \n",
      " 6   grade           2114 non-null   float64\n",
      " 7   time            2129 non-null   object \n",
      "dtypes: float64(1), int64(3), object(4)\n",
      "memory usage: 216.6+ KB\n"
     ]
    },
    {
     "data": {
      "text/plain": [
       "(3464, 8)"
      ]
     },
     "execution_count": 23,
     "metadata": {},
     "output_type": "execute_result"
    }
   ],
   "source": [
    "Actividades.info()\n",
    "Actividades.shape"
   ]
  },
  {
   "cell_type": "code",
   "execution_count": 24,
   "metadata": {},
   "outputs": [
    {
     "data": {
      "text/html": [
       "<div>\n",
       "<style scoped>\n",
       "    .dataframe tbody tr th:only-of-type {\n",
       "        vertical-align: middle;\n",
       "    }\n",
       "\n",
       "    .dataframe tbody tr th {\n",
       "        vertical-align: top;\n",
       "    }\n",
       "\n",
       "    .dataframe thead th {\n",
       "        text-align: right;\n",
       "    }\n",
       "</style>\n",
       "<table border=\"1\" class=\"dataframe\">\n",
       "  <thead>\n",
       "    <tr style=\"text-align: right;\">\n",
       "      <th></th>\n",
       "      <th>mdl_user_id</th>\n",
       "      <th>course_name</th>\n",
       "      <th>course_id</th>\n",
       "      <th>category</th>\n",
       "      <th>actividad_name</th>\n",
       "      <th>grade</th>\n",
       "      <th>time</th>\n",
       "    </tr>\n",
       "  </thead>\n",
       "  <tbody>\n",
       "    <tr>\n",
       "      <th>0</th>\n",
       "      <td>190</td>\n",
       "      <td>A - FORMACIÓN ESPECÍFICA CALIDAD ABP</td>\n",
       "      <td>224</td>\n",
       "      <td>TÉCNICOS/TECNOLÓGICOS ABP</td>\n",
       "      <td>TEST FINAL</td>\n",
       "      <td>NaN</td>\n",
       "      <td>NaN</td>\n",
       "    </tr>\n",
       "    <tr>\n",
       "      <th>1</th>\n",
       "      <td>190</td>\n",
       "      <td>A - FORMACIÓN ESPECÍFICA CALIDAD ABP</td>\n",
       "      <td>224</td>\n",
       "      <td>TÉCNICOS/TECNOLÓGICOS ABP</td>\n",
       "      <td>A - FORMACIÓN ESPECÍFICA CALIDAD ABP - Total</td>\n",
       "      <td>NaN</td>\n",
       "      <td>NaN</td>\n",
       "    </tr>\n",
       "    <tr>\n",
       "      <th>2</th>\n",
       "      <td>296</td>\n",
       "      <td>A - FORMACIÓN ESPECÍFICA CALIDAD ABP</td>\n",
       "      <td>224</td>\n",
       "      <td>TÉCNICOS/TECNOLÓGICOS ABP</td>\n",
       "      <td>A - FORMACIÓN ESPECÍFICA CALIDAD ABP - Total</td>\n",
       "      <td>9.32</td>\n",
       "      <td>2020-12-18 15:25:05</td>\n",
       "    </tr>\n",
       "    <tr>\n",
       "      <th>3</th>\n",
       "      <td>296</td>\n",
       "      <td>A - FORMACIÓN ESPECÍFICA CALIDAD ABP</td>\n",
       "      <td>224</td>\n",
       "      <td>TÉCNICOS/TECNOLÓGICOS ABP</td>\n",
       "      <td>TEST FINAL</td>\n",
       "      <td>9.32</td>\n",
       "      <td>2020-12-18 15:25:05</td>\n",
       "    </tr>\n",
       "    <tr>\n",
       "      <th>4</th>\n",
       "      <td>299</td>\n",
       "      <td>A - FORMACIÓN ESPECÍFICA CALIDAD ABP</td>\n",
       "      <td>224</td>\n",
       "      <td>TÉCNICOS/TECNOLÓGICOS ABP</td>\n",
       "      <td>TEST FINAL</td>\n",
       "      <td>9.66</td>\n",
       "      <td>2020-12-18 16:45:34</td>\n",
       "    </tr>\n",
       "    <tr>\n",
       "      <th>...</th>\n",
       "      <td>...</td>\n",
       "      <td>...</td>\n",
       "      <td>...</td>\n",
       "      <td>...</td>\n",
       "      <td>...</td>\n",
       "      <td>...</td>\n",
       "      <td>...</td>\n",
       "    </tr>\n",
       "    <tr>\n",
       "      <th>3459</th>\n",
       "      <td>21</td>\n",
       "      <td>Trazabilidad LPPFe MEC</td>\n",
       "      <td>278</td>\n",
       "      <td>Técnico / Tecnológico LPPFE</td>\n",
       "      <td>TEST - Enbalajearen etiketa / Etiquetado de em...</td>\n",
       "      <td>9.29</td>\n",
       "      <td>2021-06-14 16:36:31</td>\n",
       "    </tr>\n",
       "    <tr>\n",
       "      <th>3460</th>\n",
       "      <td>21</td>\n",
       "      <td>Trazabilidad LPPFe MEC</td>\n",
       "      <td>278</td>\n",
       "      <td>Técnico / Tecnológico LPPFE</td>\n",
       "      <td>Trazabilidad LPPFe MEC - Total</td>\n",
       "      <td>9.29</td>\n",
       "      <td>2021-06-14 16:36:32</td>\n",
       "    </tr>\n",
       "    <tr>\n",
       "      <th>3461</th>\n",
       "      <td>21</td>\n",
       "      <td>Trazabilidad LPPFe MEC</td>\n",
       "      <td>278</td>\n",
       "      <td>Técnico / Tecnológico LPPFE</td>\n",
       "      <td>Trazabilidad LPPFe MEC - Total</td>\n",
       "      <td>9.29</td>\n",
       "      <td>2021-06-14 16:36:32</td>\n",
       "    </tr>\n",
       "    <tr>\n",
       "      <th>3462</th>\n",
       "      <td>339</td>\n",
       "      <td>Trazabilidad LPPFe MEC</td>\n",
       "      <td>278</td>\n",
       "      <td>Técnico / Tecnológico LPPFE</td>\n",
       "      <td>Trazabilidad LPPFe MEC - Total</td>\n",
       "      <td>10.00</td>\n",
       "      <td>2021-06-14 10:13:15</td>\n",
       "    </tr>\n",
       "    <tr>\n",
       "      <th>3463</th>\n",
       "      <td>339</td>\n",
       "      <td>Trazabilidad LPPFe MEC</td>\n",
       "      <td>278</td>\n",
       "      <td>Técnico / Tecnológico LPPFE</td>\n",
       "      <td>TEST - Enbalajearen etiketa / Etiquetado de em...</td>\n",
       "      <td>10.00</td>\n",
       "      <td>2021-06-14 10:13:15</td>\n",
       "    </tr>\n",
       "  </tbody>\n",
       "</table>\n",
       "<p>3464 rows × 7 columns</p>\n",
       "</div>"
      ],
      "text/plain": [
       "      mdl_user_id                           course_name  course_id  \\\n",
       "0             190  A - FORMACIÓN ESPECÍFICA CALIDAD ABP        224   \n",
       "1             190  A - FORMACIÓN ESPECÍFICA CALIDAD ABP        224   \n",
       "2             296  A - FORMACIÓN ESPECÍFICA CALIDAD ABP        224   \n",
       "3             296  A - FORMACIÓN ESPECÍFICA CALIDAD ABP        224   \n",
       "4             299  A - FORMACIÓN ESPECÍFICA CALIDAD ABP        224   \n",
       "...           ...                                   ...        ...   \n",
       "3459           21                Trazabilidad LPPFe MEC        278   \n",
       "3460           21                Trazabilidad LPPFe MEC        278   \n",
       "3461           21                Trazabilidad LPPFe MEC        278   \n",
       "3462          339                Trazabilidad LPPFe MEC        278   \n",
       "3463          339                Trazabilidad LPPFe MEC        278   \n",
       "\n",
       "                         category  \\\n",
       "0       TÉCNICOS/TECNOLÓGICOS ABP   \n",
       "1       TÉCNICOS/TECNOLÓGICOS ABP   \n",
       "2       TÉCNICOS/TECNOLÓGICOS ABP   \n",
       "3       TÉCNICOS/TECNOLÓGICOS ABP   \n",
       "4       TÉCNICOS/TECNOLÓGICOS ABP   \n",
       "...                           ...   \n",
       "3459  Técnico / Tecnológico LPPFE   \n",
       "3460  Técnico / Tecnológico LPPFE   \n",
       "3461  Técnico / Tecnológico LPPFE   \n",
       "3462  Técnico / Tecnológico LPPFE   \n",
       "3463  Técnico / Tecnológico LPPFE   \n",
       "\n",
       "                                         actividad_name  grade  \\\n",
       "0                                            TEST FINAL    NaN   \n",
       "1          A - FORMACIÓN ESPECÍFICA CALIDAD ABP - Total    NaN   \n",
       "2          A - FORMACIÓN ESPECÍFICA CALIDAD ABP - Total   9.32   \n",
       "3                                            TEST FINAL   9.32   \n",
       "4                                            TEST FINAL   9.66   \n",
       "...                                                 ...    ...   \n",
       "3459  TEST - Enbalajearen etiketa / Etiquetado de em...   9.29   \n",
       "3460                     Trazabilidad LPPFe MEC - Total   9.29   \n",
       "3461                     Trazabilidad LPPFe MEC - Total   9.29   \n",
       "3462                     Trazabilidad LPPFe MEC - Total  10.00   \n",
       "3463  TEST - Enbalajearen etiketa / Etiquetado de em...  10.00   \n",
       "\n",
       "                     time  \n",
       "0                     NaN  \n",
       "1                     NaN  \n",
       "2     2020-12-18 15:25:05  \n",
       "3     2020-12-18 15:25:05  \n",
       "4     2020-12-18 16:45:34  \n",
       "...                   ...  \n",
       "3459  2021-06-14 16:36:31  \n",
       "3460  2021-06-14 16:36:32  \n",
       "3461  2021-06-14 16:36:32  \n",
       "3462  2021-06-14 10:13:15  \n",
       "3463  2021-06-14 10:13:15  \n",
       "\n",
       "[3464 rows x 7 columns]"
      ]
     },
     "execution_count": 24,
     "metadata": {},
     "output_type": "execute_result"
    }
   ],
   "source": [
    "Conocimientos.drop(['Unnamed: 0'], axis=1)\n",
    "\n",
    "Cursos_en_Programas.drop(['Unnamed: 0'], axis=1)\n",
    "\n",
    "Usuarios.drop(['Unnamed: 0'], axis=1)\n",
    "\n",
    "Tutores_perfil.drop(['Unnamed: 0'], axis=1)\n",
    "\n",
    "Cursos.drop(['Unnamed: 0'], axis=1)\n",
    "\n",
    "Programas.drop(['Unnamed: 0'], axis=1)\n",
    "\n",
    "Itinearios.drop(['Unnamed: 0'], axis=1)\n",
    "\n",
    "Notas_Cursos.drop(['Unnamed: 0'], axis=1)\n",
    "\n",
    "Roles.drop(['Unnamed: 0'], axis=1)\n",
    "\n",
    "Plantas.drop(['Unnamed: 0'], axis=1)\n",
    "\n",
    "Accesos.drop(['Unnamed: 0'], axis=1)\n",
    "\n",
    "Acceso_1ero_ultimo.drop(['Unnamed: 0'], axis=1)\n",
    "\n",
    "Actividades.drop(['Unnamed: 0'], axis=1)"
   ]
  },
  {
   "cell_type": "code",
   "execution_count": null,
   "metadata": {},
   "outputs": [],
   "source": []
  },
  {
   "cell_type": "code",
   "execution_count": 25,
   "metadata": {},
   "outputs": [],
   "source": [
    "## ANALISIS_DESCRPTIVO"
   ]
  },
  {
   "cell_type": "code",
   "execution_count": 28,
   "metadata": {
    "scrolled": true
   },
   "outputs": [
    {
     "data": {
      "text/html": [
       "<div>\n",
       "<style scoped>\n",
       "    .dataframe tbody tr th:only-of-type {\n",
       "        vertical-align: middle;\n",
       "    }\n",
       "\n",
       "    .dataframe tbody tr th {\n",
       "        vertical-align: top;\n",
       "    }\n",
       "\n",
       "    .dataframe thead th {\n",
       "        text-align: right;\n",
       "    }\n",
       "</style>\n",
       "<table border=\"1\" class=\"dataframe\">\n",
       "  <thead>\n",
       "    <tr style=\"text-align: right;\">\n",
       "      <th></th>\n",
       "      <th>Unnamed: 0</th>\n",
       "      <th>user_id</th>\n",
       "      <th>active_flag</th>\n",
       "      <th>last_access</th>\n",
       "      <th>mdl_user_id</th>\n",
       "      <th>role_admin</th>\n",
       "      <th>role_manager</th>\n",
       "      <th>role_student</th>\n",
       "      <th>role_tutor</th>\n",
       "    </tr>\n",
       "  </thead>\n",
       "  <tbody>\n",
       "    <tr>\n",
       "      <th>count</th>\n",
       "      <td>420.000000</td>\n",
       "      <td>420.000000</td>\n",
       "      <td>420.000000</td>\n",
       "      <td>0.0</td>\n",
       "      <td>405.000000</td>\n",
       "      <td>420.000000</td>\n",
       "      <td>420.000000</td>\n",
       "      <td>420.000000</td>\n",
       "      <td>420.000000</td>\n",
       "    </tr>\n",
       "    <tr>\n",
       "      <th>mean</th>\n",
       "      <td>209.500000</td>\n",
       "      <td>219.080952</td>\n",
       "      <td>0.821429</td>\n",
       "      <td>NaN</td>\n",
       "      <td>246.585185</td>\n",
       "      <td>0.004762</td>\n",
       "      <td>0.064286</td>\n",
       "      <td>0.876190</td>\n",
       "      <td>0.180952</td>\n",
       "    </tr>\n",
       "    <tr>\n",
       "      <th>std</th>\n",
       "      <td>121.387808</td>\n",
       "      <td>126.147196</td>\n",
       "      <td>0.383450</td>\n",
       "      <td>NaN</td>\n",
       "      <td>130.018433</td>\n",
       "      <td>0.068924</td>\n",
       "      <td>0.245554</td>\n",
       "      <td>0.329757</td>\n",
       "      <td>0.385438</td>\n",
       "    </tr>\n",
       "    <tr>\n",
       "      <th>min</th>\n",
       "      <td>0.000000</td>\n",
       "      <td>3.000000</td>\n",
       "      <td>0.000000</td>\n",
       "      <td>NaN</td>\n",
       "      <td>3.000000</td>\n",
       "      <td>0.000000</td>\n",
       "      <td>0.000000</td>\n",
       "      <td>0.000000</td>\n",
       "      <td>0.000000</td>\n",
       "    </tr>\n",
       "    <tr>\n",
       "      <th>25%</th>\n",
       "      <td>104.750000</td>\n",
       "      <td>108.750000</td>\n",
       "      <td>1.000000</td>\n",
       "      <td>NaN</td>\n",
       "      <td>133.000000</td>\n",
       "      <td>0.000000</td>\n",
       "      <td>0.000000</td>\n",
       "      <td>1.000000</td>\n",
       "      <td>0.000000</td>\n",
       "    </tr>\n",
       "    <tr>\n",
       "      <th>50%</th>\n",
       "      <td>209.500000</td>\n",
       "      <td>218.500000</td>\n",
       "      <td>1.000000</td>\n",
       "      <td>NaN</td>\n",
       "      <td>253.000000</td>\n",
       "      <td>0.000000</td>\n",
       "      <td>0.000000</td>\n",
       "      <td>1.000000</td>\n",
       "      <td>0.000000</td>\n",
       "    </tr>\n",
       "    <tr>\n",
       "      <th>75%</th>\n",
       "      <td>314.250000</td>\n",
       "      <td>329.250000</td>\n",
       "      <td>1.000000</td>\n",
       "      <td>NaN</td>\n",
       "      <td>359.000000</td>\n",
       "      <td>0.000000</td>\n",
       "      <td>0.000000</td>\n",
       "      <td>1.000000</td>\n",
       "      <td>0.000000</td>\n",
       "    </tr>\n",
       "    <tr>\n",
       "      <th>max</th>\n",
       "      <td>419.000000</td>\n",
       "      <td>436.000000</td>\n",
       "      <td>1.000000</td>\n",
       "      <td>NaN</td>\n",
       "      <td>461.000000</td>\n",
       "      <td>1.000000</td>\n",
       "      <td>1.000000</td>\n",
       "      <td>1.000000</td>\n",
       "      <td>1.000000</td>\n",
       "    </tr>\n",
       "  </tbody>\n",
       "</table>\n",
       "</div>"
      ],
      "text/plain": [
       "       Unnamed: 0     user_id  active_flag  last_access  mdl_user_id  \\\n",
       "count  420.000000  420.000000   420.000000          0.0   405.000000   \n",
       "mean   209.500000  219.080952     0.821429          NaN   246.585185   \n",
       "std    121.387808  126.147196     0.383450          NaN   130.018433   \n",
       "min      0.000000    3.000000     0.000000          NaN     3.000000   \n",
       "25%    104.750000  108.750000     1.000000          NaN   133.000000   \n",
       "50%    209.500000  218.500000     1.000000          NaN   253.000000   \n",
       "75%    314.250000  329.250000     1.000000          NaN   359.000000   \n",
       "max    419.000000  436.000000     1.000000          NaN   461.000000   \n",
       "\n",
       "       role_admin  role_manager  role_student  role_tutor  \n",
       "count  420.000000    420.000000    420.000000  420.000000  \n",
       "mean     0.004762      0.064286      0.876190    0.180952  \n",
       "std      0.068924      0.245554      0.329757    0.385438  \n",
       "min      0.000000      0.000000      0.000000    0.000000  \n",
       "25%      0.000000      0.000000      1.000000    0.000000  \n",
       "50%      0.000000      0.000000      1.000000    0.000000  \n",
       "75%      0.000000      0.000000      1.000000    0.000000  \n",
       "max      1.000000      1.000000      1.000000    1.000000  "
      ]
     },
     "execution_count": 28,
     "metadata": {},
     "output_type": "execute_result"
    }
   ],
   "source": [
    "Usuarios.describe()"
   ]
  },
  {
   "cell_type": "code",
   "execution_count": null,
   "metadata": {},
   "outputs": [],
   "source": []
  },
  {
   "cell_type": "code",
   "execution_count": null,
   "metadata": {},
   "outputs": [],
   "source": [
    "## Missings"
   ]
  },
  {
   "cell_type": "code",
   "execution_count": 39,
   "metadata": {},
   "outputs": [
    {
     "data": {
      "text/plain": [
       "Unnamed: 0            0\n",
       "user_id               0\n",
       "useranonimo_name      0\n",
       "active_flag           0\n",
       "language              0\n",
       "last_access         420\n",
       "mdl_user_id          15\n",
       "role_admin            0\n",
       "role_manager          0\n",
       "role_student          0\n",
       "role_tutor            0\n",
       "planta_name           0\n",
       "dtype: int64"
      ]
     },
     "execution_count": 39,
     "metadata": {},
     "output_type": "execute_result"
    }
   ],
   "source": [
    "Usuarios.isna().sum() #aqui quitar la columna entera de \"last_access\""
   ]
  },
  {
   "cell_type": "code",
   "execution_count": 40,
   "metadata": {},
   "outputs": [
    {
     "data": {
      "text/plain": [
       "<matplotlib.axes._subplots.AxesSubplot at 0x141505386d0>"
      ]
     },
     "execution_count": 40,
     "metadata": {},
     "output_type": "execute_result"
    },
    {
     "data": {
      "image/png": "[encoded data removed]",
      "text/plain": [
       "<Figure size 432x288 with 1 Axes>"
      ]
     },
     "metadata": {
      "needs_background": "light"
     },
     "output_type": "display_data"
    }
   ],
   "source": [
    "sns.heatmap(Usuarios.isnull(), cbar=False)"
   ]
  },
  {
   "cell_type": "code",
   "execution_count": 32,
   "metadata": {
    "scrolled": true
   },
   "outputs": [
    {
     "data": {
      "text/plain": [
       "Unnamed: 0      0\n",
       "perfil_id       0\n",
       "user_id         0\n",
       "perfil_name    70\n",
       "dtype: int64"
      ]
     },
     "execution_count": 32,
     "metadata": {},
     "output_type": "execute_result"
    }
   ],
   "source": [
    "Tutores_perfil.isna().sum()"
   ]
  },
  {
   "cell_type": "code",
   "execution_count": 41,
   "metadata": {},
   "outputs": [
    {
     "data": {
      "text/plain": [
       "<matplotlib.axes._subplots.AxesSubplot at 0x141534b22b0>"
      ]
     },
     "execution_count": 41,
     "metadata": {},
     "output_type": "execute_result"
    },
    {
     "data": {
      "image/png": "[encoded data removed]",
      "text/plain": [
       "<Figure size 432x288 with 1 Axes>"
      ]
     },
     "metadata": {
      "needs_background": "light"
     },
     "output_type": "display_data"
    }
   ],
   "source": [
    "sns.heatmap(Tutores_perfil.isnull(), cbar=False)"
   ]
  },
  {
   "cell_type": "code",
   "execution_count": 36,
   "metadata": {},
   "outputs": [
    {
     "data": {
      "text/plain": [
       "Unnamed: 0                       0\n",
       "conocimiento_id                  0\n",
       "conocimiento_name                0\n",
       "color                          134\n",
       "created_by                       0\n",
       "description                    138\n",
       "categoria_conocimiento_id        0\n",
       "referencia                     122\n",
       "categoria_conocimiento_name     22\n",
       "dtype: int64"
      ]
     },
     "execution_count": 36,
     "metadata": {},
     "output_type": "execute_result"
    }
   ],
   "source": [
    "Conocimientos.isna().sum()"
   ]
  },
  {
   "cell_type": "code",
   "execution_count": 42,
   "metadata": {},
   "outputs": [
    {
     "data": {
      "text/plain": [
       "<matplotlib.axes._subplots.AxesSubplot at 0x141534dfb80>"
      ]
     },
     "execution_count": 42,
     "metadata": {},
     "output_type": "execute_result"
    },
    {
     "data": {
      "image/png": "[encoded data removed]",
      "text/plain": [
       "<Figure size 432x288 with 1 Axes>"
      ]
     },
     "metadata": {
      "needs_background": "light"
     },
     "output_type": "display_data"
    }
   ],
   "source": [
    "sns.heatmap(Conocimientos.isnull(), cbar=False)"
   ]
  },
  {
   "cell_type": "code",
   "execution_count": 43,
   "metadata": {},
   "outputs": [
    {
     "data": {
      "text/plain": [
       "Unnamed: 0           0\n",
       "course_id            0\n",
       "course_name          0\n",
       "category             0\n",
       "hours                0\n",
       "course_shortname     0\n",
       "sortorder            0\n",
       "summary             95\n",
       "dtype: int64"
      ]
     },
     "execution_count": 43,
     "metadata": {},
     "output_type": "execute_result"
    }
   ],
   "source": [
    "Cursos.isna().sum()"
   ]
  },
  {
   "cell_type": "code",
   "execution_count": 44,
   "metadata": {},
   "outputs": [
    {
     "data": {
      "text/plain": [
       "<matplotlib.axes._subplots.AxesSubplot at 0x141535988e0>"
      ]
     },
     "execution_count": 44,
     "metadata": {},
     "output_type": "execute_result"
    },
    {
     "data": {
      "image/png": "[encoded data removed]",
      "text/plain": [
       "<Figure size 432x288 with 1 Axes>"
      ]
     },
     "metadata": {
      "needs_background": "light"
     },
     "output_type": "display_data"
    }
   ],
   "source": [
    "sns.heatmap(Cursos.isnull(), cbar=False)"
   ]
  },
  {
   "cell_type": "code",
   "execution_count": 45,
   "metadata": {},
   "outputs": [
    {
     "data": {
      "text/plain": [
       "Unnamed: 0             0\n",
       "program_id             0\n",
       "program_name           0\n",
       "program_category_id    1\n",
       "dtype: int64"
      ]
     },
     "execution_count": 45,
     "metadata": {},
     "output_type": "execute_result"
    }
   ],
   "source": [
    "Programas.isna().sum()"
   ]
  },
  {
   "cell_type": "code",
   "execution_count": 46,
   "metadata": {},
   "outputs": [
    {
     "data": {
      "text/plain": [
       "<matplotlib.axes._subplots.AxesSubplot at 0x141535263a0>"
      ]
     },
     "execution_count": 46,
     "metadata": {},
     "output_type": "execute_result"
    },
    {
     "data": {
      "image/png": "[encoded data removed]",
      "text/plain": [
       "<Figure size 432x288 with 1 Axes>"
      ]
     },
     "metadata": {
      "needs_background": "light"
     },
     "output_type": "display_data"
    }
   ],
   "source": [
    "sns.heatmap(Programas.isnull(), cbar=False)"
   ]
  },
  {
   "cell_type": "code",
   "execution_count": 47,
   "metadata": {},
   "outputs": [
    {
     "data": {
      "text/plain": [
       "Unnamed: 0                  0\n",
       "program_course_online_id    0\n",
       "course_moodle_id            0\n",
       "conocimiento_id             0\n",
       "num_periodo                 0\n",
       "program_id                  0\n",
       "course_moodle_id.1          0\n",
       "conocimiento_name           0\n",
       "program_name                0\n",
       "dtype: int64"
      ]
     },
     "execution_count": 47,
     "metadata": {},
     "output_type": "execute_result"
    }
   ],
   "source": [
    "Cursos_en_Programas.isna().sum()"
   ]
  },
  {
   "cell_type": "code",
   "execution_count": 48,
   "metadata": {},
   "outputs": [
    {
     "data": {
      "text/plain": [
       "<matplotlib.axes._subplots.AxesSubplot at 0x141535ca490>"
      ]
     },
     "execution_count": 48,
     "metadata": {},
     "output_type": "execute_result"
    },
    {
     "data": {
      "image/png": "[encoded data removed]",
      "text/plain": [
       "<Figure size 432x288 with 1 Axes>"
      ]
     },
     "metadata": {
      "needs_background": "light"
     },
     "output_type": "display_data"
    }
   ],
   "source": [
    "sns.heatmap(Cursos_en_Programas.isnull(), cbar=False)"
   ]
  },
  {
   "cell_type": "code",
   "execution_count": 50,
   "metadata": {},
   "outputs": [
    {
     "data": {
      "text/plain": [
       "Unnamed: 0              0\n",
       "active_flag             0\n",
       "category_id             0\n",
       "date_enroll             1\n",
       "enroll_end            297\n",
       "program_id              0\n",
       "remarks               464\n",
       "tutor_academico_id      0\n",
       "tutor_empresa_id        0\n",
       "user_id                 0\n",
       "category_name           0\n",
       "program_name            0\n",
       "dtype: int64"
      ]
     },
     "execution_count": 50,
     "metadata": {},
     "output_type": "execute_result"
    }
   ],
   "source": [
    "Itinearios.isna().sum()"
   ]
  },
  {
   "cell_type": "code",
   "execution_count": 51,
   "metadata": {},
   "outputs": [
    {
     "data": {
      "text/plain": [
       "<matplotlib.axes._subplots.AxesSubplot at 0x141536681f0>"
      ]
     },
     "execution_count": 51,
     "metadata": {},
     "output_type": "execute_result"
    },
    {
     "data": {
      "image/png": "[encoded data removed]",
      "text/plain": [
       "<Figure size 432x288 with 1 Axes>"
      ]
     },
     "metadata": {
      "needs_background": "light"
     },
     "output_type": "display_data"
    }
   ],
   "source": [
    "sns.heatmap(Itinearios.isnull(), cbar=False)"
   ]
  },
  {
   "cell_type": "code",
   "execution_count": 53,
   "metadata": {},
   "outputs": [
    {
     "data": {
      "text/plain": [
       "Unnamed: 0            0\n",
       "enroll_grade_id       0\n",
       "active_flag           0\n",
       "course_id             0\n",
       "enroll_id             0\n",
       "grade              2423\n",
       "online_progress    2380\n",
       "course_name           0\n",
       "user_id               0\n",
       "dtype: int64"
      ]
     },
     "execution_count": 53,
     "metadata": {},
     "output_type": "execute_result"
    }
   ],
   "source": [
    "Notas_Cursos.isna().sum()"
   ]
  },
  {
   "cell_type": "code",
   "execution_count": 54,
   "metadata": {},
   "outputs": [
    {
     "data": {
      "text/plain": [
       "<matplotlib.axes._subplots.AxesSubplot at 0x141536e0610>"
      ]
     },
     "execution_count": 54,
     "metadata": {},
     "output_type": "execute_result"
    },
    {
     "data": {
      "image/png": "[encoded data removed]",
      "text/plain": [
       "<Figure size 432x288 with 1 Axes>"
      ]
     },
     "metadata": {
      "needs_background": "light"
     },
     "output_type": "display_data"
    }
   ],
   "source": [
    "sns.heatmap(Notas_Cursos.isnull(), cbar=False)"
   ]
  },
  {
   "cell_type": "code",
   "execution_count": 55,
   "metadata": {},
   "outputs": [
    {
     "data": {
      "text/plain": [
       "Unnamed: 0    0\n",
       "role_id       0\n",
       "role_name     0\n",
       "dtype: int64"
      ]
     },
     "execution_count": 55,
     "metadata": {},
     "output_type": "execute_result"
    }
   ],
   "source": [
    "Roles.isna().sum()"
   ]
  },
  {
   "cell_type": "code",
   "execution_count": 56,
   "metadata": {},
   "outputs": [
    {
     "data": {
      "text/plain": [
       "<matplotlib.axes._subplots.AxesSubplot at 0x141537a69d0>"
      ]
     },
     "execution_count": 56,
     "metadata": {},
     "output_type": "execute_result"
    },
    {
     "data": {
      "image/png": "[encoded data removed]",
      "text/plain": [
       "<Figure size 432x288 with 1 Axes>"
      ]
     },
     "metadata": {
      "needs_background": "light"
     },
     "output_type": "display_data"
    }
   ],
   "source": [
    "sns.heatmap(Roles.isnull(), cbar=False)"
   ]
  },
  {
   "cell_type": "code",
   "execution_count": 58,
   "metadata": {},
   "outputs": [
    {
     "data": {
      "text/plain": [
       "Unnamed: 0       0\n",
       "mdl_user_id      0\n",
       "1er acceso       0\n",
       "ultimo acceso    0\n",
       "dtype: int64"
      ]
     },
     "execution_count": 58,
     "metadata": {},
     "output_type": "execute_result"
    }
   ],
   "source": [
    "Acceso_1ero_ultimo.isna().sum()"
   ]
  },
  {
   "cell_type": "code",
   "execution_count": 59,
   "metadata": {},
   "outputs": [
    {
     "data": {
      "text/plain": [
       "<matplotlib.axes._subplots.AxesSubplot at 0x141539975b0>"
      ]
     },
     "execution_count": 59,
     "metadata": {},
     "output_type": "execute_result"
    },
    {
     "data": {
      "image/png": "[encoded data removed]",
      "text/plain": [
       "<Figure size 432x288 with 1 Axes>"
      ]
     },
     "metadata": {
      "needs_background": "light"
     },
     "output_type": "display_data"
    }
   ],
   "source": [
    "sns.heatmap(Acceso_1ero_ultimo.isnull(), cbar=False)"
   ]
  },
  {
   "cell_type": "code",
   "execution_count": 60,
   "metadata": {},
   "outputs": [
    {
     "data": {
      "text/plain": [
       "Unnamed: 0           0\n",
       "mdl_user_id          0\n",
       "course_name          0\n",
       "course_id            0\n",
       "category             0\n",
       "actividad_name       4\n",
       "grade             1350\n",
       "time              1335\n",
       "dtype: int64"
      ]
     },
     "execution_count": 60,
     "metadata": {},
     "output_type": "execute_result"
    }
   ],
   "source": [
    "Actividades.isna().sum()"
   ]
  },
  {
   "cell_type": "code",
   "execution_count": 61,
   "metadata": {},
   "outputs": [
    {
     "data": {
      "text/plain": [
       "<matplotlib.axes._subplots.AxesSubplot at 0x141537a6a00>"
      ]
     },
     "execution_count": 61,
     "metadata": {},
     "output_type": "execute_result"
    },
    {
     "data": {
      "image/png": "[encoded data removed]",
      "text/plain": [
       "<Figure size 432x288 with 1 Axes>"
      ]
     },
     "metadata": {
      "needs_background": "light"
     },
     "output_type": "display_data"
    }
   ],
   "source": [
    "sns.heatmap(Actividades.isnull(), cbar=False)"
   ]
  },
  {
   "cell_type": "code",
   "execution_count": null,
   "metadata": {},
   "outputs": [],
   "source": [
    "## Duplicados"
   ]
  },
  {
   "cell_type": "code",
   "execution_count": 34,
   "metadata": {},
   "outputs": [
    {
     "data": {
      "text/plain": [
       "0      False\n",
       "1      False\n",
       "2      False\n",
       "3      False\n",
       "4      False\n",
       "       ...  \n",
       "415    False\n",
       "416    False\n",
       "417    False\n",
       "418    False\n",
       "419    False\n",
       "Length: 420, dtype: bool"
      ]
     },
     "execution_count": 34,
     "metadata": {},
     "output_type": "execute_result"
    }
   ],
   "source": [
    "Usuarios.duplicated().sum()"
   ]
  },
  {
   "cell_type": "code",
   "execution_count": 64,
   "metadata": {},
   "outputs": [
    {
     "data": {
      "text/plain": [
       "0"
      ]
     },
     "execution_count": 64,
     "metadata": {},
     "output_type": "execute_result"
    }
   ],
   "source": [
    "Tutores_perfil.duplicated().sum()"
   ]
  },
  {
   "cell_type": "code",
   "execution_count": 65,
   "metadata": {},
   "outputs": [
    {
     "data": {
      "text/plain": [
       "0"
      ]
     },
     "execution_count": 65,
     "metadata": {},
     "output_type": "execute_result"
    }
   ],
   "source": [
    "Conocimientos.duplicated().sum()"
   ]
  },
  {
   "cell_type": "code",
   "execution_count": 66,
   "metadata": {},
   "outputs": [
    {
     "data": {
      "text/plain": [
       "0"
      ]
     },
     "execution_count": 66,
     "metadata": {},
     "output_type": "execute_result"
    }
   ],
   "source": [
    "Programas.duplicated().sum()"
   ]
  },
  {
   "cell_type": "code",
   "execution_count": 68,
   "metadata": {},
   "outputs": [
    {
     "data": {
      "text/plain": [
       "0"
      ]
     },
     "execution_count": 68,
     "metadata": {},
     "output_type": "execute_result"
    }
   ],
   "source": [
    "Cursos_en_Programas.duplicated().sum()"
   ]
  },
  {
   "cell_type": "code",
   "execution_count": 69,
   "metadata": {},
   "outputs": [
    {
     "data": {
      "text/plain": [
       "0"
      ]
     },
     "execution_count": 69,
     "metadata": {},
     "output_type": "execute_result"
    }
   ],
   "source": [
    "Itinearios.duplicated().sum()"
   ]
  },
  {
   "cell_type": "code",
   "execution_count": 71,
   "metadata": {},
   "outputs": [
    {
     "data": {
      "text/plain": [
       "0"
      ]
     },
     "execution_count": 71,
     "metadata": {},
     "output_type": "execute_result"
    }
   ],
   "source": [
    "Notas_Cursos.duplicated().sum()"
   ]
  },
  {
   "cell_type": "code",
   "execution_count": 72,
   "metadata": {},
   "outputs": [
    {
     "data": {
      "text/plain": [
       "0"
      ]
     },
     "execution_count": 72,
     "metadata": {},
     "output_type": "execute_result"
    }
   ],
   "source": [
    "Plantas.duplicated().sum()"
   ]
  },
  {
   "cell_type": "code",
   "execution_count": 73,
   "metadata": {},
   "outputs": [
    {
     "data": {
      "text/plain": [
       "0"
      ]
     },
     "execution_count": 73,
     "metadata": {},
     "output_type": "execute_result"
    }
   ],
   "source": [
    "Roles.duplicated().sum()"
   ]
  },
  {
   "cell_type": "code",
   "execution_count": 74,
   "metadata": {},
   "outputs": [
    {
     "data": {
      "text/plain": [
       "0"
      ]
     },
     "execution_count": 74,
     "metadata": {},
     "output_type": "execute_result"
    }
   ],
   "source": [
    "Accesos.duplicated().sum()"
   ]
  },
  {
   "cell_type": "code",
   "execution_count": 75,
   "metadata": {},
   "outputs": [
    {
     "data": {
      "text/plain": [
       "0"
      ]
     },
     "execution_count": 75,
     "metadata": {},
     "output_type": "execute_result"
    }
   ],
   "source": [
    "Actividades.duplicated().sum()"
   ]
  },
  {
   "cell_type": "code",
   "execution_count": 76,
   "metadata": {},
   "outputs": [
    {
     "data": {
      "text/plain": [
       "0"
      ]
     },
     "execution_count": 76,
     "metadata": {},
     "output_type": "execute_result"
    }
   ],
   "source": [
    "Acceso_1ero_ultimo.duplicated().sum()"
   ]
  },
  {
   "cell_type": "code",
   "execution_count": 77,
   "metadata": {},
   "outputs": [],
   "source": [
    "## Graficos de los missings"
   ]
  },
  {
   "cell_type": "code",
   "execution_count": 82,
   "metadata": {},
   "outputs": [],
   "source": [
    "data = Usuarios.isna().sum()"
   ]
  },
  {
   "cell_type": "code",
   "execution_count": 84,
   "metadata": {},
   "outputs": [
    {
     "data": {
      "image/png": "[encoded data removed]",
      "text/plain": [
       "<Figure size 432x288 with 1 Axes>"
      ]
     },
     "metadata": {
      "needs_background": "light"
     },
     "output_type": "display_data"
    }
   ],
   "source": [
    "n, bins, patches = plt.hist(data)\n",
    "plt.show()"
   ]
  },
  {
   "cell_type": "code",
   "execution_count": null,
   "metadata": {},
   "outputs": [],
   "source": []
  }
 ],
 "metadata": {
  "kernelspec": {
   "display_name": "Python 3",
   "language": "python",
   "name": "python3"
  },
  "language_info": {
   "codemirror_mode": {
    "name": "ipython",
    "version": 3
   },
   "file_extension": ".py",
   "mimetype": "text/x-python",
   "name": "python",
   "nbconvert_exporter": "python",
   "pygments_lexer": "ipython3",
   "version": "3.8.3"
  }
 },
 "nbformat": 4,
 "nbformat_minor": 5
}
