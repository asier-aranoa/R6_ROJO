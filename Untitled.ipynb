{
 "cells": [
  {
   "cell_type": "code",
   "execution_count": 1,
   "id": "ebe66130",
   "metadata": {},
   "outputs": [],
   "source": [
    "import pandas as pd\n",
    "import numpy as np\n",
    "import datetime as dt"
   ]
  },
  {
   "cell_type": "code",
   "execution_count": 2,
   "id": "5a8e7ac1",
   "metadata": {},
   "outputs": [],
   "source": [
    "pd.options.display.max_columns = None"
   ]
  },
  {
   "cell_type": "code",
   "execution_count": 3,
   "id": "20656f0e",
   "metadata": {},
   "outputs": [],
   "source": [
    "df = pd.read_excel('EDERJAKIN_LA_Datos_2021.xlsm', sheet_name=None)"
   ]
  },
  {
   "cell_type": "code",
   "execution_count": 4,
   "id": "080d1188",
   "metadata": {},
   "outputs": [],
   "source": [
    "for sheet_name in list(df.keys()):\n",
    "   df[sheet_name].to_csv(sheet_name + 'Sheet.csv')"
   ]
  },
  {
   "cell_type": "code",
   "execution_count": 5,
   "id": "d23619e0",
   "metadata": {},
   "outputs": [],
   "source": [
    "Usuarios = pd.read_csv('UsuariosSheet.csv')\n",
    "Tutores_perfil = pd.read_csv('Tutores perfilSheet.csv')\n",
    "Conocimientos = pd.read_csv('ConocimientosSheet.csv')\n",
    "Cursos = pd.read_csv('CursosSheet.csv')\n",
    "Programas = pd.read_csv('ProgramasSheet.csv')\n",
    "Cursos_en_Programas = pd.read_csv('Cursos en ProgramasSheet.csv')\n",
    "Itinearios = pd.read_csv('ItineariosSheet.csv')\n",
    "Notas_Cursos = pd.read_csv('Notas_CursosSheet.csv')\n",
    "Roles = pd.read_csv('RolesSheet.csv')\n",
    "Plantas = pd.read_csv('PlantasSheet.csv')\n",
    "Accesos = pd.read_csv('AccesosSheet.csv')\n",
    "Acceso_1ero_ultimo = pd.read_csv('Acceso_1ero_ultimoSheet.csv')\n",
    "Actividades = pd.read_csv('ActividadesSheet.csv')"
   ]
  },
  {
   "cell_type": "code",
   "execution_count": 6,
   "id": "42c41228-f5bd-46aa-a4f7-07a01e26fc7c",
   "metadata": {},
   "outputs": [
    {
     "data": {
      "text/html": [
       "<div>\n",
       "<style scoped>\n",
       "    .dataframe tbody tr th:only-of-type {\n",
       "        vertical-align: middle;\n",
       "    }\n",
       "\n",
       "    .dataframe tbody tr th {\n",
       "        vertical-align: top;\n",
       "    }\n",
       "\n",
       "    .dataframe thead th {\n",
       "        text-align: right;\n",
       "    }\n",
       "</style>\n",
       "<table border=\"1\" class=\"dataframe\">\n",
       "  <thead>\n",
       "    <tr style=\"text-align: right;\">\n",
       "      <th></th>\n",
       "      <th>Unnamed: 0</th>\n",
       "      <th>user_id</th>\n",
       "      <th>useranonimo_name</th>\n",
       "      <th>active_flag</th>\n",
       "      <th>language</th>\n",
       "      <th>last_access</th>\n",
       "      <th>mdl_user_id</th>\n",
       "      <th>role_admin</th>\n",
       "      <th>role_manager</th>\n",
       "      <th>role_student</th>\n",
       "      <th>role_tutor</th>\n",
       "      <th>planta_name</th>\n",
       "      <th>Unnamed: 11</th>\n",
       "    </tr>\n",
       "  </thead>\n",
       "  <tbody>\n",
       "    <tr>\n",
       "      <th>0</th>\n",
       "      <td>0</td>\n",
       "      <td>3</td>\n",
       "      <td>username_03</td>\n",
       "      <td>1</td>\n",
       "      <td>es</td>\n",
       "      <td>NaN</td>\n",
       "      <td>13.0</td>\n",
       "      <td>0</td>\n",
       "      <td>0</td>\n",
       "      <td>1</td>\n",
       "      <td>0</td>\n",
       "      <td>ABP Bergara</td>\n",
       "      <td>NaN</td>\n",
       "    </tr>\n",
       "    <tr>\n",
       "      <th>1</th>\n",
       "      <td>1</td>\n",
       "      <td>4</td>\n",
       "      <td>username_04</td>\n",
       "      <td>1</td>\n",
       "      <td>es</td>\n",
       "      <td>NaN</td>\n",
       "      <td>14.0</td>\n",
       "      <td>0</td>\n",
       "      <td>0</td>\n",
       "      <td>1</td>\n",
       "      <td>0</td>\n",
       "      <td>Fagorederlan</td>\n",
       "      <td>NaN</td>\n",
       "    </tr>\n",
       "    <tr>\n",
       "      <th>2</th>\n",
       "      <td>2</td>\n",
       "      <td>5</td>\n",
       "      <td>username_05</td>\n",
       "      <td>1</td>\n",
       "      <td>es</td>\n",
       "      <td>NaN</td>\n",
       "      <td>15.0</td>\n",
       "      <td>0</td>\n",
       "      <td>0</td>\n",
       "      <td>1</td>\n",
       "      <td>0</td>\n",
       "      <td>ABP Arrasate</td>\n",
       "      <td>NaN</td>\n",
       "    </tr>\n",
       "    <tr>\n",
       "      <th>3</th>\n",
       "      <td>3</td>\n",
       "      <td>6</td>\n",
       "      <td>username_06</td>\n",
       "      <td>1</td>\n",
       "      <td>es</td>\n",
       "      <td>NaN</td>\n",
       "      <td>17.0</td>\n",
       "      <td>0</td>\n",
       "      <td>0</td>\n",
       "      <td>1</td>\n",
       "      <td>0</td>\n",
       "      <td>Fagorederlan</td>\n",
       "      <td>NaN</td>\n",
       "    </tr>\n",
       "    <tr>\n",
       "      <th>4</th>\n",
       "      <td>4</td>\n",
       "      <td>7</td>\n",
       "      <td>username_07</td>\n",
       "      <td>1</td>\n",
       "      <td>es</td>\n",
       "      <td>NaN</td>\n",
       "      <td>18.0</td>\n",
       "      <td>0</td>\n",
       "      <td>0</td>\n",
       "      <td>1</td>\n",
       "      <td>0</td>\n",
       "      <td>ABP Arrasate</td>\n",
       "      <td>NaN</td>\n",
       "    </tr>\n",
       "    <tr>\n",
       "      <th>...</th>\n",
       "      <td>...</td>\n",
       "      <td>...</td>\n",
       "      <td>...</td>\n",
       "      <td>...</td>\n",
       "      <td>...</td>\n",
       "      <td>...</td>\n",
       "      <td>...</td>\n",
       "      <td>...</td>\n",
       "      <td>...</td>\n",
       "      <td>...</td>\n",
       "      <td>...</td>\n",
       "      <td>...</td>\n",
       "      <td>...</td>\n",
       "    </tr>\n",
       "    <tr>\n",
       "      <th>415</th>\n",
       "      <td>415</td>\n",
       "      <td>432</td>\n",
       "      <td>username_432</td>\n",
       "      <td>1</td>\n",
       "      <td>es</td>\n",
       "      <td>NaN</td>\n",
       "      <td>457.0</td>\n",
       "      <td>0</td>\n",
       "      <td>0</td>\n",
       "      <td>1</td>\n",
       "      <td>0</td>\n",
       "      <td>MT Aretxabaleta</td>\n",
       "      <td>NaN</td>\n",
       "    </tr>\n",
       "    <tr>\n",
       "      <th>416</th>\n",
       "      <td>416</td>\n",
       "      <td>433</td>\n",
       "      <td>username_433</td>\n",
       "      <td>1</td>\n",
       "      <td>es</td>\n",
       "      <td>NaN</td>\n",
       "      <td>458.0</td>\n",
       "      <td>0</td>\n",
       "      <td>0</td>\n",
       "      <td>1</td>\n",
       "      <td>0</td>\n",
       "      <td>MT Aretxabaleta</td>\n",
       "      <td>NaN</td>\n",
       "    </tr>\n",
       "    <tr>\n",
       "      <th>417</th>\n",
       "      <td>417</td>\n",
       "      <td>434</td>\n",
       "      <td>username_434</td>\n",
       "      <td>1</td>\n",
       "      <td>es</td>\n",
       "      <td>NaN</td>\n",
       "      <td>459.0</td>\n",
       "      <td>0</td>\n",
       "      <td>0</td>\n",
       "      <td>1</td>\n",
       "      <td>0</td>\n",
       "      <td>MT Aretxabaleta</td>\n",
       "      <td>NaN</td>\n",
       "    </tr>\n",
       "    <tr>\n",
       "      <th>418</th>\n",
       "      <td>418</td>\n",
       "      <td>435</td>\n",
       "      <td>username_435</td>\n",
       "      <td>1</td>\n",
       "      <td>es</td>\n",
       "      <td>NaN</td>\n",
       "      <td>460.0</td>\n",
       "      <td>0</td>\n",
       "      <td>0</td>\n",
       "      <td>1</td>\n",
       "      <td>0</td>\n",
       "      <td>MT Aretxabaleta</td>\n",
       "      <td>NaN</td>\n",
       "    </tr>\n",
       "    <tr>\n",
       "      <th>419</th>\n",
       "      <td>419</td>\n",
       "      <td>436</td>\n",
       "      <td>username_436</td>\n",
       "      <td>1</td>\n",
       "      <td>es</td>\n",
       "      <td>NaN</td>\n",
       "      <td>461.0</td>\n",
       "      <td>0</td>\n",
       "      <td>1</td>\n",
       "      <td>1</td>\n",
       "      <td>1</td>\n",
       "      <td>ABP Bergara</td>\n",
       "      <td>NaN</td>\n",
       "    </tr>\n",
       "  </tbody>\n",
       "</table>\n",
       "<p>420 rows × 13 columns</p>\n",
       "</div>"
      ],
      "text/plain": [
       "     Unnamed: 0  user_id useranonimo_name  active_flag language  last_access  \\\n",
       "0             0        3      username_03            1       es          NaN   \n",
       "1             1        4      username_04            1       es          NaN   \n",
       "2             2        5      username_05            1       es          NaN   \n",
       "3             3        6      username_06            1       es          NaN   \n",
       "4             4        7      username_07            1       es          NaN   \n",
       "..          ...      ...              ...          ...      ...          ...   \n",
       "415         415      432     username_432            1       es          NaN   \n",
       "416         416      433     username_433            1       es          NaN   \n",
       "417         417      434     username_434            1       es          NaN   \n",
       "418         418      435     username_435            1       es          NaN   \n",
       "419         419      436     username_436            1       es          NaN   \n",
       "\n",
       "     mdl_user_id  role_admin  role_manager  role_student  role_tutor  \\\n",
       "0           13.0           0             0             1           0   \n",
       "1           14.0           0             0             1           0   \n",
       "2           15.0           0             0             1           0   \n",
       "3           17.0           0             0             1           0   \n",
       "4           18.0           0             0             1           0   \n",
       "..           ...         ...           ...           ...         ...   \n",
       "415        457.0           0             0             1           0   \n",
       "416        458.0           0             0             1           0   \n",
       "417        459.0           0             0             1           0   \n",
       "418        460.0           0             0             1           0   \n",
       "419        461.0           0             1             1           1   \n",
       "\n",
       "         planta_name  Unnamed: 11  \n",
       "0        ABP Bergara          NaN  \n",
       "1       Fagorederlan          NaN  \n",
       "2       ABP Arrasate          NaN  \n",
       "3       Fagorederlan          NaN  \n",
       "4       ABP Arrasate          NaN  \n",
       "..               ...          ...  \n",
       "415  MT Aretxabaleta          NaN  \n",
       "416  MT Aretxabaleta          NaN  \n",
       "417  MT Aretxabaleta          NaN  \n",
       "418  MT Aretxabaleta          NaN  \n",
       "419      ABP Bergara          NaN  \n",
       "\n",
       "[420 rows x 13 columns]"
      ]
     },
     "execution_count": 6,
     "metadata": {},
     "output_type": "execute_result"
    }
   ],
   "source": [
    "Usuarios"
   ]
  },
  {
   "cell_type": "code",
   "execution_count": 7,
   "id": "010626bf-c72b-4f1b-a91f-95b47777b441",
   "metadata": {},
   "outputs": [
    {
     "data": {
      "text/plain": [
       "Index(['Unnamed: 0', 'user_id', 'useranonimo_name', 'active_flag', 'language',\n",
       "       'last_access', 'mdl_user_id', 'role_admin', 'role_manager',\n",
       "       'role_student', 'role_tutor', 'planta_name', 'Unnamed: 11'],\n",
       "      dtype='object')"
      ]
     },
     "execution_count": 7,
     "metadata": {},
     "output_type": "execute_result"
    }
   ],
   "source": [
    "#Nombre de columnas\n",
    "Usuarios.columns"
   ]
  },
  {
   "cell_type": "code",
   "execution_count": 8,
   "id": "18d327ea-e04c-425c-9d62-95010c6011ad",
   "metadata": {},
   "outputs": [
    {
     "data": {
      "text/plain": [
       "(420, 13)"
      ]
     },
     "execution_count": 8,
     "metadata": {},
     "output_type": "execute_result"
    }
   ],
   "source": [
    "#Numero de columnas/filas\n",
    "Usuarios.shape"
   ]
  },
  {
   "cell_type": "code",
   "execution_count": 9,
   "id": "00fe9df2-c220-4c2f-b8df-c237bc9786c7",
   "metadata": {},
   "outputs": [
    {
     "data": {
      "text/plain": [
       "<bound method DataFrame.info of      Unnamed: 0  user_id useranonimo_name  active_flag language  last_access  \\\n",
       "0             0        3      username_03            1       es          NaN   \n",
       "1             1        4      username_04            1       es          NaN   \n",
       "2             2        5      username_05            1       es          NaN   \n",
       "3             3        6      username_06            1       es          NaN   \n",
       "4             4        7      username_07            1       es          NaN   \n",
       "..          ...      ...              ...          ...      ...          ...   \n",
       "415         415      432     username_432            1       es          NaN   \n",
       "416         416      433     username_433            1       es          NaN   \n",
       "417         417      434     username_434            1       es          NaN   \n",
       "418         418      435     username_435            1       es          NaN   \n",
       "419         419      436     username_436            1       es          NaN   \n",
       "\n",
       "     mdl_user_id  role_admin  role_manager  role_student  role_tutor  \\\n",
       "0           13.0           0             0             1           0   \n",
       "1           14.0           0             0             1           0   \n",
       "2           15.0           0             0             1           0   \n",
       "3           17.0           0             0             1           0   \n",
       "4           18.0           0             0             1           0   \n",
       "..           ...         ...           ...           ...         ...   \n",
       "415        457.0           0             0             1           0   \n",
       "416        458.0           0             0             1           0   \n",
       "417        459.0           0             0             1           0   \n",
       "418        460.0           0             0             1           0   \n",
       "419        461.0           0             1             1           1   \n",
       "\n",
       "         planta_name  Unnamed: 11  \n",
       "0        ABP Bergara          NaN  \n",
       "1       Fagorederlan          NaN  \n",
       "2       ABP Arrasate          NaN  \n",
       "3       Fagorederlan          NaN  \n",
       "4       ABP Arrasate          NaN  \n",
       "..               ...          ...  \n",
       "415  MT Aretxabaleta          NaN  \n",
       "416  MT Aretxabaleta          NaN  \n",
       "417  MT Aretxabaleta          NaN  \n",
       "418  MT Aretxabaleta          NaN  \n",
       "419      ABP Bergara          NaN  \n",
       "\n",
       "[420 rows x 13 columns]>"
      ]
     },
     "execution_count": 9,
     "metadata": {},
     "output_type": "execute_result"
    }
   ],
   "source": [
    "Usuarios.info"
   ]
  },
  {
   "cell_type": "code",
   "execution_count": 10,
   "id": "fad50488-cad7-4872-b0a3-cc077b625091",
   "metadata": {},
   "outputs": [
    {
     "data": {
      "text/plain": [
       "Unnamed: 0            int64\n",
       "user_id               int64\n",
       "useranonimo_name     object\n",
       "active_flag           int64\n",
       "language             object\n",
       "last_access         float64\n",
       "mdl_user_id         float64\n",
       "role_admin            int64\n",
       "role_manager          int64\n",
       "role_student          int64\n",
       "role_tutor            int64\n",
       "planta_name          object\n",
       "Unnamed: 11         float64\n",
       "dtype: object"
      ]
     },
     "execution_count": 10,
     "metadata": {},
     "output_type": "execute_result"
    }
   ],
   "source": [
    "#Tipos de variables\n",
    "Usuarios.dtypes"
   ]
  },
  {
   "cell_type": "code",
   "execution_count": 11,
   "id": "642decab-4826-4bef-80f9-cf90f7599fbf",
   "metadata": {},
   "outputs": [
    {
     "data": {
      "text/plain": [
       "0"
      ]
     },
     "execution_count": 11,
     "metadata": {},
     "output_type": "execute_result"
    }
   ],
   "source": [
    "#Duplicados\n",
    "Usuarios.duplicated().sum() # busca duplicados de fila completa"
   ]
  },
  {
   "cell_type": "code",
   "execution_count": 12,
   "id": "9a3226fd",
   "metadata": {},
   "outputs": [
    {
     "data": {
      "text/plain": [
       "Unnamed: 0            0\n",
       "user_id               0\n",
       "useranonimo_name      0\n",
       "active_flag           0\n",
       "language              0\n",
       "last_access         420\n",
       "mdl_user_id          15\n",
       "role_admin            0\n",
       "role_manager          0\n",
       "role_student          0\n",
       "role_tutor            0\n",
       "planta_name           0\n",
       "Unnamed: 11         420\n",
       "dtype: int64"
      ]
     },
     "execution_count": 12,
     "metadata": {},
     "output_type": "execute_result"
    }
   ],
   "source": [
    "#NA'S\n",
    "Usuarios.isna()\n",
    "#Eliminamos last_acceses por %100 de NA'S \n",
    "Usuarios.isna().sum()\n"
   ]
  },
  {
   "cell_type": "code",
   "execution_count": 14,
   "id": "31db6327-9e96-4b9c-bbe6-cd89ef169238",
   "metadata": {},
   "outputs": [
    {
     "ename": "NameError",
     "evalue": "name 'int64' is not defined",
     "output_type": "error",
     "traceback": [
      "\u001b[1;31m---------------------------------------------------------------------------\u001b[0m",
      "\u001b[1;31mNameError\u001b[0m                                 Traceback (most recent call last)",
      "\u001b[1;32m<ipython-input-14-ef5830724159>\u001b[0m in \u001b[0;36m<module>\u001b[1;34m\u001b[0m\n\u001b[1;32m----> 1\u001b[1;33m \u001b[0mUsuarios\u001b[0m\u001b[1;33m[\u001b[0m\u001b[1;34m\"mdl_user_id\"\u001b[0m\u001b[1;33m]\u001b[0m \u001b[1;33m=\u001b[0m \u001b[0mUsuarios\u001b[0m\u001b[1;33m[\u001b[0m\u001b[1;34m\"mdl_user_id\"\u001b[0m\u001b[1;33m]\u001b[0m\u001b[1;33m.\u001b[0m\u001b[0mastype\u001b[0m\u001b[1;33m(\u001b[0m\u001b[0mint64\u001b[0m\u001b[1;33m)\u001b[0m\u001b[1;33m\u001b[0m\u001b[1;33m\u001b[0m\u001b[0m\n\u001b[0m",
      "\u001b[1;31mNameError\u001b[0m: name 'int64' is not defined"
     ]
    }
   ],
   "source": [
    "Usuarios[\"mdl_user_id\"] = Usuarios[\"mdl_user_id\"].astype(int)"
   ]
  },
  {
   "cell_type": "code",
   "execution_count": 15,
   "id": "7f8c667e-6a12-4716-8293-f60fc927bd6a",
   "metadata": {},
   "outputs": [],
   "source": [
    "#Se quitan o no 15 mdl_user_id en caso de que no necesitemos la variable\n",
    "Usuarios=Usuarios.dropna(subset = ['mdl_user_id'])"
   ]
  },
  {
   "cell_type": "code",
   "execution_count": null,
   "id": "0797a12e",
   "metadata": {},
   "outputs": [],
   "source": []
  },
  {
   "cell_type": "code",
   "execution_count": 16,
   "id": "3ad45871-fedb-443c-9ef0-1db52ba8c2a9",
   "metadata": {},
   "outputs": [
    {
     "data": {
      "text/html": [
       "<div>\n",
       "<style scoped>\n",
       "    .dataframe tbody tr th:only-of-type {\n",
       "        vertical-align: middle;\n",
       "    }\n",
       "\n",
       "    .dataframe tbody tr th {\n",
       "        vertical-align: top;\n",
       "    }\n",
       "\n",
       "    .dataframe thead th {\n",
       "        text-align: right;\n",
       "    }\n",
       "</style>\n",
       "<table border=\"1\" class=\"dataframe\">\n",
       "  <thead>\n",
       "    <tr style=\"text-align: right;\">\n",
       "      <th></th>\n",
       "      <th>Unnamed: 0</th>\n",
       "      <th>perfil_id</th>\n",
       "      <th>user_id</th>\n",
       "      <th>perfil_name</th>\n",
       "    </tr>\n",
       "  </thead>\n",
       "  <tbody>\n",
       "    <tr>\n",
       "      <th>0</th>\n",
       "      <td>0</td>\n",
       "      <td>3</td>\n",
       "      <td>10</td>\n",
       "      <td>Gestor de empresa</td>\n",
       "    </tr>\n",
       "    <tr>\n",
       "      <th>1</th>\n",
       "      <td>1</td>\n",
       "      <td>3</td>\n",
       "      <td>41</td>\n",
       "      <td>Gestor de empresa</td>\n",
       "    </tr>\n",
       "    <tr>\n",
       "      <th>2</th>\n",
       "      <td>2</td>\n",
       "      <td>3</td>\n",
       "      <td>42</td>\n",
       "      <td>Gestor de empresa</td>\n",
       "    </tr>\n",
       "    <tr>\n",
       "      <th>3</th>\n",
       "      <td>3</td>\n",
       "      <td>3</td>\n",
       "      <td>110</td>\n",
       "      <td>Gestor de empresa</td>\n",
       "    </tr>\n",
       "    <tr>\n",
       "      <th>4</th>\n",
       "      <td>4</td>\n",
       "      <td>3</td>\n",
       "      <td>115</td>\n",
       "      <td>Gestor de empresa</td>\n",
       "    </tr>\n",
       "    <tr>\n",
       "      <th>...</th>\n",
       "      <td>...</td>\n",
       "      <td>...</td>\n",
       "      <td>...</td>\n",
       "      <td>...</td>\n",
       "    </tr>\n",
       "    <tr>\n",
       "      <th>183</th>\n",
       "      <td>183</td>\n",
       "      <td>0</td>\n",
       "      <td>358</td>\n",
       "      <td>NaN</td>\n",
       "    </tr>\n",
       "    <tr>\n",
       "      <th>184</th>\n",
       "      <td>184</td>\n",
       "      <td>0</td>\n",
       "      <td>369</td>\n",
       "      <td>NaN</td>\n",
       "    </tr>\n",
       "    <tr>\n",
       "      <th>185</th>\n",
       "      <td>185</td>\n",
       "      <td>0</td>\n",
       "      <td>379</td>\n",
       "      <td>NaN</td>\n",
       "    </tr>\n",
       "    <tr>\n",
       "      <th>186</th>\n",
       "      <td>186</td>\n",
       "      <td>0</td>\n",
       "      <td>415</td>\n",
       "      <td>NaN</td>\n",
       "    </tr>\n",
       "    <tr>\n",
       "      <th>187</th>\n",
       "      <td>187</td>\n",
       "      <td>0</td>\n",
       "      <td>423</td>\n",
       "      <td>NaN</td>\n",
       "    </tr>\n",
       "  </tbody>\n",
       "</table>\n",
       "<p>188 rows × 4 columns</p>\n",
       "</div>"
      ],
      "text/plain": [
       "     Unnamed: 0  perfil_id  user_id        perfil_name\n",
       "0             0          3       10  Gestor de empresa\n",
       "1             1          3       41  Gestor de empresa\n",
       "2             2          3       42  Gestor de empresa\n",
       "3             3          3      110  Gestor de empresa\n",
       "4             4          3      115  Gestor de empresa\n",
       "..          ...        ...      ...                ...\n",
       "183         183          0      358                NaN\n",
       "184         184          0      369                NaN\n",
       "185         185          0      379                NaN\n",
       "186         186          0      415                NaN\n",
       "187         187          0      423                NaN\n",
       "\n",
       "[188 rows x 4 columns]"
      ]
     },
     "execution_count": 16,
     "metadata": {},
     "output_type": "execute_result"
    }
   ],
   "source": [
    "Tutores_perfil"
   ]
  },
  {
   "cell_type": "code",
   "execution_count": 17,
   "id": "1336692c-639a-4441-88ce-6ff86b439a1d",
   "metadata": {},
   "outputs": [
    {
     "data": {
      "text/plain": [
       "Index(['Unnamed: 0', 'perfil_id', 'user_id', 'perfil_name'], dtype='object')"
      ]
     },
     "execution_count": 17,
     "metadata": {},
     "output_type": "execute_result"
    }
   ],
   "source": [
    "Tutores_perfil.columns"
   ]
  },
  {
   "cell_type": "code",
   "execution_count": 18,
   "id": "f719e375-e6ef-4514-83ae-7526123476e4",
   "metadata": {},
   "outputs": [],
   "source": [
    "Tutores_perfil=Tutores_perfil.drop(['Unnamed: 0'], axis=1)"
   ]
  },
  {
   "cell_type": "code",
   "execution_count": 19,
   "id": "063fe9b7-3803-4d48-a61c-74cb19142e3c",
   "metadata": {},
   "outputs": [
    {
     "data": {
      "text/plain": [
       "perfil_id       int64\n",
       "user_id         int64\n",
       "perfil_name    object\n",
       "dtype: object"
      ]
     },
     "execution_count": 19,
     "metadata": {},
     "output_type": "execute_result"
    }
   ],
   "source": [
    "#Tipos de variables\n",
    "Tutores_perfil.dtypes"
   ]
  },
  {
   "cell_type": "code",
   "execution_count": 20,
   "id": "c797f374-40c5-4852-aae9-2d61f65890c8",
   "metadata": {},
   "outputs": [
    {
     "data": {
      "text/plain": [
       "0"
      ]
     },
     "execution_count": 20,
     "metadata": {},
     "output_type": "execute_result"
    }
   ],
   "source": [
    "#Duplicados\n",
    "Tutores_perfil.duplicated().sum() # busca duplicados de fila completa"
   ]
  },
  {
   "cell_type": "code",
   "execution_count": 21,
   "id": "1241ee38",
   "metadata": {},
   "outputs": [
    {
     "data": {
      "text/plain": [
       "perfil_id       0\n",
       "user_id         0\n",
       "perfil_name    70\n",
       "dtype: int64"
      ]
     },
     "execution_count": 21,
     "metadata": {},
     "output_type": "execute_result"
    }
   ],
   "source": [
    "#NA'S\n",
    "Tutores_perfil.isna()\n",
    "#Eliminamos last_acceses por %100 de NA'S \n",
    "Tutores_perfil.isna().sum()"
   ]
  },
  {
   "cell_type": "code",
   "execution_count": 22,
   "id": "bc8a3fb2-be69-4574-b364-b520feddd897",
   "metadata": {},
   "outputs": [
    {
     "data": {
      "text/plain": [
       "(188, 3)"
      ]
     },
     "execution_count": 22,
     "metadata": {},
     "output_type": "execute_result"
    }
   ],
   "source": [
    "Tutores_perfil.shape"
   ]
  },
  {
   "cell_type": "code",
   "execution_count": 23,
   "id": "8a90a3fc",
   "metadata": {},
   "outputs": [],
   "source": [
    "Tutores_perfil = Tutores_perfil.fillna(\"Tutores basicos\")"
   ]
  },
  {
   "cell_type": "code",
   "execution_count": 24,
   "id": "96b36fb3",
   "metadata": {},
   "outputs": [
    {
     "data": {
      "text/html": [
       "<div>\n",
       "<style scoped>\n",
       "    .dataframe tbody tr th:only-of-type {\n",
       "        vertical-align: middle;\n",
       "    }\n",
       "\n",
       "    .dataframe tbody tr th {\n",
       "        vertical-align: top;\n",
       "    }\n",
       "\n",
       "    .dataframe thead th {\n",
       "        text-align: right;\n",
       "    }\n",
       "</style>\n",
       "<table border=\"1\" class=\"dataframe\">\n",
       "  <thead>\n",
       "    <tr style=\"text-align: right;\">\n",
       "      <th></th>\n",
       "      <th>perfil_id</th>\n",
       "      <th>user_id</th>\n",
       "      <th>perfil_name</th>\n",
       "    </tr>\n",
       "  </thead>\n",
       "  <tbody>\n",
       "    <tr>\n",
       "      <th>0</th>\n",
       "      <td>3</td>\n",
       "      <td>10</td>\n",
       "      <td>Gestor de empresa</td>\n",
       "    </tr>\n",
       "    <tr>\n",
       "      <th>1</th>\n",
       "      <td>3</td>\n",
       "      <td>41</td>\n",
       "      <td>Gestor de empresa</td>\n",
       "    </tr>\n",
       "    <tr>\n",
       "      <th>2</th>\n",
       "      <td>3</td>\n",
       "      <td>42</td>\n",
       "      <td>Gestor de empresa</td>\n",
       "    </tr>\n",
       "    <tr>\n",
       "      <th>3</th>\n",
       "      <td>3</td>\n",
       "      <td>110</td>\n",
       "      <td>Gestor de empresa</td>\n",
       "    </tr>\n",
       "    <tr>\n",
       "      <th>4</th>\n",
       "      <td>3</td>\n",
       "      <td>115</td>\n",
       "      <td>Gestor de empresa</td>\n",
       "    </tr>\n",
       "    <tr>\n",
       "      <th>...</th>\n",
       "      <td>...</td>\n",
       "      <td>...</td>\n",
       "      <td>...</td>\n",
       "    </tr>\n",
       "    <tr>\n",
       "      <th>183</th>\n",
       "      <td>0</td>\n",
       "      <td>358</td>\n",
       "      <td>Tutores basicos</td>\n",
       "    </tr>\n",
       "    <tr>\n",
       "      <th>184</th>\n",
       "      <td>0</td>\n",
       "      <td>369</td>\n",
       "      <td>Tutores basicos</td>\n",
       "    </tr>\n",
       "    <tr>\n",
       "      <th>185</th>\n",
       "      <td>0</td>\n",
       "      <td>379</td>\n",
       "      <td>Tutores basicos</td>\n",
       "    </tr>\n",
       "    <tr>\n",
       "      <th>186</th>\n",
       "      <td>0</td>\n",
       "      <td>415</td>\n",
       "      <td>Tutores basicos</td>\n",
       "    </tr>\n",
       "    <tr>\n",
       "      <th>187</th>\n",
       "      <td>0</td>\n",
       "      <td>423</td>\n",
       "      <td>Tutores basicos</td>\n",
       "    </tr>\n",
       "  </tbody>\n",
       "</table>\n",
       "<p>188 rows × 3 columns</p>\n",
       "</div>"
      ],
      "text/plain": [
       "     perfil_id  user_id        perfil_name\n",
       "0            3       10  Gestor de empresa\n",
       "1            3       41  Gestor de empresa\n",
       "2            3       42  Gestor de empresa\n",
       "3            3      110  Gestor de empresa\n",
       "4            3      115  Gestor de empresa\n",
       "..         ...      ...                ...\n",
       "183          0      358    Tutores basicos\n",
       "184          0      369    Tutores basicos\n",
       "185          0      379    Tutores basicos\n",
       "186          0      415    Tutores basicos\n",
       "187          0      423    Tutores basicos\n",
       "\n",
       "[188 rows x 3 columns]"
      ]
     },
     "execution_count": 24,
     "metadata": {},
     "output_type": "execute_result"
    }
   ],
   "source": [
    "Tutores_perfil"
   ]
  },
  {
   "cell_type": "code",
   "execution_count": null,
   "id": "d75db0df",
   "metadata": {},
   "outputs": [],
   "source": []
  },
  {
   "cell_type": "code",
   "execution_count": 25,
   "id": "ff6774a5",
   "metadata": {},
   "outputs": [
    {
     "data": {
      "text/html": [
       "<div>\n",
       "<style scoped>\n",
       "    .dataframe tbody tr th:only-of-type {\n",
       "        vertical-align: middle;\n",
       "    }\n",
       "\n",
       "    .dataframe tbody tr th {\n",
       "        vertical-align: top;\n",
       "    }\n",
       "\n",
       "    .dataframe thead th {\n",
       "        text-align: right;\n",
       "    }\n",
       "</style>\n",
       "<table border=\"1\" class=\"dataframe\">\n",
       "  <thead>\n",
       "    <tr style=\"text-align: right;\">\n",
       "      <th></th>\n",
       "      <th>Unnamed: 0</th>\n",
       "      <th>conocimiento_id</th>\n",
       "      <th>conocimiento_name</th>\n",
       "      <th>color</th>\n",
       "      <th>created_by</th>\n",
       "      <th>description</th>\n",
       "      <th>categoria_conocimiento_id</th>\n",
       "      <th>referencia</th>\n",
       "      <th>categoria_conocimiento_name</th>\n",
       "    </tr>\n",
       "  </thead>\n",
       "  <tbody>\n",
       "    <tr>\n",
       "      <th>0</th>\n",
       "      <td>0</td>\n",
       "      <td>161</td>\n",
       "      <td>35UP</td>\n",
       "      <td>NaN</td>\n",
       "      <td>134</td>\n",
       "      <td>NaN</td>\n",
       "      <td>158</td>\n",
       "      <td>NaN</td>\n",
       "      <td>Técnico Tecnologico ABP Referencias</td>\n",
       "    </tr>\n",
       "    <tr>\n",
       "      <th>1</th>\n",
       "      <td>1</td>\n",
       "      <td>21</td>\n",
       "      <td>ABP</td>\n",
       "      <td>#ff4c05</td>\n",
       "      <td>135</td>\n",
       "      <td>NaN</td>\n",
       "      <td>0</td>\n",
       "      <td>NaN</td>\n",
       "      <td>NaN</td>\n",
       "    </tr>\n",
       "    <tr>\n",
       "      <th>2</th>\n",
       "      <td>2</td>\n",
       "      <td>157</td>\n",
       "      <td>ACABADO - Control Visual</td>\n",
       "      <td>NaN</td>\n",
       "      <td>134</td>\n",
       "      <td>NaN</td>\n",
       "      <td>79</td>\n",
       "      <td>NaN</td>\n",
       "      <td>TÉCNICOS/TECNOLÓGICOS ABP</td>\n",
       "    </tr>\n",
       "    <tr>\n",
       "      <th>3</th>\n",
       "      <td>3</td>\n",
       "      <td>42</td>\n",
       "      <td>ACABADO - Tratamiento Térmico</td>\n",
       "      <td>NaN</td>\n",
       "      <td>135</td>\n",
       "      <td>NaN</td>\n",
       "      <td>42</td>\n",
       "      <td>NaN</td>\n",
       "      <td>ACABADO - Tratamiento Térmico</td>\n",
       "    </tr>\n",
       "    <tr>\n",
       "      <th>4</th>\n",
       "      <td>4</td>\n",
       "      <td>90</td>\n",
       "      <td>ACABADO_Tratamiento Térmico</td>\n",
       "      <td>NaN</td>\n",
       "      <td>145</td>\n",
       "      <td>NaN</td>\n",
       "      <td>79</td>\n",
       "      <td>NaN</td>\n",
       "      <td>TÉCNICOS/TECNOLÓGICOS ABP</td>\n",
       "    </tr>\n",
       "    <tr>\n",
       "      <th>...</th>\n",
       "      <td>...</td>\n",
       "      <td>...</td>\n",
       "      <td>...</td>\n",
       "      <td>...</td>\n",
       "      <td>...</td>\n",
       "      <td>...</td>\n",
       "      <td>...</td>\n",
       "      <td>...</td>\n",
       "      <td>...</td>\n",
       "    </tr>\n",
       "    <tr>\n",
       "      <th>150</th>\n",
       "      <td>150</td>\n",
       "      <td>8</td>\n",
       "      <td>TECNICOS_DUAL</td>\n",
       "      <td>NaN</td>\n",
       "      <td>132</td>\n",
       "      <td>NaN</td>\n",
       "      <td>5</td>\n",
       "      <td>NaN</td>\n",
       "      <td>DUAL</td>\n",
       "    </tr>\n",
       "    <tr>\n",
       "      <th>151</th>\n",
       "      <td>151</td>\n",
       "      <td>104</td>\n",
       "      <td>U_ACOGIDA GENERAL</td>\n",
       "      <td>NaN</td>\n",
       "      <td>190</td>\n",
       "      <td>NaN</td>\n",
       "      <td>11</td>\n",
       "      <td>NaN</td>\n",
       "      <td>ACOGIDA</td>\n",
       "    </tr>\n",
       "    <tr>\n",
       "      <th>152</th>\n",
       "      <td>152</td>\n",
       "      <td>106</td>\n",
       "      <td>U_MECANIZADO</td>\n",
       "      <td>NaN</td>\n",
       "      <td>190</td>\n",
       "      <td>(DESCRIPCION DEL CONOCIMIENTO?)</td>\n",
       "      <td>7</td>\n",
       "      <td>NaN</td>\n",
       "      <td>TÉCNICOS</td>\n",
       "    </tr>\n",
       "    <tr>\n",
       "      <th>153</th>\n",
       "      <td>153</td>\n",
       "      <td>105</td>\n",
       "      <td>U_SOCIETARIO</td>\n",
       "      <td>NaN</td>\n",
       "      <td>190</td>\n",
       "      <td>U: (DESCRIPCION DEL CONOCIMIENTO)</td>\n",
       "      <td>17</td>\n",
       "      <td>NaN</td>\n",
       "      <td>SOCIETARIOS</td>\n",
       "    </tr>\n",
       "    <tr>\n",
       "      <th>154</th>\n",
       "      <td>154</td>\n",
       "      <td>159</td>\n",
       "      <td>UKL</td>\n",
       "      <td>NaN</td>\n",
       "      <td>134</td>\n",
       "      <td>NaN</td>\n",
       "      <td>158</td>\n",
       "      <td>NaN</td>\n",
       "      <td>Técnico Tecnologico ABP Referencias</td>\n",
       "    </tr>\n",
       "  </tbody>\n",
       "</table>\n",
       "<p>155 rows × 9 columns</p>\n",
       "</div>"
      ],
      "text/plain": [
       "     Unnamed: 0  conocimiento_id              conocimiento_name    color  \\\n",
       "0             0              161                           35UP      NaN   \n",
       "1             1               21                            ABP  #ff4c05   \n",
       "2             2              157       ACABADO - Control Visual      NaN   \n",
       "3             3               42  ACABADO - Tratamiento Térmico      NaN   \n",
       "4             4               90    ACABADO_Tratamiento Térmico      NaN   \n",
       "..          ...              ...                            ...      ...   \n",
       "150         150                8                  TECNICOS_DUAL      NaN   \n",
       "151         151              104              U_ACOGIDA GENERAL      NaN   \n",
       "152         152              106                   U_MECANIZADO      NaN   \n",
       "153         153              105                   U_SOCIETARIO      NaN   \n",
       "154         154              159                            UKL      NaN   \n",
       "\n",
       "     created_by                        description  categoria_conocimiento_id  \\\n",
       "0           134                                NaN                        158   \n",
       "1           135                                NaN                          0   \n",
       "2           134                                NaN                         79   \n",
       "3           135                                NaN                         42   \n",
       "4           145                                NaN                         79   \n",
       "..          ...                                ...                        ...   \n",
       "150         132                                NaN                          5   \n",
       "151         190                                NaN                         11   \n",
       "152         190    (DESCRIPCION DEL CONOCIMIENTO?)                          7   \n",
       "153         190  U: (DESCRIPCION DEL CONOCIMIENTO)                         17   \n",
       "154         134                                NaN                        158   \n",
       "\n",
       "    referencia          categoria_conocimiento_name  \n",
       "0          NaN  Técnico Tecnologico ABP Referencias  \n",
       "1          NaN                                  NaN  \n",
       "2          NaN            TÉCNICOS/TECNOLÓGICOS ABP  \n",
       "3          NaN        ACABADO - Tratamiento Térmico  \n",
       "4          NaN            TÉCNICOS/TECNOLÓGICOS ABP  \n",
       "..         ...                                  ...  \n",
       "150        NaN                                 DUAL  \n",
       "151        NaN                              ACOGIDA  \n",
       "152        NaN                             TÉCNICOS  \n",
       "153        NaN                          SOCIETARIOS  \n",
       "154        NaN  Técnico Tecnologico ABP Referencias  \n",
       "\n",
       "[155 rows x 9 columns]"
      ]
     },
     "execution_count": 25,
     "metadata": {},
     "output_type": "execute_result"
    }
   ],
   "source": [
    "Conocimientos"
   ]
  },
  {
   "cell_type": "code",
   "execution_count": 26,
   "id": "7eced336",
   "metadata": {},
   "outputs": [
    {
     "data": {
      "text/plain": [
       "Index(['Unnamed: 0', 'conocimiento_id', 'conocimiento_name', 'color',\n",
       "       'created_by', 'description', 'categoria_conocimiento_id', 'referencia',\n",
       "       'categoria_conocimiento_name'],\n",
       "      dtype='object')"
      ]
     },
     "execution_count": 26,
     "metadata": {},
     "output_type": "execute_result"
    }
   ],
   "source": [
    "#Nombre de columnas\n",
    "Conocimientos.columns"
   ]
  },
  {
   "cell_type": "code",
   "execution_count": 27,
   "id": "f71ac9d4",
   "metadata": {},
   "outputs": [],
   "source": [
    "Conocimientos=Conocimientos.drop(['Unnamed: 0'], axis=1)\n",
    "Conocimientos=Conocimientos.drop(['color'], axis=1)\n"
   ]
  },
  {
   "cell_type": "code",
   "execution_count": 28,
   "id": "f56431ba-05ec-4251-b6ea-f4251d5835b6",
   "metadata": {},
   "outputs": [
    {
     "data": {
      "text/plain": [
       "conocimiento_id                 int64\n",
       "conocimiento_name              object\n",
       "created_by                      int64\n",
       "description                    object\n",
       "categoria_conocimiento_id       int64\n",
       "referencia                     object\n",
       "categoria_conocimiento_name    object\n",
       "dtype: object"
      ]
     },
     "execution_count": 28,
     "metadata": {},
     "output_type": "execute_result"
    }
   ],
   "source": [
    "#Tipos de variables\n",
    "Conocimientos.dtypes"
   ]
  },
  {
   "cell_type": "code",
   "execution_count": 29,
   "id": "759ba6b7-70ee-4d24-85d6-12219e6d37b6",
   "metadata": {},
   "outputs": [
    {
     "data": {
      "text/plain": [
       "0"
      ]
     },
     "execution_count": 29,
     "metadata": {},
     "output_type": "execute_result"
    }
   ],
   "source": [
    "#Duplicados\n",
    "Conocimientos.duplicated().sum() # busca duplicados de fila completa"
   ]
  },
  {
   "cell_type": "code",
   "execution_count": 30,
   "id": "1f3555e8-0d7d-466b-b553-cc5600c50ee7",
   "metadata": {},
   "outputs": [
    {
     "data": {
      "text/plain": [
       "conocimiento_id                  0\n",
       "conocimiento_name                0\n",
       "created_by                       0\n",
       "description                    138\n",
       "categoria_conocimiento_id        0\n",
       "referencia                     122\n",
       "categoria_conocimiento_name     22\n",
       "dtype: int64"
      ]
     },
     "execution_count": 30,
     "metadata": {},
     "output_type": "execute_result"
    }
   ],
   "source": [
    "#NA'S\n",
    "Conocimientos.isna()\n",
    "#Eliminamos last_acceses por %100 de NA'S \n",
    "Conocimientos.isna().sum()"
   ]
  },
  {
   "cell_type": "code",
   "execution_count": 31,
   "id": "1f3555e8-0d7d-466b-b553-cc5600c50ee7",
   "metadata": {},
   "outputs": [
    {
     "data": {
      "text/plain": [
       "(155, 7)"
      ]
     },
     "execution_count": 31,
     "metadata": {},
     "output_type": "execute_result"
    }
   ],
   "source": [
    "Conocimientos.shape"
   ]
  },
  {
   "cell_type": "code",
   "execution_count": 32,
   "id": "b0b8d775-54c0-43e3-b0cc-7ded1463d36e",
   "metadata": {},
   "outputs": [],
   "source": [
    "Conocimientos=Conocimientos.drop(['description'], axis=1)\n",
    "Conocimientos=Conocimientos.drop(['referencia'], axis=1)\n"
   ]
  },
  {
   "cell_type": "code",
   "execution_count": 33,
   "id": "2ccecc20-ba2d-4b8a-8f8c-4014e0876ea4",
   "metadata": {},
   "outputs": [],
   "source": [
    "Conocimientos = Conocimientos.fillna(\"Sin asignar\")\n"
   ]
  },
  {
   "cell_type": "code",
   "execution_count": null,
   "id": "cb22a5a8",
   "metadata": {},
   "outputs": [],
   "source": []
  },
  {
   "cell_type": "code",
   "execution_count": 34,
   "id": "2ccecc20-ba2d-4b8a-8f8c-4014e0876ea4",
   "metadata": {},
   "outputs": [
    {
     "data": {
      "text/html": [
       "<div>\n",
       "<style scoped>\n",
       "    .dataframe tbody tr th:only-of-type {\n",
       "        vertical-align: middle;\n",
       "    }\n",
       "\n",
       "    .dataframe tbody tr th {\n",
       "        vertical-align: top;\n",
       "    }\n",
       "\n",
       "    .dataframe thead th {\n",
       "        text-align: right;\n",
       "    }\n",
       "</style>\n",
       "<table border=\"1\" class=\"dataframe\">\n",
       "  <thead>\n",
       "    <tr style=\"text-align: right;\">\n",
       "      <th></th>\n",
       "      <th>Unnamed: 0</th>\n",
       "      <th>course_id</th>\n",
       "      <th>course_name</th>\n",
       "      <th>category</th>\n",
       "      <th>hours</th>\n",
       "      <th>course_shortname</th>\n",
       "      <th>sortorder</th>\n",
       "      <th>summary</th>\n",
       "    </tr>\n",
       "  </thead>\n",
       "  <tbody>\n",
       "    <tr>\n",
       "      <th>0</th>\n",
       "      <td>0</td>\n",
       "      <td>1</td>\n",
       "      <td>EDERJakin FagorEDERLAN</td>\n",
       "      <td>0</td>\n",
       "      <td>0</td>\n",
       "      <td>EDERJAKIN</td>\n",
       "      <td>1</td>\n",
       "      <td>NaN</td>\n",
       "    </tr>\n",
       "    <tr>\n",
       "      <th>1</th>\n",
       "      <td>1</td>\n",
       "      <td>2</td>\n",
       "      <td>ITINERARIO GRADO DUAL 2018/19</td>\n",
       "      <td>3</td>\n",
       "      <td>0</td>\n",
       "      <td>ITI_GRADO_DUAL_18/19</td>\n",
       "      <td>40016</td>\n",
       "      <td>Itinerario de Aprendizaje del GRADO DUAL en Fa...</td>\n",
       "    </tr>\n",
       "    <tr>\n",
       "      <th>2</th>\n",
       "      <td>2</td>\n",
       "      <td>6</td>\n",
       "      <td>ITINERARIO CICLO DUAL 2018/19</td>\n",
       "      <td>3</td>\n",
       "      <td>0</td>\n",
       "      <td>ITI_CICLO_DUAL_18/19</td>\n",
       "      <td>40014</td>\n",
       "      <td>Itinerario de Aprendizaje del CICLO DUAL en Fa...</td>\n",
       "    </tr>\n",
       "    <tr>\n",
       "      <th>3</th>\n",
       "      <td>3</td>\n",
       "      <td>9</td>\n",
       "      <td>TEC_01 - PRODUCTOS FAGOR EDERLAN</td>\n",
       "      <td>3</td>\n",
       "      <td>4</td>\n",
       "      <td>TEC_01</td>\n",
       "      <td>40022</td>\n",
       "      <td>Conocer los PRODUCTOS fabricados de Fagor EDERLAN</td>\n",
       "    </tr>\n",
       "    <tr>\n",
       "      <th>4</th>\n",
       "      <td>4</td>\n",
       "      <td>10</td>\n",
       "      <td>TEC_02 - PROCESOS PRODUCTIVOS</td>\n",
       "      <td>3</td>\n",
       "      <td>20</td>\n",
       "      <td>TEC_02</td>\n",
       "      <td>40024</td>\n",
       "      <td>Conocer los PROCESOS PRODUCTIVOS de Fagor EDERLAN</td>\n",
       "    </tr>\n",
       "    <tr>\n",
       "      <th>...</th>\n",
       "      <td>...</td>\n",
       "      <td>...</td>\n",
       "      <td>...</td>\n",
       "      <td>...</td>\n",
       "      <td>...</td>\n",
       "      <td>...</td>\n",
       "      <td>...</td>\n",
       "      <td>...</td>\n",
       "    </tr>\n",
       "    <tr>\n",
       "      <th>134</th>\n",
       "      <td>134</td>\n",
       "      <td>303</td>\n",
       "      <td>CONTROL VISUAL MEC - MLA IKUS KONTROLA</td>\n",
       "      <td>27</td>\n",
       "      <td>0</td>\n",
       "      <td>TEC_CVMEC_02_MLA</td>\n",
       "      <td>110003</td>\n",
       "      <td>NaN</td>\n",
       "    </tr>\n",
       "    <tr>\n",
       "      <th>135</th>\n",
       "      <td>135</td>\n",
       "      <td>304</td>\n",
       "      <td>CONTROL VISUAL MEC - BR IKUS KONTROLA</td>\n",
       "      <td>27</td>\n",
       "      <td>0</td>\n",
       "      <td>TEC_CVMEC_02_BR</td>\n",
       "      <td>110002</td>\n",
       "      <td>NaN</td>\n",
       "    </tr>\n",
       "    <tr>\n",
       "      <th>136</th>\n",
       "      <td>136</td>\n",
       "      <td>305</td>\n",
       "      <td>CONTROL VISUAL MEC - UKL</td>\n",
       "      <td>27</td>\n",
       "      <td>0</td>\n",
       "      <td>TEC_CVMEC_01_UKL</td>\n",
       "      <td>110001</td>\n",
       "      <td>NaN</td>\n",
       "    </tr>\n",
       "    <tr>\n",
       "      <th>137</th>\n",
       "      <td>137</td>\n",
       "      <td>306</td>\n",
       "      <td>CURSO UXUE</td>\n",
       "      <td>27</td>\n",
       "      <td>0</td>\n",
       "      <td>TEC_ABP_UXUE</td>\n",
       "      <td>0</td>\n",
       "      <td>NaN</td>\n",
       "    </tr>\n",
       "    <tr>\n",
       "      <th>138</th>\n",
       "      <td>138</td>\n",
       "      <td>307</td>\n",
       "      <td>FUSIOA ABP - FUSIO DORREA N2</td>\n",
       "      <td>27</td>\n",
       "      <td>40</td>\n",
       "      <td>_ALDATU_</td>\n",
       "      <td>0</td>\n",
       "      <td>NaN</td>\n",
       "    </tr>\n",
       "  </tbody>\n",
       "</table>\n",
       "<p>139 rows × 8 columns</p>\n",
       "</div>"
      ],
      "text/plain": [
       "     Unnamed: 0  course_id                             course_name  category  \\\n",
       "0             0          1                  EDERJakin FagorEDERLAN         0   \n",
       "1             1          2           ITINERARIO GRADO DUAL 2018/19         3   \n",
       "2             2          6           ITINERARIO CICLO DUAL 2018/19         3   \n",
       "3             3          9        TEC_01 - PRODUCTOS FAGOR EDERLAN         3   \n",
       "4             4         10           TEC_02 - PROCESOS PRODUCTIVOS         3   \n",
       "..          ...        ...                                     ...       ...   \n",
       "134         134        303  CONTROL VISUAL MEC - MLA IKUS KONTROLA        27   \n",
       "135         135        304   CONTROL VISUAL MEC - BR IKUS KONTROLA        27   \n",
       "136         136        305                CONTROL VISUAL MEC - UKL        27   \n",
       "137         137        306                              CURSO UXUE        27   \n",
       "138         138        307            FUSIOA ABP - FUSIO DORREA N2        27   \n",
       "\n",
       "     hours      course_shortname  sortorder  \\\n",
       "0        0             EDERJAKIN          1   \n",
       "1        0  ITI_GRADO_DUAL_18/19      40016   \n",
       "2        0  ITI_CICLO_DUAL_18/19      40014   \n",
       "3        4                TEC_01      40022   \n",
       "4       20                TEC_02      40024   \n",
       "..     ...                   ...        ...   \n",
       "134      0      TEC_CVMEC_02_MLA     110003   \n",
       "135      0       TEC_CVMEC_02_BR     110002   \n",
       "136      0      TEC_CVMEC_01_UKL     110001   \n",
       "137      0          TEC_ABP_UXUE          0   \n",
       "138     40              _ALDATU_          0   \n",
       "\n",
       "                                               summary  \n",
       "0                                                  NaN  \n",
       "1    Itinerario de Aprendizaje del GRADO DUAL en Fa...  \n",
       "2    Itinerario de Aprendizaje del CICLO DUAL en Fa...  \n",
       "3    Conocer los PRODUCTOS fabricados de Fagor EDERLAN  \n",
       "4    Conocer los PROCESOS PRODUCTIVOS de Fagor EDERLAN  \n",
       "..                                                 ...  \n",
       "134                                                NaN  \n",
       "135                                                NaN  \n",
       "136                                                NaN  \n",
       "137                                                NaN  \n",
       "138                                                NaN  \n",
       "\n",
       "[139 rows x 8 columns]"
      ]
     },
     "execution_count": 34,
     "metadata": {},
     "output_type": "execute_result"
    }
   ],
   "source": [
    "Cursos\n"
   ]
  },
  {
   "cell_type": "code",
   "execution_count": 38,
   "id": "09b193be",
   "metadata": {
    "scrolled": true
   },
   "outputs": [
    {
     "data": {
      "text/plain": [
       "Index(['Unnamed: 0', 'course_id', 'course_name', 'category', 'hours',\n",
       "       'sortorder', 'summary'],\n",
       "      dtype='object')"
      ]
     },
     "execution_count": 38,
     "metadata": {},
     "output_type": "execute_result"
    }
   ],
   "source": [
    "#Nombre de columnas\n",
    "Cursos.columns"
   ]
  },
  {
   "cell_type": "code",
   "execution_count": 40,
   "id": "5c4afc55-25a9-48d4-9523-95195bb89e13",
   "metadata": {},
   "outputs": [
    {
     "ename": "KeyError",
     "evalue": "\"['course_shortname'] not found in axis\"",
     "output_type": "error",
     "traceback": [
      "\u001b[1;31m---------------------------------------------------------------------------\u001b[0m",
      "\u001b[1;31mKeyError\u001b[0m                                  Traceback (most recent call last)",
      "\u001b[1;32m<ipython-input-40-33798433639d>\u001b[0m in \u001b[0;36m<module>\u001b[1;34m\u001b[0m\n\u001b[1;32m----> 1\u001b[1;33m \u001b[0mCursos\u001b[0m\u001b[1;33m=\u001b[0m\u001b[0mCursos\u001b[0m\u001b[1;33m.\u001b[0m\u001b[0mdrop\u001b[0m\u001b[1;33m(\u001b[0m\u001b[1;34m\"course_shortname\"\u001b[0m\u001b[1;33m,\u001b[0m\u001b[0maxis\u001b[0m\u001b[1;33m=\u001b[0m\u001b[1;36m1\u001b[0m\u001b[1;33m)\u001b[0m\u001b[1;33m\u001b[0m\u001b[1;33m\u001b[0m\u001b[0m\n\u001b[0m\u001b[0;32m      2\u001b[0m \u001b[0mCursos\u001b[0m\u001b[1;33m=\u001b[0m\u001b[0mCursos\u001b[0m\u001b[1;33m.\u001b[0m\u001b[0mdrop\u001b[0m\u001b[1;33m(\u001b[0m\u001b[1;34m\"Unnamed: 0\"\u001b[0m\u001b[1;33m,\u001b[0m\u001b[0maxis\u001b[0m\u001b[1;33m=\u001b[0m\u001b[1;36m1\u001b[0m\u001b[1;33m)\u001b[0m\u001b[1;33m\u001b[0m\u001b[1;33m\u001b[0m\u001b[0m\n",
      "\u001b[1;32m~\\anaconda3\\lib\\site-packages\\pandas\\core\\frame.py\u001b[0m in \u001b[0;36mdrop\u001b[1;34m(self, labels, axis, index, columns, level, inplace, errors)\u001b[0m\n\u001b[0;32m   4306\u001b[0m                 \u001b[0mweight\u001b[0m  \u001b[1;36m1.0\u001b[0m     \u001b[1;36m0.8\u001b[0m\u001b[1;33m\u001b[0m\u001b[1;33m\u001b[0m\u001b[0m\n\u001b[0;32m   4307\u001b[0m         \"\"\"\n\u001b[1;32m-> 4308\u001b[1;33m         return super().drop(\n\u001b[0m\u001b[0;32m   4309\u001b[0m             \u001b[0mlabels\u001b[0m\u001b[1;33m=\u001b[0m\u001b[0mlabels\u001b[0m\u001b[1;33m,\u001b[0m\u001b[1;33m\u001b[0m\u001b[1;33m\u001b[0m\u001b[0m\n\u001b[0;32m   4310\u001b[0m             \u001b[0maxis\u001b[0m\u001b[1;33m=\u001b[0m\u001b[0maxis\u001b[0m\u001b[1;33m,\u001b[0m\u001b[1;33m\u001b[0m\u001b[1;33m\u001b[0m\u001b[0m\n",
      "\u001b[1;32m~\\anaconda3\\lib\\site-packages\\pandas\\core\\generic.py\u001b[0m in \u001b[0;36mdrop\u001b[1;34m(self, labels, axis, index, columns, level, inplace, errors)\u001b[0m\n\u001b[0;32m   4151\u001b[0m         \u001b[1;32mfor\u001b[0m \u001b[0maxis\u001b[0m\u001b[1;33m,\u001b[0m \u001b[0mlabels\u001b[0m \u001b[1;32min\u001b[0m \u001b[0maxes\u001b[0m\u001b[1;33m.\u001b[0m\u001b[0mitems\u001b[0m\u001b[1;33m(\u001b[0m\u001b[1;33m)\u001b[0m\u001b[1;33m:\u001b[0m\u001b[1;33m\u001b[0m\u001b[1;33m\u001b[0m\u001b[0m\n\u001b[0;32m   4152\u001b[0m             \u001b[1;32mif\u001b[0m \u001b[0mlabels\u001b[0m \u001b[1;32mis\u001b[0m \u001b[1;32mnot\u001b[0m \u001b[1;32mNone\u001b[0m\u001b[1;33m:\u001b[0m\u001b[1;33m\u001b[0m\u001b[1;33m\u001b[0m\u001b[0m\n\u001b[1;32m-> 4153\u001b[1;33m                 \u001b[0mobj\u001b[0m \u001b[1;33m=\u001b[0m \u001b[0mobj\u001b[0m\u001b[1;33m.\u001b[0m\u001b[0m_drop_axis\u001b[0m\u001b[1;33m(\u001b[0m\u001b[0mlabels\u001b[0m\u001b[1;33m,\u001b[0m \u001b[0maxis\u001b[0m\u001b[1;33m,\u001b[0m \u001b[0mlevel\u001b[0m\u001b[1;33m=\u001b[0m\u001b[0mlevel\u001b[0m\u001b[1;33m,\u001b[0m \u001b[0merrors\u001b[0m\u001b[1;33m=\u001b[0m\u001b[0merrors\u001b[0m\u001b[1;33m)\u001b[0m\u001b[1;33m\u001b[0m\u001b[1;33m\u001b[0m\u001b[0m\n\u001b[0m\u001b[0;32m   4154\u001b[0m \u001b[1;33m\u001b[0m\u001b[0m\n\u001b[0;32m   4155\u001b[0m         \u001b[1;32mif\u001b[0m \u001b[0minplace\u001b[0m\u001b[1;33m:\u001b[0m\u001b[1;33m\u001b[0m\u001b[1;33m\u001b[0m\u001b[0m\n",
      "\u001b[1;32m~\\anaconda3\\lib\\site-packages\\pandas\\core\\generic.py\u001b[0m in \u001b[0;36m_drop_axis\u001b[1;34m(self, labels, axis, level, errors)\u001b[0m\n\u001b[0;32m   4186\u001b[0m                 \u001b[0mnew_axis\u001b[0m \u001b[1;33m=\u001b[0m \u001b[0maxis\u001b[0m\u001b[1;33m.\u001b[0m\u001b[0mdrop\u001b[0m\u001b[1;33m(\u001b[0m\u001b[0mlabels\u001b[0m\u001b[1;33m,\u001b[0m \u001b[0mlevel\u001b[0m\u001b[1;33m=\u001b[0m\u001b[0mlevel\u001b[0m\u001b[1;33m,\u001b[0m \u001b[0merrors\u001b[0m\u001b[1;33m=\u001b[0m\u001b[0merrors\u001b[0m\u001b[1;33m)\u001b[0m\u001b[1;33m\u001b[0m\u001b[1;33m\u001b[0m\u001b[0m\n\u001b[0;32m   4187\u001b[0m             \u001b[1;32melse\u001b[0m\u001b[1;33m:\u001b[0m\u001b[1;33m\u001b[0m\u001b[1;33m\u001b[0m\u001b[0m\n\u001b[1;32m-> 4188\u001b[1;33m                 \u001b[0mnew_axis\u001b[0m \u001b[1;33m=\u001b[0m \u001b[0maxis\u001b[0m\u001b[1;33m.\u001b[0m\u001b[0mdrop\u001b[0m\u001b[1;33m(\u001b[0m\u001b[0mlabels\u001b[0m\u001b[1;33m,\u001b[0m \u001b[0merrors\u001b[0m\u001b[1;33m=\u001b[0m\u001b[0merrors\u001b[0m\u001b[1;33m)\u001b[0m\u001b[1;33m\u001b[0m\u001b[1;33m\u001b[0m\u001b[0m\n\u001b[0m\u001b[0;32m   4189\u001b[0m             \u001b[0mresult\u001b[0m \u001b[1;33m=\u001b[0m \u001b[0mself\u001b[0m\u001b[1;33m.\u001b[0m\u001b[0mreindex\u001b[0m\u001b[1;33m(\u001b[0m\u001b[1;33m**\u001b[0m\u001b[1;33m{\u001b[0m\u001b[0maxis_name\u001b[0m\u001b[1;33m:\u001b[0m \u001b[0mnew_axis\u001b[0m\u001b[1;33m}\u001b[0m\u001b[1;33m)\u001b[0m\u001b[1;33m\u001b[0m\u001b[1;33m\u001b[0m\u001b[0m\n\u001b[0;32m   4190\u001b[0m \u001b[1;33m\u001b[0m\u001b[0m\n",
      "\u001b[1;32m~\\anaconda3\\lib\\site-packages\\pandas\\core\\indexes\\base.py\u001b[0m in \u001b[0;36mdrop\u001b[1;34m(self, labels, errors)\u001b[0m\n\u001b[0;32m   5589\u001b[0m         \u001b[1;32mif\u001b[0m \u001b[0mmask\u001b[0m\u001b[1;33m.\u001b[0m\u001b[0many\u001b[0m\u001b[1;33m(\u001b[0m\u001b[1;33m)\u001b[0m\u001b[1;33m:\u001b[0m\u001b[1;33m\u001b[0m\u001b[1;33m\u001b[0m\u001b[0m\n\u001b[0;32m   5590\u001b[0m             \u001b[1;32mif\u001b[0m \u001b[0merrors\u001b[0m \u001b[1;33m!=\u001b[0m \u001b[1;34m\"ignore\"\u001b[0m\u001b[1;33m:\u001b[0m\u001b[1;33m\u001b[0m\u001b[1;33m\u001b[0m\u001b[0m\n\u001b[1;32m-> 5591\u001b[1;33m                 \u001b[1;32mraise\u001b[0m \u001b[0mKeyError\u001b[0m\u001b[1;33m(\u001b[0m\u001b[1;34mf\"{labels[mask]} not found in axis\"\u001b[0m\u001b[1;33m)\u001b[0m\u001b[1;33m\u001b[0m\u001b[1;33m\u001b[0m\u001b[0m\n\u001b[0m\u001b[0;32m   5592\u001b[0m             \u001b[0mindexer\u001b[0m \u001b[1;33m=\u001b[0m \u001b[0mindexer\u001b[0m\u001b[1;33m[\u001b[0m\u001b[1;33m~\u001b[0m\u001b[0mmask\u001b[0m\u001b[1;33m]\u001b[0m\u001b[1;33m\u001b[0m\u001b[1;33m\u001b[0m\u001b[0m\n\u001b[0;32m   5593\u001b[0m         \u001b[1;32mreturn\u001b[0m \u001b[0mself\u001b[0m\u001b[1;33m.\u001b[0m\u001b[0mdelete\u001b[0m\u001b[1;33m(\u001b[0m\u001b[0mindexer\u001b[0m\u001b[1;33m)\u001b[0m\u001b[1;33m\u001b[0m\u001b[1;33m\u001b[0m\u001b[0m\n",
      "\u001b[1;31mKeyError\u001b[0m: \"['course_shortname'] not found in axis\""
     ]
    }
   ],
   "source": [
    "Cursos=Cursos.drop(\"course_shortname\",axis=1)\n",
    "Cursos=Cursos.drop(\"Unnamed: 0\",axis=1)"
   ]
  },
  {
   "cell_type": "code",
   "execution_count": null,
   "id": "2dec59a7-8be4-4a16-a7b9-7daae69dc6fc",
   "metadata": {},
   "outputs": [],
   "source": [
    "#Tipos de variables\n",
    "Cursos.dtypes"
   ]
  },
  {
   "cell_type": "code",
   "execution_count": null,
   "id": "13c8e3cd-f9e6-4410-8734-bf542d147360",
   "metadata": {},
   "outputs": [],
   "source": [
    "#Duplicados\n",
    "Cursos.duplicated().sum() # busca duplicados de fila completa"
   ]
  },
  {
   "cell_type": "code",
   "execution_count": null,
   "id": "17521b2b-f472-4bb3-b035-df472249101c",
   "metadata": {},
   "outputs": [],
   "source": [
    "Cursos.shape"
   ]
  },
  {
   "cell_type": "code",
   "execution_count": null,
   "id": "47aa6ec3-8f9c-4a01-bd97-4e4919c1866c",
   "metadata": {},
   "outputs": [],
   "source": [
    "#NA'S\n",
    "Cursos.isna()\n",
    "#Eliminamos last_acceses por %100 de NA'S \n",
    "Cursos.isna().sum()"
   ]
  },
  {
   "cell_type": "code",
   "execution_count": null,
   "id": "47aa6ec3-8f9c-4a01-bd97-4e4919c1866c",
   "metadata": {},
   "outputs": [],
   "source": [
    "Cursos = Cursos.fillna(\"No especificado\")"
   ]
  },
  {
   "cell_type": "code",
   "execution_count": null,
   "id": "bc26a549",
   "metadata": {},
   "outputs": [],
   "source": []
  },
  {
   "cell_type": "code",
   "execution_count": null,
   "id": "0ddacb30",
   "metadata": {},
   "outputs": [],
   "source": [
    "Programas"
   ]
  },
  {
   "cell_type": "code",
   "execution_count": null,
   "id": "cce1230c",
   "metadata": {},
   "outputs": [],
   "source": [
    "#Nombre de columnas\n",
    "Programas.columns"
   ]
  },
  {
   "cell_type": "code",
   "execution_count": null,
   "id": "8fdb750f",
   "metadata": {},
   "outputs": [],
   "source": [
    "#Numero de columnas/filas\n",
    "Programas.shape"
   ]
  },
  {
   "cell_type": "code",
   "execution_count": null,
   "id": "ca6302be",
   "metadata": {},
   "outputs": [],
   "source": [
    "Programas.info"
   ]
  },
  {
   "cell_type": "code",
   "execution_count": null,
   "id": "df4f7335",
   "metadata": {},
   "outputs": [],
   "source": [
    "#Tipos de variables\n",
    "Programas.dtypes"
   ]
  },
  {
   "cell_type": "code",
   "execution_count": null,
   "id": "b4e221c0",
   "metadata": {},
   "outputs": [],
   "source": [
    "#Duplicados\n",
    "Programas.duplicated().sum() # busca duplicados de fila completa"
   ]
  },
  {
   "cell_type": "code",
   "execution_count": null,
   "id": "d65b2ba2",
   "metadata": {},
   "outputs": [],
   "source": [
    "#NA'S\n",
    "Programas.isna()\n",
    "Programas.isna().sum()"
   ]
  },
  {
   "cell_type": "code",
   "execution_count": null,
   "id": "801a9f8c",
   "metadata": {},
   "outputs": [],
   "source": [
    "#Eliminamos la fila que contiene NA en program_category_id.\n",
    "Programas=Programas.dropna(axis = 0, how = 'any') \n",
    "Programas.isna().sum()"
   ]
  },
  {
   "cell_type": "code",
   "execution_count": null,
   "id": "18be9e1a",
   "metadata": {},
   "outputs": [],
   "source": [
    "#Eliminamos la columna 'Unnamed: 0' ya que no aporta valor.\n",
    "Programas=Programas.drop(['Unnamed: 0'], axis=1)"
   ]
  },
  {
   "cell_type": "code",
   "execution_count": null,
   "id": "889dd5cb",
   "metadata": {},
   "outputs": [],
   "source": [
    "Programas"
   ]
  },
  {
   "cell_type": "code",
   "execution_count": null,
   "id": "79876ac8",
   "metadata": {},
   "outputs": [],
   "source": []
  },
  {
   "cell_type": "code",
   "execution_count": null,
   "id": "e990a4ac",
   "metadata": {},
   "outputs": [],
   "source": [
    "Cursos_en_Programas"
   ]
  },
  {
   "cell_type": "code",
   "execution_count": null,
   "id": "692fb9db",
   "metadata": {},
   "outputs": [],
   "source": [
    "#Nombre de columnas\n",
    "Cursos_en_Programas.columns"
   ]
  },
  {
   "cell_type": "code",
   "execution_count": null,
   "id": "f1ef6abb",
   "metadata": {},
   "outputs": [],
   "source": [
    "#Numero de columnas/filas\n",
    "Cursos_en_Programas.shape"
   ]
  },
  {
   "cell_type": "code",
   "execution_count": null,
   "id": "4da310b7",
   "metadata": {},
   "outputs": [],
   "source": [
    "Cursos_en_Programas.info"
   ]
  },
  {
   "cell_type": "code",
   "execution_count": null,
   "id": "1a19e75e",
   "metadata": {},
   "outputs": [],
   "source": [
    "Cursos_en_Programas.dtypes"
   ]
  },
  {
   "cell_type": "code",
   "execution_count": null,
   "id": "ee39fbe3",
   "metadata": {},
   "outputs": [],
   "source": [
    "#Duplicados\n",
    "Cursos_en_Programas.duplicated().sum() # busca duplicados de fila completa"
   ]
  },
  {
   "cell_type": "code",
   "execution_count": null,
   "id": "857c3100",
   "metadata": {},
   "outputs": [],
   "source": [
    "#NA'S\n",
    "Cursos_en_Programas.isna()\n",
    "Cursos_en_Programas.isna().sum()"
   ]
  },
  {
   "cell_type": "code",
   "execution_count": null,
   "id": "bbc3d4ba",
   "metadata": {},
   "outputs": [],
   "source": [
    "#Eliminamos la columna 'Unnamed: 0' ya que no aporta valor.\n",
    "Cursos_en_Programas=Cursos_en_Programas.drop(['Unnamed: 0'], axis=1)"
   ]
  },
  {
   "cell_type": "code",
   "execution_count": null,
   "id": "86e566a8",
   "metadata": {},
   "outputs": [],
   "source": [
    "Cursos_en_Programas"
   ]
  },
  {
   "cell_type": "code",
   "execution_count": null,
   "id": "529e9dba",
   "metadata": {},
   "outputs": [],
   "source": []
  },
  {
   "cell_type": "code",
   "execution_count": null,
   "id": "84e1f96f",
   "metadata": {},
   "outputs": [],
   "source": [
    "Itinearios"
   ]
  },
  {
   "cell_type": "code",
   "execution_count": null,
   "id": "70b9c828",
   "metadata": {},
   "outputs": [],
   "source": [
    "#Nombre de columnas\n",
    "Itinearios.columns"
   ]
  },
  {
   "cell_type": "code",
   "execution_count": null,
   "id": "77cd172a",
   "metadata": {},
   "outputs": [],
   "source": [
    "#Numero de columnas/filas\n",
    "Itinearios.shape"
   ]
  },
  {
   "cell_type": "code",
   "execution_count": null,
   "id": "9ff46d7a",
   "metadata": {},
   "outputs": [],
   "source": [
    "Itinearios.info"
   ]
  },
  {
   "cell_type": "code",
   "execution_count": null,
   "id": "a7b84675",
   "metadata": {},
   "outputs": [],
   "source": [
    "#Tipos de variables\n",
    "Itinearios.dtypes"
   ]
  },
  {
   "cell_type": "code",
   "execution_count": null,
   "id": "a7b84675",
   "metadata": {},
   "outputs": [],
   "source": [
    "#Corregimos fecha y hora de date_enroll y enroll_end\n",
    "Itinearios['date_enroll']= pd.to_datetime(Itinearios['date_enroll'],utc=True)\n",
    "Itinearios['enroll_end']= pd.to_datetime(Itinearios['enroll_end'],utc=True)\n",
    "Itinearios"
   ]
  },
  {
   "cell_type": "code",
   "execution_count": null,
   "id": "277f64c1",
   "metadata": {},
   "outputs": [],
   "source": [
    "#Tipos de variables corregido fecha y hora\n",
    "Itinearios.dtypes"
   ]
  },
  {
   "cell_type": "code",
   "execution_count": null,
   "id": "a9def857",
   "metadata": {},
   "outputs": [],
   "source": [
    "#Duplicados\n",
    "Itinearios.duplicated().sum() # busca duplicados de fila completa"
   ]
  },
  {
   "cell_type": "code",
   "execution_count": null,
   "id": "8d09a28f",
   "metadata": {},
   "outputs": [],
   "source": [
    "#NA'S\n",
    "Itinearios.isna()\n",
    "Itinearios.isna().sum()"
   ]
  },
  {
   "cell_type": "code",
   "execution_count": null,
   "id": "441e3b49",
   "metadata": {},
   "outputs": [],
   "source": [
    "#Eliminamos la columna 'Unnamed: 0' ya que no aporta valor.\n",
    "#Eliminamos la columna 'remarcks' ya que casi tiene un 100% de NA\n",
    "#Eliminamos de momento la variable 'enroll_end' ya que tiene mas de un 60% de NA.\n",
    "Itinearios=Itinearios.drop(['Unnamed: 0'], axis=1)\n",
    "Itinearios=Itinearios.drop(['remarks'], axis=1)\n",
    "Itinearios=Itinearios.drop(['enroll_end'], axis=1)"
   ]
  },
  {
   "cell_type": "code",
   "execution_count": null,
   "id": "56481a77",
   "metadata": {},
   "outputs": [],
   "source": [
    "Itinearios"
   ]
  },
  {
   "cell_type": "code",
   "execution_count": null,
   "id": "702c909f",
   "metadata": {},
   "outputs": [],
   "source": []
  },
  {
   "cell_type": "code",
   "execution_count": null,
   "id": "550c6eae",
   "metadata": {},
   "outputs": [],
   "source": [
    "Notas_Cursos"
   ]
  },
  {
   "cell_type": "code",
   "execution_count": null,
   "id": "bb209d5c",
   "metadata": {},
   "outputs": [],
   "source": [
    "Notas_Cursos.columns"
   ]
  },
  {
   "cell_type": "code",
   "execution_count": null,
   "id": "9329b872",
   "metadata": {},
   "outputs": [],
   "source": [
    "Notas_Cursos.shape"
   ]
  },
  {
   "cell_type": "code",
   "execution_count": null,
   "id": "be56cd8e",
   "metadata": {},
   "outputs": [],
   "source": [
    "Notas_Cursos.info"
   ]
  },
  {
   "cell_type": "code",
   "execution_count": null,
   "id": "e537080b",
   "metadata": {},
   "outputs": [],
   "source": [
    "Notas_Cursos.dtypes"
   ]
  },
  {
   "cell_type": "code",
   "execution_count": null,
   "id": "c5f5c9c4",
   "metadata": {},
   "outputs": [],
   "source": [
    "#Duplicados\n",
    "Notas_Cursos.duplicated().sum() #busca duplicados de fila completa"
   ]
  },
  {
   "cell_type": "code",
   "execution_count": null,
   "id": "a2eff7f6",
   "metadata": {},
   "outputs": [],
   "source": [
    "#NA'S\n",
    "Notas_Cursos.isna()\n",
    "Notas_Cursos.isna().sum()"
   ]
  },
  {
   "cell_type": "code",
   "execution_count": null,
   "id": "4508701f",
   "metadata": {},
   "outputs": [],
   "source": [
    "#Duplicados\n",
    "Notas_Cursos.duplicated(subset = ['grade', 'online_progress']).sum()"
   ]
  },
  {
   "cell_type": "code",
   "execution_count": null,
   "id": "e9ab75b8",
   "metadata": {},
   "outputs": [],
   "source": [
    "#Eliminamos la columna 'Unnamed: 0' ya que no aporta valor.\n",
    "Notas_Cursos=Notas_Cursos.drop(['Unnamed: 0'], axis=1)"
   ]
  },
  {
   "cell_type": "code",
   "execution_count": null,
   "id": "8b36156f",
   "metadata": {},
   "outputs": [],
   "source": [
    "Notas_Cursos = Notas_Cursos.fillna(-999)"
   ]
  },
  {
   "cell_type": "code",
   "execution_count": null,
   "id": "7cbe58d8",
   "metadata": {},
   "outputs": [],
   "source": [
    "Notas_Cursos"
   ]
  },
  {
   "cell_type": "code",
   "execution_count": null,
   "id": "70c358ef",
   "metadata": {},
   "outputs": [],
   "source": []
  },
  {
   "cell_type": "code",
   "execution_count": null,
   "id": "5f4f0cad",
   "metadata": {},
   "outputs": [],
   "source": [
    "Roles"
   ]
  },
  {
   "cell_type": "code",
   "execution_count": null,
   "id": "dc68fd0e",
   "metadata": {},
   "outputs": [],
   "source": [
    "Roles.columns"
   ]
  },
  {
   "cell_type": "code",
   "execution_count": null,
   "id": "c71f52aa",
   "metadata": {},
   "outputs": [],
   "source": [
    "Roles.shape"
   ]
  },
  {
   "cell_type": "code",
   "execution_count": null,
   "id": "4c9b300a",
   "metadata": {},
   "outputs": [],
   "source": [
    "Roles.info"
   ]
  },
  {
   "cell_type": "code",
   "execution_count": null,
   "id": "0489c58c",
   "metadata": {},
   "outputs": [],
   "source": [
    "#Tipo de variables\n",
    "Roles.dtypes"
   ]
  },
  {
   "cell_type": "code",
   "execution_count": null,
   "id": "715e2900",
   "metadata": {},
   "outputs": [],
   "source": [
    "#Duplicados\n",
    "Roles.duplicated().sum() #busca duplicados de fila completa"
   ]
  },
  {
   "cell_type": "code",
   "execution_count": null,
   "id": "6c4bbdf2",
   "metadata": {},
   "outputs": [],
   "source": [
    "#NA'S\n",
    "Roles.isna()\n",
    "Roles.isna().sum()"
   ]
  },
  {
   "cell_type": "code",
   "execution_count": null,
   "id": "87413364",
   "metadata": {},
   "outputs": [],
   "source": [
    "#Eliminamos la columna 'Unnamed: 0' ya que no aporta valor.\n",
    "Roles=Roles.drop(['Unnamed: 0'], axis=1)"
   ]
  },
  {
   "cell_type": "code",
   "execution_count": null,
   "id": "c130e47d",
   "metadata": {},
   "outputs": [],
   "source": [
    "Roles"
   ]
  },
  {
   "cell_type": "code",
   "execution_count": null,
   "id": "a2b3a459",
   "metadata": {},
   "outputs": [],
   "source": []
  },
  {
   "cell_type": "code",
   "execution_count": null,
   "id": "104a15d4-b80f-4b3a-af1e-359a6d2e023a",
   "metadata": {},
   "outputs": [],
   "source": [
    "Plantas"
   ]
  },
  {
   "cell_type": "code",
   "execution_count": null,
   "id": "3cb280f1",
   "metadata": {},
   "outputs": [],
   "source": [
    "Plantas=Plantas.drop(['Unnamed: 0'], axis=1)"
   ]
  },
  {
   "cell_type": "code",
   "execution_count": null,
   "id": "5eb15bb3",
   "metadata": {},
   "outputs": [],
   "source": [
    "Plantas.dtypes"
   ]
  },
  {
   "cell_type": "code",
   "execution_count": null,
   "id": "9fe56355",
   "metadata": {},
   "outputs": [],
   "source": [
    "#Duplicados\n",
    "Plantas.duplicated().sum() # busca duplicados de fila completa"
   ]
  },
  {
   "cell_type": "code",
   "execution_count": null,
   "id": "122fb070",
   "metadata": {},
   "outputs": [],
   "source": [
    "#NA'S\n",
    "Plantas.isna().sum()"
   ]
  },
  {
   "cell_type": "code",
   "execution_count": null,
   "id": "4c6fc117",
   "metadata": {},
   "outputs": [],
   "source": [
    "Plantas"
   ]
  },
  {
   "cell_type": "code",
   "execution_count": null,
   "id": "23d8501c",
   "metadata": {},
   "outputs": [],
   "source": []
  },
  {
   "cell_type": "code",
   "execution_count": null,
   "id": "4c85a237-8d83-4b32-9e96-609a8cb899a6",
   "metadata": {},
   "outputs": [],
   "source": [
    "Accesos"
   ]
  },
  {
   "cell_type": "code",
   "execution_count": null,
   "id": "6b38cd83",
   "metadata": {},
   "outputs": [],
   "source": [
    "Accesos=Accesos.drop(['Unnamed: 0'], axis=1)"
   ]
  },
  {
   "cell_type": "code",
   "execution_count": null,
   "id": "4c62d047",
   "metadata": {},
   "outputs": [],
   "source": [
    "Accesos.dtypes"
   ]
  },
  {
   "cell_type": "code",
   "execution_count": null,
   "id": "558d2b64",
   "metadata": {},
   "outputs": [],
   "source": [
    "Accesos['timestamp']= pd.to_datetime(Accesos['timestamp'],utc=True)"
   ]
  },
  {
   "cell_type": "code",
   "execution_count": null,
   "id": "299a849a",
   "metadata": {},
   "outputs": [],
   "source": [
    "Accesos"
   ]
  },
  {
   "cell_type": "code",
   "execution_count": null,
   "id": "edbba4ac",
   "metadata": {},
   "outputs": [],
   "source": [
    "Accesos.dtypes"
   ]
  },
  {
   "cell_type": "code",
   "execution_count": null,
   "id": "93c0019f",
   "metadata": {},
   "outputs": [],
   "source": [
    "#Duplicados\n",
    "Accesos.duplicated().sum() # busca duplicados de fila completa"
   ]
  },
  {
   "cell_type": "code",
   "execution_count": null,
   "id": "13e8a2c8",
   "metadata": {},
   "outputs": [],
   "source": [
    "Accesos=Accesos.drop_duplicates()"
   ]
  },
  {
   "cell_type": "code",
   "execution_count": null,
   "id": "84a6c72e",
   "metadata": {},
   "outputs": [],
   "source": [
    "Accesos.duplicated().sum()"
   ]
  },
  {
   "cell_type": "code",
   "execution_count": null,
   "id": "9671a4dc",
   "metadata": {},
   "outputs": [],
   "source": [
    "Accesos.isna().sum()"
   ]
  },
  {
   "cell_type": "code",
   "execution_count": null,
   "id": "013b7ce6",
   "metadata": {},
   "outputs": [],
   "source": []
  },
  {
   "cell_type": "code",
   "execution_count": null,
   "id": "ef0c79be-5ca5-4794-b5db-aa71a98025c5",
   "metadata": {},
   "outputs": [],
   "source": [
    "Acceso_1ero_ultimo"
   ]
  },
  {
   "cell_type": "code",
   "execution_count": null,
   "id": "467163c7",
   "metadata": {},
   "outputs": [],
   "source": [
    "Acceso_1ero_ultimo.dtypes"
   ]
  },
  {
   "cell_type": "code",
   "execution_count": null,
   "id": "59d856b0",
   "metadata": {},
   "outputs": [],
   "source": [
    "Acceso_1ero_ultimo=Acceso_1ero_ultimo.drop(['Unnamed: 0'], axis=1)"
   ]
  },
  {
   "cell_type": "code",
   "execution_count": null,
   "id": "17697a70",
   "metadata": {},
   "outputs": [],
   "source": [
    "#Duplicados\n",
    "Acceso_1ero_ultimo.duplicated().sum() # busca duplicados de fila completa"
   ]
  },
  {
   "cell_type": "code",
   "execution_count": null,
   "id": "15f2d335",
   "metadata": {},
   "outputs": [],
   "source": [
    "Acceso_1ero_ultimo['1er acceso'][Acceso_1ero_ultimo['1er acceso']==\"--\"]=None\n",
    "Acceso_1ero_ultimo['ultimo acceso'][Acceso_1ero_ultimo['ultimo acceso']==\"--\"]=None"
   ]
  },
  {
   "cell_type": "code",
   "execution_count": null,
   "id": "31c8c885",
   "metadata": {},
   "outputs": [],
   "source": [
    "Acceso_1ero_ultimo"
   ]
  },
  {
   "cell_type": "code",
   "execution_count": null,
   "id": "a331e902",
   "metadata": {},
   "outputs": [],
   "source": [
    "Acceso_1ero_ultimo.isna().sum()"
   ]
  },
  {
   "cell_type": "code",
   "execution_count": null,
   "id": "976a00e4",
   "metadata": {},
   "outputs": [],
   "source": []
  },
  {
   "cell_type": "code",
   "execution_count": null,
   "id": "356cfb85-7604-4728-a5e9-60a0ac08308b",
   "metadata": {},
   "outputs": [],
   "source": [
    "Actividades"
   ]
  },
  {
   "cell_type": "code",
   "execution_count": null,
   "id": "651bfafb",
   "metadata": {},
   "outputs": [],
   "source": [
    "Actividades=Actividades.drop(['Unnamed: 0'], axis=1)"
   ]
  },
  {
   "cell_type": "code",
   "execution_count": null,
   "id": "945d39b5-00c2-4da7-8aa8-12c10a80f020",
   "metadata": {},
   "outputs": [],
   "source": [
    "Actividades"
   ]
  },
  {
   "cell_type": "code",
   "execution_count": null,
   "id": "280df992",
   "metadata": {},
   "outputs": [],
   "source": [
    "Actividades.dtypes"
   ]
  },
  {
   "cell_type": "code",
   "execution_count": null,
   "id": "860f306e-e0f9-4cca-9c90-8c50fe08df94",
   "metadata": {},
   "outputs": [],
   "source": [
    "Actividades['time']= pd.to_datetime(Actividades['time'])"
   ]
  },
  {
   "cell_type": "code",
   "execution_count": null,
   "id": "86e9da01",
   "metadata": {},
   "outputs": [],
   "source": [
    "Actividades.dtypes"
   ]
  },
  {
   "cell_type": "code",
   "execution_count": null,
   "id": "c42f3aa0",
   "metadata": {},
   "outputs": [],
   "source": [
    "#Duplicados\n",
    "Actividades.duplicated().sum() # busca duplicados de fila completa"
   ]
  },
  {
   "cell_type": "code",
   "execution_count": null,
   "id": "d578ed9a",
   "metadata": {},
   "outputs": [],
   "source": [
    "Actividades=Actividades.drop_duplicates()"
   ]
  },
  {
   "cell_type": "code",
   "execution_count": null,
   "id": "d6f93141",
   "metadata": {},
   "outputs": [],
   "source": [
    "Actividades.duplicated().sum()"
   ]
  },
  {
   "cell_type": "code",
   "execution_count": null,
   "id": "d5604bcf",
   "metadata": {},
   "outputs": [],
   "source": [
    "Actividades.isna().sum()"
   ]
  },
  {
   "cell_type": "code",
   "execution_count": null,
   "id": "9293e8f9",
   "metadata": {},
   "outputs": [],
   "source": []
  },
  {
   "cell_type": "code",
   "execution_count": null,
   "id": "bed65ac2",
   "metadata": {},
   "outputs": [],
   "source": []
  },
  {
   "cell_type": "code",
   "execution_count": null,
   "id": "18d42e1d",
   "metadata": {},
   "outputs": [],
   "source": []
  },
  {
   "cell_type": "code",
   "execution_count": null,
   "id": "0101cdc3",
   "metadata": {},
   "outputs": [],
   "source": []
  },
  {
   "cell_type": "code",
   "execution_count": null,
   "id": "bf18acbd",
   "metadata": {},
   "outputs": [],
   "source": []
  }
 ],
 "metadata": {
  "kernelspec": {
   "display_name": "Python 3",
   "language": "python",
   "name": "python3"
  },
  "language_info": {
   "codemirror_mode": {
    "name": "ipython",
    "version": 3
   },
   "file_extension": ".py",
   "mimetype": "text/x-python",
   "name": "python",
   "nbconvert_exporter": "python",
   "pygments_lexer": "ipython3",
   "version": "3.8.8"
  }
 },
 "nbformat": 4,
 "nbformat_minor": 5
}
