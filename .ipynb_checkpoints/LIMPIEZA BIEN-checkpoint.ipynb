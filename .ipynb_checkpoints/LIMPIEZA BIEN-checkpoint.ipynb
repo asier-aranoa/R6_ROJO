{
 "cells": [
  {
   "cell_type": "code",
   "execution_count": 138,
   "id": "f685050c",
   "metadata": {},
   "outputs": [],
   "source": [
    "import pandas as pd\n",
    "import numpy as np\n",
    "import datetime as dt"
   ]
  },
  {
   "cell_type": "code",
   "execution_count": 139,
   "id": "5bf64f9c",
   "metadata": {},
   "outputs": [],
   "source": [
    "pd.options.display.max_columns = None"
   ]
  },
  {
   "cell_type": "code",
   "execution_count": 140,
   "id": "aa6c315f",
   "metadata": {},
   "outputs": [],
   "source": [
    "df = pd.read_excel('EDERJAKIN_LA_Datos_2021.xlsm', sheet_name=None)"
   ]
  },
  {
   "cell_type": "code",
   "execution_count": 141,
   "id": "590f0204",
   "metadata": {},
   "outputs": [],
   "source": [
    "for sheet_name in list(df.keys()):\n",
    "   df[sheet_name].to_csv(sheet_name + 'Sheet.csv')"
   ]
  },
  {
   "cell_type": "code",
   "execution_count": 142,
   "id": "5537ffdc",
   "metadata": {},
   "outputs": [],
   "source": [
    "Usuarios = pd.read_csv('UsuariosSheet.csv')\n",
    "Tutores_perfil = pd.read_csv('Tutores perfilSheet.csv')\n",
    "Conocimientos = pd.read_csv('ConocimientosSheet.csv')\n",
    "Cursos = pd.read_csv('CursosSheet.csv')\n",
    "Programas = pd.read_csv('ProgramasSheet.csv')\n",
    "Cursos_en_Programas = pd.read_csv('Cursos en ProgramasSheet.csv')\n",
    "Itinearios = pd.read_csv('ItineariosSheet.csv')\n",
    "Notas_Cursos = pd.read_csv('Notas_CursosSheet.csv')\n",
    "Roles = pd.read_csv('RolesSheet.csv')\n",
    "Plantas = pd.read_csv('PlantasSheet.csv')\n",
    "Accesos = pd.read_csv('AccesosSheet.csv')\n",
    "Acceso_1ero_ultimo = pd.read_csv('Acceso_1ero_ultimoSheet.csv')\n",
    "Actividades = pd.read_csv('ActividadesSheet.csv')"
   ]
  },
  {
   "cell_type": "code",
   "execution_count": 143,
   "id": "42c41228-f5bd-46aa-a4f7-07a01e26fc7c",
   "metadata": {},
   "outputs": [
    {
     "data": {
      "text/html": [
       "<div>\n",
       "<style scoped>\n",
       "    .dataframe tbody tr th:only-of-type {\n",
       "        vertical-align: middle;\n",
       "    }\n",
       "\n",
       "    .dataframe tbody tr th {\n",
       "        vertical-align: top;\n",
       "    }\n",
       "\n",
       "    .dataframe thead th {\n",
       "        text-align: right;\n",
       "    }\n",
       "</style>\n",
       "<table border=\"1\" class=\"dataframe\">\n",
       "  <thead>\n",
       "    <tr style=\"text-align: right;\">\n",
       "      <th></th>\n",
       "      <th>Unnamed: 0</th>\n",
       "      <th>user_id</th>\n",
       "      <th>useranonimo_name</th>\n",
       "      <th>active_flag</th>\n",
       "      <th>language</th>\n",
       "      <th>last_access</th>\n",
       "      <th>mdl_user_id</th>\n",
       "      <th>role_admin</th>\n",
       "      <th>role_manager</th>\n",
       "      <th>role_student</th>\n",
       "      <th>role_tutor</th>\n",
       "      <th>planta_name</th>\n",
       "      <th>Unnamed: 11</th>\n",
       "    </tr>\n",
       "  </thead>\n",
       "  <tbody>\n",
       "    <tr>\n",
       "      <th>0</th>\n",
       "      <td>0</td>\n",
       "      <td>3</td>\n",
       "      <td>username_03</td>\n",
       "      <td>1</td>\n",
       "      <td>es</td>\n",
       "      <td>NaN</td>\n",
       "      <td>13.0</td>\n",
       "      <td>0</td>\n",
       "      <td>0</td>\n",
       "      <td>1</td>\n",
       "      <td>0</td>\n",
       "      <td>ABP Bergara</td>\n",
       "      <td>NaN</td>\n",
       "    </tr>\n",
       "    <tr>\n",
       "      <th>1</th>\n",
       "      <td>1</td>\n",
       "      <td>4</td>\n",
       "      <td>username_04</td>\n",
       "      <td>1</td>\n",
       "      <td>es</td>\n",
       "      <td>NaN</td>\n",
       "      <td>14.0</td>\n",
       "      <td>0</td>\n",
       "      <td>0</td>\n",
       "      <td>1</td>\n",
       "      <td>0</td>\n",
       "      <td>Fagorederlan</td>\n",
       "      <td>NaN</td>\n",
       "    </tr>\n",
       "    <tr>\n",
       "      <th>2</th>\n",
       "      <td>2</td>\n",
       "      <td>5</td>\n",
       "      <td>username_05</td>\n",
       "      <td>1</td>\n",
       "      <td>es</td>\n",
       "      <td>NaN</td>\n",
       "      <td>15.0</td>\n",
       "      <td>0</td>\n",
       "      <td>0</td>\n",
       "      <td>1</td>\n",
       "      <td>0</td>\n",
       "      <td>ABP Arrasate</td>\n",
       "      <td>NaN</td>\n",
       "    </tr>\n",
       "    <tr>\n",
       "      <th>3</th>\n",
       "      <td>3</td>\n",
       "      <td>6</td>\n",
       "      <td>username_06</td>\n",
       "      <td>1</td>\n",
       "      <td>es</td>\n",
       "      <td>NaN</td>\n",
       "      <td>17.0</td>\n",
       "      <td>0</td>\n",
       "      <td>0</td>\n",
       "      <td>1</td>\n",
       "      <td>0</td>\n",
       "      <td>Fagorederlan</td>\n",
       "      <td>NaN</td>\n",
       "    </tr>\n",
       "    <tr>\n",
       "      <th>4</th>\n",
       "      <td>4</td>\n",
       "      <td>7</td>\n",
       "      <td>username_07</td>\n",
       "      <td>1</td>\n",
       "      <td>es</td>\n",
       "      <td>NaN</td>\n",
       "      <td>18.0</td>\n",
       "      <td>0</td>\n",
       "      <td>0</td>\n",
       "      <td>1</td>\n",
       "      <td>0</td>\n",
       "      <td>ABP Arrasate</td>\n",
       "      <td>NaN</td>\n",
       "    </tr>\n",
       "    <tr>\n",
       "      <th>...</th>\n",
       "      <td>...</td>\n",
       "      <td>...</td>\n",
       "      <td>...</td>\n",
       "      <td>...</td>\n",
       "      <td>...</td>\n",
       "      <td>...</td>\n",
       "      <td>...</td>\n",
       "      <td>...</td>\n",
       "      <td>...</td>\n",
       "      <td>...</td>\n",
       "      <td>...</td>\n",
       "      <td>...</td>\n",
       "      <td>...</td>\n",
       "    </tr>\n",
       "    <tr>\n",
       "      <th>415</th>\n",
       "      <td>415</td>\n",
       "      <td>432</td>\n",
       "      <td>username_432</td>\n",
       "      <td>1</td>\n",
       "      <td>es</td>\n",
       "      <td>NaN</td>\n",
       "      <td>457.0</td>\n",
       "      <td>0</td>\n",
       "      <td>0</td>\n",
       "      <td>1</td>\n",
       "      <td>0</td>\n",
       "      <td>MT Aretxabaleta</td>\n",
       "      <td>NaN</td>\n",
       "    </tr>\n",
       "    <tr>\n",
       "      <th>416</th>\n",
       "      <td>416</td>\n",
       "      <td>433</td>\n",
       "      <td>username_433</td>\n",
       "      <td>1</td>\n",
       "      <td>es</td>\n",
       "      <td>NaN</td>\n",
       "      <td>458.0</td>\n",
       "      <td>0</td>\n",
       "      <td>0</td>\n",
       "      <td>1</td>\n",
       "      <td>0</td>\n",
       "      <td>MT Aretxabaleta</td>\n",
       "      <td>NaN</td>\n",
       "    </tr>\n",
       "    <tr>\n",
       "      <th>417</th>\n",
       "      <td>417</td>\n",
       "      <td>434</td>\n",
       "      <td>username_434</td>\n",
       "      <td>1</td>\n",
       "      <td>es</td>\n",
       "      <td>NaN</td>\n",
       "      <td>459.0</td>\n",
       "      <td>0</td>\n",
       "      <td>0</td>\n",
       "      <td>1</td>\n",
       "      <td>0</td>\n",
       "      <td>MT Aretxabaleta</td>\n",
       "      <td>NaN</td>\n",
       "    </tr>\n",
       "    <tr>\n",
       "      <th>418</th>\n",
       "      <td>418</td>\n",
       "      <td>435</td>\n",
       "      <td>username_435</td>\n",
       "      <td>1</td>\n",
       "      <td>es</td>\n",
       "      <td>NaN</td>\n",
       "      <td>460.0</td>\n",
       "      <td>0</td>\n",
       "      <td>0</td>\n",
       "      <td>1</td>\n",
       "      <td>0</td>\n",
       "      <td>MT Aretxabaleta</td>\n",
       "      <td>NaN</td>\n",
       "    </tr>\n",
       "    <tr>\n",
       "      <th>419</th>\n",
       "      <td>419</td>\n",
       "      <td>436</td>\n",
       "      <td>username_436</td>\n",
       "      <td>1</td>\n",
       "      <td>es</td>\n",
       "      <td>NaN</td>\n",
       "      <td>461.0</td>\n",
       "      <td>0</td>\n",
       "      <td>1</td>\n",
       "      <td>1</td>\n",
       "      <td>1</td>\n",
       "      <td>ABP Bergara</td>\n",
       "      <td>NaN</td>\n",
       "    </tr>\n",
       "  </tbody>\n",
       "</table>\n",
       "<p>420 rows × 13 columns</p>\n",
       "</div>"
      ],
      "text/plain": [
       "     Unnamed: 0  user_id useranonimo_name  active_flag language  last_access  \\\n",
       "0             0        3      username_03            1       es          NaN   \n",
       "1             1        4      username_04            1       es          NaN   \n",
       "2             2        5      username_05            1       es          NaN   \n",
       "3             3        6      username_06            1       es          NaN   \n",
       "4             4        7      username_07            1       es          NaN   \n",
       "..          ...      ...              ...          ...      ...          ...   \n",
       "415         415      432     username_432            1       es          NaN   \n",
       "416         416      433     username_433            1       es          NaN   \n",
       "417         417      434     username_434            1       es          NaN   \n",
       "418         418      435     username_435            1       es          NaN   \n",
       "419         419      436     username_436            1       es          NaN   \n",
       "\n",
       "     mdl_user_id  role_admin  role_manager  role_student  role_tutor  \\\n",
       "0           13.0           0             0             1           0   \n",
       "1           14.0           0             0             1           0   \n",
       "2           15.0           0             0             1           0   \n",
       "3           17.0           0             0             1           0   \n",
       "4           18.0           0             0             1           0   \n",
       "..           ...         ...           ...           ...         ...   \n",
       "415        457.0           0             0             1           0   \n",
       "416        458.0           0             0             1           0   \n",
       "417        459.0           0             0             1           0   \n",
       "418        460.0           0             0             1           0   \n",
       "419        461.0           0             1             1           1   \n",
       "\n",
       "         planta_name  Unnamed: 11  \n",
       "0        ABP Bergara          NaN  \n",
       "1       Fagorederlan          NaN  \n",
       "2       ABP Arrasate          NaN  \n",
       "3       Fagorederlan          NaN  \n",
       "4       ABP Arrasate          NaN  \n",
       "..               ...          ...  \n",
       "415  MT Aretxabaleta          NaN  \n",
       "416  MT Aretxabaleta          NaN  \n",
       "417  MT Aretxabaleta          NaN  \n",
       "418  MT Aretxabaleta          NaN  \n",
       "419      ABP Bergara          NaN  \n",
       "\n",
       "[420 rows x 13 columns]"
      ]
     },
     "execution_count": 143,
     "metadata": {},
     "output_type": "execute_result"
    }
   ],
   "source": [
    "Usuarios"
   ]
  },
  {
   "cell_type": "code",
   "execution_count": 144,
   "id": "010626bf-c72b-4f1b-a91f-95b47777b441",
   "metadata": {},
   "outputs": [
    {
     "data": {
      "text/plain": [
       "Index(['Unnamed: 0', 'user_id', 'useranonimo_name', 'active_flag', 'language',\n",
       "       'last_access', 'mdl_user_id', 'role_admin', 'role_manager',\n",
       "       'role_student', 'role_tutor', 'planta_name', 'Unnamed: 11'],\n",
       "      dtype='object')"
      ]
     },
     "execution_count": 144,
     "metadata": {},
     "output_type": "execute_result"
    }
   ],
   "source": [
    "#Nombre de columnas\n",
    "Usuarios.columns"
   ]
  },
  {
   "cell_type": "code",
   "execution_count": 145,
   "id": "18d327ea-e04c-425c-9d62-95010c6011ad",
   "metadata": {},
   "outputs": [
    {
     "data": {
      "text/plain": [
       "(420, 13)"
      ]
     },
     "execution_count": 145,
     "metadata": {},
     "output_type": "execute_result"
    }
   ],
   "source": [
    "#Numero de columnas/filas\n",
    "Usuarios.shape"
   ]
  },
  {
   "cell_type": "code",
   "execution_count": 146,
   "id": "00fe9df2-c220-4c2f-b8df-c237bc9786c7",
   "metadata": {},
   "outputs": [
    {
     "data": {
      "text/plain": [
       "<bound method DataFrame.info of      Unnamed: 0  user_id useranonimo_name  active_flag language  last_access  \\\n",
       "0             0        3      username_03            1       es          NaN   \n",
       "1             1        4      username_04            1       es          NaN   \n",
       "2             2        5      username_05            1       es          NaN   \n",
       "3             3        6      username_06            1       es          NaN   \n",
       "4             4        7      username_07            1       es          NaN   \n",
       "..          ...      ...              ...          ...      ...          ...   \n",
       "415         415      432     username_432            1       es          NaN   \n",
       "416         416      433     username_433            1       es          NaN   \n",
       "417         417      434     username_434            1       es          NaN   \n",
       "418         418      435     username_435            1       es          NaN   \n",
       "419         419      436     username_436            1       es          NaN   \n",
       "\n",
       "     mdl_user_id  role_admin  role_manager  role_student  role_tutor  \\\n",
       "0           13.0           0             0             1           0   \n",
       "1           14.0           0             0             1           0   \n",
       "2           15.0           0             0             1           0   \n",
       "3           17.0           0             0             1           0   \n",
       "4           18.0           0             0             1           0   \n",
       "..           ...         ...           ...           ...         ...   \n",
       "415        457.0           0             0             1           0   \n",
       "416        458.0           0             0             1           0   \n",
       "417        459.0           0             0             1           0   \n",
       "418        460.0           0             0             1           0   \n",
       "419        461.0           0             1             1           1   \n",
       "\n",
       "         planta_name  Unnamed: 11  \n",
       "0        ABP Bergara          NaN  \n",
       "1       Fagorederlan          NaN  \n",
       "2       ABP Arrasate          NaN  \n",
       "3       Fagorederlan          NaN  \n",
       "4       ABP Arrasate          NaN  \n",
       "..               ...          ...  \n",
       "415  MT Aretxabaleta          NaN  \n",
       "416  MT Aretxabaleta          NaN  \n",
       "417  MT Aretxabaleta          NaN  \n",
       "418  MT Aretxabaleta          NaN  \n",
       "419      ABP Bergara          NaN  \n",
       "\n",
       "[420 rows x 13 columns]>"
      ]
     },
     "execution_count": 146,
     "metadata": {},
     "output_type": "execute_result"
    }
   ],
   "source": [
    "Usuarios.info"
   ]
  },
  {
   "cell_type": "code",
   "execution_count": 147,
   "id": "fad50488-cad7-4872-b0a3-cc077b625091",
   "metadata": {},
   "outputs": [
    {
     "data": {
      "text/plain": [
       "Unnamed: 0            int64\n",
       "user_id               int64\n",
       "useranonimo_name     object\n",
       "active_flag           int64\n",
       "language             object\n",
       "last_access         float64\n",
       "mdl_user_id         float64\n",
       "role_admin            int64\n",
       "role_manager          int64\n",
       "role_student          int64\n",
       "role_tutor            int64\n",
       "planta_name          object\n",
       "Unnamed: 11         float64\n",
       "dtype: object"
      ]
     },
     "execution_count": 147,
     "metadata": {},
     "output_type": "execute_result"
    }
   ],
   "source": [
    "#Tipos de variables\n",
    "Usuarios.dtypes"
   ]
  },
  {
   "cell_type": "code",
   "execution_count": 148,
   "id": "642decab-4826-4bef-80f9-cf90f7599fbf",
   "metadata": {},
   "outputs": [
    {
     "data": {
      "text/plain": [
       "0"
      ]
     },
     "execution_count": 148,
     "metadata": {},
     "output_type": "execute_result"
    }
   ],
   "source": [
    "#Duplicados\n",
    "Usuarios.duplicated().sum() # busca duplicados de fila completa"
   ]
  },
  {
   "cell_type": "code",
   "execution_count": 149,
   "id": "f913cd52",
   "metadata": {},
   "outputs": [
    {
     "data": {
      "text/plain": [
       "Unnamed: 0            0\n",
       "user_id               0\n",
       "useranonimo_name      0\n",
       "active_flag           0\n",
       "language              0\n",
       "last_access         420\n",
       "mdl_user_id          15\n",
       "role_admin            0\n",
       "role_manager          0\n",
       "role_student          0\n",
       "role_tutor            0\n",
       "planta_name           0\n",
       "Unnamed: 11         420\n",
       "dtype: int64"
      ]
     },
     "execution_count": 149,
     "metadata": {},
     "output_type": "execute_result"
    }
   ],
   "source": [
    "#NA'S\n",
    "Usuarios.isna()\n",
    "#Eliminamos last_acceses por %100 de NA'S \n",
    "Usuarios.isna().sum()\n"
   ]
  },
  {
   "cell_type": "code",
   "execution_count": 150,
   "id": "31db6327-9e96-4b9c-bbe6-cd89ef169238",
   "metadata": {},
   "outputs": [
    {
     "ename": "ValueError",
     "evalue": "Cannot convert non-finite values (NA or inf) to integer",
     "output_type": "error",
     "traceback": [
      "\u001b[1;31m---------------------------------------------------------------------------\u001b[0m",
      "\u001b[1;31mValueError\u001b[0m                                Traceback (most recent call last)",
      "\u001b[1;32m<ipython-input-150-ce90060094c4>\u001b[0m in \u001b[0;36m<module>\u001b[1;34m\u001b[0m\n\u001b[1;32m----> 1\u001b[1;33m \u001b[0mUsuarios\u001b[0m\u001b[1;33m[\u001b[0m\u001b[1;34m\"mdl_user_id\"\u001b[0m\u001b[1;33m]\u001b[0m \u001b[1;33m=\u001b[0m \u001b[0mUsuarios\u001b[0m\u001b[1;33m[\u001b[0m\u001b[1;34m\"mdl_user_id\"\u001b[0m\u001b[1;33m]\u001b[0m\u001b[1;33m.\u001b[0m\u001b[0mastype\u001b[0m\u001b[1;33m(\u001b[0m\u001b[0mint\u001b[0m\u001b[1;33m)\u001b[0m\u001b[1;33m\u001b[0m\u001b[1;33m\u001b[0m\u001b[0m\n\u001b[0m",
      "\u001b[1;32m~\\anaconda3\\lib\\site-packages\\pandas\\core\\generic.py\u001b[0m in \u001b[0;36mastype\u001b[1;34m(self, dtype, copy, errors)\u001b[0m\n\u001b[0;32m   5875\u001b[0m         \u001b[1;32melse\u001b[0m\u001b[1;33m:\u001b[0m\u001b[1;33m\u001b[0m\u001b[1;33m\u001b[0m\u001b[0m\n\u001b[0;32m   5876\u001b[0m             \u001b[1;31m# else, only a single dtype is given\u001b[0m\u001b[1;33m\u001b[0m\u001b[1;33m\u001b[0m\u001b[1;33m\u001b[0m\u001b[0m\n\u001b[1;32m-> 5877\u001b[1;33m             \u001b[0mnew_data\u001b[0m \u001b[1;33m=\u001b[0m \u001b[0mself\u001b[0m\u001b[1;33m.\u001b[0m\u001b[0m_mgr\u001b[0m\u001b[1;33m.\u001b[0m\u001b[0mastype\u001b[0m\u001b[1;33m(\u001b[0m\u001b[0mdtype\u001b[0m\u001b[1;33m=\u001b[0m\u001b[0mdtype\u001b[0m\u001b[1;33m,\u001b[0m \u001b[0mcopy\u001b[0m\u001b[1;33m=\u001b[0m\u001b[0mcopy\u001b[0m\u001b[1;33m,\u001b[0m \u001b[0merrors\u001b[0m\u001b[1;33m=\u001b[0m\u001b[0merrors\u001b[0m\u001b[1;33m)\u001b[0m\u001b[1;33m\u001b[0m\u001b[1;33m\u001b[0m\u001b[0m\n\u001b[0m\u001b[0;32m   5878\u001b[0m             \u001b[1;32mreturn\u001b[0m \u001b[0mself\u001b[0m\u001b[1;33m.\u001b[0m\u001b[0m_constructor\u001b[0m\u001b[1;33m(\u001b[0m\u001b[0mnew_data\u001b[0m\u001b[1;33m)\u001b[0m\u001b[1;33m.\u001b[0m\u001b[0m__finalize__\u001b[0m\u001b[1;33m(\u001b[0m\u001b[0mself\u001b[0m\u001b[1;33m,\u001b[0m \u001b[0mmethod\u001b[0m\u001b[1;33m=\u001b[0m\u001b[1;34m\"astype\"\u001b[0m\u001b[1;33m)\u001b[0m\u001b[1;33m\u001b[0m\u001b[1;33m\u001b[0m\u001b[0m\n\u001b[0;32m   5879\u001b[0m \u001b[1;33m\u001b[0m\u001b[0m\n",
      "\u001b[1;32m~\\anaconda3\\lib\\site-packages\\pandas\\core\\internals\\managers.py\u001b[0m in \u001b[0;36mastype\u001b[1;34m(self, dtype, copy, errors)\u001b[0m\n\u001b[0;32m    629\u001b[0m         \u001b[0mself\u001b[0m\u001b[1;33m,\u001b[0m \u001b[0mdtype\u001b[0m\u001b[1;33m,\u001b[0m \u001b[0mcopy\u001b[0m\u001b[1;33m:\u001b[0m \u001b[0mbool\u001b[0m \u001b[1;33m=\u001b[0m \u001b[1;32mFalse\u001b[0m\u001b[1;33m,\u001b[0m \u001b[0merrors\u001b[0m\u001b[1;33m:\u001b[0m \u001b[0mstr\u001b[0m \u001b[1;33m=\u001b[0m \u001b[1;34m\"raise\"\u001b[0m\u001b[1;33m\u001b[0m\u001b[1;33m\u001b[0m\u001b[0m\n\u001b[0;32m    630\u001b[0m     ) -> \"BlockManager\":\n\u001b[1;32m--> 631\u001b[1;33m         \u001b[1;32mreturn\u001b[0m \u001b[0mself\u001b[0m\u001b[1;33m.\u001b[0m\u001b[0mapply\u001b[0m\u001b[1;33m(\u001b[0m\u001b[1;34m\"astype\"\u001b[0m\u001b[1;33m,\u001b[0m \u001b[0mdtype\u001b[0m\u001b[1;33m=\u001b[0m\u001b[0mdtype\u001b[0m\u001b[1;33m,\u001b[0m \u001b[0mcopy\u001b[0m\u001b[1;33m=\u001b[0m\u001b[0mcopy\u001b[0m\u001b[1;33m,\u001b[0m \u001b[0merrors\u001b[0m\u001b[1;33m=\u001b[0m\u001b[0merrors\u001b[0m\u001b[1;33m)\u001b[0m\u001b[1;33m\u001b[0m\u001b[1;33m\u001b[0m\u001b[0m\n\u001b[0m\u001b[0;32m    632\u001b[0m \u001b[1;33m\u001b[0m\u001b[0m\n\u001b[0;32m    633\u001b[0m     def convert(\n",
      "\u001b[1;32m~\\anaconda3\\lib\\site-packages\\pandas\\core\\internals\\managers.py\u001b[0m in \u001b[0;36mapply\u001b[1;34m(self, f, align_keys, ignore_failures, **kwargs)\u001b[0m\n\u001b[0;32m    425\u001b[0m                     \u001b[0mapplied\u001b[0m \u001b[1;33m=\u001b[0m \u001b[0mb\u001b[0m\u001b[1;33m.\u001b[0m\u001b[0mapply\u001b[0m\u001b[1;33m(\u001b[0m\u001b[0mf\u001b[0m\u001b[1;33m,\u001b[0m \u001b[1;33m**\u001b[0m\u001b[0mkwargs\u001b[0m\u001b[1;33m)\u001b[0m\u001b[1;33m\u001b[0m\u001b[1;33m\u001b[0m\u001b[0m\n\u001b[0;32m    426\u001b[0m                 \u001b[1;32melse\u001b[0m\u001b[1;33m:\u001b[0m\u001b[1;33m\u001b[0m\u001b[1;33m\u001b[0m\u001b[0m\n\u001b[1;32m--> 427\u001b[1;33m                     \u001b[0mapplied\u001b[0m \u001b[1;33m=\u001b[0m \u001b[0mgetattr\u001b[0m\u001b[1;33m(\u001b[0m\u001b[0mb\u001b[0m\u001b[1;33m,\u001b[0m \u001b[0mf\u001b[0m\u001b[1;33m)\u001b[0m\u001b[1;33m(\u001b[0m\u001b[1;33m**\u001b[0m\u001b[0mkwargs\u001b[0m\u001b[1;33m)\u001b[0m\u001b[1;33m\u001b[0m\u001b[1;33m\u001b[0m\u001b[0m\n\u001b[0m\u001b[0;32m    428\u001b[0m             \u001b[1;32mexcept\u001b[0m \u001b[1;33m(\u001b[0m\u001b[0mTypeError\u001b[0m\u001b[1;33m,\u001b[0m \u001b[0mNotImplementedError\u001b[0m\u001b[1;33m)\u001b[0m\u001b[1;33m:\u001b[0m\u001b[1;33m\u001b[0m\u001b[1;33m\u001b[0m\u001b[0m\n\u001b[0;32m    429\u001b[0m                 \u001b[1;32mif\u001b[0m \u001b[1;32mnot\u001b[0m \u001b[0mignore_failures\u001b[0m\u001b[1;33m:\u001b[0m\u001b[1;33m\u001b[0m\u001b[1;33m\u001b[0m\u001b[0m\n",
      "\u001b[1;32m~\\anaconda3\\lib\\site-packages\\pandas\\core\\internals\\blocks.py\u001b[0m in \u001b[0;36mastype\u001b[1;34m(self, dtype, copy, errors)\u001b[0m\n\u001b[0;32m    671\u001b[0m             \u001b[0mvals1d\u001b[0m \u001b[1;33m=\u001b[0m \u001b[0mvalues\u001b[0m\u001b[1;33m.\u001b[0m\u001b[0mravel\u001b[0m\u001b[1;33m(\u001b[0m\u001b[1;33m)\u001b[0m\u001b[1;33m\u001b[0m\u001b[1;33m\u001b[0m\u001b[0m\n\u001b[0;32m    672\u001b[0m             \u001b[1;32mtry\u001b[0m\u001b[1;33m:\u001b[0m\u001b[1;33m\u001b[0m\u001b[1;33m\u001b[0m\u001b[0m\n\u001b[1;32m--> 673\u001b[1;33m                 \u001b[0mvalues\u001b[0m \u001b[1;33m=\u001b[0m \u001b[0mastype_nansafe\u001b[0m\u001b[1;33m(\u001b[0m\u001b[0mvals1d\u001b[0m\u001b[1;33m,\u001b[0m \u001b[0mdtype\u001b[0m\u001b[1;33m,\u001b[0m \u001b[0mcopy\u001b[0m\u001b[1;33m=\u001b[0m\u001b[1;32mTrue\u001b[0m\u001b[1;33m)\u001b[0m\u001b[1;33m\u001b[0m\u001b[1;33m\u001b[0m\u001b[0m\n\u001b[0m\u001b[0;32m    674\u001b[0m             \u001b[1;32mexcept\u001b[0m \u001b[1;33m(\u001b[0m\u001b[0mValueError\u001b[0m\u001b[1;33m,\u001b[0m \u001b[0mTypeError\u001b[0m\u001b[1;33m)\u001b[0m\u001b[1;33m:\u001b[0m\u001b[1;33m\u001b[0m\u001b[1;33m\u001b[0m\u001b[0m\n\u001b[0;32m    675\u001b[0m                 \u001b[1;31m# e.g. astype_nansafe can fail on object-dtype of strings\u001b[0m\u001b[1;33m\u001b[0m\u001b[1;33m\u001b[0m\u001b[1;33m\u001b[0m\u001b[0m\n",
      "\u001b[1;32m~\\anaconda3\\lib\\site-packages\\pandas\\core\\dtypes\\cast.py\u001b[0m in \u001b[0;36mastype_nansafe\u001b[1;34m(arr, dtype, copy, skipna)\u001b[0m\n\u001b[0;32m   1066\u001b[0m \u001b[1;33m\u001b[0m\u001b[0m\n\u001b[0;32m   1067\u001b[0m         \u001b[1;32mif\u001b[0m \u001b[1;32mnot\u001b[0m \u001b[0mnp\u001b[0m\u001b[1;33m.\u001b[0m\u001b[0misfinite\u001b[0m\u001b[1;33m(\u001b[0m\u001b[0marr\u001b[0m\u001b[1;33m)\u001b[0m\u001b[1;33m.\u001b[0m\u001b[0mall\u001b[0m\u001b[1;33m(\u001b[0m\u001b[1;33m)\u001b[0m\u001b[1;33m:\u001b[0m\u001b[1;33m\u001b[0m\u001b[1;33m\u001b[0m\u001b[0m\n\u001b[1;32m-> 1068\u001b[1;33m             \u001b[1;32mraise\u001b[0m \u001b[0mValueError\u001b[0m\u001b[1;33m(\u001b[0m\u001b[1;34m\"Cannot convert non-finite values (NA or inf) to integer\"\u001b[0m\u001b[1;33m)\u001b[0m\u001b[1;33m\u001b[0m\u001b[1;33m\u001b[0m\u001b[0m\n\u001b[0m\u001b[0;32m   1069\u001b[0m \u001b[1;33m\u001b[0m\u001b[0m\n\u001b[0;32m   1070\u001b[0m     \u001b[1;32melif\u001b[0m \u001b[0mis_object_dtype\u001b[0m\u001b[1;33m(\u001b[0m\u001b[0marr\u001b[0m\u001b[1;33m)\u001b[0m\u001b[1;33m:\u001b[0m\u001b[1;33m\u001b[0m\u001b[1;33m\u001b[0m\u001b[0m\n",
      "\u001b[1;31mValueError\u001b[0m: Cannot convert non-finite values (NA or inf) to integer"
     ]
    }
   ],
   "source": [
    "Usuarios[\"mdl_user_id\"] = Usuarios[\"mdl_user_id\"].astype(int)"
   ]
  },
  {
   "cell_type": "code",
   "execution_count": null,
   "id": "7f8c667e-6a12-4716-8293-f60fc927bd6a",
   "metadata": {},
   "outputs": [],
   "source": [
    "#Se quitan o no 15 mdl_user_id en caso de que no necesitemos la variable\n",
    "Usuarios=Usuarios.dropna(subset = ['mdl_user_id'])"
   ]
  },
  {
   "cell_type": "code",
   "execution_count": null,
   "id": "3459ce9f",
   "metadata": {},
   "outputs": [],
   "source": []
  },
  {
   "cell_type": "code",
   "execution_count": null,
   "id": "3ad45871-fedb-443c-9ef0-1db52ba8c2a9",
   "metadata": {},
   "outputs": [],
   "source": [
    "Tutores_perfil"
   ]
  },
  {
   "cell_type": "code",
   "execution_count": null,
   "id": "1336692c-639a-4441-88ce-6ff86b439a1d",
   "metadata": {},
   "outputs": [],
   "source": [
    "Tutores_perfil.columns"
   ]
  },
  {
   "cell_type": "code",
   "execution_count": null,
   "id": "f719e375-e6ef-4514-83ae-7526123476e4",
   "metadata": {},
   "outputs": [],
   "source": [
    "Tutores_perfil=Tutores_perfil.drop(['Unnamed: 0'], axis=1)"
   ]
  },
  {
   "cell_type": "code",
   "execution_count": null,
   "id": "063fe9b7-3803-4d48-a61c-74cb19142e3c",
   "metadata": {},
   "outputs": [],
   "source": [
    "#Tipos de variables\n",
    "Tutores_perfil.dtypes"
   ]
  },
  {
   "cell_type": "code",
   "execution_count": null,
   "id": "c797f374-40c5-4852-aae9-2d61f65890c8",
   "metadata": {},
   "outputs": [],
   "source": [
    "#Duplicados\n",
    "Tutores_perfil.duplicated().sum() # busca duplicados de fila completa"
   ]
  },
  {
   "cell_type": "code",
   "execution_count": null,
   "id": "245ce5a0",
   "metadata": {},
   "outputs": [],
   "source": [
    "#NA'S\n",
    "Tutores_perfil.isna()\n",
    "#Eliminamos last_acceses por %100 de NA'S \n",
    "Tutores_perfil.isna().sum()"
   ]
  },
  {
   "cell_type": "code",
   "execution_count": null,
   "id": "bc8a3fb2-be69-4574-b364-b520feddd897",
   "metadata": {},
   "outputs": [],
   "source": [
    "Tutores_perfil.shape"
   ]
  },
  {
   "cell_type": "code",
   "execution_count": null,
   "id": "65a35ffa",
   "metadata": {},
   "outputs": [],
   "source": [
    "Tutores_perfil = Tutores_perfil.fillna(\"Tutores basicos\")"
   ]
  },
  {
   "cell_type": "code",
   "execution_count": null,
   "id": "171071db",
   "metadata": {},
   "outputs": [],
   "source": [
    "Tutores_perfil"
   ]
  },
  {
   "cell_type": "code",
   "execution_count": null,
   "id": "26837b90",
   "metadata": {},
   "outputs": [],
   "source": []
  },
  {
   "cell_type": "code",
   "execution_count": null,
   "id": "eb0745bf",
   "metadata": {},
   "outputs": [],
   "source": [
    "Conocimientos"
   ]
  },
  {
   "cell_type": "code",
   "execution_count": null,
   "id": "3bb425a8",
   "metadata": {},
   "outputs": [],
   "source": [
    "#Nombre de columnas\n",
    "Conocimientos.columns"
   ]
  },
  {
   "cell_type": "code",
   "execution_count": null,
   "id": "b9e5a75c",
   "metadata": {},
   "outputs": [],
   "source": [
    "Conocimientos=Conocimientos.drop(['Unnamed: 0'], axis=1)\n",
    "Conocimientos=Conocimientos.drop(['color'], axis=1)\n"
   ]
  },
  {
   "cell_type": "code",
   "execution_count": null,
   "id": "f56431ba-05ec-4251-b6ea-f4251d5835b6",
   "metadata": {},
   "outputs": [],
   "source": [
    "#Tipos de variables\n",
    "Conocimientos.dtypes"
   ]
  },
  {
   "cell_type": "code",
   "execution_count": null,
   "id": "759ba6b7-70ee-4d24-85d6-12219e6d37b6",
   "metadata": {},
   "outputs": [],
   "source": [
    "#Duplicados\n",
    "Conocimientos.duplicated().sum() # busca duplicados de fila completa"
   ]
  },
  {
   "cell_type": "code",
   "execution_count": null,
   "id": "1f3555e8-0d7d-466b-b553-cc5600c50ee7",
   "metadata": {},
   "outputs": [],
   "source": [
    "#NA'S\n",
    "Conocimientos.isna()\n",
    "#Eliminamos last_acceses por %100 de NA'S \n",
    "Conocimientos.isna().sum()"
   ]
  },
  {
   "cell_type": "code",
   "execution_count": null,
   "id": "179e7cf6",
   "metadata": {},
   "outputs": [],
   "source": [
    "Conocimientos.shape"
   ]
  },
  {
   "cell_type": "code",
   "execution_count": null,
   "id": "b0b8d775-54c0-43e3-b0cc-7ded1463d36e",
   "metadata": {},
   "outputs": [],
   "source": [
    "Conocimientos=Conocimientos.drop(['description'], axis=1)\n",
    "Conocimientos=Conocimientos.drop(['referencia'], axis=1)\n"
   ]
  },
  {
   "cell_type": "code",
   "execution_count": null,
   "id": "2ccecc20-ba2d-4b8a-8f8c-4014e0876ea4",
   "metadata": {},
   "outputs": [],
   "source": [
    "Conocimientos = Conocimientos.fillna(\"Sin asignar\")\n"
   ]
  },
  {
   "cell_type": "code",
   "execution_count": null,
   "id": "b40d28df",
   "metadata": {},
   "outputs": [],
   "source": []
  },
  {
   "cell_type": "code",
   "execution_count": null,
   "id": "5e3de40e",
   "metadata": {},
   "outputs": [],
   "source": [
    "Cursos\n"
   ]
  },
  {
   "cell_type": "code",
   "execution_count": null,
   "id": "b5b540da",
   "metadata": {
    "scrolled": true
   },
   "outputs": [],
   "source": [
    "#Nombre de columnas\n",
    "Cursos.columns"
   ]
  },
  {
   "cell_type": "code",
   "execution_count": null,
   "id": "5c4afc55-25a9-48d4-9523-95195bb89e13",
   "metadata": {},
   "outputs": [],
   "source": [
    "Cursos=Cursos.drop(\"course_shortname\",axis=1)\n",
    "Cursos=Cursos.drop(\"Unnamed: 0\",axis=1)"
   ]
  },
  {
   "cell_type": "code",
   "execution_count": null,
   "id": "2dec59a7-8be4-4a16-a7b9-7daae69dc6fc",
   "metadata": {},
   "outputs": [],
   "source": [
    "#Tipos de variables\n",
    "Cursos.dtypes"
   ]
  },
  {
   "cell_type": "code",
   "execution_count": null,
   "id": "13c8e3cd-f9e6-4410-8734-bf542d147360",
   "metadata": {},
   "outputs": [],
   "source": [
    "#Duplicados\n",
    "Cursos.duplicated().sum() # busca duplicados de fila completa"
   ]
  },
  {
   "cell_type": "code",
   "execution_count": null,
   "id": "17521b2b-f472-4bb3-b035-df472249101c",
   "metadata": {},
   "outputs": [],
   "source": [
    "Cursos.shape"
   ]
  },
  {
   "cell_type": "code",
   "execution_count": null,
   "id": "47aa6ec3-8f9c-4a01-bd97-4e4919c1866c",
   "metadata": {},
   "outputs": [],
   "source": [
    "#NA'S\n",
    "Cursos.isna()\n",
    "#Eliminamos last_acceses por %100 de NA'S \n",
    "Cursos.isna().sum()"
   ]
  },
  {
   "cell_type": "code",
   "execution_count": null,
   "id": "bc6dc8bd",
   "metadata": {},
   "outputs": [],
   "source": [
    "Cursos = Cursos.fillna(\"No especificado\")"
   ]
  },
  {
   "cell_type": "code",
   "execution_count": null,
   "id": "6266610a",
   "metadata": {},
   "outputs": [],
   "source": []
  },
  {
   "cell_type": "code",
   "execution_count": null,
   "id": "ac8a0b7f",
   "metadata": {},
   "outputs": [],
   "source": [
    "Programas"
   ]
  },
  {
   "cell_type": "code",
   "execution_count": null,
   "id": "cce1230c",
   "metadata": {},
   "outputs": [],
   "source": [
    "#Nombre de columnas\n",
    "Programas.columns"
   ]
  },
  {
   "cell_type": "code",
   "execution_count": null,
   "id": "8fdb750f",
   "metadata": {},
   "outputs": [],
   "source": [
    "#Numero de columnas/filas\n",
    "Programas.shape"
   ]
  },
  {
   "cell_type": "code",
   "execution_count": null,
   "id": "ca6302be",
   "metadata": {},
   "outputs": [],
   "source": [
    "Programas.info"
   ]
  },
  {
   "cell_type": "code",
   "execution_count": null,
   "id": "df4f7335",
   "metadata": {},
   "outputs": [],
   "source": [
    "#Tipos de variables\n",
    "Programas.dtypes"
   ]
  },
  {
   "cell_type": "code",
   "execution_count": null,
   "id": "b4e221c0",
   "metadata": {},
   "outputs": [],
   "source": [
    "#Duplicados\n",
    "Programas.duplicated().sum() # busca duplicados de fila completa"
   ]
  },
  {
   "cell_type": "code",
   "execution_count": null,
   "id": "192d825b",
   "metadata": {},
   "outputs": [],
   "source": [
    "#NA'S\n",
    "Programas.isna()\n",
    "Programas.isna().sum()"
   ]
  },
  {
   "cell_type": "code",
   "execution_count": null,
   "id": "801a9f8c",
   "metadata": {},
   "outputs": [],
   "source": [
    "#Eliminamos la fila que contiene NA en program_category_id.\n",
    "Programas=Programas.dropna(axis = 0, how = 'any') \n",
    "Programas.isna().sum()"
   ]
  },
  {
   "cell_type": "code",
   "execution_count": null,
   "id": "18be9e1a",
   "metadata": {},
   "outputs": [],
   "source": [
    "#Eliminamos la columna 'Unnamed: 0' ya que no aporta valor.\n",
    "Programas=Programas.drop(['Unnamed: 0'], axis=1)"
   ]
  },
  {
   "cell_type": "code",
   "execution_count": null,
   "id": "889dd5cb",
   "metadata": {},
   "outputs": [],
   "source": [
    "Programas"
   ]
  },
  {
   "cell_type": "code",
   "execution_count": null,
   "id": "94216442",
   "metadata": {},
   "outputs": [],
   "source": []
  },
  {
   "cell_type": "code",
   "execution_count": null,
   "id": "adc0bfbf",
   "metadata": {},
   "outputs": [],
   "source": [
    "Cursos_en_Programas"
   ]
  },
  {
   "cell_type": "code",
   "execution_count": null,
   "id": "692fb9db",
   "metadata": {},
   "outputs": [],
   "source": [
    "#Nombre de columnas\n",
    "Cursos_en_Programas.columns"
   ]
  },
  {
   "cell_type": "code",
   "execution_count": null,
   "id": "f1ef6abb",
   "metadata": {},
   "outputs": [],
   "source": [
    "#Numero de columnas/filas\n",
    "Cursos_en_Programas.shape"
   ]
  },
  {
   "cell_type": "code",
   "execution_count": null,
   "id": "255e537c",
   "metadata": {},
   "outputs": [],
   "source": [
    "Cursos_en_Programas.info"
   ]
  },
  {
   "cell_type": "code",
   "execution_count": null,
   "id": "1a19e75e",
   "metadata": {},
   "outputs": [],
   "source": [
    "Cursos_en_Programas.dtypes"
   ]
  },
  {
   "cell_type": "code",
   "execution_count": null,
   "id": "ee39fbe3",
   "metadata": {},
   "outputs": [],
   "source": [
    "#Duplicados\n",
    "Cursos_en_Programas.duplicated().sum() # busca duplicados de fila completa"
   ]
  },
  {
   "cell_type": "code",
   "execution_count": null,
   "id": "857c3100",
   "metadata": {},
   "outputs": [],
   "source": [
    "#NA'S\n",
    "Cursos_en_Programas.isna()\n",
    "Cursos_en_Programas.isna().sum()"
   ]
  },
  {
   "cell_type": "code",
   "execution_count": null,
   "id": "bbc3d4ba",
   "metadata": {},
   "outputs": [],
   "source": [
    "#Eliminamos la columna 'Unnamed: 0' ya que no aporta valor.\n",
    "Cursos_en_Programas=Cursos_en_Programas.drop(['Unnamed: 0'], axis=1)"
   ]
  },
  {
   "cell_type": "code",
   "execution_count": null,
   "id": "86e566a8",
   "metadata": {},
   "outputs": [],
   "source": [
    "Cursos_en_Programas"
   ]
  },
  {
   "cell_type": "code",
   "execution_count": null,
   "id": "8c4438a3",
   "metadata": {},
   "outputs": [],
   "source": []
  },
  {
   "cell_type": "code",
   "execution_count": null,
   "id": "84e1f96f",
   "metadata": {},
   "outputs": [],
   "source": [
    "Itinearios"
   ]
  },
  {
   "cell_type": "code",
   "execution_count": null,
   "id": "70b9c828",
   "metadata": {},
   "outputs": [],
   "source": [
    "#Nombre de columnas\n",
    "Itinearios.columns"
   ]
  },
  {
   "cell_type": "code",
   "execution_count": null,
   "id": "77cd172a",
   "metadata": {},
   "outputs": [],
   "source": [
    "#Numero de columnas/filas\n",
    "Itinearios.shape"
   ]
  },
  {
   "cell_type": "code",
   "execution_count": null,
   "id": "9ff46d7a",
   "metadata": {},
   "outputs": [],
   "source": [
    "Itinearios.info"
   ]
  },
  {
   "cell_type": "code",
   "execution_count": null,
   "id": "a7b84675",
   "metadata": {},
   "outputs": [],
   "source": [
    "#Tipos de variables\n",
    "Itinearios.dtypes"
   ]
  },
  {
   "cell_type": "code",
   "execution_count": null,
   "id": "fec02267",
   "metadata": {},
   "outputs": [],
   "source": [
    "#Corregimos fecha y hora de date_enroll y enroll_end\n",
    "Itinearios['date_enroll']= pd.to_datetime(Itinearios['date_enroll'],utc=True)\n",
    "Itinearios['enroll_end']= pd.to_datetime(Itinearios['enroll_end'],utc=True)\n",
    "Itinearios"
   ]
  },
  {
   "cell_type": "code",
   "execution_count": null,
   "id": "277f64c1",
   "metadata": {},
   "outputs": [],
   "source": [
    "#Tipos de variables corregido fecha y hora\n",
    "Itinearios.dtypes"
   ]
  },
  {
   "cell_type": "code",
   "execution_count": null,
   "id": "a9def857",
   "metadata": {},
   "outputs": [],
   "source": [
    "#Duplicados\n",
    "Itinearios.duplicated().sum() # busca duplicados de fila completa"
   ]
  },
  {
   "cell_type": "code",
   "execution_count": null,
   "id": "50483d06",
   "metadata": {},
   "outputs": [],
   "source": [
    "#NA'S\n",
    "Itinearios.isna()\n",
    "Itinearios.isna().sum()"
   ]
  },
  {
   "cell_type": "code",
   "execution_count": null,
   "id": "441e3b49",
   "metadata": {},
   "outputs": [],
   "source": [
    "#Eliminamos la columna 'Unnamed: 0' ya que no aporta valor.\n",
    "#Eliminamos la columna 'remarcks' ya que casi tiene un 100% de NA\n",
    "#Eliminamos de momento la variable 'enroll_end' ya que tiene mas de un 60% de NA.\n",
    "Itinearios=Itinearios.drop(['Unnamed: 0'], axis=1)\n",
    "Itinearios=Itinearios.drop(['remarks'], axis=1)\n",
    "Itinearios=Itinearios.drop(['enroll_end'], axis=1)"
   ]
  },
  {
   "cell_type": "code",
   "execution_count": null,
   "id": "56481a77",
   "metadata": {},
   "outputs": [],
   "source": [
    "Itinearios"
   ]
  },
  {
   "cell_type": "code",
   "execution_count": null,
   "id": "18fa812b",
   "metadata": {},
   "outputs": [],
   "source": []
  },
  {
   "cell_type": "code",
   "execution_count": null,
   "id": "550c6eae",
   "metadata": {},
   "outputs": [],
   "source": [
    "Notas_Cursos"
   ]
  },
  {
   "cell_type": "code",
   "execution_count": null,
   "id": "bb209d5c",
   "metadata": {},
   "outputs": [],
   "source": [
    "Notas_Cursos.columns"
   ]
  },
  {
   "cell_type": "code",
   "execution_count": null,
   "id": "9329b872",
   "metadata": {},
   "outputs": [],
   "source": [
    "Notas_Cursos.shape"
   ]
  },
  {
   "cell_type": "code",
   "execution_count": null,
   "id": "be56cd8e",
   "metadata": {},
   "outputs": [],
   "source": [
    "Notas_Cursos.info"
   ]
  },
  {
   "cell_type": "code",
   "execution_count": null,
   "id": "e537080b",
   "metadata": {},
   "outputs": [],
   "source": [
    "Notas_Cursos.dtypes"
   ]
  },
  {
   "cell_type": "code",
   "execution_count": null,
   "id": "c5f5c9c4",
   "metadata": {},
   "outputs": [],
   "source": [
    "#Duplicados\n",
    "Notas_Cursos.duplicated().sum() #busca duplicados de fila completa"
   ]
  },
  {
   "cell_type": "code",
   "execution_count": null,
   "id": "a2eff7f6",
   "metadata": {},
   "outputs": [],
   "source": [
    "#NA'S\n",
    "Notas_Cursos.isna()\n",
    "Notas_Cursos.isna().sum()"
   ]
  },
  {
   "cell_type": "code",
   "execution_count": null,
   "id": "4508701f",
   "metadata": {},
   "outputs": [],
   "source": [
    "#Duplicados\n",
    "Notas_Cursos.duplicated(subset = ['grade', 'online_progress']).sum()"
   ]
  },
  {
   "cell_type": "code",
   "execution_count": null,
   "id": "e9ab75b8",
   "metadata": {},
   "outputs": [],
   "source": [
    "#Eliminamos la columna 'Unnamed: 0' ya que no aporta valor.\n",
    "Notas_Cursos=Notas_Cursos.drop(['Unnamed: 0'], axis=1)"
   ]
  },
  {
   "cell_type": "code",
   "execution_count": null,
   "id": "8b36156f",
   "metadata": {},
   "outputs": [],
   "source": [
    "Notas_Cursos = Notas_Cursos.fillna(-999)"
   ]
  },
  {
   "cell_type": "code",
   "execution_count": null,
   "id": "7cbe58d8",
   "metadata": {},
   "outputs": [],
   "source": [
    "Notas_Cursos"
   ]
  },
  {
   "cell_type": "code",
   "execution_count": null,
   "id": "9e07808b",
   "metadata": {},
   "outputs": [],
   "source": []
  },
  {
   "cell_type": "code",
   "execution_count": null,
   "id": "5f4f0cad",
   "metadata": {},
   "outputs": [],
   "source": [
    "Roles"
   ]
  },
  {
   "cell_type": "code",
   "execution_count": null,
   "id": "dc68fd0e",
   "metadata": {},
   "outputs": [],
   "source": [
    "Roles.columns"
   ]
  },
  {
   "cell_type": "code",
   "execution_count": null,
   "id": "c71f52aa",
   "metadata": {},
   "outputs": [],
   "source": [
    "Roles.shape"
   ]
  },
  {
   "cell_type": "code",
   "execution_count": null,
   "id": "4c9b300a",
   "metadata": {},
   "outputs": [],
   "source": [
    "Roles.info"
   ]
  },
  {
   "cell_type": "code",
   "execution_count": null,
   "id": "0489c58c",
   "metadata": {},
   "outputs": [],
   "source": [
    "#Tipo de variables\n",
    "Roles.dtypes"
   ]
  },
  {
   "cell_type": "code",
   "execution_count": null,
   "id": "715e2900",
   "metadata": {},
   "outputs": [],
   "source": [
    "#Duplicados\n",
    "Roles.duplicated().sum() #busca duplicados de fila completa"
   ]
  },
  {
   "cell_type": "code",
   "execution_count": null,
   "id": "6c4bbdf2",
   "metadata": {},
   "outputs": [],
   "source": [
    "#NA'S\n",
    "Roles.isna()\n",
    "Roles.isna().sum()"
   ]
  },
  {
   "cell_type": "code",
   "execution_count": null,
   "id": "87413364",
   "metadata": {},
   "outputs": [],
   "source": [
    "#Eliminamos la columna 'Unnamed: 0' ya que no aporta valor.\n",
    "Roles=Roles.drop(['Unnamed: 0'], axis=1)"
   ]
  },
  {
   "cell_type": "code",
   "execution_count": null,
   "id": "c130e47d",
   "metadata": {},
   "outputs": [],
   "source": [
    "Roles"
   ]
  },
  {
   "cell_type": "code",
   "execution_count": null,
   "id": "399742df",
   "metadata": {},
   "outputs": [],
   "source": []
  },
  {
   "cell_type": "code",
   "execution_count": null,
   "id": "104a15d4-b80f-4b3a-af1e-359a6d2e023a",
   "metadata": {},
   "outputs": [],
   "source": [
    "Plantas"
   ]
  },
  {
   "cell_type": "code",
   "execution_count": null,
   "id": "3cb280f1",
   "metadata": {},
   "outputs": [],
   "source": [
    "Plantas=Plantas.drop(['Unnamed: 0'], axis=1)"
   ]
  },
  {
   "cell_type": "code",
   "execution_count": null,
   "id": "5eb15bb3",
   "metadata": {},
   "outputs": [],
   "source": [
    "Plantas.dtypes"
   ]
  },
  {
   "cell_type": "code",
   "execution_count": null,
   "id": "9fe56355",
   "metadata": {},
   "outputs": [],
   "source": [
    "#Duplicados\n",
    "Plantas.duplicated().sum() # busca duplicados de fila completa"
   ]
  },
  {
   "cell_type": "code",
   "execution_count": null,
   "id": "122fb070",
   "metadata": {},
   "outputs": [],
   "source": [
    "#NA'S\n",
    "Plantas.isna().sum()"
   ]
  },
  {
   "cell_type": "code",
   "execution_count": null,
   "id": "4c6fc117",
   "metadata": {},
   "outputs": [],
   "source": [
    "Plantas"
   ]
  },
  {
   "cell_type": "code",
   "execution_count": null,
   "id": "b358c0a0",
   "metadata": {},
   "outputs": [],
   "source": []
  },
  {
   "cell_type": "code",
   "execution_count": null,
   "id": "4c85a237-8d83-4b32-9e96-609a8cb899a6",
   "metadata": {},
   "outputs": [],
   "source": [
    "Accesos"
   ]
  },
  {
   "cell_type": "code",
   "execution_count": null,
   "id": "6b38cd83",
   "metadata": {},
   "outputs": [],
   "source": [
    "Accesos=Accesos.drop(['Unnamed: 0'], axis=1)"
   ]
  },
  {
   "cell_type": "code",
   "execution_count": null,
   "id": "4c62d047",
   "metadata": {},
   "outputs": [],
   "source": [
    "Accesos.dtypes"
   ]
  },
  {
   "cell_type": "code",
   "execution_count": null,
   "id": "558d2b64",
   "metadata": {},
   "outputs": [],
   "source": [
    "Accesos['timestamp']= pd.to_datetime(Accesos['timestamp'],utc=True)"
   ]
  },
  {
   "cell_type": "code",
   "execution_count": null,
   "id": "299a849a",
   "metadata": {},
   "outputs": [],
   "source": [
    "Accesos"
   ]
  },
  {
   "cell_type": "code",
   "execution_count": null,
   "id": "edbba4ac",
   "metadata": {},
   "outputs": [],
   "source": [
    "Accesos.dtypes"
   ]
  },
  {
   "cell_type": "code",
   "execution_count": null,
   "id": "93c0019f",
   "metadata": {},
   "outputs": [],
   "source": [
    "#Duplicados\n",
    "Accesos.duplicated().sum() # busca duplicados de fila completa"
   ]
  },
  {
   "cell_type": "code",
   "execution_count": null,
   "id": "13e8a2c8",
   "metadata": {},
   "outputs": [],
   "source": [
    "Accesos=Accesos.drop_duplicates()"
   ]
  },
  {
   "cell_type": "code",
   "execution_count": null,
   "id": "84a6c72e",
   "metadata": {},
   "outputs": [],
   "source": [
    "Accesos.duplicated().sum()"
   ]
  },
  {
   "cell_type": "code",
   "execution_count": null,
   "id": "9671a4dc",
   "metadata": {},
   "outputs": [],
   "source": [
    "Accesos.isna().sum()"
   ]
  },
  {
   "cell_type": "code",
   "execution_count": null,
   "id": "ab39b5c9",
   "metadata": {},
   "outputs": [],
   "source": []
  },
  {
   "cell_type": "code",
   "execution_count": null,
   "id": "ef0c79be-5ca5-4794-b5db-aa71a98025c5",
   "metadata": {},
   "outputs": [],
   "source": [
    "Acceso_1ero_ultimo"
   ]
  },
  {
   "cell_type": "code",
   "execution_count": null,
   "id": "467163c7",
   "metadata": {},
   "outputs": [],
   "source": [
    "Acceso_1ero_ultimo.dtypes"
   ]
  },
  {
   "cell_type": "code",
   "execution_count": null,
   "id": "59d856b0",
   "metadata": {},
   "outputs": [],
   "source": [
    "Acceso_1ero_ultimo=Acceso_1ero_ultimo.drop(['Unnamed: 0'], axis=1)"
   ]
  },
  {
   "cell_type": "code",
   "execution_count": null,
   "id": "17697a70",
   "metadata": {},
   "outputs": [],
   "source": [
    "#Duplicados\n",
    "Acceso_1ero_ultimo.duplicated().sum() # busca duplicados de fila completa"
   ]
  },
  {
   "cell_type": "code",
   "execution_count": null,
   "id": "15f2d335",
   "metadata": {},
   "outputs": [],
   "source": [
    "Acceso_1ero_ultimo['1er acceso'][Acceso_1ero_ultimo['1er acceso']==\"--\"]=None\n",
    "Acceso_1ero_ultimo['ultimo acceso'][Acceso_1ero_ultimo['ultimo acceso']==\"--\"]=None"
   ]
  },
  {
   "cell_type": "code",
   "execution_count": null,
   "id": "31c8c885",
   "metadata": {},
   "outputs": [],
   "source": [
    "Acceso_1ero_ultimo"
   ]
  },
  {
   "cell_type": "code",
   "execution_count": null,
   "id": "a331e902",
   "metadata": {},
   "outputs": [],
   "source": [
    "Acceso_1ero_ultimo.isna().sum()"
   ]
  },
  {
   "cell_type": "code",
   "execution_count": null,
   "id": "5322bb91",
   "metadata": {},
   "outputs": [],
   "source": [
    "Acceso_1ero_ultimo.duplicated(subset = ['1er acceso', 'ultimo acceso']).sum()"
   ]
  },
  {
   "cell_type": "code",
   "execution_count": null,
   "id": "9e062ea5",
   "metadata": {},
   "outputs": [],
   "source": [
    "Acceso_1ero_ultimo[Acceso_1ero_ultimo.duplicated(subset = ['1er acceso', 'ultimo acceso'])].fillna('NUNCA')"
   ]
  },
  {
   "cell_type": "code",
   "execution_count": null,
   "id": "f8b19318",
   "metadata": {},
   "outputs": [],
   "source": [
    "Acceso_1ero_ultimo[Acceso_1ero_ultimo.duplicated(subset = ['1er acceso', 'ultimo acceso'])]=Acceso_1ero_ultimo[Acceso_1ero_ultimo.duplicated(subset = ['1er acceso', 'ultimo acceso'])].fillna('NUNCA')"
   ]
  },
  {
   "cell_type": "code",
   "execution_count": null,
   "id": "8d48b925",
   "metadata": {},
   "outputs": [],
   "source": [
    "Acceso_1ero_ultimo.isna().sum()"
   ]
  },
  {
   "cell_type": "code",
   "execution_count": null,
   "id": "535f9b78",
   "metadata": {},
   "outputs": [],
   "source": [
    "Acceso_1ero_ultimo[Acceso_1ero_ultimo['1er acceso'].isna()]"
   ]
  },
  {
   "cell_type": "code",
   "execution_count": null,
   "id": "185ad638",
   "metadata": {},
   "outputs": [],
   "source": [
    "Acceso_1ero_ultimo[Acceso_1ero_ultimo['1er acceso'].isna()]='NUNCA'"
   ]
  },
  {
   "cell_type": "code",
   "execution_count": null,
   "id": "558422ec",
   "metadata": {},
   "outputs": [],
   "source": [
    "Acceso_1ero_ultimo.isna().sum()"
   ]
  },
  {
   "cell_type": "code",
   "execution_count": null,
   "id": "5f1eefb7",
   "metadata": {},
   "outputs": [],
   "source": [
    "Acceso_1ero_ultimo"
   ]
  },
  {
   "cell_type": "code",
   "execution_count": null,
   "id": "356cfb85-7604-4728-a5e9-60a0ac08308b",
   "metadata": {},
   "outputs": [],
   "source": [
    "Actividades"
   ]
  },
  {
   "cell_type": "code",
   "execution_count": null,
   "id": "651bfafb",
   "metadata": {},
   "outputs": [],
   "source": [
    "Actividades=Actividades.drop(['Unnamed: 0'], axis=1)"
   ]
  },
  {
   "cell_type": "code",
   "execution_count": null,
   "id": "945d39b5-00c2-4da7-8aa8-12c10a80f020",
   "metadata": {},
   "outputs": [],
   "source": [
    "Actividades"
   ]
  },
  {
   "cell_type": "code",
   "execution_count": null,
   "id": "280df992",
   "metadata": {},
   "outputs": [],
   "source": [
    "Actividades.dtypes"
   ]
  },
  {
   "cell_type": "code",
   "execution_count": null,
   "id": "860f306e-e0f9-4cca-9c90-8c50fe08df94",
   "metadata": {},
   "outputs": [],
   "source": [
    "Actividades['time']= pd.to_datetime(Actividades['time'])"
   ]
  },
  {
   "cell_type": "code",
   "execution_count": null,
   "id": "86e9da01",
   "metadata": {},
   "outputs": [],
   "source": [
    "Actividades.dtypes"
   ]
  },
  {
   "cell_type": "code",
   "execution_count": null,
   "id": "c42f3aa0",
   "metadata": {},
   "outputs": [],
   "source": [
    "#Duplicados\n",
    "Actividades.duplicated().sum() # busca duplicados de fila completa"
   ]
  },
  {
   "cell_type": "code",
   "execution_count": null,
   "id": "d578ed9a",
   "metadata": {},
   "outputs": [],
   "source": [
    "Actividades=Actividades.drop_duplicates()"
   ]
  },
  {
   "cell_type": "code",
   "execution_count": null,
   "id": "d6f93141",
   "metadata": {},
   "outputs": [],
   "source": [
    "Actividades.duplicated().sum()"
   ]
  },
  {
   "cell_type": "code",
   "execution_count": null,
   "id": "d5604bcf",
   "metadata": {},
   "outputs": [],
   "source": [
    "Actividades.isna().sum()"
   ]
  },
  {
   "cell_type": "code",
   "execution_count": 155,
   "id": "1da4636c",
   "metadata": {},
   "outputs": [],
   "source": [
    "Actividades=Actividades[Actividades.duplicated(subset = ['grade', 'time'])].fillna('-999')"
   ]
  },
  {
   "cell_type": "code",
   "execution_count": 156,
   "id": "5e004596",
   "metadata": {},
   "outputs": [
    {
     "data": {
      "text/html": [
       "<div>\n",
       "<style scoped>\n",
       "    .dataframe tbody tr th:only-of-type {\n",
       "        vertical-align: middle;\n",
       "    }\n",
       "\n",
       "    .dataframe tbody tr th {\n",
       "        vertical-align: top;\n",
       "    }\n",
       "\n",
       "    .dataframe thead th {\n",
       "        text-align: right;\n",
       "    }\n",
       "</style>\n",
       "<table border=\"1\" class=\"dataframe\">\n",
       "  <thead>\n",
       "    <tr style=\"text-align: right;\">\n",
       "      <th></th>\n",
       "      <th>Unnamed: 0</th>\n",
       "      <th>mdl_user_id</th>\n",
       "      <th>course_name</th>\n",
       "      <th>course_id</th>\n",
       "      <th>category</th>\n",
       "      <th>actividad_name</th>\n",
       "      <th>grade</th>\n",
       "      <th>time</th>\n",
       "    </tr>\n",
       "  </thead>\n",
       "  <tbody>\n",
       "    <tr>\n",
       "      <th>1</th>\n",
       "      <td>1</td>\n",
       "      <td>190</td>\n",
       "      <td>A - FORMACIÓN ESPECÍFICA CALIDAD ABP</td>\n",
       "      <td>224</td>\n",
       "      <td>TÉCNICOS/TECNOLÓGICOS ABP</td>\n",
       "      <td>A - FORMACIÓN ESPECÍFICA CALIDAD ABP - Total</td>\n",
       "      <td>-999</td>\n",
       "      <td>-999</td>\n",
       "    </tr>\n",
       "    <tr>\n",
       "      <th>3</th>\n",
       "      <td>3</td>\n",
       "      <td>296</td>\n",
       "      <td>A - FORMACIÓN ESPECÍFICA CALIDAD ABP</td>\n",
       "      <td>224</td>\n",
       "      <td>TÉCNICOS/TECNOLÓGICOS ABP</td>\n",
       "      <td>TEST FINAL</td>\n",
       "      <td>9.32</td>\n",
       "      <td>2020-12-18 15:25:05</td>\n",
       "    </tr>\n",
       "    <tr>\n",
       "      <th>5</th>\n",
       "      <td>5</td>\n",
       "      <td>299</td>\n",
       "      <td>A - FORMACIÓN ESPECÍFICA CALIDAD ABP</td>\n",
       "      <td>224</td>\n",
       "      <td>TÉCNICOS/TECNOLÓGICOS ABP</td>\n",
       "      <td>A - FORMACIÓN ESPECÍFICA CALIDAD ABP - Total</td>\n",
       "      <td>9.66</td>\n",
       "      <td>2020-12-18 16:45:34</td>\n",
       "    </tr>\n",
       "    <tr>\n",
       "      <th>7</th>\n",
       "      <td>7</td>\n",
       "      <td>296</td>\n",
       "      <td>A - INTRODUCCIÓN MECANIZADO</td>\n",
       "      <td>223</td>\n",
       "      <td>TÉCNICOS/TECNOLÓGICOS ABP</td>\n",
       "      <td>A - INTRODUCCIÓN MECANIZADO - Total</td>\n",
       "      <td>8.85</td>\n",
       "      <td>2020-12-18 14:54:05</td>\n",
       "    </tr>\n",
       "    <tr>\n",
       "      <th>8</th>\n",
       "      <td>8</td>\n",
       "      <td>296</td>\n",
       "      <td>A - INTRODUCCIÓN MECANIZADO</td>\n",
       "      <td>223</td>\n",
       "      <td>TÉCNICOS/TECNOLÓGICOS ABP</td>\n",
       "      <td>TEST</td>\n",
       "      <td>-999</td>\n",
       "      <td>-999</td>\n",
       "    </tr>\n",
       "    <tr>\n",
       "      <th>...</th>\n",
       "      <td>...</td>\n",
       "      <td>...</td>\n",
       "      <td>...</td>\n",
       "      <td>...</td>\n",
       "      <td>...</td>\n",
       "      <td>...</td>\n",
       "      <td>...</td>\n",
       "      <td>...</td>\n",
       "    </tr>\n",
       "    <tr>\n",
       "      <th>3456</th>\n",
       "      <td>3456</td>\n",
       "      <td>190</td>\n",
       "      <td>Trazabilidad LPPFe MEC</td>\n",
       "      <td>278</td>\n",
       "      <td>Técnico / Tecnológico LPPFE</td>\n",
       "      <td>TEST - Enbalajearen etiketa / Etiquetado de em...</td>\n",
       "      <td>-999</td>\n",
       "      <td>-999</td>\n",
       "    </tr>\n",
       "    <tr>\n",
       "      <th>3457</th>\n",
       "      <td>3457</td>\n",
       "      <td>190</td>\n",
       "      <td>Trazabilidad LPPFe MEC</td>\n",
       "      <td>278</td>\n",
       "      <td>Técnico / Tecnológico LPPFE</td>\n",
       "      <td>Trazabilidad LPPFe MEC - Total</td>\n",
       "      <td>-999</td>\n",
       "      <td>-999</td>\n",
       "    </tr>\n",
       "    <tr>\n",
       "      <th>3459</th>\n",
       "      <td>3459</td>\n",
       "      <td>21</td>\n",
       "      <td>Trazabilidad LPPFe MEC</td>\n",
       "      <td>278</td>\n",
       "      <td>Técnico / Tecnológico LPPFE</td>\n",
       "      <td>TEST - Enbalajearen etiketa / Etiquetado de em...</td>\n",
       "      <td>9.29</td>\n",
       "      <td>2021-06-14 16:36:31</td>\n",
       "    </tr>\n",
       "    <tr>\n",
       "      <th>3461</th>\n",
       "      <td>3461</td>\n",
       "      <td>21</td>\n",
       "      <td>Trazabilidad LPPFe MEC</td>\n",
       "      <td>278</td>\n",
       "      <td>Técnico / Tecnológico LPPFE</td>\n",
       "      <td>Trazabilidad LPPFe MEC - Total</td>\n",
       "      <td>9.29</td>\n",
       "      <td>2021-06-14 16:36:32</td>\n",
       "    </tr>\n",
       "    <tr>\n",
       "      <th>3463</th>\n",
       "      <td>3463</td>\n",
       "      <td>339</td>\n",
       "      <td>Trazabilidad LPPFe MEC</td>\n",
       "      <td>278</td>\n",
       "      <td>Técnico / Tecnológico LPPFE</td>\n",
       "      <td>TEST - Enbalajearen etiketa / Etiquetado de em...</td>\n",
       "      <td>10.0</td>\n",
       "      <td>2021-06-14 10:13:15</td>\n",
       "    </tr>\n",
       "  </tbody>\n",
       "</table>\n",
       "<p>2101 rows × 8 columns</p>\n",
       "</div>"
      ],
      "text/plain": [
       "      Unnamed: 0  mdl_user_id                           course_name  \\\n",
       "1              1          190  A - FORMACIÓN ESPECÍFICA CALIDAD ABP   \n",
       "3              3          296  A - FORMACIÓN ESPECÍFICA CALIDAD ABP   \n",
       "5              5          299  A - FORMACIÓN ESPECÍFICA CALIDAD ABP   \n",
       "7              7          296           A - INTRODUCCIÓN MECANIZADO   \n",
       "8              8          296           A - INTRODUCCIÓN MECANIZADO   \n",
       "...          ...          ...                                   ...   \n",
       "3456        3456          190                Trazabilidad LPPFe MEC   \n",
       "3457        3457          190                Trazabilidad LPPFe MEC   \n",
       "3459        3459           21                Trazabilidad LPPFe MEC   \n",
       "3461        3461           21                Trazabilidad LPPFe MEC   \n",
       "3463        3463          339                Trazabilidad LPPFe MEC   \n",
       "\n",
       "      course_id                     category  \\\n",
       "1           224    TÉCNICOS/TECNOLÓGICOS ABP   \n",
       "3           224    TÉCNICOS/TECNOLÓGICOS ABP   \n",
       "5           224    TÉCNICOS/TECNOLÓGICOS ABP   \n",
       "7           223    TÉCNICOS/TECNOLÓGICOS ABP   \n",
       "8           223    TÉCNICOS/TECNOLÓGICOS ABP   \n",
       "...         ...                          ...   \n",
       "3456        278  Técnico / Tecnológico LPPFE   \n",
       "3457        278  Técnico / Tecnológico LPPFE   \n",
       "3459        278  Técnico / Tecnológico LPPFE   \n",
       "3461        278  Técnico / Tecnológico LPPFE   \n",
       "3463        278  Técnico / Tecnológico LPPFE   \n",
       "\n",
       "                                         actividad_name grade  \\\n",
       "1          A - FORMACIÓN ESPECÍFICA CALIDAD ABP - Total  -999   \n",
       "3                                            TEST FINAL  9.32   \n",
       "5          A - FORMACIÓN ESPECÍFICA CALIDAD ABP - Total  9.66   \n",
       "7                   A - INTRODUCCIÓN MECANIZADO - Total  8.85   \n",
       "8                                                  TEST  -999   \n",
       "...                                                 ...   ...   \n",
       "3456  TEST - Enbalajearen etiketa / Etiquetado de em...  -999   \n",
       "3457                     Trazabilidad LPPFe MEC - Total  -999   \n",
       "3459  TEST - Enbalajearen etiketa / Etiquetado de em...  9.29   \n",
       "3461                     Trazabilidad LPPFe MEC - Total  9.29   \n",
       "3463  TEST - Enbalajearen etiketa / Etiquetado de em...  10.0   \n",
       "\n",
       "                     time  \n",
       "1                    -999  \n",
       "3     2020-12-18 15:25:05  \n",
       "5     2020-12-18 16:45:34  \n",
       "7     2020-12-18 14:54:05  \n",
       "8                    -999  \n",
       "...                   ...  \n",
       "3456                 -999  \n",
       "3457                 -999  \n",
       "3459  2021-06-14 16:36:31  \n",
       "3461  2021-06-14 16:36:32  \n",
       "3463  2021-06-14 10:13:15  \n",
       "\n",
       "[2101 rows x 8 columns]"
      ]
     },
     "execution_count": 156,
     "metadata": {},
     "output_type": "execute_result"
    }
   ],
   "source": [
    "Actividades"
   ]
  },
  {
   "cell_type": "code",
   "execution_count": 157,
   "id": "fa68de38",
   "metadata": {},
   "outputs": [
    {
     "data": {
      "text/plain": [
       "Unnamed: 0        0\n",
       "mdl_user_id       0\n",
       "course_name       0\n",
       "course_id         0\n",
       "category          0\n",
       "actividad_name    0\n",
       "grade             0\n",
       "time              0\n",
       "dtype: int64"
      ]
     },
     "execution_count": 157,
     "metadata": {},
     "output_type": "execute_result"
    }
   ],
   "source": [
    "Actividades.isna().sum()"
   ]
  },
  {
   "cell_type": "code",
   "execution_count": null,
   "id": "0daa1f4d",
   "metadata": {},
   "outputs": [],
   "source": [
    "\n",
    "\n",
    "\n"
   ]
  }
 ],
 "metadata": {
  "kernelspec": {
   "display_name": "Python 3",
   "language": "python",
   "name": "python3"
  },
  "language_info": {
   "codemirror_mode": {
    "name": "ipython",
    "version": 3
   },
   "file_extension": ".py",
   "mimetype": "text/x-python",
   "name": "python",
   "nbconvert_exporter": "python",
   "pygments_lexer": "ipython3",
   "version": "3.8.8"
  }
 },
 "nbformat": 4,
 "nbformat_minor": 5
}
