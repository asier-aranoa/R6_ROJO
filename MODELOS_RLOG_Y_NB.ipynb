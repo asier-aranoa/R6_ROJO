{
 "cells": [
  {
   "cell_type": "code",
   "execution_count": 1,
   "id": "66d36e43-6181-411f-99c9-f2725c256dab",
   "metadata": {},
   "outputs": [],
   "source": [
    "import pandas as pd\n",
    "import numpy as np\n",
    "import datetime as datetime\n",
    "pd.options.display.max_columns = None\n"
   ]
  },
  {
   "cell_type": "code",
   "execution_count": 2,
   "id": "b252d677-de40-4429-b221-c25626c89a89",
   "metadata": {},
   "outputs": [],
   "source": [
    "df=pd.read_csv(\"DATOS_LIMPIOS.csv\")"
   ]
  },
  {
   "cell_type": "code",
   "execution_count": 3,
   "id": "69bafa11-b27c-4fda-8d57-c4caaf8ad2c4",
   "metadata": {},
   "outputs": [],
   "source": [
    "from collections import Counter\n",
    "\n",
    "import pandas as pd\n",
    "\n",
    "from imblearn.over_sampling import SMOTE\n",
    "from sklearn.svm import LinearSVC\n",
    "from sklearn.model_selection import train_test_split\n",
    "from sklearn.metrics import roc_auc_score, plot_confusion_matrix"
   ]
  },
  {
   "cell_type": "code",
   "execution_count": 4,
   "id": "120cfb76-4f06-4f26-bc80-cc7cd179ce6d",
   "metadata": {},
   "outputs": [
    {
     "data": {
      "text/html": [
       "<div>\n",
       "<style scoped>\n",
       "    .dataframe tbody tr th:only-of-type {\n",
       "        vertical-align: middle;\n",
       "    }\n",
       "\n",
       "    .dataframe tbody tr th {\n",
       "        vertical-align: top;\n",
       "    }\n",
       "\n",
       "    .dataframe thead th {\n",
       "        text-align: right;\n",
       "    }\n",
       "</style>\n",
       "<table border=\"1\" class=\"dataframe\">\n",
       "  <thead>\n",
       "    <tr style=\"text-align: right;\">\n",
       "      <th></th>\n",
       "      <th>Unnamed: 0</th>\n",
       "      <th>course_id</th>\n",
       "      <th>grade</th>\n",
       "      <th>online_progress</th>\n",
       "      <th>user_id</th>\n",
       "      <th>category</th>\n",
       "      <th>hours</th>\n",
       "      <th>mdl_user_id</th>\n",
       "      <th>planta_name</th>\n",
       "      <th>1er acceso</th>\n",
       "      <th>ultimo acceso</th>\n",
       "      <th>planta_id</th>\n",
       "      <th>language_es</th>\n",
       "    </tr>\n",
       "  </thead>\n",
       "  <tbody>\n",
       "    <tr>\n",
       "      <th>0</th>\n",
       "      <td>0</td>\n",
       "      <td>224</td>\n",
       "      <td>0.00</td>\n",
       "      <td>0.0</td>\n",
       "      <td>138</td>\n",
       "      <td>27</td>\n",
       "      <td>0.0</td>\n",
       "      <td>183</td>\n",
       "      <td>ABP Arrasate</td>\n",
       "      <td>lunes, 4 de mayo de 2020, 17:04</td>\n",
       "      <td>martes, 13 de julio de 2021, 15:10</td>\n",
       "      <td>2</td>\n",
       "      <td>1</td>\n",
       "    </tr>\n",
       "    <tr>\n",
       "      <th>1</th>\n",
       "      <td>1</td>\n",
       "      <td>224</td>\n",
       "      <td>9.32</td>\n",
       "      <td>0.0</td>\n",
       "      <td>262</td>\n",
       "      <td>27</td>\n",
       "      <td>0.0</td>\n",
       "      <td>296</td>\n",
       "      <td>ABP Arrasate</td>\n",
       "      <td>viernes, 18 de diciembre de 2020, 14:44</td>\n",
       "      <td>viernes, 1 de octubre de 2021, 15:56</td>\n",
       "      <td>2</td>\n",
       "      <td>1</td>\n",
       "    </tr>\n",
       "    <tr>\n",
       "      <th>2</th>\n",
       "      <td>2</td>\n",
       "      <td>224</td>\n",
       "      <td>9.66</td>\n",
       "      <td>0.0</td>\n",
       "      <td>265</td>\n",
       "      <td>27</td>\n",
       "      <td>0.0</td>\n",
       "      <td>299</td>\n",
       "      <td>ABP Arrasate</td>\n",
       "      <td>viernes, 18 de diciembre de 2020, 16:18</td>\n",
       "      <td>viernes, 18 de diciembre de 2020, 17:01</td>\n",
       "      <td>2</td>\n",
       "      <td>1</td>\n",
       "    </tr>\n",
       "    <tr>\n",
       "      <th>3</th>\n",
       "      <td>6</td>\n",
       "      <td>223</td>\n",
       "      <td>8.85</td>\n",
       "      <td>0.0</td>\n",
       "      <td>262</td>\n",
       "      <td>27</td>\n",
       "      <td>0.0</td>\n",
       "      <td>296</td>\n",
       "      <td>ABP Arrasate</td>\n",
       "      <td>viernes, 18 de diciembre de 2020, 14:44</td>\n",
       "      <td>viernes, 1 de octubre de 2021, 15:56</td>\n",
       "      <td>2</td>\n",
       "      <td>1</td>\n",
       "    </tr>\n",
       "    <tr>\n",
       "      <th>4</th>\n",
       "      <td>7</td>\n",
       "      <td>223</td>\n",
       "      <td>9.43</td>\n",
       "      <td>0.0</td>\n",
       "      <td>265</td>\n",
       "      <td>27</td>\n",
       "      <td>0.0</td>\n",
       "      <td>299</td>\n",
       "      <td>ABP Arrasate</td>\n",
       "      <td>viernes, 18 de diciembre de 2020, 16:18</td>\n",
       "      <td>viernes, 18 de diciembre de 2020, 17:01</td>\n",
       "      <td>2</td>\n",
       "      <td>1</td>\n",
       "    </tr>\n",
       "    <tr>\n",
       "      <th>...</th>\n",
       "      <td>...</td>\n",
       "      <td>...</td>\n",
       "      <td>...</td>\n",
       "      <td>...</td>\n",
       "      <td>...</td>\n",
       "      <td>...</td>\n",
       "      <td>...</td>\n",
       "      <td>...</td>\n",
       "      <td>...</td>\n",
       "      <td>...</td>\n",
       "      <td>...</td>\n",
       "      <td>...</td>\n",
       "      <td>...</td>\n",
       "    </tr>\n",
       "    <tr>\n",
       "      <th>1154</th>\n",
       "      <td>3865</td>\n",
       "      <td>193</td>\n",
       "      <td>9.97</td>\n",
       "      <td>100.0</td>\n",
       "      <td>187</td>\n",
       "      <td>27</td>\n",
       "      <td>10.0</td>\n",
       "      <td>231</td>\n",
       "      <td>ABP Bergara</td>\n",
       "      <td>jueves, 1 de octubre de 2020, 11:49</td>\n",
       "      <td>martes, 14 de septiembre de 2021, 13:27</td>\n",
       "      <td>1</td>\n",
       "      <td>1</td>\n",
       "    </tr>\n",
       "    <tr>\n",
       "      <th>1155</th>\n",
       "      <td>3885</td>\n",
       "      <td>278</td>\n",
       "      <td>0.00</td>\n",
       "      <td>0.0</td>\n",
       "      <td>10</td>\n",
       "      <td>44</td>\n",
       "      <td>0.0</td>\n",
       "      <td>21</td>\n",
       "      <td>LPP Eskoriatza</td>\n",
       "      <td>martes, 2 de octubre de 2018, 22:08</td>\n",
       "      <td>viernes, 9 de julio de 2021, 12:18</td>\n",
       "      <td>8</td>\n",
       "      <td>1</td>\n",
       "    </tr>\n",
       "    <tr>\n",
       "      <th>1156</th>\n",
       "      <td>3886</td>\n",
       "      <td>278</td>\n",
       "      <td>0.00</td>\n",
       "      <td>0.0</td>\n",
       "      <td>95</td>\n",
       "      <td>44</td>\n",
       "      <td>0.0</td>\n",
       "      <td>113</td>\n",
       "      <td>LPP Eskoriatza</td>\n",
       "      <td>martes, 9 de julio de 2019, 14:14</td>\n",
       "      <td>viernes, 11 de junio de 2021, 11:34</td>\n",
       "      <td>8</td>\n",
       "      <td>1</td>\n",
       "    </tr>\n",
       "    <tr>\n",
       "      <th>1157</th>\n",
       "      <td>3887</td>\n",
       "      <td>278</td>\n",
       "      <td>10.00</td>\n",
       "      <td>40.0</td>\n",
       "      <td>314</td>\n",
       "      <td>44</td>\n",
       "      <td>0.0</td>\n",
       "      <td>339</td>\n",
       "      <td>LPP Eskoriatza</td>\n",
       "      <td>viernes, 4 de junio de 2021, 10:57</td>\n",
       "      <td>lunes, 14 de junio de 2021, 10:14</td>\n",
       "      <td>8</td>\n",
       "      <td>1</td>\n",
       "    </tr>\n",
       "    <tr>\n",
       "      <th>1158</th>\n",
       "      <td>3888</td>\n",
       "      <td>278</td>\n",
       "      <td>9.29</td>\n",
       "      <td>60.0</td>\n",
       "      <td>10</td>\n",
       "      <td>44</td>\n",
       "      <td>0.0</td>\n",
       "      <td>21</td>\n",
       "      <td>LPP Eskoriatza</td>\n",
       "      <td>martes, 2 de octubre de 2018, 22:08</td>\n",
       "      <td>viernes, 9 de julio de 2021, 12:18</td>\n",
       "      <td>8</td>\n",
       "      <td>1</td>\n",
       "    </tr>\n",
       "  </tbody>\n",
       "</table>\n",
       "<p>1159 rows × 13 columns</p>\n",
       "</div>"
      ],
      "text/plain": [
       "      Unnamed: 0  course_id  grade  online_progress  user_id  category  hours  \\\n",
       "0              0        224   0.00              0.0      138        27    0.0   \n",
       "1              1        224   9.32              0.0      262        27    0.0   \n",
       "2              2        224   9.66              0.0      265        27    0.0   \n",
       "3              6        223   8.85              0.0      262        27    0.0   \n",
       "4              7        223   9.43              0.0      265        27    0.0   \n",
       "...          ...        ...    ...              ...      ...       ...    ...   \n",
       "1154        3865        193   9.97            100.0      187        27   10.0   \n",
       "1155        3885        278   0.00              0.0       10        44    0.0   \n",
       "1156        3886        278   0.00              0.0       95        44    0.0   \n",
       "1157        3887        278  10.00             40.0      314        44    0.0   \n",
       "1158        3888        278   9.29             60.0       10        44    0.0   \n",
       "\n",
       "      mdl_user_id     planta_name                               1er acceso  \\\n",
       "0             183    ABP Arrasate          lunes, 4 de mayo de 2020, 17:04   \n",
       "1             296    ABP Arrasate  viernes, 18 de diciembre de 2020, 14:44   \n",
       "2             299    ABP Arrasate  viernes, 18 de diciembre de 2020, 16:18   \n",
       "3             296    ABP Arrasate  viernes, 18 de diciembre de 2020, 14:44   \n",
       "4             299    ABP Arrasate  viernes, 18 de diciembre de 2020, 16:18   \n",
       "...           ...             ...                                      ...   \n",
       "1154          231     ABP Bergara      jueves, 1 de octubre de 2020, 11:49   \n",
       "1155           21  LPP Eskoriatza      martes, 2 de octubre de 2018, 22:08   \n",
       "1156          113  LPP Eskoriatza        martes, 9 de julio de 2019, 14:14   \n",
       "1157          339  LPP Eskoriatza       viernes, 4 de junio de 2021, 10:57   \n",
       "1158           21  LPP Eskoriatza      martes, 2 de octubre de 2018, 22:08   \n",
       "\n",
       "                                ultimo acceso  planta_id  language_es  \n",
       "0          martes, 13 de julio de 2021, 15:10          2            1  \n",
       "1        viernes, 1 de octubre de 2021, 15:56          2            1  \n",
       "2     viernes, 18 de diciembre de 2020, 17:01          2            1  \n",
       "3        viernes, 1 de octubre de 2021, 15:56          2            1  \n",
       "4     viernes, 18 de diciembre de 2020, 17:01          2            1  \n",
       "...                                       ...        ...          ...  \n",
       "1154  martes, 14 de septiembre de 2021, 13:27          1            1  \n",
       "1155       viernes, 9 de julio de 2021, 12:18          8            1  \n",
       "1156      viernes, 11 de junio de 2021, 11:34          8            1  \n",
       "1157        lunes, 14 de junio de 2021, 10:14          8            1  \n",
       "1158       viernes, 9 de julio de 2021, 12:18          8            1  \n",
       "\n",
       "[1159 rows x 13 columns]"
      ]
     },
     "execution_count": 4,
     "metadata": {},
     "output_type": "execute_result"
    }
   ],
   "source": [
    "df"
   ]
  },
  {
   "cell_type": "code",
   "execution_count": 5,
   "id": "8633bea9-65fa-46ed-a16d-fcf8ff7cf004",
   "metadata": {},
   "outputs": [
    {
     "data": {
      "text/plain": [
       "Index(['Unnamed: 0', 'course_id', 'grade', 'online_progress', 'user_id',\n",
       "       'category', 'hours', 'mdl_user_id', 'planta_name', '1er acceso',\n",
       "       'ultimo acceso', 'planta_id', 'language_es'],\n",
       "      dtype='object')"
      ]
     },
     "execution_count": 5,
     "metadata": {},
     "output_type": "execute_result"
    }
   ],
   "source": [
    "df.columns"
   ]
  },
  {
   "cell_type": "code",
   "execution_count": 6,
   "id": "5db5532c-3495-4589-a1f8-93d30dceebc4",
   "metadata": {},
   "outputs": [],
   "source": [
    "df=df[[ 'course_id', 'grade', 'online_progress', 'user_id',\n",
    "       'category', 'hours', 'planta_id', 'language_es']]"
   ]
  },
  {
   "cell_type": "code",
   "execution_count": 7,
   "id": "b2719565-718a-41e4-87e0-1a9e9e0e5a5a",
   "metadata": {},
   "outputs": [
    {
     "data": {
      "text/html": [
       "<div>\n",
       "<style scoped>\n",
       "    .dataframe tbody tr th:only-of-type {\n",
       "        vertical-align: middle;\n",
       "    }\n",
       "\n",
       "    .dataframe tbody tr th {\n",
       "        vertical-align: top;\n",
       "    }\n",
       "\n",
       "    .dataframe thead th {\n",
       "        text-align: right;\n",
       "    }\n",
       "</style>\n",
       "<table border=\"1\" class=\"dataframe\">\n",
       "  <thead>\n",
       "    <tr style=\"text-align: right;\">\n",
       "      <th></th>\n",
       "      <th>course_id</th>\n",
       "      <th>grade</th>\n",
       "      <th>online_progress</th>\n",
       "      <th>user_id</th>\n",
       "      <th>category</th>\n",
       "      <th>hours</th>\n",
       "      <th>planta_id</th>\n",
       "      <th>language_es</th>\n",
       "    </tr>\n",
       "  </thead>\n",
       "  <tbody>\n",
       "    <tr>\n",
       "      <th>0</th>\n",
       "      <td>224</td>\n",
       "      <td>0.00</td>\n",
       "      <td>0.0</td>\n",
       "      <td>138</td>\n",
       "      <td>27</td>\n",
       "      <td>0.0</td>\n",
       "      <td>2</td>\n",
       "      <td>1</td>\n",
       "    </tr>\n",
       "    <tr>\n",
       "      <th>1</th>\n",
       "      <td>224</td>\n",
       "      <td>9.32</td>\n",
       "      <td>0.0</td>\n",
       "      <td>262</td>\n",
       "      <td>27</td>\n",
       "      <td>0.0</td>\n",
       "      <td>2</td>\n",
       "      <td>1</td>\n",
       "    </tr>\n",
       "    <tr>\n",
       "      <th>2</th>\n",
       "      <td>224</td>\n",
       "      <td>9.66</td>\n",
       "      <td>0.0</td>\n",
       "      <td>265</td>\n",
       "      <td>27</td>\n",
       "      <td>0.0</td>\n",
       "      <td>2</td>\n",
       "      <td>1</td>\n",
       "    </tr>\n",
       "    <tr>\n",
       "      <th>3</th>\n",
       "      <td>223</td>\n",
       "      <td>8.85</td>\n",
       "      <td>0.0</td>\n",
       "      <td>262</td>\n",
       "      <td>27</td>\n",
       "      <td>0.0</td>\n",
       "      <td>2</td>\n",
       "      <td>1</td>\n",
       "    </tr>\n",
       "    <tr>\n",
       "      <th>4</th>\n",
       "      <td>223</td>\n",
       "      <td>9.43</td>\n",
       "      <td>0.0</td>\n",
       "      <td>265</td>\n",
       "      <td>27</td>\n",
       "      <td>0.0</td>\n",
       "      <td>2</td>\n",
       "      <td>1</td>\n",
       "    </tr>\n",
       "    <tr>\n",
       "      <th>...</th>\n",
       "      <td>...</td>\n",
       "      <td>...</td>\n",
       "      <td>...</td>\n",
       "      <td>...</td>\n",
       "      <td>...</td>\n",
       "      <td>...</td>\n",
       "      <td>...</td>\n",
       "      <td>...</td>\n",
       "    </tr>\n",
       "    <tr>\n",
       "      <th>1154</th>\n",
       "      <td>193</td>\n",
       "      <td>9.97</td>\n",
       "      <td>100.0</td>\n",
       "      <td>187</td>\n",
       "      <td>27</td>\n",
       "      <td>10.0</td>\n",
       "      <td>1</td>\n",
       "      <td>1</td>\n",
       "    </tr>\n",
       "    <tr>\n",
       "      <th>1155</th>\n",
       "      <td>278</td>\n",
       "      <td>0.00</td>\n",
       "      <td>0.0</td>\n",
       "      <td>10</td>\n",
       "      <td>44</td>\n",
       "      <td>0.0</td>\n",
       "      <td>8</td>\n",
       "      <td>1</td>\n",
       "    </tr>\n",
       "    <tr>\n",
       "      <th>1156</th>\n",
       "      <td>278</td>\n",
       "      <td>0.00</td>\n",
       "      <td>0.0</td>\n",
       "      <td>95</td>\n",
       "      <td>44</td>\n",
       "      <td>0.0</td>\n",
       "      <td>8</td>\n",
       "      <td>1</td>\n",
       "    </tr>\n",
       "    <tr>\n",
       "      <th>1157</th>\n",
       "      <td>278</td>\n",
       "      <td>10.00</td>\n",
       "      <td>40.0</td>\n",
       "      <td>314</td>\n",
       "      <td>44</td>\n",
       "      <td>0.0</td>\n",
       "      <td>8</td>\n",
       "      <td>1</td>\n",
       "    </tr>\n",
       "    <tr>\n",
       "      <th>1158</th>\n",
       "      <td>278</td>\n",
       "      <td>9.29</td>\n",
       "      <td>60.0</td>\n",
       "      <td>10</td>\n",
       "      <td>44</td>\n",
       "      <td>0.0</td>\n",
       "      <td>8</td>\n",
       "      <td>1</td>\n",
       "    </tr>\n",
       "  </tbody>\n",
       "</table>\n",
       "<p>1159 rows × 8 columns</p>\n",
       "</div>"
      ],
      "text/plain": [
       "      course_id  grade  online_progress  user_id  category  hours  planta_id  \\\n",
       "0           224   0.00              0.0      138        27    0.0          2   \n",
       "1           224   9.32              0.0      262        27    0.0          2   \n",
       "2           224   9.66              0.0      265        27    0.0          2   \n",
       "3           223   8.85              0.0      262        27    0.0          2   \n",
       "4           223   9.43              0.0      265        27    0.0          2   \n",
       "...         ...    ...              ...      ...       ...    ...        ...   \n",
       "1154        193   9.97            100.0      187        27   10.0          1   \n",
       "1155        278   0.00              0.0       10        44    0.0          8   \n",
       "1156        278   0.00              0.0       95        44    0.0          8   \n",
       "1157        278  10.00             40.0      314        44    0.0          8   \n",
       "1158        278   9.29             60.0       10        44    0.0          8   \n",
       "\n",
       "      language_es  \n",
       "0               1  \n",
       "1               1  \n",
       "2               1  \n",
       "3               1  \n",
       "4               1  \n",
       "...           ...  \n",
       "1154            1  \n",
       "1155            1  \n",
       "1156            1  \n",
       "1157            1  \n",
       "1158            1  \n",
       "\n",
       "[1159 rows x 8 columns]"
      ]
     },
     "execution_count": 7,
     "metadata": {},
     "output_type": "execute_result"
    }
   ],
   "source": [
    "df"
   ]
  },
  {
   "cell_type": "code",
   "execution_count": 8,
   "id": "ed359c03-45f2-42d8-a302-ffc7a21c1b5c",
   "metadata": {},
   "outputs": [],
   "source": [
    "# df=df[[\"hours\",\"planta_id\",\"grade\"]]\n",
    "#df=df[[\"online_progress\",\"planta_id\",\"grade\"]]"
   ]
  },
  {
   "cell_type": "code",
   "execution_count": 9,
   "id": "6fdc1fb9-c51f-4585-8b68-e52d210525ca",
   "metadata": {},
   "outputs": [],
   "source": [
    "# df=df[\"\"]"
   ]
  },
  {
   "cell_type": "code",
   "execution_count": 10,
   "id": "d582ff08-ab07-4975-b82e-eec2491a897f",
   "metadata": {},
   "outputs": [],
   "source": [
    "df=df.dropna(0)"
   ]
  },
  {
   "cell_type": "code",
   "execution_count": 11,
   "id": "5aacb37b-5dc0-404f-ad70-e09f2206e776",
   "metadata": {},
   "outputs": [
    {
     "data": {
      "text/plain": [
       "course_id          0\n",
       "grade              0\n",
       "online_progress    0\n",
       "user_id            0\n",
       "category           0\n",
       "hours              0\n",
       "planta_id          0\n",
       "language_es        0\n",
       "dtype: int64"
      ]
     },
     "execution_count": 11,
     "metadata": {},
     "output_type": "execute_result"
    }
   ],
   "source": [
    "df.isna().sum()"
   ]
  },
  {
   "cell_type": "code",
   "execution_count": null,
   "id": "138d1046-c0ed-49e2-b0a0-1ef2e7a3164c",
   "metadata": {},
   "outputs": [],
   "source": []
  },
  {
   "cell_type": "code",
   "execution_count": 12,
   "id": "e1a7f4ba-3614-4047-b44a-ee5c3091261d",
   "metadata": {},
   "outputs": [
    {
     "data": {
      "text/html": [
       "<div>\n",
       "<style scoped>\n",
       "    .dataframe tbody tr th:only-of-type {\n",
       "        vertical-align: middle;\n",
       "    }\n",
       "\n",
       "    .dataframe tbody tr th {\n",
       "        vertical-align: top;\n",
       "    }\n",
       "\n",
       "    .dataframe thead th {\n",
       "        text-align: right;\n",
       "    }\n",
       "</style>\n",
       "<table border=\"1\" class=\"dataframe\">\n",
       "  <thead>\n",
       "    <tr style=\"text-align: right;\">\n",
       "      <th></th>\n",
       "      <th>course_id</th>\n",
       "      <th>grade</th>\n",
       "      <th>online_progress</th>\n",
       "      <th>user_id</th>\n",
       "      <th>category</th>\n",
       "      <th>hours</th>\n",
       "      <th>planta_id</th>\n",
       "      <th>language_es</th>\n",
       "    </tr>\n",
       "  </thead>\n",
       "  <tbody>\n",
       "    <tr>\n",
       "      <th>0</th>\n",
       "      <td>224</td>\n",
       "      <td>0.00</td>\n",
       "      <td>0.0</td>\n",
       "      <td>138</td>\n",
       "      <td>27</td>\n",
       "      <td>0.0</td>\n",
       "      <td>2</td>\n",
       "      <td>1</td>\n",
       "    </tr>\n",
       "    <tr>\n",
       "      <th>1</th>\n",
       "      <td>224</td>\n",
       "      <td>9.32</td>\n",
       "      <td>0.0</td>\n",
       "      <td>262</td>\n",
       "      <td>27</td>\n",
       "      <td>0.0</td>\n",
       "      <td>2</td>\n",
       "      <td>1</td>\n",
       "    </tr>\n",
       "    <tr>\n",
       "      <th>2</th>\n",
       "      <td>224</td>\n",
       "      <td>9.66</td>\n",
       "      <td>0.0</td>\n",
       "      <td>265</td>\n",
       "      <td>27</td>\n",
       "      <td>0.0</td>\n",
       "      <td>2</td>\n",
       "      <td>1</td>\n",
       "    </tr>\n",
       "    <tr>\n",
       "      <th>3</th>\n",
       "      <td>223</td>\n",
       "      <td>8.85</td>\n",
       "      <td>0.0</td>\n",
       "      <td>262</td>\n",
       "      <td>27</td>\n",
       "      <td>0.0</td>\n",
       "      <td>2</td>\n",
       "      <td>1</td>\n",
       "    </tr>\n",
       "    <tr>\n",
       "      <th>4</th>\n",
       "      <td>223</td>\n",
       "      <td>9.43</td>\n",
       "      <td>0.0</td>\n",
       "      <td>265</td>\n",
       "      <td>27</td>\n",
       "      <td>0.0</td>\n",
       "      <td>2</td>\n",
       "      <td>1</td>\n",
       "    </tr>\n",
       "    <tr>\n",
       "      <th>...</th>\n",
       "      <td>...</td>\n",
       "      <td>...</td>\n",
       "      <td>...</td>\n",
       "      <td>...</td>\n",
       "      <td>...</td>\n",
       "      <td>...</td>\n",
       "      <td>...</td>\n",
       "      <td>...</td>\n",
       "    </tr>\n",
       "    <tr>\n",
       "      <th>1154</th>\n",
       "      <td>193</td>\n",
       "      <td>9.97</td>\n",
       "      <td>100.0</td>\n",
       "      <td>187</td>\n",
       "      <td>27</td>\n",
       "      <td>10.0</td>\n",
       "      <td>1</td>\n",
       "      <td>1</td>\n",
       "    </tr>\n",
       "    <tr>\n",
       "      <th>1155</th>\n",
       "      <td>278</td>\n",
       "      <td>0.00</td>\n",
       "      <td>0.0</td>\n",
       "      <td>10</td>\n",
       "      <td>44</td>\n",
       "      <td>0.0</td>\n",
       "      <td>8</td>\n",
       "      <td>1</td>\n",
       "    </tr>\n",
       "    <tr>\n",
       "      <th>1156</th>\n",
       "      <td>278</td>\n",
       "      <td>0.00</td>\n",
       "      <td>0.0</td>\n",
       "      <td>95</td>\n",
       "      <td>44</td>\n",
       "      <td>0.0</td>\n",
       "      <td>8</td>\n",
       "      <td>1</td>\n",
       "    </tr>\n",
       "    <tr>\n",
       "      <th>1157</th>\n",
       "      <td>278</td>\n",
       "      <td>10.00</td>\n",
       "      <td>40.0</td>\n",
       "      <td>314</td>\n",
       "      <td>44</td>\n",
       "      <td>0.0</td>\n",
       "      <td>8</td>\n",
       "      <td>1</td>\n",
       "    </tr>\n",
       "    <tr>\n",
       "      <th>1158</th>\n",
       "      <td>278</td>\n",
       "      <td>9.29</td>\n",
       "      <td>60.0</td>\n",
       "      <td>10</td>\n",
       "      <td>44</td>\n",
       "      <td>0.0</td>\n",
       "      <td>8</td>\n",
       "      <td>1</td>\n",
       "    </tr>\n",
       "  </tbody>\n",
       "</table>\n",
       "<p>1159 rows × 8 columns</p>\n",
       "</div>"
      ],
      "text/plain": [
       "      course_id  grade  online_progress  user_id  category  hours  planta_id  \\\n",
       "0           224   0.00              0.0      138        27    0.0          2   \n",
       "1           224   9.32              0.0      262        27    0.0          2   \n",
       "2           224   9.66              0.0      265        27    0.0          2   \n",
       "3           223   8.85              0.0      262        27    0.0          2   \n",
       "4           223   9.43              0.0      265        27    0.0          2   \n",
       "...         ...    ...              ...      ...       ...    ...        ...   \n",
       "1154        193   9.97            100.0      187        27   10.0          1   \n",
       "1155        278   0.00              0.0       10        44    0.0          8   \n",
       "1156        278   0.00              0.0       95        44    0.0          8   \n",
       "1157        278  10.00             40.0      314        44    0.0          8   \n",
       "1158        278   9.29             60.0       10        44    0.0          8   \n",
       "\n",
       "      language_es  \n",
       "0               1  \n",
       "1               1  \n",
       "2               1  \n",
       "3               1  \n",
       "4               1  \n",
       "...           ...  \n",
       "1154            1  \n",
       "1155            1  \n",
       "1156            1  \n",
       "1157            1  \n",
       "1158            1  \n",
       "\n",
       "[1159 rows x 8 columns]"
      ]
     },
     "execution_count": 12,
     "metadata": {},
     "output_type": "execute_result"
    }
   ],
   "source": [
    "df"
   ]
  },
  {
   "cell_type": "code",
   "execution_count": 13,
   "id": "ac40fdda-7ca1-46fa-86e2-4b4eb24f4342",
   "metadata": {},
   "outputs": [],
   "source": [
    "df['grade'] = np.where(df['grade'] > 5, 1, 0)\n"
   ]
  },
  {
   "cell_type": "code",
   "execution_count": 14,
   "id": "1bd9d868-c0df-4524-969b-ed0c1575f6ca",
   "metadata": {},
   "outputs": [
    {
     "data": {
      "text/plain": [
       "(1159, 8)"
      ]
     },
     "execution_count": 14,
     "metadata": {},
     "output_type": "execute_result"
    }
   ],
   "source": [
    "df.shape"
   ]
  },
  {
   "cell_type": "code",
   "execution_count": 15,
   "id": "2e09f98e-b2d6-4ea0-b598-c0a88df012e0",
   "metadata": {},
   "outputs": [
    {
     "data": {
      "text/plain": [
       "(1159, 8)"
      ]
     },
     "execution_count": 15,
     "metadata": {},
     "output_type": "execute_result"
    }
   ],
   "source": [
    "df.shape"
   ]
  },
  {
   "cell_type": "code",
   "execution_count": 16,
   "id": "298c2033-d3b6-44a2-bea4-6083ed715883",
   "metadata": {},
   "outputs": [
    {
     "data": {
      "text/html": [
       "<div>\n",
       "<style scoped>\n",
       "    .dataframe tbody tr th:only-of-type {\n",
       "        vertical-align: middle;\n",
       "    }\n",
       "\n",
       "    .dataframe tbody tr th {\n",
       "        vertical-align: top;\n",
       "    }\n",
       "\n",
       "    .dataframe thead th {\n",
       "        text-align: right;\n",
       "    }\n",
       "</style>\n",
       "<table border=\"1\" class=\"dataframe\">\n",
       "  <thead>\n",
       "    <tr style=\"text-align: right;\">\n",
       "      <th></th>\n",
       "      <th>course_id</th>\n",
       "      <th>grade</th>\n",
       "      <th>online_progress</th>\n",
       "      <th>user_id</th>\n",
       "      <th>category</th>\n",
       "      <th>hours</th>\n",
       "      <th>planta_id</th>\n",
       "      <th>language_es</th>\n",
       "    </tr>\n",
       "  </thead>\n",
       "  <tbody>\n",
       "    <tr>\n",
       "      <th>0</th>\n",
       "      <td>224</td>\n",
       "      <td>0</td>\n",
       "      <td>0.0</td>\n",
       "      <td>138</td>\n",
       "      <td>27</td>\n",
       "      <td>0.0</td>\n",
       "      <td>2</td>\n",
       "      <td>1</td>\n",
       "    </tr>\n",
       "    <tr>\n",
       "      <th>1</th>\n",
       "      <td>224</td>\n",
       "      <td>1</td>\n",
       "      <td>0.0</td>\n",
       "      <td>262</td>\n",
       "      <td>27</td>\n",
       "      <td>0.0</td>\n",
       "      <td>2</td>\n",
       "      <td>1</td>\n",
       "    </tr>\n",
       "    <tr>\n",
       "      <th>2</th>\n",
       "      <td>224</td>\n",
       "      <td>1</td>\n",
       "      <td>0.0</td>\n",
       "      <td>265</td>\n",
       "      <td>27</td>\n",
       "      <td>0.0</td>\n",
       "      <td>2</td>\n",
       "      <td>1</td>\n",
       "    </tr>\n",
       "    <tr>\n",
       "      <th>3</th>\n",
       "      <td>223</td>\n",
       "      <td>1</td>\n",
       "      <td>0.0</td>\n",
       "      <td>262</td>\n",
       "      <td>27</td>\n",
       "      <td>0.0</td>\n",
       "      <td>2</td>\n",
       "      <td>1</td>\n",
       "    </tr>\n",
       "    <tr>\n",
       "      <th>4</th>\n",
       "      <td>223</td>\n",
       "      <td>1</td>\n",
       "      <td>0.0</td>\n",
       "      <td>265</td>\n",
       "      <td>27</td>\n",
       "      <td>0.0</td>\n",
       "      <td>2</td>\n",
       "      <td>1</td>\n",
       "    </tr>\n",
       "    <tr>\n",
       "      <th>...</th>\n",
       "      <td>...</td>\n",
       "      <td>...</td>\n",
       "      <td>...</td>\n",
       "      <td>...</td>\n",
       "      <td>...</td>\n",
       "      <td>...</td>\n",
       "      <td>...</td>\n",
       "      <td>...</td>\n",
       "    </tr>\n",
       "    <tr>\n",
       "      <th>1154</th>\n",
       "      <td>193</td>\n",
       "      <td>1</td>\n",
       "      <td>100.0</td>\n",
       "      <td>187</td>\n",
       "      <td>27</td>\n",
       "      <td>10.0</td>\n",
       "      <td>1</td>\n",
       "      <td>1</td>\n",
       "    </tr>\n",
       "    <tr>\n",
       "      <th>1155</th>\n",
       "      <td>278</td>\n",
       "      <td>0</td>\n",
       "      <td>0.0</td>\n",
       "      <td>10</td>\n",
       "      <td>44</td>\n",
       "      <td>0.0</td>\n",
       "      <td>8</td>\n",
       "      <td>1</td>\n",
       "    </tr>\n",
       "    <tr>\n",
       "      <th>1156</th>\n",
       "      <td>278</td>\n",
       "      <td>0</td>\n",
       "      <td>0.0</td>\n",
       "      <td>95</td>\n",
       "      <td>44</td>\n",
       "      <td>0.0</td>\n",
       "      <td>8</td>\n",
       "      <td>1</td>\n",
       "    </tr>\n",
       "    <tr>\n",
       "      <th>1157</th>\n",
       "      <td>278</td>\n",
       "      <td>1</td>\n",
       "      <td>40.0</td>\n",
       "      <td>314</td>\n",
       "      <td>44</td>\n",
       "      <td>0.0</td>\n",
       "      <td>8</td>\n",
       "      <td>1</td>\n",
       "    </tr>\n",
       "    <tr>\n",
       "      <th>1158</th>\n",
       "      <td>278</td>\n",
       "      <td>1</td>\n",
       "      <td>60.0</td>\n",
       "      <td>10</td>\n",
       "      <td>44</td>\n",
       "      <td>0.0</td>\n",
       "      <td>8</td>\n",
       "      <td>1</td>\n",
       "    </tr>\n",
       "  </tbody>\n",
       "</table>\n",
       "<p>1159 rows × 8 columns</p>\n",
       "</div>"
      ],
      "text/plain": [
       "      course_id  grade  online_progress  user_id  category  hours  planta_id  \\\n",
       "0           224      0              0.0      138        27    0.0          2   \n",
       "1           224      1              0.0      262        27    0.0          2   \n",
       "2           224      1              0.0      265        27    0.0          2   \n",
       "3           223      1              0.0      262        27    0.0          2   \n",
       "4           223      1              0.0      265        27    0.0          2   \n",
       "...         ...    ...              ...      ...       ...    ...        ...   \n",
       "1154        193      1            100.0      187        27   10.0          1   \n",
       "1155        278      0              0.0       10        44    0.0          8   \n",
       "1156        278      0              0.0       95        44    0.0          8   \n",
       "1157        278      1             40.0      314        44    0.0          8   \n",
       "1158        278      1             60.0       10        44    0.0          8   \n",
       "\n",
       "      language_es  \n",
       "0               1  \n",
       "1               1  \n",
       "2               1  \n",
       "3               1  \n",
       "4               1  \n",
       "...           ...  \n",
       "1154            1  \n",
       "1155            1  \n",
       "1156            1  \n",
       "1157            1  \n",
       "1158            1  \n",
       "\n",
       "[1159 rows x 8 columns]"
      ]
     },
     "execution_count": 16,
     "metadata": {},
     "output_type": "execute_result"
    }
   ],
   "source": [
    "df"
   ]
  },
  {
   "cell_type": "markdown",
   "id": "ab809b0e-5b0e-4e41-9797-ed374b06942d",
   "metadata": {},
   "source": [
    "# LOGISTIC REGRESSION"
   ]
  },
  {
   "cell_type": "code",
   "execution_count": 17,
   "id": "0c5250ff-ace3-4980-bae4-c028888acbb7",
   "metadata": {},
   "outputs": [],
   "source": [
    "# Tratamiento de datos\n",
    "# ==============================================================================\n",
    "import pandas as pd\n",
    "import numpy as np\n",
    "\n",
    "# Gráficos\n",
    "# ==============================================================================\n",
    "import matplotlib.pyplot as plt\n",
    "from matplotlib import style\n",
    "import seaborn as sns\n",
    "\n",
    "# Preprocesado y modelado\n",
    "# ==============================================================================\n",
    "from sklearn.linear_model import LogisticRegression\n",
    "from sklearn.model_selection import train_test_split\n",
    "from sklearn.metrics import accuracy_score\n",
    "import statsmodels.api as sm\n",
    "import statsmodels.formula.api as smf\n",
    "from statsmodels.stats.weightstats import ttest_ind\n",
    "\n",
    "# Configuración matplotlib\n",
    "# ==============================================================================\n",
    "plt.rcParams['image.cmap'] = \"bwr\"\n",
    "#plt.rcParams['figure.dpi'] = \"100\"\n",
    "plt.rcParams['savefig.bbox'] = \"tight\"\n",
    "style.use('ggplot') or plt.style.use('ggplot')\n",
    "\n",
    "# Configuración warnings\n",
    "# ==============================================================================\n",
    "import warnings\n",
    "warnings.filterwarnings('ignore')"
   ]
  },
  {
   "cell_type": "code",
   "execution_count": 18,
   "id": "aea1018c-7640-4206-98e5-687c482c5f18",
   "metadata": {},
   "outputs": [],
   "source": [
    "df10=df.copy()"
   ]
  },
  {
   "cell_type": "code",
   "execution_count": 19,
   "id": "d6839bd7-b418-44ba-96ac-210072e270aa",
   "metadata": {},
   "outputs": [],
   "source": [
    "# df['grade'] = np.where(df['grade'] > 5, 1, 0)\n"
   ]
  },
  {
   "cell_type": "code",
   "execution_count": 20,
   "id": "ac5242c1-4ff4-4374-b615-4eaca06e589c",
   "metadata": {},
   "outputs": [
    {
     "data": {
      "text/plain": [
       "(1159, 8)"
      ]
     },
     "execution_count": 20,
     "metadata": {},
     "output_type": "execute_result"
    }
   ],
   "source": [
    "df.shape"
   ]
  },
  {
   "cell_type": "code",
   "execution_count": 21,
   "id": "a9910078-37d0-4629-85f2-3a17979aaa87",
   "metadata": {},
   "outputs": [
    {
     "name": "stdout",
     "output_type": "stream",
     "text": [
      "Número de observaciones por clase\n",
      "1    705\n",
      "0    454\n",
      "Name: grade, dtype: int64\n",
      "\n",
      "Porcentaje de observaciones por clase\n",
      "1    60.8283\n",
      "0    39.1717\n",
      "Name: grade, dtype: float64\n"
     ]
    }
   ],
   "source": [
    "\n",
    "print(\"Número de observaciones por clase\")\n",
    "print(df['grade'].value_counts())\n",
    "print(\"\")\n",
    "\n",
    "print(\"Porcentaje de observaciones por clase\")\n",
    "print(100 * df['grade'].value_counts(normalize=True))"
   ]
  },
  {
   "cell_type": "code",
   "execution_count": 22,
   "id": "24a3c474-0f9a-4b45-97f3-4ac77db2abc1",
   "metadata": {},
   "outputs": [],
   "source": [
    "# División de los datos en train y test\n",
    "# ==============================================================================\n",
    "X = df.drop(columns = 'grade')\n",
    "y = df['grade']\n",
    "\n",
    "X_train, X_test, y_train, y_test = train_test_split(\n",
    "                                        X,\n",
    "                                        y.values.reshape(-1,1),\n",
    "                                        train_size   = 0.8,\n",
    "                                        random_state = 1234,\n",
    "                                        shuffle      = True\n",
    "                                    )"
   ]
  },
  {
   "cell_type": "code",
   "execution_count": 23,
   "id": "5fddef14-602f-4dab-9efa-c3be891feb5c",
   "metadata": {},
   "outputs": [
    {
     "data": {
      "text/plain": [
       "(927, 7)"
      ]
     },
     "execution_count": 23,
     "metadata": {},
     "output_type": "execute_result"
    }
   ],
   "source": [
    "X_train.shape"
   ]
  },
  {
   "cell_type": "code",
   "execution_count": 24,
   "id": "ec11b064-bfc5-4c79-aa39-1fb35e4a24c2",
   "metadata": {},
   "outputs": [
    {
     "data": {
      "text/plain": [
       "3"
      ]
     },
     "execution_count": 24,
     "metadata": {},
     "output_type": "execute_result"
    }
   ],
   "source": [
    "df.duplicated().sum()"
   ]
  },
  {
   "cell_type": "code",
   "execution_count": 25,
   "id": "82fbf36a-3e65-4a05-947d-93af01d87d28",
   "metadata": {},
   "outputs": [
    {
     "data": {
      "text/plain": [
       "course_id          0\n",
       "grade              0\n",
       "online_progress    0\n",
       "user_id            0\n",
       "category           0\n",
       "hours              0\n",
       "planta_id          0\n",
       "language_es        0\n",
       "dtype: int64"
      ]
     },
     "execution_count": 25,
     "metadata": {},
     "output_type": "execute_result"
    }
   ],
   "source": [
    "df.isna().sum()"
   ]
  },
  {
   "cell_type": "code",
   "execution_count": 26,
   "id": "fcf14cc5-469a-4e63-8997-d287848ff184",
   "metadata": {},
   "outputs": [
    {
     "data": {
      "text/plain": [
       "(1159, 8)"
      ]
     },
     "execution_count": 26,
     "metadata": {},
     "output_type": "execute_result"
    }
   ],
   "source": [
    "df.shape"
   ]
  },
  {
   "cell_type": "code",
   "execution_count": 27,
   "id": "a992dd69-9e87-418b-846e-7b3e2796b65e",
   "metadata": {},
   "outputs": [
    {
     "name": "stdout",
     "output_type": "stream",
     "text": [
      "Optimization terminated successfully.\n",
      "         Current function value: 0.563276\n",
      "         Iterations 6\n",
      "                           Logit Regression Results                           \n",
      "==============================================================================\n",
      "Dep. Variable:                      y   No. Observations:                  927\n",
      "Model:                          Logit   Df Residuals:                      919\n",
      "Method:                           MLE   Df Model:                            7\n",
      "Date:                Sat, 22 Jan 2022   Pseudo R-squ.:                  0.1615\n",
      "Time:                        15:46:51   Log-Likelihood:                -522.16\n",
      "converged:                       True   LL-Null:                       -622.73\n",
      "Covariance Type:            nonrobust   LLR p-value:                 6.570e-40\n",
      "===================================================================================\n",
      "                      coef    std err          z      P>|z|      [0.025      0.975]\n",
      "-----------------------------------------------------------------------------------\n",
      "const               0.3320      0.729      0.456      0.649      -1.096       1.760\n",
      "course_id          -0.0143      0.002     -8.661      0.000      -0.018      -0.011\n",
      "online_progress     0.0161      0.002      7.686      0.000       0.012       0.020\n",
      "user_id             0.0059      0.001      6.021      0.000       0.004       0.008\n",
      "category            0.0450      0.008      5.628      0.000       0.029       0.061\n",
      "hours              -0.0978      0.035     -2.813      0.005      -0.166      -0.030\n",
      "planta_id           0.0013      0.025      0.050      0.960      -0.048       0.050\n",
      "language_es        -0.5549      0.672     -0.826      0.409      -1.872       0.762\n",
      "===================================================================================\n"
     ]
    }
   ],
   "source": [
    "# Creación del modelo utilizando matrices como en scikitlearn\n",
    "# ==============================================================================\n",
    "# A la matriz de predictores se le tiene que añadir una columna de 1s para el intercept del modelo\n",
    "X_train = sm.add_constant(X_train, prepend=True)\n",
    "modelo = sm.Logit(endog=y_train, exog=X_train,)\n",
    "modelo = modelo.fit()\n",
    "print(modelo.summary())"
   ]
  },
  {
   "cell_type": "code",
   "execution_count": 28,
   "id": "a4b2a392-7e27-4ffb-8a92-0728c698e530",
   "metadata": {},
   "outputs": [
    {
     "name": "stdout",
     "output_type": "stream",
     "text": [
      "\n",
      "El accuracy de test es: 70.6896551724138%\n"
     ]
    }
   ],
   "source": [
    "# Accuracy de test del modelo \n",
    "# ==============================================================================\n",
    "X_test = sm.add_constant(X_test, prepend=True)\n",
    "predicciones = modelo.predict(exog = X_test)\n",
    "clasificacion = np.where(predicciones<0.5, 0, 1)\n",
    "accuracy = accuracy_score(\n",
    "            y_true    = y_test,\n",
    "            y_pred    = clasificacion,\n",
    "            normalize = True\n",
    "           )\n",
    "print(\"\")\n",
    "print(f\"El accuracy de test es: {100*accuracy}%\")"
   ]
  },
  {
   "cell_type": "code",
   "execution_count": 29,
   "id": "3dda07a5-26f0-44ab-a13f-f863e4acab50",
   "metadata": {},
   "outputs": [
    {
     "data": {
      "text/html": [
       "<div>\n",
       "<style scoped>\n",
       "    .dataframe tbody tr th:only-of-type {\n",
       "        vertical-align: middle;\n",
       "    }\n",
       "\n",
       "    .dataframe tbody tr th {\n",
       "        vertical-align: top;\n",
       "    }\n",
       "\n",
       "    .dataframe thead th {\n",
       "        text-align: right;\n",
       "    }\n",
       "</style>\n",
       "<table border=\"1\" class=\"dataframe\">\n",
       "  <thead>\n",
       "    <tr style=\"text-align: right;\">\n",
       "      <th>Predicción</th>\n",
       "      <th>0</th>\n",
       "      <th>1</th>\n",
       "    </tr>\n",
       "    <tr>\n",
       "      <th>Real</th>\n",
       "      <th></th>\n",
       "      <th></th>\n",
       "    </tr>\n",
       "  </thead>\n",
       "  <tbody>\n",
       "    <tr>\n",
       "      <th>0</th>\n",
       "      <td>38</td>\n",
       "      <td>48</td>\n",
       "    </tr>\n",
       "    <tr>\n",
       "      <th>1</th>\n",
       "      <td>20</td>\n",
       "      <td>126</td>\n",
       "    </tr>\n",
       "  </tbody>\n",
       "</table>\n",
       "</div>"
      ],
      "text/plain": [
       "Predicción   0    1\n",
       "Real               \n",
       "0           38   48\n",
       "1           20  126"
      ]
     },
     "execution_count": 29,
     "metadata": {},
     "output_type": "execute_result"
    }
   ],
   "source": [
    "# Matriz de confusión de las predicciones de test\n",
    "# ==============================================================================\n",
    "confusion_matrix = pd.crosstab(\n",
    "    y_test.ravel(),\n",
    "    clasificacion,\n",
    "    rownames=['Real'],\n",
    "    colnames=['Predicción']\n",
    ")\n",
    "confusion_matrix"
   ]
  },
  {
   "cell_type": "markdown",
   "id": "9de08429-5af2-4610-a512-fc750baaec2e",
   "metadata": {},
   "source": [
    "# NAIVE BAYES"
   ]
  },
  {
   "cell_type": "code",
   "execution_count": 30,
   "id": "e86e2961-a2cd-46f1-a140-a746cda532fb",
   "metadata": {},
   "outputs": [],
   "source": [
    "condiciones= [\n",
    "    (df.grade.lt(2)),\n",
    "    (df.grade.ge(3) & df.grade.lt(5)),\n",
    "    (df.grade.ge(6) & df.grade.lt(8)),\n",
    "    (df.grade.ge(10))\n",
    "]\n",
    "\n",
    "opciones= [\"0\",\"1\",\"2\",\"3\"]\n",
    "df[\"grado\"]=np.select(condiciones,opciones)"
   ]
  },
  {
   "cell_type": "code",
   "execution_count": 31,
   "id": "e3ab1ccf-beec-4c8f-9b5f-f35c9808eeb2",
   "metadata": {},
   "outputs": [],
   "source": [
    "import pandas as pd\n",
    "from sklearn import datasets\n",
    "from sklearn.naive_bayes import GaussianNB"
   ]
  },
  {
   "cell_type": "code",
   "execution_count": 32,
   "id": "b484323c-feb1-42ba-9325-488b572b0c73",
   "metadata": {},
   "outputs": [
    {
     "data": {
      "text/plain": [
       "(1159, 9)"
      ]
     },
     "execution_count": 32,
     "metadata": {},
     "output_type": "execute_result"
    }
   ],
   "source": [
    "df.shape"
   ]
  },
  {
   "cell_type": "code",
   "execution_count": 33,
   "id": "18b1b561-ebf5-4df8-8ce7-a59a33028785",
   "metadata": {},
   "outputs": [],
   "source": [
    "df10_1=df.iloc[:,1:]\n",
    "df10_2=df[\"grade\"].reset_index()"
   ]
  },
  {
   "cell_type": "code",
   "execution_count": 34,
   "id": "0d49e43f-3be6-4d23-8870-23c0fe43daf3",
   "metadata": {},
   "outputs": [],
   "source": [
    "df10_2=df10_2.set_index(\"index\")"
   ]
  },
  {
   "cell_type": "code",
   "execution_count": 35,
   "id": "49849ec6-8eee-4b42-8c09-a240bc8f3a8e",
   "metadata": {},
   "outputs": [
    {
     "data": {
      "text/html": [
       "<div>\n",
       "<style scoped>\n",
       "    .dataframe tbody tr th:only-of-type {\n",
       "        vertical-align: middle;\n",
       "    }\n",
       "\n",
       "    .dataframe tbody tr th {\n",
       "        vertical-align: top;\n",
       "    }\n",
       "\n",
       "    .dataframe thead th {\n",
       "        text-align: right;\n",
       "    }\n",
       "</style>\n",
       "<table border=\"1\" class=\"dataframe\">\n",
       "  <thead>\n",
       "    <tr style=\"text-align: right;\">\n",
       "      <th></th>\n",
       "      <th>grade</th>\n",
       "    </tr>\n",
       "    <tr>\n",
       "      <th>index</th>\n",
       "      <th></th>\n",
       "    </tr>\n",
       "  </thead>\n",
       "  <tbody>\n",
       "    <tr>\n",
       "      <th>0</th>\n",
       "      <td>0</td>\n",
       "    </tr>\n",
       "    <tr>\n",
       "      <th>1</th>\n",
       "      <td>1</td>\n",
       "    </tr>\n",
       "    <tr>\n",
       "      <th>2</th>\n",
       "      <td>1</td>\n",
       "    </tr>\n",
       "    <tr>\n",
       "      <th>3</th>\n",
       "      <td>1</td>\n",
       "    </tr>\n",
       "    <tr>\n",
       "      <th>4</th>\n",
       "      <td>1</td>\n",
       "    </tr>\n",
       "  </tbody>\n",
       "</table>\n",
       "</div>"
      ],
      "text/plain": [
       "       grade\n",
       "index       \n",
       "0          0\n",
       "1          1\n",
       "2          1\n",
       "3          1\n",
       "4          1"
      ]
     },
     "execution_count": 35,
     "metadata": {},
     "output_type": "execute_result"
    }
   ],
   "source": [
    "df10_2.head()"
   ]
  },
  {
   "cell_type": "code",
   "execution_count": 36,
   "id": "ed394e03-22f9-46b1-b1e0-45da4e4b1ed9",
   "metadata": {},
   "outputs": [],
   "source": [
    "gnb=GaussianNB() #MultinomialNB/BernoulliNB\n",
    "pred=gnb.fit(df10_1, df10_2)\n",
    "y_pred=pred.predict(df10_1)"
   ]
  },
  {
   "cell_type": "code",
   "execution_count": 37,
   "id": "311f00d9-2f66-438b-8a79-07d5ad5fda77",
   "metadata": {},
   "outputs": [],
   "source": [
    "#print(df10_1.shape[0],(df10_2 != y_pred).sum())"
   ]
  },
  {
   "cell_type": "code",
   "execution_count": 38,
   "id": "0b07eb70-a492-4ce5-b1db-c107c7ff716a",
   "metadata": {},
   "outputs": [
    {
     "name": "stdout",
     "output_type": "stream",
     "text": [
      "Number of mislabeled points out of a total 1159 points : 640140\n",
      "Accuracy:1.000\n"
     ]
    },
    {
     "data": {
      "image/png": "[encoded data removed]",
      "text/plain": [
       "<Figure size 432x288 with 2 Axes>"
      ]
     },
     "metadata": {},
     "output_type": "display_data"
    }
   ],
   "source": [
    "from sklearn import datasets\n",
    "iris = datasets.load_iris()\n",
    "\n",
    "from sklearn.metrics import classification_report, confusion_matrix, plot_confusion_matrix\n",
    "from sklearn.naive_bayes import BernoulliNB\n",
    "from sklearn.model_selection import cross_val_score\n",
    "\n",
    "gnb = BernoulliNB()\n",
    "y_pred = gnb.fit(df10_1, df10_2).predict(df10_1)\n",
    "scores=cross_val_score(gnb,df10_1,df10_2,cv=10)\n",
    "\n",
    "print(\"Number of mislabeled points out of a total %d points : %d\"\n",
    "      % (df10_1.shape[0],(df10_2.values != y_pred).sum()))\n",
    "plot_confusion_matrix(gnb, df10_1, df10_2)\n",
    "print(\"Accuracy:%.3f\"%scores.mean())\n"
   ]
  },
  {
   "cell_type": "code",
   "execution_count": 39,
   "id": "ab0e4b92-ee1e-41dd-bf43-cd9fe64e417f",
   "metadata": {},
   "outputs": [
    {
     "name": "stdout",
     "output_type": "stream",
     "text": [
      "              precision    recall  f1-score   support\n",
      "\n",
      "           0       1.00      1.00      1.00       454\n",
      "           1       1.00      1.00      1.00       705\n",
      "\n",
      "    accuracy                           1.00      1159\n",
      "   macro avg       1.00      1.00      1.00      1159\n",
      "weighted avg       1.00      1.00      1.00      1159\n",
      "\n"
     ]
    }
   ],
   "source": [
    "from sklearn.metrics import classification_report\n",
    "\n",
    "print(classification_report(df10_2, y_pred))"
   ]
  },
  {
   "cell_type": "code",
   "execution_count": 40,
   "id": "fd0f215a-f80d-4a06-b1ad-025afe9125b6",
   "metadata": {},
   "outputs": [
    {
     "name": "stdout",
     "output_type": "stream",
     "text": [
      "Number of mislabeled points out of a total 1159 points : 707408\n",
      "Accuracy:0.549\n"
     ]
    },
    {
     "data": {
      "image/png": "[encoded data removed]",
      "text/plain": [
       "<Figure size 432x288 with 2 Axes>"
      ]
     },
     "metadata": {},
     "output_type": "display_data"
    }
   ],
   "source": [
    "from sklearn import datasets\n",
    "iris = datasets.load_iris()\n",
    "\n",
    "from sklearn.metrics import classification_report, confusion_matrix, plot_confusion_matrix\n",
    "from sklearn.naive_bayes import MultinomialNB\n",
    "gnb = MultinomialNB()\n",
    "y_pred = gnb.fit(df10_1, df10_2).predict(df10_1)\n",
    "scores=cross_val_score(gnb,df10_1,df10_2,cv=10)\n",
    "\n",
    "print(\"Number of mislabeled points out of a total %d points : %d\"\n",
    "      % (df10_1.shape[0],(df10_2.values != y_pred).sum()))\n",
    "plot_confusion_matrix(gnb, df10_1, df10_2)\n",
    "print(\"Accuracy:%.3f\"%scores.mean())\n"
   ]
  },
  {
   "cell_type": "code",
   "execution_count": 41,
   "id": "0320e7dd-0bae-4e61-8160-a43c54c15858",
   "metadata": {},
   "outputs": [
    {
     "name": "stdout",
     "output_type": "stream",
     "text": [
      "              precision    recall  f1-score   support\n",
      "\n",
      "           0       0.46      0.72      0.56       454\n",
      "           1       0.71      0.44      0.55       705\n",
      "\n",
      "    accuracy                           0.55      1159\n",
      "   macro avg       0.58      0.58      0.55      1159\n",
      "weighted avg       0.61      0.55      0.55      1159\n",
      "\n"
     ]
    }
   ],
   "source": [
    "from sklearn.metrics import classification_report\n",
    "\n",
    "print(classification_report(df10_2, y_pred))"
   ]
  },
  {
   "cell_type": "code",
   "execution_count": 42,
   "id": "9965ed64-878d-4442-80a6-f9704edcbbfa",
   "metadata": {},
   "outputs": [
    {
     "name": "stdout",
     "output_type": "stream",
     "text": [
      "Number of mislabeled points out of a total 1159 points : 640140\n",
      "Accuracy:0.549\n"
     ]
    },
    {
     "data": {
      "image/png": "[encoded data removed]",
      "text/plain": [
       "<Figure size 432x288 with 2 Axes>"
      ]
     },
     "metadata": {},
     "output_type": "display_data"
    }
   ],
   "source": [
    "from sklearn import datasets\n",
    "\n",
    "from sklearn.metrics import classification_report, confusion_matrix, plot_confusion_matrix\n",
    "from sklearn.naive_bayes import GaussianNB\n",
    "gnb = GaussianNB()\n",
    "y_pred = gnb.fit(df10_1, df10_2).predict(df10_1)\n",
    "print(\"Number of mislabeled points out of a total %d points : %d\"\n",
    "      % (df10_1.shape[0],(df10_2.values != y_pred).sum()))\n",
    "confusion_matrix1=plot_confusion_matrix(gnb, df10_1, df10_2)\n",
    "confusion_matrix1\n",
    "print(\"Accuracy:%.3f\"%scores.mean())\n"
   ]
  },
  {
   "cell_type": "code",
   "execution_count": 43,
   "id": "a701e153-b277-4b41-be49-2a660a31be91",
   "metadata": {},
   "outputs": [
    {
     "name": "stdout",
     "output_type": "stream",
     "text": [
      "              precision    recall  f1-score   support\n",
      "\n",
      "           0       1.00      1.00      1.00       454\n",
      "           1       1.00      1.00      1.00       705\n",
      "\n",
      "    accuracy                           1.00      1159\n",
      "   macro avg       1.00      1.00      1.00      1159\n",
      "weighted avg       1.00      1.00      1.00      1159\n",
      "\n"
     ]
    }
   ],
   "source": [
    "from sklearn.metrics import classification_report\n",
    "\n",
    "print(classification_report(df10_2, y_pred))"
   ]
  },
  {
   "cell_type": "code",
   "execution_count": 44,
   "id": "696cf868-5f90-4b74-bc3a-8d839c5f6c3a",
   "metadata": {},
   "outputs": [
    {
     "data": {
      "text/plain": [
       "array([0, 1, 1, ..., 0, 1, 1])"
      ]
     },
     "execution_count": 44,
     "metadata": {},
     "output_type": "execute_result"
    }
   ],
   "source": [
    "y_pred"
   ]
  },
  {
   "cell_type": "code",
   "execution_count": 45,
   "id": "a4043b88-1223-4cae-836e-b2e6f73fbe49",
   "metadata": {},
   "outputs": [
    {
     "data": {
      "text/plain": [
       "array([[0],\n",
       "       [1],\n",
       "       [1],\n",
       "       ...,\n",
       "       [0],\n",
       "       [1],\n",
       "       [1]])"
      ]
     },
     "execution_count": 45,
     "metadata": {},
     "output_type": "execute_result"
    }
   ],
   "source": [
    "df10_2.values"
   ]
  },
  {
   "cell_type": "code",
   "execution_count": null,
   "id": "f39a6645-eb61-4564-acc5-be2324f7b8b3",
   "metadata": {},
   "outputs": [],
   "source": []
  },
  {
   "cell_type": "markdown",
   "id": "9a78adea-6990-4ac4-a964-d5b0b2fa2189",
   "metadata": {},
   "source": [
    "# SUPER VECTOR MACHINE"
   ]
  },
  {
   "cell_type": "code",
   "execution_count": 46,
   "id": "9fc618a1-a52d-4f0b-aa91-c90916028cab",
   "metadata": {},
   "outputs": [
    {
     "data": {
      "text/html": [
       "<div>\n",
       "<style scoped>\n",
       "    .dataframe tbody tr th:only-of-type {\n",
       "        vertical-align: middle;\n",
       "    }\n",
       "\n",
       "    .dataframe tbody tr th {\n",
       "        vertical-align: top;\n",
       "    }\n",
       "\n",
       "    .dataframe thead th {\n",
       "        text-align: right;\n",
       "    }\n",
       "</style>\n",
       "<table border=\"1\" class=\"dataframe\">\n",
       "  <thead>\n",
       "    <tr style=\"text-align: right;\">\n",
       "      <th></th>\n",
       "      <th>course_id</th>\n",
       "      <th>grade</th>\n",
       "      <th>online_progress</th>\n",
       "      <th>user_id</th>\n",
       "      <th>category</th>\n",
       "      <th>hours</th>\n",
       "      <th>planta_id</th>\n",
       "      <th>language_es</th>\n",
       "      <th>grado</th>\n",
       "    </tr>\n",
       "  </thead>\n",
       "  <tbody>\n",
       "    <tr>\n",
       "      <th>0</th>\n",
       "      <td>224</td>\n",
       "      <td>0</td>\n",
       "      <td>0.0</td>\n",
       "      <td>138</td>\n",
       "      <td>27</td>\n",
       "      <td>0.0</td>\n",
       "      <td>2</td>\n",
       "      <td>1</td>\n",
       "      <td>0</td>\n",
       "    </tr>\n",
       "    <tr>\n",
       "      <th>1</th>\n",
       "      <td>224</td>\n",
       "      <td>1</td>\n",
       "      <td>0.0</td>\n",
       "      <td>262</td>\n",
       "      <td>27</td>\n",
       "      <td>0.0</td>\n",
       "      <td>2</td>\n",
       "      <td>1</td>\n",
       "      <td>0</td>\n",
       "    </tr>\n",
       "    <tr>\n",
       "      <th>2</th>\n",
       "      <td>224</td>\n",
       "      <td>1</td>\n",
       "      <td>0.0</td>\n",
       "      <td>265</td>\n",
       "      <td>27</td>\n",
       "      <td>0.0</td>\n",
       "      <td>2</td>\n",
       "      <td>1</td>\n",
       "      <td>0</td>\n",
       "    </tr>\n",
       "    <tr>\n",
       "      <th>3</th>\n",
       "      <td>223</td>\n",
       "      <td>1</td>\n",
       "      <td>0.0</td>\n",
       "      <td>262</td>\n",
       "      <td>27</td>\n",
       "      <td>0.0</td>\n",
       "      <td>2</td>\n",
       "      <td>1</td>\n",
       "      <td>0</td>\n",
       "    </tr>\n",
       "    <tr>\n",
       "      <th>4</th>\n",
       "      <td>223</td>\n",
       "      <td>1</td>\n",
       "      <td>0.0</td>\n",
       "      <td>265</td>\n",
       "      <td>27</td>\n",
       "      <td>0.0</td>\n",
       "      <td>2</td>\n",
       "      <td>1</td>\n",
       "      <td>0</td>\n",
       "    </tr>\n",
       "    <tr>\n",
       "      <th>...</th>\n",
       "      <td>...</td>\n",
       "      <td>...</td>\n",
       "      <td>...</td>\n",
       "      <td>...</td>\n",
       "      <td>...</td>\n",
       "      <td>...</td>\n",
       "      <td>...</td>\n",
       "      <td>...</td>\n",
       "      <td>...</td>\n",
       "    </tr>\n",
       "    <tr>\n",
       "      <th>1154</th>\n",
       "      <td>193</td>\n",
       "      <td>1</td>\n",
       "      <td>100.0</td>\n",
       "      <td>187</td>\n",
       "      <td>27</td>\n",
       "      <td>10.0</td>\n",
       "      <td>1</td>\n",
       "      <td>1</td>\n",
       "      <td>0</td>\n",
       "    </tr>\n",
       "    <tr>\n",
       "      <th>1155</th>\n",
       "      <td>278</td>\n",
       "      <td>0</td>\n",
       "      <td>0.0</td>\n",
       "      <td>10</td>\n",
       "      <td>44</td>\n",
       "      <td>0.0</td>\n",
       "      <td>8</td>\n",
       "      <td>1</td>\n",
       "      <td>0</td>\n",
       "    </tr>\n",
       "    <tr>\n",
       "      <th>1156</th>\n",
       "      <td>278</td>\n",
       "      <td>0</td>\n",
       "      <td>0.0</td>\n",
       "      <td>95</td>\n",
       "      <td>44</td>\n",
       "      <td>0.0</td>\n",
       "      <td>8</td>\n",
       "      <td>1</td>\n",
       "      <td>0</td>\n",
       "    </tr>\n",
       "    <tr>\n",
       "      <th>1157</th>\n",
       "      <td>278</td>\n",
       "      <td>1</td>\n",
       "      <td>40.0</td>\n",
       "      <td>314</td>\n",
       "      <td>44</td>\n",
       "      <td>0.0</td>\n",
       "      <td>8</td>\n",
       "      <td>1</td>\n",
       "      <td>0</td>\n",
       "    </tr>\n",
       "    <tr>\n",
       "      <th>1158</th>\n",
       "      <td>278</td>\n",
       "      <td>1</td>\n",
       "      <td>60.0</td>\n",
       "      <td>10</td>\n",
       "      <td>44</td>\n",
       "      <td>0.0</td>\n",
       "      <td>8</td>\n",
       "      <td>1</td>\n",
       "      <td>0</td>\n",
       "    </tr>\n",
       "  </tbody>\n",
       "</table>\n",
       "<p>1159 rows × 9 columns</p>\n",
       "</div>"
      ],
      "text/plain": [
       "      course_id  grade  online_progress  user_id  category  hours  planta_id  \\\n",
       "0           224      0              0.0      138        27    0.0          2   \n",
       "1           224      1              0.0      262        27    0.0          2   \n",
       "2           224      1              0.0      265        27    0.0          2   \n",
       "3           223      1              0.0      262        27    0.0          2   \n",
       "4           223      1              0.0      265        27    0.0          2   \n",
       "...         ...    ...              ...      ...       ...    ...        ...   \n",
       "1154        193      1            100.0      187        27   10.0          1   \n",
       "1155        278      0              0.0       10        44    0.0          8   \n",
       "1156        278      0              0.0       95        44    0.0          8   \n",
       "1157        278      1             40.0      314        44    0.0          8   \n",
       "1158        278      1             60.0       10        44    0.0          8   \n",
       "\n",
       "      language_es grado  \n",
       "0               1     0  \n",
       "1               1     0  \n",
       "2               1     0  \n",
       "3               1     0  \n",
       "4               1     0  \n",
       "...           ...   ...  \n",
       "1154            1     0  \n",
       "1155            1     0  \n",
       "1156            1     0  \n",
       "1157            1     0  \n",
       "1158            1     0  \n",
       "\n",
       "[1159 rows x 9 columns]"
      ]
     },
     "execution_count": 46,
     "metadata": {},
     "output_type": "execute_result"
    }
   ],
   "source": [
    "df"
   ]
  },
  {
   "cell_type": "code",
   "execution_count": 47,
   "id": "cf9a4034-430c-407f-9e0b-7534b2edaa3f",
   "metadata": {},
   "outputs": [],
   "source": [
    "df2=df[[\"planta_id\",\"category\"]]"
   ]
  },
  {
   "cell_type": "code",
   "execution_count": 48,
   "id": "625f76d8-e61d-42d4-9b95-3ca5866c63d8",
   "metadata": {},
   "outputs": [
    {
     "data": {
      "text/html": [
       "<div>\n",
       "<style scoped>\n",
       "    .dataframe tbody tr th:only-of-type {\n",
       "        vertical-align: middle;\n",
       "    }\n",
       "\n",
       "    .dataframe tbody tr th {\n",
       "        vertical-align: top;\n",
       "    }\n",
       "\n",
       "    .dataframe thead th {\n",
       "        text-align: right;\n",
       "    }\n",
       "</style>\n",
       "<table border=\"1\" class=\"dataframe\">\n",
       "  <thead>\n",
       "    <tr style=\"text-align: right;\">\n",
       "      <th></th>\n",
       "      <th>planta_id</th>\n",
       "      <th>category</th>\n",
       "    </tr>\n",
       "  </thead>\n",
       "  <tbody>\n",
       "    <tr>\n",
       "      <th>0</th>\n",
       "      <td>2</td>\n",
       "      <td>27</td>\n",
       "    </tr>\n",
       "    <tr>\n",
       "      <th>1</th>\n",
       "      <td>2</td>\n",
       "      <td>27</td>\n",
       "    </tr>\n",
       "    <tr>\n",
       "      <th>2</th>\n",
       "      <td>2</td>\n",
       "      <td>27</td>\n",
       "    </tr>\n",
       "    <tr>\n",
       "      <th>3</th>\n",
       "      <td>2</td>\n",
       "      <td>27</td>\n",
       "    </tr>\n",
       "    <tr>\n",
       "      <th>4</th>\n",
       "      <td>2</td>\n",
       "      <td>27</td>\n",
       "    </tr>\n",
       "  </tbody>\n",
       "</table>\n",
       "</div>"
      ],
      "text/plain": [
       "   planta_id  category\n",
       "0          2        27\n",
       "1          2        27\n",
       "2          2        27\n",
       "3          2        27\n",
       "4          2        27"
      ]
     },
     "execution_count": 48,
     "metadata": {},
     "output_type": "execute_result"
    }
   ],
   "source": [
    "df2.head()"
   ]
  },
  {
   "cell_type": "code",
   "execution_count": 49,
   "id": "db29ba2a-6bfa-458d-87e2-e7a4725a940d",
   "metadata": {},
   "outputs": [
    {
     "data": {
      "text/plain": [
       "course_id            int64\n",
       "grade                int32\n",
       "online_progress    float64\n",
       "user_id              int64\n",
       "category             int64\n",
       "hours              float64\n",
       "planta_id            int64\n",
       "language_es          int64\n",
       "grado               object\n",
       "dtype: object"
      ]
     },
     "execution_count": 49,
     "metadata": {},
     "output_type": "execute_result"
    }
   ],
   "source": [
    "df.dtypes"
   ]
  },
  {
   "cell_type": "code",
   "execution_count": 50,
   "id": "a34f9627-13c8-4cc1-8fae-b62e454765fb",
   "metadata": {},
   "outputs": [
    {
     "ename": "NameError",
     "evalue": "name 'df1' is not defined",
     "output_type": "error",
     "traceback": [
      "\u001b[1;31m---------------------------------------------------------------------------\u001b[0m",
      "\u001b[1;31mNameError\u001b[0m                                 Traceback (most recent call last)",
      "\u001b[1;32m<ipython-input-50-b4b9f3c22725>\u001b[0m in \u001b[0;36m<module>\u001b[1;34m\u001b[0m\n\u001b[1;32m----> 1\u001b[1;33m \u001b[0mdf1\u001b[0m\u001b[1;33m.\u001b[0m\u001b[0mvalues\u001b[0m\u001b[1;33m\u001b[0m\u001b[1;33m\u001b[0m\u001b[0m\n\u001b[0m",
      "\u001b[1;31mNameError\u001b[0m: name 'df1' is not defined"
     ]
    }
   ],
   "source": [
    "df1.values"
   ]
  },
  {
   "cell_type": "code",
   "execution_count": null,
   "id": "2aae9e99-1ab0-4160-80de-b0f482b3f2cb",
   "metadata": {},
   "outputs": [],
   "source": [
    "df1=df[\"grade\"]"
   ]
  },
  {
   "cell_type": "code",
   "execution_count": null,
   "id": "14d06a83-c699-4896-8e28-1938ba91ba68",
   "metadata": {},
   "outputs": [],
   "source": [
    "import numpy as np\n",
    "import matplotlib.pyplot as plt\n",
    "from sklearn import datasets, svm\n",
    "\n",
    "\n",
    "\n",
    "X = df2\n",
    "y = df1\n",
    "\n",
    "# Use only 2 classes and 2 variables\n",
    "X = X[y != 0, :2]\n",
    "y = y[y != 0]\n",
    "\n",
    "n_sample = len(X)\n",
    "\n",
    "np.random.seed(0)\n",
    "order = np.random.permutation(n_sample)\n",
    "X = X[order]\n",
    "y = y[order].astype(np.float)\n",
    "\n",
    "X_train = X[:int(.9 * n_sample)]\n",
    "y_train = y[:int(.9 * n_sample)]\n",
    "X_test = X[int(.9 * n_sample):]\n",
    "y_test = y[int(.9 * n_sample):]\n",
    "\n",
    "# fit the model\n",
    "for fig_num, kernel in enumerate(['linear','rbf','poly']):\n",
    "    clf = svm.SVC(kernel=kernel, gamma=10, degree=3)\n",
    "    clf.fit(X_train, y_train)\n",
    "\n",
    "    plt.figure(fig_num)\n",
    "    plt.clf()\n",
    "    plt.scatter(X[:, 0], X[:, 1], c=y, zorder=10, cmap=plt.cm.Paired,\n",
    "                edgecolor='k', s=20)\n",
    "\n",
    "    # Circle out the test data\n",
    "    plt.scatter(X_test[:, 0], X_test[:, 1], s=80, facecolors='none',\n",
    "                zorder=10, edgecolor='k')\n",
    "\n",
    "    plt.axis('tight')\n",
    "    x_min = X[:, 0].min()\n",
    "    x_max = X[:, 0].max()\n",
    "    y_min = X[:, 1].min()\n",
    "    y_max = X[:, 1].max()\n",
    "\n",
    "    XX, YY = np.mgrid[x_min:x_max:200j, y_min:y_max:200j]\n",
    "    Z = clf.decision_function(np.c_[XX.ravel(), YY.ravel()])\n",
    "\n",
    "    # Put the result into a color plot\n",
    "    Z = Z.reshape(XX.shape)\n",
    "    plt.pcolormesh(XX, YY, Z > 0, cmap=plt.cm.Paired)\n",
    "    plt.contour(XX, YY, Z, colors=['k', 'k', 'k'],\n",
    "                linestyles=['--', '-', '--'], levels=[-.5, 0, .5])\n",
    "\n",
    "    plt.title(kernel)\n",
    "plt.show()"
   ]
  },
  {
   "cell_type": "code",
   "execution_count": null,
   "id": "e60de845-64de-45ef-a1ed-ecd70edb5a44",
   "metadata": {},
   "outputs": [],
   "source": []
  },
  {
   "cell_type": "code",
   "execution_count": null,
   "id": "593ba77e-95de-4a66-9476-18fb6d940397",
   "metadata": {},
   "outputs": [],
   "source": []
  },
  {
   "cell_type": "code",
   "execution_count": null,
   "id": "df0e4e4e-c74b-49c1-ae35-f841fb85d4aa",
   "metadata": {},
   "outputs": [],
   "source": [
    "# Tratamiento de datos\n",
    "# ==============================================================================\n",
    "import pandas as pd\n",
    "import numpy as np\n",
    "\n",
    "# Gráficos\n",
    "# ==============================================================================\n",
    "import matplotlib.pyplot as plt\n",
    "from matplotlib import style\n",
    "import seaborn as sns\n",
    "\n",
    "# Preprocesado y modelado\n",
    "# ==============================================================================\n",
    "from sklearn.svm import SVC\n",
    "from sklearn.model_selection import train_test_split\n",
    "from sklearn.model_selection import GridSearchCV\n",
    "from sklearn.metrics import accuracy_score\n",
    "\n",
    "# Configuración matplotlib\n",
    "# ==============================================================================\n",
    "plt.rcParams['image.cmap'] = \"bwr\"\n",
    "#plt.rcParams['figure.dpi'] = \"100\"\n",
    "plt.rcParams['savefig.bbox'] = \"tight\"\n",
    "style.use('ggplot') or plt.style.use('ggplot')\n",
    "\n",
    "# Configuración warnings\n",
    "# ==============================================================================\n",
    "import warnings\n",
    "warnings.filterwarnings('ignore')"
   ]
  },
  {
   "cell_type": "code",
   "execution_count": null,
   "id": "8a9ff94a-9a7d-4631-a332-5b90d74d705e",
   "metadata": {},
   "outputs": [],
   "source": [
    "# Datos\n",
    "# ==============================================================================\n",
    "url = 'https://raw.githubusercontent.com/JoaquinAmatRodrigo/' \\\n",
    "       + 'Estadistica-machine-learning-python/master/data/ESL.mixture.csv'\n",
    "datos = pd.read_csv(url)\n",
    "datos.head(100)"
   ]
  },
  {
   "cell_type": "code",
   "execution_count": null,
   "id": "2e17a308-baa6-4e54-a8bb-8aefb027b227",
   "metadata": {},
   "outputs": [],
   "source": []
  },
  {
   "cell_type": "code",
   "execution_count": null,
   "id": "c1c79b2f-ddfc-43c3-8741-1b382d7a760b",
   "metadata": {},
   "outputs": [],
   "source": [
    "datos.y.values"
   ]
  },
  {
   "cell_type": "code",
   "execution_count": null,
   "id": "fa190345-052e-4e4a-9aee-209d9b08db51",
   "metadata": {},
   "outputs": [],
   "source": [
    "fig, ax = plt.subplots(figsize=(6,4))\n",
    "ax.scatter(df.hours, df.planta_id, c=df.grade);\n",
    "ax.set_title(\"Datos ESL.mixture\");"
   ]
  },
  {
   "cell_type": "code",
   "execution_count": null,
   "id": "6ae267b2-191b-4a80-8f9b-cf2ab24a59f8",
   "metadata": {},
   "outputs": [],
   "source": [
    "df.columns"
   ]
  },
  {
   "cell_type": "code",
   "execution_count": null,
   "id": "a46c9257-e5b3-434d-bf9c-263bf02bf417",
   "metadata": {},
   "outputs": [],
   "source": [
    "fig, ax = plt.subplots(figsize=(6,4))\n",
    "ax.scatter(df.online_progress, df.planta_id, c=df.grade);\n",
    "ax.set_title(\"Datos ESL.mixture\");"
   ]
  },
  {
   "cell_type": "code",
   "execution_count": null,
   "id": "13862144-86ba-4d51-888c-caf5dc6da2dc",
   "metadata": {},
   "outputs": [],
   "source": []
  },
  {
   "cell_type": "code",
   "execution_count": null,
   "id": "791edef3-d36a-44ec-891a-dcf61212115b",
   "metadata": {},
   "outputs": [],
   "source": [
    "# División de los datos en train y test\n",
    "# ==============================================================================\n",
    "X = df.drop(columns = 'grade')\n",
    "y = df['grade']\n",
    "\n",
    "X_train, X_test, y_train, y_test = train_test_split(\n",
    "                                        X,\n",
    "                                        y.values.reshape(-1,1),\n",
    "                                        train_size   = 0.8,\n",
    "                                        random_state = 1234,\n",
    "                                        shuffle      = True\n",
    "                                    )"
   ]
  },
  {
   "cell_type": "code",
   "execution_count": null,
   "id": "7f4c1639-0269-4466-80d9-7267b6a94a1a",
   "metadata": {},
   "outputs": [],
   "source": [
    "# Creación del modelo SVM lineal\n",
    "# ==============================================================================\n",
    "modelo = SVC(C = 100, kernel = 'linear', random_state=123)\n",
    "modelo.fit(X_train, y_train)"
   ]
  },
  {
   "cell_type": "code",
   "execution_count": null,
   "id": "7647cf6b-08ea-4397-8694-632b9c3532f5",
   "metadata": {},
   "outputs": [],
   "source": [
    "# Representación gráfica de los límites de clasificación\n",
    "# ==============================================================================\n",
    "# Grid de valores\n",
    "x = np.linspace(np.min(X_train.online_progress), np.max(X_train.online_progress), 50)\n",
    "y = np.linspace(np.min(X_train.planta_id), np.max(X_train.planta_id), 50)\n",
    "Y, X = np.meshgrid(y, x)\n",
    "grid = np.vstack([X.ravel(), Y.ravel()]).T\n",
    "\n",
    "# Predicción valores grid\n",
    "pred_grid = modelo.predict(grid)\n",
    "\n",
    "fig, ax = plt.subplots(figsize=(6,4))\n",
    "ax.scatter(grid[:,0], grid[:,1], c=pred_grid, alpha = 0.2)\n",
    "ax.scatter(X_train.online_progress, X_train.planta_id, c=y_train, alpha = 1)\n",
    "\n",
    "# Vectores soporte\n",
    "ax.scatter(\n",
    "    modelo.support_vectors_[:, 0],\n",
    "    modelo.support_vectors_[:, 1],\n",
    "    s=200, linewidth=1,\n",
    "    facecolors='none', edgecolors='black'\n",
    ")\n",
    "\n",
    "# Hiperplano de separación\n",
    "ax.contour(\n",
    "    X,\n",
    "    Y,\n",
    "    modelo.decision_function(grid).reshape(X.shape),\n",
    "    colors = 'k',\n",
    "    levels = [-1, 0, 1],\n",
    "    alpha  = 0.5,\n",
    "    linestyles = ['--', '-', '--']\n",
    ")\n",
    "\n",
    "ax.set_title(\"Resultados clasificación SVM lineal\");"
   ]
  },
  {
   "cell_type": "code",
   "execution_count": null,
   "id": "5ee4e366-c32f-4d87-85b0-95728265d6c3",
   "metadata": {},
   "outputs": [],
   "source": [
    "# Predicciones test\n",
    "# ==============================================================================\n",
    "predicciones = modelo.predict(X_test)\n",
    "predicciones"
   ]
  },
  {
   "cell_type": "code",
   "execution_count": null,
   "id": "abf728de-af89-41e2-962b-076edfe0a8e3",
   "metadata": {},
   "outputs": [],
   "source": [
    "# Accuracy de test del modelo \n",
    "# ==============================================================================\n",
    "accuracy = accuracy_score(\n",
    "            y_true    = y_test,\n",
    "            y_pred    = predicciones,\n",
    "            normalize = True\n",
    "           )\n",
    "print(\"\")\n",
    "print(f\"El accuracy de test es: {100*accuracy}%\")"
   ]
  },
  {
   "cell_type": "code",
   "execution_count": null,
   "id": "b8425b39-4bd7-43ad-9621-0955641bcb1d",
   "metadata": {},
   "outputs": [],
   "source": []
  },
  {
   "cell_type": "code",
   "execution_count": null,
   "id": "69441742-b247-4231-a5dd-6cdd88527f64",
   "metadata": {},
   "outputs": [],
   "source": []
  },
  {
   "cell_type": "code",
   "execution_count": null,
   "id": "24708e05-618a-4013-bcd7-1397d9742625",
   "metadata": {},
   "outputs": [],
   "source": []
  },
  {
   "cell_type": "code",
   "execution_count": null,
   "id": "e458bcc3-1bad-4aac-9ce7-4484a9de9de4",
   "metadata": {},
   "outputs": [],
   "source": []
  },
  {
   "cell_type": "code",
   "execution_count": null,
   "id": "49383256-1714-416f-be31-f484ac016377",
   "metadata": {},
   "outputs": [],
   "source": []
  },
  {
   "cell_type": "code",
   "execution_count": null,
   "id": "1a0a375b-b4e1-4a42-9f87-4bb12861b26f",
   "metadata": {},
   "outputs": [],
   "source": []
  },
  {
   "cell_type": "code",
   "execution_count": null,
   "id": "aeae3539-68cd-4683-ae02-175be1d8ac08",
   "metadata": {},
   "outputs": [],
   "source": []
  },
  {
   "cell_type": "code",
   "execution_count": null,
   "id": "88831105-a367-460d-b007-64dab0bff83f",
   "metadata": {},
   "outputs": [],
   "source": []
  },
  {
   "cell_type": "code",
   "execution_count": null,
   "id": "7b792cbb-ae85-425f-a631-3f2a5f13e23a",
   "metadata": {},
   "outputs": [],
   "source": []
  }
 ],
 "metadata": {
  "kernelspec": {
   "display_name": "Python 3",
   "language": "python",
   "name": "python3"
  },
  "language_info": {
   "codemirror_mode": {
    "name": "ipython",
    "version": 3
   },
   "file_extension": ".py",
   "mimetype": "text/x-python",
   "name": "python",
   "nbconvert_exporter": "python",
   "pygments_lexer": "ipython3",
   "version": "3.8.8"
  }
 },
 "nbformat": 4,
 "nbformat_minor": 5
}
