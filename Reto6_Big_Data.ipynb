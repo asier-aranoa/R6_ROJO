{
 "cells": [
  {
   "cell_type": "code",
   "execution_count": 1,
   "id": "db8c8948",
   "metadata": {},
   "outputs": [],
   "source": [
    "import pandas as pd\n",
    "import numpy as np\n",
    "from datetime import datetime\n",
    "from elasticsearch import Elasticsearch\n",
    "import warnings\n",
    "warnings.filterwarnings('ignore')"
   ]
  },
  {
   "cell_type": "code",
   "execution_count": 2,
   "id": "066f2aaf",
   "metadata": {},
   "outputs": [],
   "source": [
    "FILE_URL = '/home/rodrigo/Escritorio/reto06/frecuencia_palabras.csv'\n",
    "response = pd.read_csv((FILE_URL), sep = ';')\n",
    "es = Elasticsearch([{'host': 'localhost', 'port': 9200}])"
   ]
  },
  {
   "cell_type": "code",
   "execution_count": 3,
   "id": "9f247268",
   "metadata": {},
   "outputs": [
    {
     "data": {
      "text/plain": [
       "URL                  object\n",
       "Python               object\n",
       "Machine_learning     object\n",
       "Analytics            object\n",
       "Visualization        object\n",
       "Clustering           object\n",
       "Models               object\n",
       "Pandas               object\n",
       "Business             object\n",
       "SQL                  object\n",
       "dtype: object"
      ]
     },
     "execution_count": 3,
     "metadata": {},
     "output_type": "execute_result"
    }
   ],
   "source": [
    "response.dtypes"
   ]
  },
  {
   "cell_type": "code",
   "execution_count": 4,
   "id": "1bc816fd",
   "metadata": {},
   "outputs": [
    {
     "data": {
      "text/plain": [
       "{'acknowledged': True}"
      ]
     },
     "execution_count": 4,
     "metadata": {},
     "output_type": "execute_result"
    }
   ],
   "source": [
    "es.indices.delete(index = 'index_interactions', ignore = [400, 404])"
   ]
  },
  {
   "cell_type": "code",
   "execution_count": 5,
   "id": "6071c1d3",
   "metadata": {},
   "outputs": [],
   "source": [
    "df_interactions= response"
   ]
  },
  {
   "cell_type": "code",
   "execution_count": 6,
   "id": "d294c3fd",
   "metadata": {},
   "outputs": [],
   "source": [
    "df_interactions = df_interactions.reset_index()"
   ]
  },
  {
   "cell_type": "code",
   "execution_count": 7,
   "id": "5a2c2f6d",
   "metadata": {},
   "outputs": [
    {
     "data": {
      "text/html": [
       "<div>\n",
       "<style scoped>\n",
       "    .dataframe tbody tr th:only-of-type {\n",
       "        vertical-align: middle;\n",
       "    }\n",
       "\n",
       "    .dataframe tbody tr th {\n",
       "        vertical-align: top;\n",
       "    }\n",
       "\n",
       "    .dataframe thead th {\n",
       "        text-align: right;\n",
       "    }\n",
       "</style>\n",
       "<table border=\"1\" class=\"dataframe\">\n",
       "  <thead>\n",
       "    <tr style=\"text-align: right;\">\n",
       "      <th></th>\n",
       "      <th>index</th>\n",
       "      <th>URL</th>\n",
       "      <th>Python</th>\n",
       "      <th>Machine_learning</th>\n",
       "      <th>Analytics</th>\n",
       "      <th>Visualization</th>\n",
       "      <th>Clustering</th>\n",
       "      <th>Models</th>\n",
       "      <th>Pandas</th>\n",
       "      <th>Business</th>\n",
       "      <th>SQL</th>\n",
       "    </tr>\n",
       "  </thead>\n",
       "  <tbody>\n",
       "    <tr>\n",
       "      <th>0</th>\n",
       "      <td>0</td>\n",
       "      <td>URL 1</td>\n",
       "      <td>1</td>\n",
       "      <td>0</td>\n",
       "      <td>4</td>\n",
       "      <td>2</td>\n",
       "      <td>0</td>\n",
       "      <td>0</td>\n",
       "      <td>1</td>\n",
       "      <td>0</td>\n",
       "      <td>1</td>\n",
       "    </tr>\n",
       "    <tr>\n",
       "      <th>1</th>\n",
       "      <td>1</td>\n",
       "      <td>URL 2</td>\n",
       "      <td>1</td>\n",
       "      <td>2</td>\n",
       "      <td>1</td>\n",
       "      <td>0</td>\n",
       "      <td>0</td>\n",
       "      <td>2</td>\n",
       "      <td>0</td>\n",
       "      <td>0</td>\n",
       "      <td>0</td>\n",
       "    </tr>\n",
       "    <tr>\n",
       "      <th>2</th>\n",
       "      <td>2</td>\n",
       "      <td>URL 3</td>\n",
       "      <td>1</td>\n",
       "      <td>0</td>\n",
       "      <td>3</td>\n",
       "      <td>0</td>\n",
       "      <td>0</td>\n",
       "      <td>0</td>\n",
       "      <td>0</td>\n",
       "      <td>0</td>\n",
       "      <td>1</td>\n",
       "    </tr>\n",
       "    <tr>\n",
       "      <th>3</th>\n",
       "      <td>3</td>\n",
       "      <td>URL 4</td>\n",
       "      <td>0</td>\n",
       "      <td>2</td>\n",
       "      <td>0</td>\n",
       "      <td>0</td>\n",
       "      <td>0</td>\n",
       "      <td>1</td>\n",
       "      <td>0</td>\n",
       "      <td>1</td>\n",
       "      <td>0</td>\n",
       "    </tr>\n",
       "    <tr>\n",
       "      <th>4</th>\n",
       "      <td>4</td>\n",
       "      <td>URL 5</td>\n",
       "      <td>2</td>\n",
       "      <td>0</td>\n",
       "      <td>0</td>\n",
       "      <td>2</td>\n",
       "      <td>0</td>\n",
       "      <td>1</td>\n",
       "      <td>0</td>\n",
       "      <td>0</td>\n",
       "      <td>2</td>\n",
       "    </tr>\n",
       "    <tr>\n",
       "      <th>5</th>\n",
       "      <td>5</td>\n",
       "      <td>URL 6</td>\n",
       "      <td>1</td>\n",
       "      <td>0</td>\n",
       "      <td>0</td>\n",
       "      <td>0</td>\n",
       "      <td>0</td>\n",
       "      <td>2</td>\n",
       "      <td>1</td>\n",
       "      <td>0</td>\n",
       "      <td>0</td>\n",
       "    </tr>\n",
       "    <tr>\n",
       "      <th>6</th>\n",
       "      <td>6</td>\n",
       "      <td>URL 7</td>\n",
       "      <td>1</td>\n",
       "      <td>0</td>\n",
       "      <td>0</td>\n",
       "      <td>0</td>\n",
       "      <td>0</td>\n",
       "      <td>0</td>\n",
       "      <td>0</td>\n",
       "      <td>0</td>\n",
       "      <td>1</td>\n",
       "    </tr>\n",
       "    <tr>\n",
       "      <th>7</th>\n",
       "      <td>7</td>\n",
       "      <td>Porcentaje</td>\n",
       "      <td>85.57%</td>\n",
       "      <td>28.57%</td>\n",
       "      <td>42.85%</td>\n",
       "      <td>28.57%</td>\n",
       "      <td>0.0%</td>\n",
       "      <td>57.14%</td>\n",
       "      <td>28.57%</td>\n",
       "      <td>14.28%</td>\n",
       "      <td>57.14%</td>\n",
       "    </tr>\n",
       "  </tbody>\n",
       "</table>\n",
       "</div>"
      ],
      "text/plain": [
       "   index         URL  Python Machine_learning  Analytics Visualization  \\\n",
       "0      0       URL 1       1                 0         4             2   \n",
       "1      1       URL 2       1                 2         1             0   \n",
       "2      2      URL 3        1                 0         3             0   \n",
       "3      3       URL 4       0                 2         0             0   \n",
       "4      4      URL 5        2                 0         0             2   \n",
       "5      5       URL 6       1                 0         0             0   \n",
       "6      6       URL 7       1                 0         0             0   \n",
       "7      7  Porcentaje  85.57%            28.57%    42.85%        28.57%   \n",
       "\n",
       "  Clustering  Models  Pandas Business     SQL  \n",
       "0          0       0       1        0       1  \n",
       "1          0       2       0        0       0  \n",
       "2          0       0       0        0       1  \n",
       "3          0       1       0        1       0  \n",
       "4          0       1       0        0       2  \n",
       "5          0       2       1        0       0  \n",
       "6          0       0       0        0       1  \n",
       "7       0.0%  57.14%  28.57%   14.28%  57.14%  "
      ]
     },
     "execution_count": 7,
     "metadata": {},
     "output_type": "execute_result"
    }
   ],
   "source": [
    "df_interactions.head(8)"
   ]
  },
  {
   "cell_type": "code",
   "execution_count": 8,
   "id": "d94743f1",
   "metadata": {},
   "outputs": [],
   "source": [
    "df_interactions = df_interactions.head(7) # usaremos solamente el conteo de las skills en las diferentes URLs "
   ]
  },
  {
   "cell_type": "code",
   "execution_count": 9,
   "id": "9dc5a886",
   "metadata": {},
   "outputs": [
    {
     "data": {
      "text/html": [
       "<div>\n",
       "<style scoped>\n",
       "    .dataframe tbody tr th:only-of-type {\n",
       "        vertical-align: middle;\n",
       "    }\n",
       "\n",
       "    .dataframe tbody tr th {\n",
       "        vertical-align: top;\n",
       "    }\n",
       "\n",
       "    .dataframe thead th {\n",
       "        text-align: right;\n",
       "    }\n",
       "</style>\n",
       "<table border=\"1\" class=\"dataframe\">\n",
       "  <thead>\n",
       "    <tr style=\"text-align: right;\">\n",
       "      <th></th>\n",
       "      <th>index</th>\n",
       "      <th>URL</th>\n",
       "      <th>Python</th>\n",
       "      <th>Machine_learning</th>\n",
       "      <th>Analytics</th>\n",
       "      <th>Visualization</th>\n",
       "      <th>Clustering</th>\n",
       "      <th>Models</th>\n",
       "      <th>Pandas</th>\n",
       "      <th>Business</th>\n",
       "      <th>SQL</th>\n",
       "    </tr>\n",
       "  </thead>\n",
       "  <tbody>\n",
       "    <tr>\n",
       "      <th>0</th>\n",
       "      <td>0</td>\n",
       "      <td>URL 1</td>\n",
       "      <td>1</td>\n",
       "      <td>0</td>\n",
       "      <td>4</td>\n",
       "      <td>2</td>\n",
       "      <td>0</td>\n",
       "      <td>0</td>\n",
       "      <td>1</td>\n",
       "      <td>0</td>\n",
       "      <td>1</td>\n",
       "    </tr>\n",
       "    <tr>\n",
       "      <th>1</th>\n",
       "      <td>1</td>\n",
       "      <td>URL 2</td>\n",
       "      <td>1</td>\n",
       "      <td>2</td>\n",
       "      <td>1</td>\n",
       "      <td>0</td>\n",
       "      <td>0</td>\n",
       "      <td>2</td>\n",
       "      <td>0</td>\n",
       "      <td>0</td>\n",
       "      <td>0</td>\n",
       "    </tr>\n",
       "    <tr>\n",
       "      <th>2</th>\n",
       "      <td>2</td>\n",
       "      <td>URL 3</td>\n",
       "      <td>1</td>\n",
       "      <td>0</td>\n",
       "      <td>3</td>\n",
       "      <td>0</td>\n",
       "      <td>0</td>\n",
       "      <td>0</td>\n",
       "      <td>0</td>\n",
       "      <td>0</td>\n",
       "      <td>1</td>\n",
       "    </tr>\n",
       "    <tr>\n",
       "      <th>3</th>\n",
       "      <td>3</td>\n",
       "      <td>URL 4</td>\n",
       "      <td>0</td>\n",
       "      <td>2</td>\n",
       "      <td>0</td>\n",
       "      <td>0</td>\n",
       "      <td>0</td>\n",
       "      <td>1</td>\n",
       "      <td>0</td>\n",
       "      <td>1</td>\n",
       "      <td>0</td>\n",
       "    </tr>\n",
       "    <tr>\n",
       "      <th>4</th>\n",
       "      <td>4</td>\n",
       "      <td>URL 5</td>\n",
       "      <td>2</td>\n",
       "      <td>0</td>\n",
       "      <td>0</td>\n",
       "      <td>2</td>\n",
       "      <td>0</td>\n",
       "      <td>1</td>\n",
       "      <td>0</td>\n",
       "      <td>0</td>\n",
       "      <td>2</td>\n",
       "    </tr>\n",
       "    <tr>\n",
       "      <th>5</th>\n",
       "      <td>5</td>\n",
       "      <td>URL 6</td>\n",
       "      <td>1</td>\n",
       "      <td>0</td>\n",
       "      <td>0</td>\n",
       "      <td>0</td>\n",
       "      <td>0</td>\n",
       "      <td>2</td>\n",
       "      <td>1</td>\n",
       "      <td>0</td>\n",
       "      <td>0</td>\n",
       "    </tr>\n",
       "    <tr>\n",
       "      <th>6</th>\n",
       "      <td>6</td>\n",
       "      <td>URL 7</td>\n",
       "      <td>1</td>\n",
       "      <td>0</td>\n",
       "      <td>0</td>\n",
       "      <td>0</td>\n",
       "      <td>0</td>\n",
       "      <td>0</td>\n",
       "      <td>0</td>\n",
       "      <td>0</td>\n",
       "      <td>1</td>\n",
       "    </tr>\n",
       "  </tbody>\n",
       "</table>\n",
       "</div>"
      ],
      "text/plain": [
       "   index     URL Python Machine_learning  Analytics Visualization Clustering  \\\n",
       "0      0   URL 1      1                 0         4             2          0   \n",
       "1      1   URL 2      1                 2         1             0          0   \n",
       "2      2  URL 3       1                 0         3             0          0   \n",
       "3      3   URL 4      0                 2         0             0          0   \n",
       "4      4  URL 5       2                 0         0             2          0   \n",
       "5      5   URL 6      1                 0         0             0          0   \n",
       "6      6   URL 7      1                 0         0             0          0   \n",
       "\n",
       "  Models Pandas Business SQL  \n",
       "0      0      1        0   1  \n",
       "1      2      0        0   0  \n",
       "2      0      0        0   1  \n",
       "3      1      0        1   0  \n",
       "4      1      0        0   2  \n",
       "5      2      1        0   0  \n",
       "6      0      0        0   1  "
      ]
     },
     "execution_count": 9,
     "metadata": {},
     "output_type": "execute_result"
    }
   ],
   "source": [
    "df_interactions"
   ]
  },
  {
   "cell_type": "code",
   "execution_count": 10,
   "id": "dcdb5097",
   "metadata": {},
   "outputs": [],
   "source": [
    "index = list(df_interactions.index)"
   ]
  },
  {
   "cell_type": "code",
   "execution_count": 11,
   "id": "e6131b07",
   "metadata": {},
   "outputs": [
    {
     "data": {
      "text/plain": [
       "[0, 1, 2, 3, 4, 5, 6]"
      ]
     },
     "execution_count": 11,
     "metadata": {},
     "output_type": "execute_result"
    }
   ],
   "source": [
    "index"
   ]
  },
  {
   "cell_type": "code",
   "execution_count": null,
   "id": "fd534581",
   "metadata": {},
   "outputs": [],
   "source": []
  },
  {
   "cell_type": "code",
   "execution_count": 12,
   "id": "e0bcbb32",
   "metadata": {},
   "outputs": [],
   "source": [
    "idd = 1\n",
    "for i in index:\n",
    "    \n",
    "    doc = {\n",
    "        \n",
    "        'URL': df_interactions.loc[i,'URL'],\n",
    "        'Python': df_interactions.loc[i,'Python'],\n",
    "        'Analytics': df_interactions.loc[i,'Analytics'],\n",
    "        'Visualization': df_interactions.loc[i,'Visualization'],\n",
    "        'Clustering': df_interactions.loc[i,'Clustering'],\n",
    "        'Models': df_interactions.loc[i,'Models'],\n",
    "        'Pandas': df_interactions.loc[i,'Pandas'],\n",
    "        'Business': df_interactions.loc[i,'Business'],\n",
    "        'SQL': df_interactions.loc[i,'SQL'],\n",
    "        'timestamp': datetime.now()\n",
    "    }\n",
    "    res = es.index(index = 'index_interactions', id = idd, document = doc)\n",
    "    idd +=1"
   ]
  },
  {
   "cell_type": "markdown",
   "id": "5371071b",
   "metadata": {},
   "source": [
    "# Consultas"
   ]
  },
  {
   "cell_type": "markdown",
   "id": "b63d53b6",
   "metadata": {},
   "source": [
    "1. Casos en los que \"Python\" aparece en dos ocasiones en el mismo texto:"
   ]
  },
  {
   "cell_type": "code",
   "execution_count": 34,
   "id": "2904f8b9",
   "metadata": {},
   "outputs": [],
   "source": [
    "res = es.search(index = 'index_interactions', query = {\"match\": {'Python' : '2'}})"
   ]
  },
  {
   "cell_type": "code",
   "execution_count": 35,
   "id": "c4445079",
   "metadata": {},
   "outputs": [
    {
     "data": {
      "text/plain": [
       "1"
      ]
     },
     "execution_count": 35,
     "metadata": {},
     "output_type": "execute_result"
    }
   ],
   "source": [
    "res['hits']['total']['value']"
   ]
  },
  {
   "cell_type": "markdown",
   "id": "25c3c639",
   "metadata": {},
   "source": [
    "2. Devolver el índice de aquellas URL cuyo \"SQL\" sea mayor o igual a 1:"
   ]
  },
  {
   "cell_type": "code",
   "execution_count": 15,
   "id": "3e60f071",
   "metadata": {},
   "outputs": [],
   "source": [
    "res = es.search(index=\"index_interactions\", query={\"range\": {\"SQL\": {\"gte\":1}}})"
   ]
  },
  {
   "cell_type": "code",
   "execution_count": 16,
   "id": "e37253eb",
   "metadata": {},
   "outputs": [
    {
     "data": {
      "text/plain": [
       "0"
      ]
     },
     "execution_count": 16,
     "metadata": {},
     "output_type": "execute_result"
    }
   ],
   "source": [
    "res['hits']['total']['value']"
   ]
  },
  {
   "cell_type": "code",
   "execution_count": 17,
   "id": "b812d7bb",
   "metadata": {},
   "outputs": [],
   "source": [
    "for hit in res[\"hits\"][\"hits\"]:\n",
    "    print(hit[\"_source\"])\n",
    "    print(\"\\n\")"
   ]
  },
  {
   "cell_type": "markdown",
   "id": "5789e578",
   "metadata": {},
   "source": [
    "3. Casos en los que \"Analytics\" aparece en 3 ocasiones o más en el mismo texto:"
   ]
  },
  {
   "cell_type": "code",
   "execution_count": 18,
   "id": "2f2a295a",
   "metadata": {},
   "outputs": [],
   "source": [
    "res = es.search(index=\"index_interactions\", query={\"range\": {\"Analytics\": {\"gte\":3}}})"
   ]
  },
  {
   "cell_type": "code",
   "execution_count": 19,
   "id": "43ab71cd",
   "metadata": {},
   "outputs": [
    {
     "data": {
      "text/plain": [
       "2"
      ]
     },
     "execution_count": 19,
     "metadata": {},
     "output_type": "execute_result"
    }
   ],
   "source": [
    "res['hits']['total']['value']"
   ]
  },
  {
   "cell_type": "code",
   "execution_count": 20,
   "id": "4b37dcc9",
   "metadata": {},
   "outputs": [
    {
     "name": "stdout",
     "output_type": "stream",
     "text": [
      "{'URL': 'URL 1', 'Python': '1', 'Analytics': '4', 'Visualization': '2', 'Clustering': '0', 'Models': '0', 'Pandas': '1', 'Business': '0', 'SQL': '1', 'timestamp': '2022-01-16T17:35:09.058618'}\n",
      "\n",
      "\n",
      "{'URL': 'URL 3 ', 'Python': '1', 'Analytics': '3', 'Visualization': '0', 'Clustering': '0', 'Models': '0', 'Pandas': '0', 'Business': '0', 'SQL': '1', 'timestamp': '2022-01-16T17:35:09.747296'}\n",
      "\n",
      "\n"
     ]
    }
   ],
   "source": [
    "for hit in res[\"hits\"][\"hits\"]:\n",
    "    print(hit[\"_source\"]),          # Vemos como de los 7 textos, solo 3 contienen la palabra, y de esos 3\n",
    "    print(\"\\n\")                     # unicamente en 2 aparece más de 3 veces."
   ]
  },
  {
   "cell_type": "markdown",
   "id": "f2bc17bd",
   "metadata": {},
   "source": [
    "4. Casos en los que \"Clustering\" aparece al menos en una ocasion en el texto:"
   ]
  },
  {
   "cell_type": "code",
   "execution_count": 21,
   "id": "c953fba6",
   "metadata": {},
   "outputs": [],
   "source": [
    "res = es.search(index = 'index_interactions', query = {\"match\": {'Clustering' : '1'}})"
   ]
  },
  {
   "cell_type": "code",
   "execution_count": 22,
   "id": "f2a717b6",
   "metadata": {},
   "outputs": [
    {
     "data": {
      "text/plain": [
       "0"
      ]
     },
     "execution_count": 22,
     "metadata": {},
     "output_type": "execute_result"
    }
   ],
   "source": [
    "res['hits']['total']['value']          # La palabra \"Clustering\" no ha aparecido en ni un solo texto."
   ]
  },
  {
   "cell_type": "markdown",
   "id": "8f58108f",
   "metadata": {},
   "source": [
    "5. Casos en los que \"Models\" aparece al menos dos veces en un texto:"
   ]
  },
  {
   "cell_type": "code",
   "execution_count": 23,
   "id": "b8d634ff",
   "metadata": {},
   "outputs": [],
   "source": [
    "res = es.search(index = 'index_interactions', query = {\"match\": {'Models' : '2'}})"
   ]
  },
  {
   "cell_type": "code",
   "execution_count": 24,
   "id": "d4747bad",
   "metadata": {},
   "outputs": [
    {
     "data": {
      "text/plain": [
       "2"
      ]
     },
     "execution_count": 24,
     "metadata": {},
     "output_type": "execute_result"
    }
   ],
   "source": [
    "res['hits']['total']['value']"
   ]
  },
  {
   "cell_type": "code",
   "execution_count": 25,
   "id": "9cc6edbc",
   "metadata": {},
   "outputs": [
    {
     "name": "stdout",
     "output_type": "stream",
     "text": [
      "{'URL': 'URL 2', 'Python': '1', 'Analytics': '1', 'Visualization': '0', 'Clustering': '0', 'Models': '2', 'Pandas': '0', 'Business': '0', 'SQL': '0', 'timestamp': '2022-01-16T17:35:09.694995'}\n",
      "\n",
      "\n",
      "{'URL': 'URL 6', 'Python': '1', 'Analytics': '0', 'Visualization': '0', 'Clustering': '0', 'Models': '2', 'Pandas': '1', 'Business': '0', 'SQL': '0', 'timestamp': '2022-01-16T17:35:09.826975'}\n",
      "\n",
      "\n"
     ]
    }
   ],
   "source": [
    "for hit in res[\"hits\"][\"hits\"]:\n",
    "    print(hit[\"_source\"]),          # Vemos como de los 7 textos, 4 contienen la palabra, y de esos 4\n",
    "    print(\"\\n\")                     # unicamente en 2 aparece más de 2 veces."
   ]
  },
  {
   "cell_type": "markdown",
   "id": "1aedff5e",
   "metadata": {},
   "source": [
    "6. Casos en los que \"Visualization\" aparece en una ocasion en el mismo texto:"
   ]
  },
  {
   "cell_type": "code",
   "execution_count": 39,
   "id": "2cf79251",
   "metadata": {},
   "outputs": [],
   "source": [
    "res = es.search(index = 'index_interactions', query = {\"match\": {'Visualization' : '1'}})"
   ]
  },
  {
   "cell_type": "code",
   "execution_count": 40,
   "id": "5d35b91f",
   "metadata": {},
   "outputs": [
    {
     "data": {
      "text/plain": [
       "0"
      ]
     },
     "execution_count": 40,
     "metadata": {},
     "output_type": "execute_result"
    }
   ],
   "source": [
    "res['hits']['total']['value']"
   ]
  },
  {
   "cell_type": "code",
   "execution_count": 41,
   "id": "0d74ddc7",
   "metadata": {},
   "outputs": [],
   "source": [
    "for hit in res[\"hits\"][\"hits\"]:\n",
    "    print(hit[\"_source\"]) # En las dos ocasiones en las que aparecen las palabras \"Visualization\", aparece por \n",
    "    print(\"\\n\")           # lo menos dos veces, por lo que nos devuelve 0. Lo comprobamos en la siguiente consulta."
   ]
  },
  {
   "cell_type": "markdown",
   "id": "ece617c0",
   "metadata": {},
   "source": [
    "7. Casos en los que \"Visualization\" aparece en dos ocasiones en el mismo texto:"
   ]
  },
  {
   "cell_type": "code",
   "execution_count": 42,
   "id": "6a012b44",
   "metadata": {},
   "outputs": [],
   "source": [
    "res = es.search(index = 'index_interactions', query = {\"match\": {'Visualization' : '2'}})"
   ]
  },
  {
   "cell_type": "code",
   "execution_count": 43,
   "id": "9d4cac4c",
   "metadata": {},
   "outputs": [
    {
     "data": {
      "text/plain": [
       "2"
      ]
     },
     "execution_count": 43,
     "metadata": {},
     "output_type": "execute_result"
    }
   ],
   "source": [
    "res['hits']['total']['value']"
   ]
  },
  {
   "cell_type": "code",
   "execution_count": 44,
   "id": "8ecd81dc",
   "metadata": {},
   "outputs": [
    {
     "name": "stdout",
     "output_type": "stream",
     "text": [
      "{'URL': 'URL 1', 'Python': '1', 'Analytics': '4', 'Visualization': '2', 'Clustering': '0', 'Models': '0', 'Pandas': '1', 'Business': '0', 'SQL': '1', 'timestamp': '2022-01-16T17:35:09.058618'}\n",
      "\n",
      "\n",
      "{'URL': 'URL 5 ', 'Python': '2', 'Analytics': '0', 'Visualization': '2', 'Clustering': '0', 'Models': '1', 'Pandas': '0', 'Business': '0', 'SQL': '2', 'timestamp': '2022-01-16T17:35:09.807104'}\n",
      "\n",
      "\n"
     ]
    }
   ],
   "source": [
    "for hit in res[\"hits\"][\"hits\"]:\n",
    "    print(hit[\"_source\"])\n",
    "    print(\"\\n\")"
   ]
  },
  {
   "cell_type": "code",
   "execution_count": null,
   "id": "0b23a8a1",
   "metadata": {},
   "outputs": [],
   "source": []
  }
 ],
 "metadata": {
  "kernelspec": {
   "display_name": "Python 3 (ipykernel)",
   "language": "python",
   "name": "python3"
  },
  "language_info": {
   "codemirror_mode": {
    "name": "ipython",
    "version": 3
   },
   "file_extension": ".py",
   "mimetype": "text/x-python",
   "name": "python",
   "nbconvert_exporter": "python",
   "pygments_lexer": "ipython3",
   "version": "3.9.7"
  }
 },
 "nbformat": 4,
 "nbformat_minor": 5
}
