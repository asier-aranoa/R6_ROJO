{
 "cells": [
  {
   "cell_type": "markdown",
   "id": "4e8ba8b1",
   "metadata": {},
   "source": [
    "RETO 6 DATA SCIENCE"
   ]
  },
  {
   "cell_type": "code",
   "execution_count": 1,
   "id": "aaec3b92",
   "metadata": {},
   "outputs": [],
   "source": [
    "from itertools import chain\n",
    "import re\n",
    "import string\n",
    "import unidecode\n",
    "import nltk\n",
    "from nltk.corpus import stopwords  \n",
    "from nltk.tokenize import word_tokenize, sent_tokenize\n",
    "\n",
    "from lxml import html\n",
    "import requests\n",
    "import codecs\n",
    "\n",
    "from sklearn.metrics.pairwise import cosine_similarity\n",
    "from sklearn.feature_extraction.text import CountVectorizer\n",
    "import Levenshtein\n",
    "import gensim\n",
    "\n",
    "import pandas as pd\n",
    "import seaborn as sns\n",
    "import numpy as np\n",
    "\n",
    "import sys\n",
    "from bs4 import BeautifulSoup"
   ]
  },
  {
   "cell_type": "code",
   "execution_count": 2,
   "id": "edbf0029",
   "metadata": {},
   "outputs": [],
   "source": [
    "# 1 Spotify (data-scientist)"
   ]
  },
  {
   "cell_type": "code",
   "execution_count": 3,
   "id": "b8eec8a4",
   "metadata": {},
   "outputs": [],
   "source": [
    "url = 'https://www.lifeatspotify.com/jobs/data-scientist-data-services-automation'\n",
    "page = requests.get(url)\n",
    "codigo_text_página = '//div[@class=\"col-24\"]/ul/li[4]/text()'"
   ]
  },
  {
   "cell_type": "code",
   "execution_count": 4,
   "id": "5519916a",
   "metadata": {},
   "outputs": [
    {
     "data": {
      "text/plain": [
       "['Build tools and dashboards that help sales, marketing, and analytics teams more easily tap into the large amounts of available data',\n",
       " 'You have the technical competence to perform analytics: data extraction and analytics (advanced SQL and Python capabilities), experience with analytics & visualization libraries (pandas, tidyverse, seaborn, ggplot), strong experience in visualization tools (Tableau preferred)',\n",
       " 'Prefer an office to work from home instead? Not a problem! We have plenty of options for your working preferences. ']"
      ]
     },
     "execution_count": 4,
     "metadata": {},
     "output_type": "execute_result"
    }
   ],
   "source": [
    "page = requests.get(url)\n",
    "tree = html.fromstring(page.content)\n",
    "\n",
    "texto = tree.xpath(codigo_text_página)\n",
    "texto"
   ]
  },
  {
   "cell_type": "code",
   "execution_count": 5,
   "id": "2ac716dd",
   "metadata": {},
   "outputs": [],
   "source": [
    "# 2 Amazon"
   ]
  },
  {
   "cell_type": "code",
   "execution_count": 6,
   "id": "959f3254",
   "metadata": {},
   "outputs": [],
   "source": [
    "url2 = 'https://www.amazon.jobs/es/jobs/1876397/data-scientist'\n",
    "page2 = requests.get(url2)\n",
    "codigo_text_página2 = '//div[@class=\"section\"][2]/p/text()'"
   ]
  },
  {
   "cell_type": "code",
   "execution_count": 7,
   "id": "7e867814",
   "metadata": {},
   "outputs": [
    {
     "data": {
      "text/plain": [
       "['Â· M.S. or PhD in Computer Science, Machine Learning, Operational Research, Statistics, or other quantitative field',\n",
       " 'Â· 3+ years of hands-on experience in predictive modeling, analysis, and machine learning',\n",
       " 'Â· 2+ years hands-on experience in Python, Scala, Java, C#, C++ or other similar languages',\n",
       " 'Â· Proficiency in model development, model validation and model implementation for large-scale applications',\n",
       " 'Â· Ability to convey mathematical results to non-science stakeholders',\n",
       " 'Â· Strength in clarifying and formalizing complex problems']"
      ]
     },
     "execution_count": 7,
     "metadata": {},
     "output_type": "execute_result"
    }
   ],
   "source": [
    "page2 = requests.get(url2)\n",
    "tree2 = html.fromstring(page2.content)\n",
    "\n",
    "texto2 = tree2.xpath(codigo_text_página2)\n",
    "texto2"
   ]
  },
  {
   "cell_type": "code",
   "execution_count": 8,
   "id": "9f4bb773",
   "metadata": {},
   "outputs": [],
   "source": [
    "# 3 Spotify (Data Scientist Performance Marketing Analytics)"
   ]
  },
  {
   "cell_type": "code",
   "execution_count": 9,
   "id": "b31d9401",
   "metadata": {},
   "outputs": [],
   "source": [
    "url3 = 'https://www.lifeatspotify.com/jobs/data-scientist-performance-marketing-analytics-2'\n",
    "page3 = requests.get(url3)\n",
    "codigo_text_página3 = '//div[@class=\"col-24\"]/ul/li[6]/text()'"
   ]
  },
  {
   "cell_type": "code",
   "execution_count": 10,
   "id": "6eeac10a",
   "metadata": {},
   "outputs": [
    {
     "data": {
      "text/plain": [
       "['Collaborate with sister analytics teams at Spotify to use shared platforms, best practices, insights and innovations',\n",
       " 'Expert analytical skills, including analysis and modeling of big data using SQL, Python and/or R, statistics, A/B testing, and experimental design required ']"
      ]
     },
     "execution_count": 10,
     "metadata": {},
     "output_type": "execute_result"
    }
   ],
   "source": [
    "page3 = requests.get(url3)\n",
    "tree3 = html.fromstring(page3.content)\n",
    "\n",
    "texto3 = tree3.xpath(codigo_text_página3)\n",
    "texto3"
   ]
  },
  {
   "cell_type": "code",
   "execution_count": 11,
   "id": "a23e8fc6",
   "metadata": {},
   "outputs": [],
   "source": [
    "# 4 Amazon (data scientist vitoria)"
   ]
  },
  {
   "cell_type": "code",
   "execution_count": 12,
   "id": "be0778f2",
   "metadata": {},
   "outputs": [],
   "source": [
    "url4 = 'https://www.amazon.jobs/es/jobs/1346596/senior-manager-data-science'\n",
    "page4 = requests.get(url4)\n",
    "codigo_text_página4 = '//div[@class=\"section\"][2]/p/text()'"
   ]
  },
  {
   "cell_type": "code",
   "execution_count": 13,
   "id": "52976f7e",
   "metadata": {},
   "outputs": [
    {
     "data": {
      "text/plain": [
       "['Â· Masters in quantitative field (Computer Science, Mathematics, Machine Learning, AI, Statistics, or equivalent)',\n",
       " 'Â· 8+ years of experience working in data science ideally in the tech or consumer industry',\n",
       " 'Â· 5+ years of experience managing Machine Learning Scientists, Data Scientists, Research Scientists, Applied Scientists, and/or Economists',\n",
       " 'Â· Evidence of doing or directing science work with high positive impact on business outcomes',\n",
       " 'Â· Experience hiring and leading experienced scientists as well as a successful record of developing junior members to a successful career track',\n",
       " 'Â· Management experience for working on cross-functional projects.',\n",
       " 'Â· Proven achievements of developing and managing a long-term research vision and portfolio of research initiatives, with algorithms and models that have been successfully integrated in production systems']"
      ]
     },
     "execution_count": 13,
     "metadata": {},
     "output_type": "execute_result"
    }
   ],
   "source": [
    "page4 = requests.get(url4)\n",
    "tree4 = html.fromstring(page4.content)\n",
    "\n",
    "texto4 = tree4.xpath(codigo_text_página4)\n",
    "texto4"
   ]
  },
  {
   "cell_type": "code",
   "execution_count": 14,
   "id": "255b8006",
   "metadata": {},
   "outputs": [],
   "source": [
    "# 5 Amazon (Principal ML Engineer)"
   ]
  },
  {
   "cell_type": "code",
   "execution_count": 15,
   "id": "602c7817",
   "metadata": {},
   "outputs": [],
   "source": [
    "url5 = 'https://www.amazon.jobs/es/jobs/1748891/data-scientist'\n",
    "page5 = requests.get(url5)\n",
    "codigo_text_página5 = '//div[@class=\"section\"][2]/p/text()'"
   ]
  },
  {
   "cell_type": "code",
   "execution_count": 16,
   "id": "3b48ea03",
   "metadata": {},
   "outputs": [
    {
     "data": {
      "text/plain": [
       "['Â· Experience working as a Data Scientist',\n",
       " 'Â· Experience with data scripting languages (e.g. SQL, Python, R etc.) or statistical/mathematical software (e.g. R, SAS, or Matlab)',\n",
       " 'Â· Experience working as a Data Scientist',\n",
       " 'Â· Experience with data scripting languages (e.g. SQL, Python, R etc.) or statistical/mathematical software (e.g. R, SAS, or Matlab)',\n",
       " 'Â· Previous experience with reporting and visualization using R/Shiny, Tableau or other similar data visualization and reporting packages',\n",
       " 'Â· Expertise in predictive modelling, including both parametric (e.g. logit/probit) and non-parametric (e.g. random forest, neural net) techniques']"
      ]
     },
     "execution_count": 16,
     "metadata": {},
     "output_type": "execute_result"
    }
   ],
   "source": [
    "page5 = requests.get(url5)\n",
    "tree5 = html.fromstring(page5.content)\n",
    "\n",
    "texto5 = tree5.xpath(codigo_text_página5)\n",
    "texto5"
   ]
  },
  {
   "cell_type": "code",
   "execution_count": 17,
   "id": "56c1cb39",
   "metadata": {},
   "outputs": [],
   "source": [
    "# 6 Toptal (Remote Data Engineer Job)"
   ]
  },
  {
   "cell_type": "code",
   "execution_count": 18,
   "id": "3ea2770b",
   "metadata": {},
   "outputs": [],
   "source": [
    "url6 = 'https://www.toptal.com/freelance-jobs/developers/data-engineer/job-description/data-engineer-full-time-2?utm_source=li_unlimited&utm_medium=talent&utm_campaign=Talent%20-%20Data%20E'\n",
    "page6 = requests.get(url6)\n",
    "codigo_text_página6 = '//div[@data-id=\"job-additional-description\"]/ul/*/text()'"
   ]
  },
  {
   "cell_type": "code",
   "execution_count": 19,
   "id": "cbc0df05",
   "metadata": {},
   "outputs": [
    {
     "data": {
      "text/plain": [
       "['\\n',\n",
       " ' of professional experience in software development',\n",
       " 'Working experience with Python and Pandas.',\n",
       " 'Familiarity with the basic principles of distributed computing and data modeling.',\n",
       " 'Extensive experience with object-oriented design and coding and testing patterns, including experience with engineering software platforms and data infrastructures.',\n",
       " 'Working experience with Airflow and Luigi is a big plus.',\n",
       " 'Working experience with Scala is a plus.',\n",
       " 'Familiarity with Google Cloud Platform (e.g. GCS and BigQuery) is a plus.',\n",
       " 'Working experience with Dimensional Modeling and Rails is a plus.',\n",
       " 'Outstanding communication and interpersonal skills.',\n",
       " '\\n',\n",
       " ' is a strong advantage']"
      ]
     },
     "execution_count": 19,
     "metadata": {},
     "output_type": "execute_result"
    }
   ],
   "source": [
    "page6 = requests.get(url6)\n",
    "tree6 = html.fromstring(page6.content)\n",
    "\n",
    "texto6 = tree6.xpath(codigo_text_página6)\n",
    "texto6"
   ]
  },
  {
   "cell_type": "code",
   "execution_count": 20,
   "id": "c0354590",
   "metadata": {},
   "outputs": [],
   "source": [
    "# 7 Spotify (data scientist)"
   ]
  },
  {
   "cell_type": "code",
   "execution_count": 21,
   "id": "21b62f33",
   "metadata": {},
   "outputs": [],
   "source": [
    "url7 = 'https://www.lifeatspotify.com/jobs/senior-data-scientist-user-platform'\n",
    "page7 = requests.get(url7)\n",
    "codigo_text_página7 = '//div[@class=\"col-24\"]/ul/li[5]/text()'"
   ]
  },
  {
   "cell_type": "code",
   "execution_count": 22,
   "id": "8966a35b",
   "metadata": {},
   "outputs": [
    {
     "data": {
      "text/plain": [
       "['You are proficient in Python, R, SQL, or other scripting languages']"
      ]
     },
     "execution_count": 22,
     "metadata": {},
     "output_type": "execute_result"
    }
   ],
   "source": [
    "page7 = requests.get(url7)\n",
    "tree7 = html.fromstring(page7.content)\n",
    "\n",
    "texto7 = tree7.xpath(codigo_text_página7)\n",
    "texto7"
   ]
  },
  {
   "cell_type": "code",
   "execution_count": 23,
   "id": "81977e88",
   "metadata": {},
   "outputs": [],
   "source": [
    "# ERRORES (200 Y 404)"
   ]
  },
  {
   "cell_type": "code",
   "execution_count": 24,
   "id": "873ad46c",
   "metadata": {},
   "outputs": [
    {
     "name": "stdout",
     "output_type": "stream",
     "text": [
      "Success!\n",
      "HTTP error ocurred: 404 Client Error: Not Found for url: https://api.github.com/invalid\n"
     ]
    }
   ],
   "source": [
    "import requests\n",
    "from requests.exceptions import HTTPError\n",
    "\n",
    "for url in ['https://api.github.com', 'https://api.github.com/invalid']:\n",
    "    try:\n",
    "        response = requests.get(url)\n",
    "        \n",
    "        response.raise_for_status()\n",
    "    except HTTPError as http_err:\n",
    "        print(f'HTTP error ocurred: {http_err}')\n",
    "    except Exception as err:\n",
    "        print(f'Other error ocurred: {err}')\n",
    "    else:\n",
    "        print('Success!')"
   ]
  },
  {
   "cell_type": "code",
   "execution_count": 25,
   "id": "82b3e6dc",
   "metadata": {},
   "outputs": [],
   "source": [
    "urls = ['https://www.lifeatspotify.com/jobs/data-scientist-data-services-automation', 'https://www.amazon.jobs/es/jobs/1876397/data-scientist', 'https://www.lifeatspotify.com/jobs/data-scientist-performance-marketing-analytics-2', 'https://www.amazon.jobs/es/jobs/1346596/senior-manager-data-science', 'https://www.amazon.jobs/es/jobs/1748891/data-scientist', 'https://www.toptal.com/freelance-jobs/developers/data-engineer/job-description/data-engineer-full-time-2?utm_source=li_unlimited&utm_medium=talent&utm_campaign=Talent%20-%20Data%20E', 'https://www.lifeatspotify.com/jobs/senior-data-scientist-user-platform']"
   ]
  },
  {
   "cell_type": "code",
   "execution_count": 26,
   "id": "e9e9d829",
   "metadata": {},
   "outputs": [
    {
     "data": {
      "text/plain": [
       "['https://www.lifeatspotify.com/jobs/data-scientist-data-services-automation',\n",
       " 'https://www.amazon.jobs/es/jobs/1876397/data-scientist',\n",
       " 'https://www.lifeatspotify.com/jobs/data-scientist-performance-marketing-analytics-2',\n",
       " 'https://www.amazon.jobs/es/jobs/1346596/senior-manager-data-science',\n",
       " 'https://www.amazon.jobs/es/jobs/1748891/data-scientist',\n",
       " 'https://www.toptal.com/freelance-jobs/developers/data-engineer/job-description/data-engineer-full-time-2?utm_source=li_unlimited&utm_medium=talent&utm_campaign=Talent%20-%20Data%20E',\n",
       " 'https://www.lifeatspotify.com/jobs/senior-data-scientist-user-platform']"
      ]
     },
     "execution_count": 26,
     "metadata": {},
     "output_type": "execute_result"
    }
   ],
   "source": [
    "urls"
   ]
  },
  {
   "cell_type": "code",
   "execution_count": 27,
   "id": "84bedcd8",
   "metadata": {},
   "outputs": [
    {
     "name": "stdout",
     "output_type": "stream",
     "text": [
      "Escrapeamos\n",
      "Escrapeamos\n",
      "Escrapeamos\n",
      "Escrapeamos\n",
      "Escrapeamos\n",
      "Escrapeamos\n",
      "Escrapeamos\n"
     ]
    }
   ],
   "source": [
    "for url in urls:\n",
    "    status = requests.get(url).status_code\n",
    "    if status == 200:\n",
    "        print('Escrapeamos')\n",
    "    if status == 404:\n",
    "        print('La URL no existe')\n",
    "# Visto el resultado tras cargar esto, todas las urls son aptas"
   ]
  },
  {
   "cell_type": "code",
   "execution_count": 28,
   "id": "6b4bc881",
   "metadata": {},
   "outputs": [],
   "source": [
    "###################################################################"
   ]
  },
  {
   "cell_type": "code",
   "execution_count": 29,
   "id": "dfbb6199",
   "metadata": {},
   "outputs": [],
   "source": [
    "# Lo que voy a hacer es hacer el conteo de palabras por texto, y una vez hecho eso, contar / buscar las skills."
   ]
  },
  {
   "cell_type": "code",
   "execution_count": 30,
   "id": "3c3c3ab7",
   "metadata": {},
   "outputs": [],
   "source": [
    "# 1. Texto"
   ]
  },
  {
   "cell_type": "code",
   "execution_count": 31,
   "id": "8f391129",
   "metadata": {},
   "outputs": [],
   "source": [
    "textos1 = [texto]"
   ]
  },
  {
   "cell_type": "code",
   "execution_count": 32,
   "id": "dbbb2a83",
   "metadata": {},
   "outputs": [],
   "source": [
    "textos_bien1=[]\n",
    "for a in textos1:\n",
    "    for b in a :\n",
    "        textos_bien1.append(b)"
   ]
  },
  {
   "cell_type": "code",
   "execution_count": 33,
   "id": "f13bbe2d",
   "metadata": {},
   "outputs": [
    {
     "name": "stdout",
     "output_type": "stream",
     "text": [
      "['Build', 'tools', 'and', 'dashboards', 'that', 'help', 'sales,', 'marketing,', 'and', 'analytics', 'teams', 'more', 'easily', 'tap', 'into', 'the', 'large', 'amounts', 'of', 'available', 'data']\n",
      "['You', 'have', 'the', 'technical', 'competence', 'to', 'perform', 'analytics:', 'data', 'extraction', 'and', 'analytics', '(advanced', 'SQL', 'and', 'Python', 'capabilities),', 'experience', 'with', 'analytics', '&', 'visualization', 'libraries', '(pandas,', 'tidyverse,', 'seaborn,', 'ggplot),', 'strong', 'experience', 'in', 'visualization', 'tools', '(Tableau', 'preferred)']\n",
      "['Prefer', 'an', 'office', 'to', 'work', 'from', 'home', 'instead?', 'Not', 'a', 'problem!', 'We', 'have', 'plenty', 'of', 'options', 'for', 'your', 'working', 'preferences.']\n"
     ]
    }
   ],
   "source": [
    "palabras1=[]\n",
    "for a in textos_bien1:\n",
    "    print(a.split())\n",
    "    palabras1.append(a.split())"
   ]
  },
  {
   "cell_type": "code",
   "execution_count": null,
   "id": "420d5974",
   "metadata": {},
   "outputs": [],
   "source": [
    "palabras_bien1=[]\n",
    "for a in palabras1:\n",
    "    for b in a :\n",
    "        palabras_bien1.append(b.lower())"
   ]
  },
  {
   "cell_type": "code",
   "execution_count": null,
   "id": "432616a5",
   "metadata": {},
   "outputs": [],
   "source": [
    "from collections import Counter"
   ]
  },
  {
   "cell_type": "code",
   "execution_count": null,
   "id": "a6aa2874",
   "metadata": {
    "scrolled": false
   },
   "outputs": [],
   "source": [
    "contador1= Counter(palabras_bien1)"
   ]
  },
  {
   "cell_type": "code",
   "execution_count": null,
   "id": "f0e924a2",
   "metadata": {},
   "outputs": [],
   "source": [
    "# palabra_mas_repetida1= contador.most_common()"
   ]
  },
  {
   "cell_type": "code",
   "execution_count": null,
   "id": "d106b3b0",
   "metadata": {},
   "outputs": [],
   "source": [
    "# palabra_mas_repetida"
   ]
  },
  {
   "cell_type": "code",
   "execution_count": null,
   "id": "3d0a5690",
   "metadata": {},
   "outputs": [],
   "source": [
    "contador1"
   ]
  },
  {
   "cell_type": "code",
   "execution_count": null,
   "id": "4bcf9884",
   "metadata": {},
   "outputs": [],
   "source": [
    "# 2. Texto"
   ]
  },
  {
   "cell_type": "code",
   "execution_count": null,
   "id": "7bbd74a9",
   "metadata": {},
   "outputs": [],
   "source": [
    "textos = [texto2]"
   ]
  },
  {
   "cell_type": "code",
   "execution_count": null,
   "id": "420e9808",
   "metadata": {},
   "outputs": [],
   "source": [
    "textos_bien=[]\n",
    "for a in textos:\n",
    "    for b in a :\n",
    "        textos_bien.append(b)"
   ]
  },
  {
   "cell_type": "code",
   "execution_count": null,
   "id": "fe83042b",
   "metadata": {
    "scrolled": true
   },
   "outputs": [],
   "source": [
    "palabras =[]\n",
    "for a in textos_bien:\n",
    "    print(a.split())\n",
    "    palabras.append(a.split())"
   ]
  },
  {
   "cell_type": "code",
   "execution_count": null,
   "id": "22f1a4ae",
   "metadata": {},
   "outputs": [],
   "source": [
    "palabras_bien=[]\n",
    "for a in palabras:\n",
    "    for b in a :\n",
    "        palabras_bien.append(b.lower())"
   ]
  },
  {
   "cell_type": "code",
   "execution_count": null,
   "id": "c2ec883b",
   "metadata": {},
   "outputs": [],
   "source": [
    "contador= Counter(palabras_bien)"
   ]
  },
  {
   "cell_type": "code",
   "execution_count": null,
   "id": "65775079",
   "metadata": {},
   "outputs": [],
   "source": [
    "contador"
   ]
  },
  {
   "cell_type": "code",
   "execution_count": null,
   "id": "c6bd49b5",
   "metadata": {},
   "outputs": [],
   "source": [
    "# 3. Texto"
   ]
  },
  {
   "cell_type": "code",
   "execution_count": null,
   "id": "babfe161",
   "metadata": {},
   "outputs": [],
   "source": [
    "textos = [texto3]"
   ]
  },
  {
   "cell_type": "code",
   "execution_count": null,
   "id": "d9a17c98",
   "metadata": {},
   "outputs": [],
   "source": [
    "textos_bien=[]\n",
    "for a in textos:\n",
    "    for b in a :\n",
    "        textos_bien.append(b)"
   ]
  },
  {
   "cell_type": "code",
   "execution_count": null,
   "id": "4fecffe3",
   "metadata": {
    "scrolled": true
   },
   "outputs": [],
   "source": [
    "palabras =[]\n",
    "for a in textos_bien:\n",
    "    print(a.split())\n",
    "    palabras.append(a.split())"
   ]
  },
  {
   "cell_type": "code",
   "execution_count": null,
   "id": "ecdb884d",
   "metadata": {},
   "outputs": [],
   "source": [
    "palabras_bien=[]\n",
    "for a in palabras:\n",
    "    for b in a :\n",
    "        palabras_bien.append(b.lower())"
   ]
  },
  {
   "cell_type": "code",
   "execution_count": null,
   "id": "890b63b9",
   "metadata": {},
   "outputs": [],
   "source": [
    "contador= Counter(palabras_bien)"
   ]
  },
  {
   "cell_type": "code",
   "execution_count": null,
   "id": "a73d6e55",
   "metadata": {},
   "outputs": [],
   "source": [
    "contador"
   ]
  },
  {
   "cell_type": "code",
   "execution_count": null,
   "id": "bf031fd3",
   "metadata": {},
   "outputs": [],
   "source": [
    "# 4. Texto"
   ]
  },
  {
   "cell_type": "code",
   "execution_count": null,
   "id": "1b9bbac1",
   "metadata": {},
   "outputs": [],
   "source": [
    "textos = [texto4]"
   ]
  },
  {
   "cell_type": "code",
   "execution_count": null,
   "id": "d959839b",
   "metadata": {},
   "outputs": [],
   "source": [
    "textos_bien=[]\n",
    "for a in textos:\n",
    "    for b in a :\n",
    "        textos_bien.append(b)"
   ]
  },
  {
   "cell_type": "code",
   "execution_count": null,
   "id": "b91e6cc8",
   "metadata": {},
   "outputs": [],
   "source": [
    "palabras =[]\n",
    "for a in textos_bien:\n",
    "    print(a.split())\n",
    "    palabras.append(a.split())"
   ]
  },
  {
   "cell_type": "code",
   "execution_count": null,
   "id": "ce67cb7a",
   "metadata": {},
   "outputs": [],
   "source": [
    "palabras_bien=[]\n",
    "for a in palabras:\n",
    "    for b in a :\n",
    "        palabras_bien.append(b.lower())"
   ]
  },
  {
   "cell_type": "code",
   "execution_count": null,
   "id": "337e241e",
   "metadata": {},
   "outputs": [],
   "source": [
    "contador= Counter(palabras_bien)"
   ]
  },
  {
   "cell_type": "code",
   "execution_count": null,
   "id": "c1ec8c71",
   "metadata": {
    "scrolled": true
   },
   "outputs": [],
   "source": [
    "contador"
   ]
  },
  {
   "cell_type": "code",
   "execution_count": null,
   "id": "d505bbe4",
   "metadata": {},
   "outputs": [],
   "source": [
    "# 5. Texto"
   ]
  },
  {
   "cell_type": "code",
   "execution_count": null,
   "id": "94ec6148",
   "metadata": {},
   "outputs": [],
   "source": [
    "textos = [texto5]"
   ]
  },
  {
   "cell_type": "code",
   "execution_count": null,
   "id": "063a581a",
   "metadata": {},
   "outputs": [],
   "source": [
    "textos_bien=[]\n",
    "for a in textos:\n",
    "    for b in a :\n",
    "        textos_bien.append(b)"
   ]
  },
  {
   "cell_type": "code",
   "execution_count": null,
   "id": "e4408dbe",
   "metadata": {},
   "outputs": [],
   "source": [
    "palabras =[]\n",
    "for a in textos_bien:\n",
    "    print(a.split())\n",
    "    palabras.append(a.split())"
   ]
  },
  {
   "cell_type": "code",
   "execution_count": null,
   "id": "7db125cf",
   "metadata": {},
   "outputs": [],
   "source": [
    "palabras_bien=[]\n",
    "for a in palabras:\n",
    "    for b in a :\n",
    "        palabras_bien.append(b.lower())"
   ]
  },
  {
   "cell_type": "code",
   "execution_count": null,
   "id": "bfb0f231",
   "metadata": {},
   "outputs": [],
   "source": [
    "contador= Counter(palabras_bien)"
   ]
  },
  {
   "cell_type": "code",
   "execution_count": null,
   "id": "173afe77",
   "metadata": {},
   "outputs": [],
   "source": [
    "contador"
   ]
  },
  {
   "cell_type": "code",
   "execution_count": null,
   "id": "96acdbe3",
   "metadata": {},
   "outputs": [],
   "source": [
    "# 6. Texto"
   ]
  },
  {
   "cell_type": "code",
   "execution_count": null,
   "id": "3399cdb7",
   "metadata": {},
   "outputs": [],
   "source": [
    "textos = [texto6]"
   ]
  },
  {
   "cell_type": "code",
   "execution_count": null,
   "id": "47ebafa7",
   "metadata": {},
   "outputs": [],
   "source": [
    "textos_bien=[]\n",
    "for a in textos:\n",
    "    for b in a :\n",
    "        textos_bien.append(b)"
   ]
  },
  {
   "cell_type": "code",
   "execution_count": null,
   "id": "b34e3ae7",
   "metadata": {},
   "outputs": [],
   "source": [
    "palabras =[]\n",
    "for a in textos_bien:\n",
    "    print(a.split())\n",
    "    palabras.append(a.split())"
   ]
  },
  {
   "cell_type": "code",
   "execution_count": null,
   "id": "e0c707d9",
   "metadata": {},
   "outputs": [],
   "source": [
    "palabras_bien=[]\n",
    "for a in palabras:\n",
    "    for b in a :\n",
    "        palabras_bien.append(b.lower())"
   ]
  },
  {
   "cell_type": "code",
   "execution_count": null,
   "id": "6ae9c7a0",
   "metadata": {},
   "outputs": [],
   "source": [
    "contador= Counter(palabras_bien)"
   ]
  },
  {
   "cell_type": "code",
   "execution_count": null,
   "id": "70e7e6ac",
   "metadata": {},
   "outputs": [],
   "source": [
    "contador"
   ]
  },
  {
   "cell_type": "code",
   "execution_count": null,
   "id": "bcb9e5ab",
   "metadata": {},
   "outputs": [],
   "source": [
    "# 7. Texto"
   ]
  },
  {
   "cell_type": "code",
   "execution_count": null,
   "id": "4e90e4f9",
   "metadata": {},
   "outputs": [],
   "source": [
    "textos = [texto7]"
   ]
  },
  {
   "cell_type": "code",
   "execution_count": null,
   "id": "bb9a2a01",
   "metadata": {},
   "outputs": [],
   "source": [
    "textos_bien=[]\n",
    "for a in textos:\n",
    "    for b in a :\n",
    "        textos_bien.append(b)"
   ]
  },
  {
   "cell_type": "code",
   "execution_count": null,
   "id": "dbdbe151",
   "metadata": {},
   "outputs": [],
   "source": [
    "palabras =[]\n",
    "for a in textos_bien:\n",
    "    print(a.split())\n",
    "    palabras.append(a.split())"
   ]
  },
  {
   "cell_type": "code",
   "execution_count": null,
   "id": "a9b90251",
   "metadata": {},
   "outputs": [],
   "source": [
    "palabras_bien=[]\n",
    "for a in palabras:\n",
    "    for b in a :\n",
    "        palabras_bien.append(b.lower())"
   ]
  },
  {
   "cell_type": "code",
   "execution_count": null,
   "id": "5984aca4",
   "metadata": {},
   "outputs": [],
   "source": [
    "contador= Counter(palabras_bien)"
   ]
  },
  {
   "cell_type": "code",
   "execution_count": null,
   "id": "0bac0f0e",
   "metadata": {},
   "outputs": [],
   "source": [
    "contador"
   ]
  },
  {
   "cell_type": "markdown",
   "id": "2fa8e160",
   "metadata": {},
   "source": [
    "# (Ver informe para ver los resultados del scrapeo (conteo de palabras, las skills más repetidas, porcentaje de aparición...))"
   ]
  },
  {
   "cell_type": "code",
   "execution_count": null,
   "id": "4ad4f868",
   "metadata": {},
   "outputs": [],
   "source": [
    "import string\n",
    "import nltk\n",
    "nltk.download('stopwords')"
   ]
  },
  {
   "cell_type": "code",
   "execution_count": null,
   "id": "1adecb94",
   "metadata": {},
   "outputs": [],
   "source": [
    "from sklearn.metrics.pairwise import cosine_similarity\n",
    "from sklearn.feature_extraction.text import CountVectorizer\n",
    "from nltk.corpus import stopwords\n",
    "stopwords=stopwords.words('english')"
   ]
  },
  {
   "cell_type": "code",
   "execution_count": null,
   "id": "69d493f2",
   "metadata": {},
   "outputs": [],
   "source": [
    "sentences = [texto, texto2, texto3, texto4, texto5, texto6, texto7]"
   ]
  },
  {
   "cell_type": "code",
   "execution_count": null,
   "id": "2503eb30",
   "metadata": {},
   "outputs": [],
   "source": [
    "def clean_string(text):\n",
    "    text = ''.join([word for word in text if word not in string.punctuation])\n",
    "    text = text.lower()\n",
    "    text = ' '.join([word for word in text.split() if word not in stopwords])\n",
    "    return text"
   ]
  },
  {
   "cell_type": "code",
   "execution_count": null,
   "id": "06d55d00",
   "metadata": {},
   "outputs": [],
   "source": [
    "cleaned = list(map(clean_string,sentences))"
   ]
  },
  {
   "cell_type": "code",
   "execution_count": null,
   "id": "13c9b737",
   "metadata": {},
   "outputs": [],
   "source": [
    "cleaned"
   ]
  },
  {
   "cell_type": "code",
   "execution_count": null,
   "id": "364e4c8f",
   "metadata": {},
   "outputs": [],
   "source": [
    "vectorizer = CountVectorizer().fit_transform(cleaned)\n",
    "vectors = vectorizer.toarray()"
   ]
  },
  {
   "cell_type": "code",
   "execution_count": null,
   "id": "a0cb1d1b",
   "metadata": {},
   "outputs": [],
   "source": [
    "vectors"
   ]
  },
  {
   "cell_type": "code",
   "execution_count": null,
   "id": "f21a69b8",
   "metadata": {},
   "outputs": [],
   "source": [
    "csim = cosine_similarity(vectors)"
   ]
  },
  {
   "cell_type": "code",
   "execution_count": null,
   "id": "62b3d225",
   "metadata": {},
   "outputs": [],
   "source": [
    "csim"
   ]
  },
  {
   "cell_type": "code",
   "execution_count": null,
   "id": "ee47f89f",
   "metadata": {},
   "outputs": [],
   "source": [
    "import seaborn as sns; sns.set_theme()"
   ]
  },
  {
   "cell_type": "code",
   "execution_count": null,
   "id": "08000459",
   "metadata": {},
   "outputs": [],
   "source": [
    "ax = sns.heatmap(csim, cmap='Greys')"
   ]
  },
  {
   "cell_type": "markdown",
   "id": "db9f7fa1",
   "metadata": {},
   "source": [
    "Vemos como hay mas similitud entre algunos textos que entre otros (mas ocuro, más similitud)."
   ]
  },
  {
   "cell_type": "markdown",
   "id": "dcd6d365",
   "metadata": {},
   "source": [
    "Como hay algunos de los conceptos que no eran exactamente como los habíamos apuntado, hemos calculado la distancia de Levenshtein \n",
    "entre algunas de nuestras skills y las skills encontradas.\n",
    "Pero al ser tan pequeñas las distancias y como tienen el mismo significado, las hemos contado."
   ]
  },
  {
   "cell_type": "code",
   "execution_count": null,
   "id": "0bd94422",
   "metadata": {},
   "outputs": [],
   "source": [
    "import Levenshtein"
   ]
  },
  {
   "cell_type": "code",
   "execution_count": null,
   "id": "cfe99956",
   "metadata": {},
   "outputs": [],
   "source": [
    "Levenshtein.distance('model','modeling')"
   ]
  },
  {
   "cell_type": "code",
   "execution_count": null,
   "id": "979b5038",
   "metadata": {},
   "outputs": [],
   "source": [
    "Levenshtein.distance('model','modelling')"
   ]
  },
  {
   "cell_type": "code",
   "execution_count": null,
   "id": "727236dd",
   "metadata": {},
   "outputs": [],
   "source": [
    "Levenshtein.distance('analytics','analysis')"
   ]
  },
  {
   "cell_type": "code",
   "execution_count": null,
   "id": "f05bbe91",
   "metadata": {},
   "outputs": [],
   "source": [
    "Levenshtein.distance('pandas','(pandas,')"
   ]
  },
  {
   "cell_type": "code",
   "execution_count": null,
   "id": "ab6104f6",
   "metadata": {},
   "outputs": [],
   "source": [
    "Levenshtein.distance('visualization','visualization')"
   ]
  },
  {
   "cell_type": "code",
   "execution_count": null,
   "id": "5ef7cde7",
   "metadata": {},
   "outputs": [],
   "source": []
  }
 ],
 "metadata": {
  "kernelspec": {
   "display_name": "Python 3 (ipykernel)",
   "language": "python",
   "name": "python3"
  },
  "language_info": {
   "codemirror_mode": {
    "name": "ipython",
    "version": 3
   },
   "file_extension": ".py",
   "mimetype": "text/x-python",
   "name": "python",
   "nbconvert_exporter": "python",
   "pygments_lexer": "ipython3",
   "version": "3.8.12"
  }
 },
 "nbformat": 4,
 "nbformat_minor": 5
}
