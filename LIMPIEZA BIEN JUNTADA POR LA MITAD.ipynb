{
 "cells": [
  {
   "cell_type": "code",
   "execution_count": 15,
   "id": "f685050c",
   "metadata": {},
   "outputs": [],
   "source": [
    "import pandas as pd\n",
    "import numpy as np\n",
    "import datetime as dt\n",
    "import matplotlib.pyplot as plt\n"
   ]
  },
  {
   "cell_type": "code",
   "execution_count": 2,
   "id": "5bf64f9c",
   "metadata": {},
   "outputs": [],
   "source": [
    "pd.options.display.max_columns = None"
   ]
  },
  {
   "cell_type": "code",
   "execution_count": 3,
   "id": "aa6c315f",
   "metadata": {},
   "outputs": [],
   "source": [
    "df = pd.read_excel('EDERJAKIN_LA_Datos_2021.xlsm', sheet_name=None)"
   ]
  },
  {
   "cell_type": "code",
   "execution_count": 4,
   "id": "590f0204",
   "metadata": {},
   "outputs": [],
   "source": [
    "for sheet_name in list(df.keys()):\n",
    "   df[sheet_name].to_csv(sheet_name + 'Sheet.csv')"
   ]
  },
  {
   "cell_type": "code",
   "execution_count": 5,
   "id": "5537ffdc",
   "metadata": {},
   "outputs": [],
   "source": [
    "Usuarios = pd.read_csv('UsuariosSheet.csv')\n",
    "Tutores_perfil = pd.read_csv('Tutores perfilSheet.csv')\n",
    "Conocimientos = pd.read_csv('ConocimientosSheet.csv')\n",
    "Cursos = pd.read_csv('CursosSheet.csv')\n",
    "Programas = pd.read_csv('ProgramasSheet.csv')\n",
    "Cursos_en_Programas = pd.read_csv('Cursos en ProgramasSheet.csv')\n",
    "Itinearios = pd.read_csv('ItineariosSheet.csv')\n",
    "Notas_Cursos = pd.read_csv('Notas_CursosSheet.csv')\n",
    "Roles = pd.read_csv('RolesSheet.csv')\n",
    "Plantas = pd.read_csv('PlantasSheet.csv')\n",
    "Accesos = pd.read_csv('AccesosSheet.csv')\n",
    "Acceso_1ero_ultimo = pd.read_csv('Acceso_1ero_ultimoSheet.csv')\n",
    "Actividades = pd.read_csv('ActividadesSheet.csv')"
   ]
  },
  {
   "cell_type": "code",
   "execution_count": 6,
   "id": "42c41228-f5bd-46aa-a4f7-07a01e26fc7c",
   "metadata": {},
   "outputs": [
    {
     "data": {
      "text/html": [
       "<div>\n",
       "<style scoped>\n",
       "    .dataframe tbody tr th:only-of-type {\n",
       "        vertical-align: middle;\n",
       "    }\n",
       "\n",
       "    .dataframe tbody tr th {\n",
       "        vertical-align: top;\n",
       "    }\n",
       "\n",
       "    .dataframe thead th {\n",
       "        text-align: right;\n",
       "    }\n",
       "</style>\n",
       "<table border=\"1\" class=\"dataframe\">\n",
       "  <thead>\n",
       "    <tr style=\"text-align: right;\">\n",
       "      <th></th>\n",
       "      <th>Unnamed: 0</th>\n",
       "      <th>user_id</th>\n",
       "      <th>useranonimo_name</th>\n",
       "      <th>active_flag</th>\n",
       "      <th>language</th>\n",
       "      <th>last_access</th>\n",
       "      <th>mdl_user_id</th>\n",
       "      <th>role_admin</th>\n",
       "      <th>role_manager</th>\n",
       "      <th>role_student</th>\n",
       "      <th>role_tutor</th>\n",
       "      <th>planta_name</th>\n",
       "      <th>Unnamed: 11</th>\n",
       "    </tr>\n",
       "  </thead>\n",
       "  <tbody>\n",
       "    <tr>\n",
       "      <th>0</th>\n",
       "      <td>0</td>\n",
       "      <td>3</td>\n",
       "      <td>username_03</td>\n",
       "      <td>1</td>\n",
       "      <td>es</td>\n",
       "      <td>NaN</td>\n",
       "      <td>13.0</td>\n",
       "      <td>0</td>\n",
       "      <td>0</td>\n",
       "      <td>1</td>\n",
       "      <td>0</td>\n",
       "      <td>ABP Bergara</td>\n",
       "      <td>NaN</td>\n",
       "    </tr>\n",
       "    <tr>\n",
       "      <th>1</th>\n",
       "      <td>1</td>\n",
       "      <td>4</td>\n",
       "      <td>username_04</td>\n",
       "      <td>1</td>\n",
       "      <td>es</td>\n",
       "      <td>NaN</td>\n",
       "      <td>14.0</td>\n",
       "      <td>0</td>\n",
       "      <td>0</td>\n",
       "      <td>1</td>\n",
       "      <td>0</td>\n",
       "      <td>Fagorederlan</td>\n",
       "      <td>NaN</td>\n",
       "    </tr>\n",
       "    <tr>\n",
       "      <th>2</th>\n",
       "      <td>2</td>\n",
       "      <td>5</td>\n",
       "      <td>username_05</td>\n",
       "      <td>1</td>\n",
       "      <td>es</td>\n",
       "      <td>NaN</td>\n",
       "      <td>15.0</td>\n",
       "      <td>0</td>\n",
       "      <td>0</td>\n",
       "      <td>1</td>\n",
       "      <td>0</td>\n",
       "      <td>ABP Arrasate</td>\n",
       "      <td>NaN</td>\n",
       "    </tr>\n",
       "    <tr>\n",
       "      <th>3</th>\n",
       "      <td>3</td>\n",
       "      <td>6</td>\n",
       "      <td>username_06</td>\n",
       "      <td>1</td>\n",
       "      <td>es</td>\n",
       "      <td>NaN</td>\n",
       "      <td>17.0</td>\n",
       "      <td>0</td>\n",
       "      <td>0</td>\n",
       "      <td>1</td>\n",
       "      <td>0</td>\n",
       "      <td>Fagorederlan</td>\n",
       "      <td>NaN</td>\n",
       "    </tr>\n",
       "    <tr>\n",
       "      <th>4</th>\n",
       "      <td>4</td>\n",
       "      <td>7</td>\n",
       "      <td>username_07</td>\n",
       "      <td>1</td>\n",
       "      <td>es</td>\n",
       "      <td>NaN</td>\n",
       "      <td>18.0</td>\n",
       "      <td>0</td>\n",
       "      <td>0</td>\n",
       "      <td>1</td>\n",
       "      <td>0</td>\n",
       "      <td>ABP Arrasate</td>\n",
       "      <td>NaN</td>\n",
       "    </tr>\n",
       "    <tr>\n",
       "      <th>...</th>\n",
       "      <td>...</td>\n",
       "      <td>...</td>\n",
       "      <td>...</td>\n",
       "      <td>...</td>\n",
       "      <td>...</td>\n",
       "      <td>...</td>\n",
       "      <td>...</td>\n",
       "      <td>...</td>\n",
       "      <td>...</td>\n",
       "      <td>...</td>\n",
       "      <td>...</td>\n",
       "      <td>...</td>\n",
       "      <td>...</td>\n",
       "    </tr>\n",
       "    <tr>\n",
       "      <th>415</th>\n",
       "      <td>415</td>\n",
       "      <td>432</td>\n",
       "      <td>username_432</td>\n",
       "      <td>1</td>\n",
       "      <td>es</td>\n",
       "      <td>NaN</td>\n",
       "      <td>457.0</td>\n",
       "      <td>0</td>\n",
       "      <td>0</td>\n",
       "      <td>1</td>\n",
       "      <td>0</td>\n",
       "      <td>MT Aretxabaleta</td>\n",
       "      <td>NaN</td>\n",
       "    </tr>\n",
       "    <tr>\n",
       "      <th>416</th>\n",
       "      <td>416</td>\n",
       "      <td>433</td>\n",
       "      <td>username_433</td>\n",
       "      <td>1</td>\n",
       "      <td>es</td>\n",
       "      <td>NaN</td>\n",
       "      <td>458.0</td>\n",
       "      <td>0</td>\n",
       "      <td>0</td>\n",
       "      <td>1</td>\n",
       "      <td>0</td>\n",
       "      <td>MT Aretxabaleta</td>\n",
       "      <td>NaN</td>\n",
       "    </tr>\n",
       "    <tr>\n",
       "      <th>417</th>\n",
       "      <td>417</td>\n",
       "      <td>434</td>\n",
       "      <td>username_434</td>\n",
       "      <td>1</td>\n",
       "      <td>es</td>\n",
       "      <td>NaN</td>\n",
       "      <td>459.0</td>\n",
       "      <td>0</td>\n",
       "      <td>0</td>\n",
       "      <td>1</td>\n",
       "      <td>0</td>\n",
       "      <td>MT Aretxabaleta</td>\n",
       "      <td>NaN</td>\n",
       "    </tr>\n",
       "    <tr>\n",
       "      <th>418</th>\n",
       "      <td>418</td>\n",
       "      <td>435</td>\n",
       "      <td>username_435</td>\n",
       "      <td>1</td>\n",
       "      <td>es</td>\n",
       "      <td>NaN</td>\n",
       "      <td>460.0</td>\n",
       "      <td>0</td>\n",
       "      <td>0</td>\n",
       "      <td>1</td>\n",
       "      <td>0</td>\n",
       "      <td>MT Aretxabaleta</td>\n",
       "      <td>NaN</td>\n",
       "    </tr>\n",
       "    <tr>\n",
       "      <th>419</th>\n",
       "      <td>419</td>\n",
       "      <td>436</td>\n",
       "      <td>username_436</td>\n",
       "      <td>1</td>\n",
       "      <td>es</td>\n",
       "      <td>NaN</td>\n",
       "      <td>461.0</td>\n",
       "      <td>0</td>\n",
       "      <td>1</td>\n",
       "      <td>1</td>\n",
       "      <td>1</td>\n",
       "      <td>ABP Bergara</td>\n",
       "      <td>NaN</td>\n",
       "    </tr>\n",
       "  </tbody>\n",
       "</table>\n",
       "<p>420 rows × 13 columns</p>\n",
       "</div>"
      ],
      "text/plain": [
       "     Unnamed: 0  user_id useranonimo_name  active_flag language  last_access  \\\n",
       "0             0        3      username_03            1       es          NaN   \n",
       "1             1        4      username_04            1       es          NaN   \n",
       "2             2        5      username_05            1       es          NaN   \n",
       "3             3        6      username_06            1       es          NaN   \n",
       "4             4        7      username_07            1       es          NaN   \n",
       "..          ...      ...              ...          ...      ...          ...   \n",
       "415         415      432     username_432            1       es          NaN   \n",
       "416         416      433     username_433            1       es          NaN   \n",
       "417         417      434     username_434            1       es          NaN   \n",
       "418         418      435     username_435            1       es          NaN   \n",
       "419         419      436     username_436            1       es          NaN   \n",
       "\n",
       "     mdl_user_id  role_admin  role_manager  role_student  role_tutor  \\\n",
       "0           13.0           0             0             1           0   \n",
       "1           14.0           0             0             1           0   \n",
       "2           15.0           0             0             1           0   \n",
       "3           17.0           0             0             1           0   \n",
       "4           18.0           0             0             1           0   \n",
       "..           ...         ...           ...           ...         ...   \n",
       "415        457.0           0             0             1           0   \n",
       "416        458.0           0             0             1           0   \n",
       "417        459.0           0             0             1           0   \n",
       "418        460.0           0             0             1           0   \n",
       "419        461.0           0             1             1           1   \n",
       "\n",
       "         planta_name  Unnamed: 11  \n",
       "0        ABP Bergara          NaN  \n",
       "1       Fagorederlan          NaN  \n",
       "2       ABP Arrasate          NaN  \n",
       "3       Fagorederlan          NaN  \n",
       "4       ABP Arrasate          NaN  \n",
       "..               ...          ...  \n",
       "415  MT Aretxabaleta          NaN  \n",
       "416  MT Aretxabaleta          NaN  \n",
       "417  MT Aretxabaleta          NaN  \n",
       "418  MT Aretxabaleta          NaN  \n",
       "419      ABP Bergara          NaN  \n",
       "\n",
       "[420 rows x 13 columns]"
      ]
     },
     "execution_count": 6,
     "metadata": {},
     "output_type": "execute_result"
    }
   ],
   "source": [
    "Usuarios"
   ]
  },
  {
   "cell_type": "code",
   "execution_count": 7,
   "id": "010626bf-c72b-4f1b-a91f-95b47777b441",
   "metadata": {},
   "outputs": [
    {
     "data": {
      "text/plain": [
       "Index(['Unnamed: 0', 'user_id', 'useranonimo_name', 'active_flag', 'language',\n",
       "       'last_access', 'mdl_user_id', 'role_admin', 'role_manager',\n",
       "       'role_student', 'role_tutor', 'planta_name', 'Unnamed: 11'],\n",
       "      dtype='object')"
      ]
     },
     "execution_count": 7,
     "metadata": {},
     "output_type": "execute_result"
    }
   ],
   "source": [
    "#Nombre de columnas\n",
    "Usuarios.columns"
   ]
  },
  {
   "cell_type": "code",
   "execution_count": 8,
   "id": "18d327ea-e04c-425c-9d62-95010c6011ad",
   "metadata": {},
   "outputs": [
    {
     "data": {
      "text/plain": [
       "(420, 13)"
      ]
     },
     "execution_count": 8,
     "metadata": {},
     "output_type": "execute_result"
    }
   ],
   "source": [
    "#Numero de columnas/filas\n",
    "Usuarios.shape"
   ]
  },
  {
   "cell_type": "code",
   "execution_count": 9,
   "id": "00fe9df2-c220-4c2f-b8df-c237bc9786c7",
   "metadata": {},
   "outputs": [
    {
     "data": {
      "text/plain": [
       "<bound method DataFrame.info of      Unnamed: 0  user_id useranonimo_name  active_flag language  last_access  \\\n",
       "0             0        3      username_03            1       es          NaN   \n",
       "1             1        4      username_04            1       es          NaN   \n",
       "2             2        5      username_05            1       es          NaN   \n",
       "3             3        6      username_06            1       es          NaN   \n",
       "4             4        7      username_07            1       es          NaN   \n",
       "..          ...      ...              ...          ...      ...          ...   \n",
       "415         415      432     username_432            1       es          NaN   \n",
       "416         416      433     username_433            1       es          NaN   \n",
       "417         417      434     username_434            1       es          NaN   \n",
       "418         418      435     username_435            1       es          NaN   \n",
       "419         419      436     username_436            1       es          NaN   \n",
       "\n",
       "     mdl_user_id  role_admin  role_manager  role_student  role_tutor  \\\n",
       "0           13.0           0             0             1           0   \n",
       "1           14.0           0             0             1           0   \n",
       "2           15.0           0             0             1           0   \n",
       "3           17.0           0             0             1           0   \n",
       "4           18.0           0             0             1           0   \n",
       "..           ...         ...           ...           ...         ...   \n",
       "415        457.0           0             0             1           0   \n",
       "416        458.0           0             0             1           0   \n",
       "417        459.0           0             0             1           0   \n",
       "418        460.0           0             0             1           0   \n",
       "419        461.0           0             1             1           1   \n",
       "\n",
       "         planta_name  Unnamed: 11  \n",
       "0        ABP Bergara          NaN  \n",
       "1       Fagorederlan          NaN  \n",
       "2       ABP Arrasate          NaN  \n",
       "3       Fagorederlan          NaN  \n",
       "4       ABP Arrasate          NaN  \n",
       "..               ...          ...  \n",
       "415  MT Aretxabaleta          NaN  \n",
       "416  MT Aretxabaleta          NaN  \n",
       "417  MT Aretxabaleta          NaN  \n",
       "418  MT Aretxabaleta          NaN  \n",
       "419      ABP Bergara          NaN  \n",
       "\n",
       "[420 rows x 13 columns]>"
      ]
     },
     "execution_count": 9,
     "metadata": {},
     "output_type": "execute_result"
    }
   ],
   "source": [
    "Usuarios.info"
   ]
  },
  {
   "cell_type": "code",
   "execution_count": 10,
   "id": "fad50488-cad7-4872-b0a3-cc077b625091",
   "metadata": {},
   "outputs": [
    {
     "data": {
      "text/plain": [
       "Unnamed: 0            int64\n",
       "user_id               int64\n",
       "useranonimo_name     object\n",
       "active_flag           int64\n",
       "language             object\n",
       "last_access         float64\n",
       "mdl_user_id         float64\n",
       "role_admin            int64\n",
       "role_manager          int64\n",
       "role_student          int64\n",
       "role_tutor            int64\n",
       "planta_name          object\n",
       "Unnamed: 11         float64\n",
       "dtype: object"
      ]
     },
     "execution_count": 10,
     "metadata": {},
     "output_type": "execute_result"
    }
   ],
   "source": [
    "#Tipos de variables\n",
    "Usuarios.dtypes"
   ]
  },
  {
   "cell_type": "code",
   "execution_count": 11,
   "id": "642decab-4826-4bef-80f9-cf90f7599fbf",
   "metadata": {},
   "outputs": [
    {
     "data": {
      "text/plain": [
       "0"
      ]
     },
     "execution_count": 11,
     "metadata": {},
     "output_type": "execute_result"
    }
   ],
   "source": [
    "#Duplicados\n",
    "Usuarios.duplicated().sum() # busca duplicados de fila completa"
   ]
  },
  {
   "cell_type": "code",
   "execution_count": 12,
   "id": "f913cd52",
   "metadata": {},
   "outputs": [
    {
     "data": {
      "text/plain": [
       "Unnamed: 0            0\n",
       "user_id               0\n",
       "useranonimo_name      0\n",
       "active_flag           0\n",
       "language              0\n",
       "last_access         420\n",
       "mdl_user_id          15\n",
       "role_admin            0\n",
       "role_manager          0\n",
       "role_student          0\n",
       "role_tutor            0\n",
       "planta_name           0\n",
       "Unnamed: 11         420\n",
       "dtype: int64"
      ]
     },
     "execution_count": 12,
     "metadata": {},
     "output_type": "execute_result"
    }
   ],
   "source": [
    "#NA'S\n",
    "Usuarios.isna()\n",
    "#Eliminamos last_acceses por %100 de NA'S \n",
    "Usuarios.isna().sum()\n"
   ]
  },
  {
   "cell_type": "code",
   "execution_count": 12,
   "id": "b63f579d-e888-44f3-981d-ba25d8c2fe83",
   "metadata": {},
   "outputs": [],
   "source": [
    "#Se quitan o no 15 mdl_user_id en caso de que no necesitemos la variable\n",
    "Usuarios=Usuarios.dropna(subset = ['mdl_user_id'])"
   ]
  },
  {
   "cell_type": "code",
   "execution_count": 13,
   "id": "31db6327-9e96-4b9c-bbe6-cd89ef169238",
   "metadata": {},
   "outputs": [
    {
     "name": "stderr",
     "output_type": "stream",
     "text": [
      "<ipython-input-13-ce90060094c4>:1: SettingWithCopyWarning: \n",
      "A value is trying to be set on a copy of a slice from a DataFrame.\n",
      "Try using .loc[row_indexer,col_indexer] = value instead\n",
      "\n",
      "See the caveats in the documentation: https://pandas.pydata.org/pandas-docs/stable/user_guide/indexing.html#returning-a-view-versus-a-copy\n",
      "  Usuarios[\"mdl_user_id\"] = Usuarios[\"mdl_user_id\"].astype(int)\n"
     ]
    }
   ],
   "source": [
    "Usuarios[\"mdl_user_id\"] = Usuarios[\"mdl_user_id\"].astype(int)"
   ]
  },
  {
   "cell_type": "code",
   "execution_count": null,
   "id": "e83f11da-a61a-4263-90ac-2bf37ee0139f",
   "metadata": {},
   "outputs": [],
   "source": [
    "#Outliers"
   ]
  },
  {
   "cell_type": "code",
   "execution_count": 23,
   "id": "ec6794fc-b32e-4d8e-bf32-8028c8a5e718",
   "metadata": {},
   "outputs": [
    {
     "data": {
      "text/html": [
       "<div>\n",
       "<style scoped>\n",
       "    .dataframe tbody tr th:only-of-type {\n",
       "        vertical-align: middle;\n",
       "    }\n",
       "\n",
       "    .dataframe tbody tr th {\n",
       "        vertical-align: top;\n",
       "    }\n",
       "\n",
       "    .dataframe thead th {\n",
       "        text-align: right;\n",
       "    }\n",
       "</style>\n",
       "<table border=\"1\" class=\"dataframe\">\n",
       "  <thead>\n",
       "    <tr style=\"text-align: right;\">\n",
       "      <th></th>\n",
       "      <th>Unnamed: 0</th>\n",
       "      <th>user_id</th>\n",
       "      <th>active_flag</th>\n",
       "      <th>last_access</th>\n",
       "      <th>mdl_user_id</th>\n",
       "      <th>role_admin</th>\n",
       "      <th>role_manager</th>\n",
       "      <th>role_student</th>\n",
       "      <th>role_tutor</th>\n",
       "      <th>Unnamed: 11</th>\n",
       "    </tr>\n",
       "  </thead>\n",
       "  <tbody>\n",
       "    <tr>\n",
       "      <th>count</th>\n",
       "      <td>405.000000</td>\n",
       "      <td>405.000000</td>\n",
       "      <td>405.000000</td>\n",
       "      <td>0.0</td>\n",
       "      <td>405.000000</td>\n",
       "      <td>405.000000</td>\n",
       "      <td>405.000000</td>\n",
       "      <td>405.000000</td>\n",
       "      <td>405.000000</td>\n",
       "      <td>0.0</td>\n",
       "    </tr>\n",
       "    <tr>\n",
       "      <th>mean</th>\n",
       "      <td>208.271605</td>\n",
       "      <td>217.849383</td>\n",
       "      <td>0.851852</td>\n",
       "      <td>NaN</td>\n",
       "      <td>246.585185</td>\n",
       "      <td>0.004938</td>\n",
       "      <td>0.064198</td>\n",
       "      <td>0.886420</td>\n",
       "      <td>0.175309</td>\n",
       "      <td>NaN</td>\n",
       "    </tr>\n",
       "    <tr>\n",
       "      <th>std</th>\n",
       "      <td>123.332844</td>\n",
       "      <td>128.182669</td>\n",
       "      <td>0.355686</td>\n",
       "      <td>NaN</td>\n",
       "      <td>130.018433</td>\n",
       "      <td>0.070186</td>\n",
       "      <td>0.245408</td>\n",
       "      <td>0.317693</td>\n",
       "      <td>0.380701</td>\n",
       "      <td>NaN</td>\n",
       "    </tr>\n",
       "    <tr>\n",
       "      <th>min</th>\n",
       "      <td>0.000000</td>\n",
       "      <td>3.000000</td>\n",
       "      <td>0.000000</td>\n",
       "      <td>NaN</td>\n",
       "      <td>3.000000</td>\n",
       "      <td>0.000000</td>\n",
       "      <td>0.000000</td>\n",
       "      <td>0.000000</td>\n",
       "      <td>0.000000</td>\n",
       "      <td>NaN</td>\n",
       "    </tr>\n",
       "    <tr>\n",
       "      <th>25%</th>\n",
       "      <td>101.000000</td>\n",
       "      <td>105.000000</td>\n",
       "      <td>1.000000</td>\n",
       "      <td>NaN</td>\n",
       "      <td>133.000000</td>\n",
       "      <td>0.000000</td>\n",
       "      <td>0.000000</td>\n",
       "      <td>1.000000</td>\n",
       "      <td>0.000000</td>\n",
       "      <td>NaN</td>\n",
       "    </tr>\n",
       "    <tr>\n",
       "      <th>50%</th>\n",
       "      <td>203.000000</td>\n",
       "      <td>212.000000</td>\n",
       "      <td>1.000000</td>\n",
       "      <td>NaN</td>\n",
       "      <td>253.000000</td>\n",
       "      <td>0.000000</td>\n",
       "      <td>0.000000</td>\n",
       "      <td>1.000000</td>\n",
       "      <td>0.000000</td>\n",
       "      <td>NaN</td>\n",
       "    </tr>\n",
       "    <tr>\n",
       "      <th>75%</th>\n",
       "      <td>318.000000</td>\n",
       "      <td>333.000000</td>\n",
       "      <td>1.000000</td>\n",
       "      <td>NaN</td>\n",
       "      <td>359.000000</td>\n",
       "      <td>0.000000</td>\n",
       "      <td>0.000000</td>\n",
       "      <td>1.000000</td>\n",
       "      <td>0.000000</td>\n",
       "      <td>NaN</td>\n",
       "    </tr>\n",
       "    <tr>\n",
       "      <th>max</th>\n",
       "      <td>419.000000</td>\n",
       "      <td>436.000000</td>\n",
       "      <td>1.000000</td>\n",
       "      <td>NaN</td>\n",
       "      <td>461.000000</td>\n",
       "      <td>1.000000</td>\n",
       "      <td>1.000000</td>\n",
       "      <td>1.000000</td>\n",
       "      <td>1.000000</td>\n",
       "      <td>NaN</td>\n",
       "    </tr>\n",
       "  </tbody>\n",
       "</table>\n",
       "</div>"
      ],
      "text/plain": [
       "       Unnamed: 0     user_id  active_flag  last_access  mdl_user_id  \\\n",
       "count  405.000000  405.000000   405.000000          0.0   405.000000   \n",
       "mean   208.271605  217.849383     0.851852          NaN   246.585185   \n",
       "std    123.332844  128.182669     0.355686          NaN   130.018433   \n",
       "min      0.000000    3.000000     0.000000          NaN     3.000000   \n",
       "25%    101.000000  105.000000     1.000000          NaN   133.000000   \n",
       "50%    203.000000  212.000000     1.000000          NaN   253.000000   \n",
       "75%    318.000000  333.000000     1.000000          NaN   359.000000   \n",
       "max    419.000000  436.000000     1.000000          NaN   461.000000   \n",
       "\n",
       "       role_admin  role_manager  role_student  role_tutor  Unnamed: 11  \n",
       "count  405.000000    405.000000    405.000000  405.000000          0.0  \n",
       "mean     0.004938      0.064198      0.886420    0.175309          NaN  \n",
       "std      0.070186      0.245408      0.317693    0.380701          NaN  \n",
       "min      0.000000      0.000000      0.000000    0.000000          NaN  \n",
       "25%      0.000000      0.000000      1.000000    0.000000          NaN  \n",
       "50%      0.000000      0.000000      1.000000    0.000000          NaN  \n",
       "75%      0.000000      0.000000      1.000000    0.000000          NaN  \n",
       "max      1.000000      1.000000      1.000000    1.000000          NaN  "
      ]
     },
     "execution_count": 23,
     "metadata": {},
     "output_type": "execute_result"
    }
   ],
   "source": [
    "Usuarios.describe()"
   ]
  },
  {
   "cell_type": "code",
   "execution_count": null,
   "id": "f948780c-4fb9-4a44-825e-cdb38e1cbf0d",
   "metadata": {},
   "outputs": [],
   "source": []
  },
  {
   "cell_type": "code",
   "execution_count": null,
   "id": "3ad45871-fedb-443c-9ef0-1db52ba8c2a9",
   "metadata": {},
   "outputs": [],
   "source": [
    "Tutores_perfil"
   ]
  },
  {
   "cell_type": "code",
   "execution_count": null,
   "id": "1336692c-639a-4441-88ce-6ff86b439a1d",
   "metadata": {},
   "outputs": [],
   "source": [
    "Tutores_perfil.columns"
   ]
  },
  {
   "cell_type": "code",
   "execution_count": null,
   "id": "f719e375-e6ef-4514-83ae-7526123476e4",
   "metadata": {},
   "outputs": [],
   "source": [
    "Tutores_perfil=Tutores_perfil.drop(['Unnamed: 0'], axis=1)"
   ]
  },
  {
   "cell_type": "code",
   "execution_count": null,
   "id": "063fe9b7-3803-4d48-a61c-74cb19142e3c",
   "metadata": {},
   "outputs": [],
   "source": [
    "#Tipos de variables\n",
    "Tutores_perfil.dtypes"
   ]
  },
  {
   "cell_type": "code",
   "execution_count": null,
   "id": "c797f374-40c5-4852-aae9-2d61f65890c8",
   "metadata": {},
   "outputs": [],
   "source": [
    "#Duplicados\n",
    "Tutores_perfil.duplicated().sum() # busca duplicados de fila completa"
   ]
  },
  {
   "cell_type": "code",
   "execution_count": null,
   "id": "245ce5a0",
   "metadata": {},
   "outputs": [],
   "source": [
    "#NA'S\n",
    "Tutores_perfil.isna()\n",
    "#Eliminamos last_acceses por %100 de NA'S \n",
    "Tutores_perfil.isna().sum()"
   ]
  },
  {
   "cell_type": "code",
   "execution_count": null,
   "id": "bc8a3fb2-be69-4574-b364-b520feddd897",
   "metadata": {},
   "outputs": [],
   "source": [
    "Tutores_perfil.shape"
   ]
  },
  {
   "cell_type": "code",
   "execution_count": null,
   "id": "65a35ffa",
   "metadata": {},
   "outputs": [],
   "source": [
    "Tutores_perfil = Tutores_perfil.fillna(\"Tutores basicos\")"
   ]
  },
  {
   "cell_type": "code",
   "execution_count": 25,
   "id": "171071db",
   "metadata": {},
   "outputs": [
    {
     "data": {
      "text/html": [
       "<div>\n",
       "<style scoped>\n",
       "    .dataframe tbody tr th:only-of-type {\n",
       "        vertical-align: middle;\n",
       "    }\n",
       "\n",
       "    .dataframe tbody tr th {\n",
       "        vertical-align: top;\n",
       "    }\n",
       "\n",
       "    .dataframe thead th {\n",
       "        text-align: right;\n",
       "    }\n",
       "</style>\n",
       "<table border=\"1\" class=\"dataframe\">\n",
       "  <thead>\n",
       "    <tr style=\"text-align: right;\">\n",
       "      <th></th>\n",
       "      <th>Unnamed: 0</th>\n",
       "      <th>perfil_id</th>\n",
       "      <th>user_id</th>\n",
       "      <th>perfil_name</th>\n",
       "    </tr>\n",
       "  </thead>\n",
       "  <tbody>\n",
       "    <tr>\n",
       "      <th>0</th>\n",
       "      <td>0</td>\n",
       "      <td>3</td>\n",
       "      <td>10</td>\n",
       "      <td>Gestor de empresa</td>\n",
       "    </tr>\n",
       "    <tr>\n",
       "      <th>1</th>\n",
       "      <td>1</td>\n",
       "      <td>3</td>\n",
       "      <td>41</td>\n",
       "      <td>Gestor de empresa</td>\n",
       "    </tr>\n",
       "    <tr>\n",
       "      <th>2</th>\n",
       "      <td>2</td>\n",
       "      <td>3</td>\n",
       "      <td>42</td>\n",
       "      <td>Gestor de empresa</td>\n",
       "    </tr>\n",
       "    <tr>\n",
       "      <th>3</th>\n",
       "      <td>3</td>\n",
       "      <td>3</td>\n",
       "      <td>110</td>\n",
       "      <td>Gestor de empresa</td>\n",
       "    </tr>\n",
       "    <tr>\n",
       "      <th>4</th>\n",
       "      <td>4</td>\n",
       "      <td>3</td>\n",
       "      <td>115</td>\n",
       "      <td>Gestor de empresa</td>\n",
       "    </tr>\n",
       "    <tr>\n",
       "      <th>...</th>\n",
       "      <td>...</td>\n",
       "      <td>...</td>\n",
       "      <td>...</td>\n",
       "      <td>...</td>\n",
       "    </tr>\n",
       "    <tr>\n",
       "      <th>183</th>\n",
       "      <td>183</td>\n",
       "      <td>0</td>\n",
       "      <td>358</td>\n",
       "      <td>NaN</td>\n",
       "    </tr>\n",
       "    <tr>\n",
       "      <th>184</th>\n",
       "      <td>184</td>\n",
       "      <td>0</td>\n",
       "      <td>369</td>\n",
       "      <td>NaN</td>\n",
       "    </tr>\n",
       "    <tr>\n",
       "      <th>185</th>\n",
       "      <td>185</td>\n",
       "      <td>0</td>\n",
       "      <td>379</td>\n",
       "      <td>NaN</td>\n",
       "    </tr>\n",
       "    <tr>\n",
       "      <th>186</th>\n",
       "      <td>186</td>\n",
       "      <td>0</td>\n",
       "      <td>415</td>\n",
       "      <td>NaN</td>\n",
       "    </tr>\n",
       "    <tr>\n",
       "      <th>187</th>\n",
       "      <td>187</td>\n",
       "      <td>0</td>\n",
       "      <td>423</td>\n",
       "      <td>NaN</td>\n",
       "    </tr>\n",
       "  </tbody>\n",
       "</table>\n",
       "<p>188 rows × 4 columns</p>\n",
       "</div>"
      ],
      "text/plain": [
       "     Unnamed: 0  perfil_id  user_id        perfil_name\n",
       "0             0          3       10  Gestor de empresa\n",
       "1             1          3       41  Gestor de empresa\n",
       "2             2          3       42  Gestor de empresa\n",
       "3             3          3      110  Gestor de empresa\n",
       "4             4          3      115  Gestor de empresa\n",
       "..          ...        ...      ...                ...\n",
       "183         183          0      358                NaN\n",
       "184         184          0      369                NaN\n",
       "185         185          0      379                NaN\n",
       "186         186          0      415                NaN\n",
       "187         187          0      423                NaN\n",
       "\n",
       "[188 rows x 4 columns]"
      ]
     },
     "execution_count": 25,
     "metadata": {},
     "output_type": "execute_result"
    }
   ],
   "source": [
    "Tutores_perfil"
   ]
  },
  {
   "cell_type": "code",
   "execution_count": null,
   "id": "1b9a4f25-d480-4eb0-81b0-7575803c7165",
   "metadata": {},
   "outputs": [],
   "source": [
    "#Outliers"
   ]
  },
  {
   "cell_type": "code",
   "execution_count": 24,
   "id": "d6c0a1d3-559e-4550-b7df-037754c582cc",
   "metadata": {},
   "outputs": [
    {
     "data": {
      "text/html": [
       "<div>\n",
       "<style scoped>\n",
       "    .dataframe tbody tr th:only-of-type {\n",
       "        vertical-align: middle;\n",
       "    }\n",
       "\n",
       "    .dataframe tbody tr th {\n",
       "        vertical-align: top;\n",
       "    }\n",
       "\n",
       "    .dataframe thead th {\n",
       "        text-align: right;\n",
       "    }\n",
       "</style>\n",
       "<table border=\"1\" class=\"dataframe\">\n",
       "  <thead>\n",
       "    <tr style=\"text-align: right;\">\n",
       "      <th></th>\n",
       "      <th>Unnamed: 0</th>\n",
       "      <th>perfil_id</th>\n",
       "      <th>user_id</th>\n",
       "    </tr>\n",
       "  </thead>\n",
       "  <tbody>\n",
       "    <tr>\n",
       "      <th>count</th>\n",
       "      <td>188.000000</td>\n",
       "      <td>188.000000</td>\n",
       "      <td>188.000000</td>\n",
       "    </tr>\n",
       "    <tr>\n",
       "      <th>mean</th>\n",
       "      <td>93.500000</td>\n",
       "      <td>3.712766</td>\n",
       "      <td>209.079787</td>\n",
       "    </tr>\n",
       "    <tr>\n",
       "      <th>std</th>\n",
       "      <td>54.415071</td>\n",
       "      <td>3.140634</td>\n",
       "      <td>105.263250</td>\n",
       "    </tr>\n",
       "    <tr>\n",
       "      <th>min</th>\n",
       "      <td>0.000000</td>\n",
       "      <td>0.000000</td>\n",
       "      <td>3.000000</td>\n",
       "    </tr>\n",
       "    <tr>\n",
       "      <th>25%</th>\n",
       "      <td>46.750000</td>\n",
       "      <td>0.000000</td>\n",
       "      <td>137.750000</td>\n",
       "    </tr>\n",
       "    <tr>\n",
       "      <th>50%</th>\n",
       "      <td>93.500000</td>\n",
       "      <td>6.000000</td>\n",
       "      <td>196.000000</td>\n",
       "    </tr>\n",
       "    <tr>\n",
       "      <th>75%</th>\n",
       "      <td>140.250000</td>\n",
       "      <td>6.000000</td>\n",
       "      <td>305.250000</td>\n",
       "    </tr>\n",
       "    <tr>\n",
       "      <th>max</th>\n",
       "      <td>187.000000</td>\n",
       "      <td>8.000000</td>\n",
       "      <td>436.000000</td>\n",
       "    </tr>\n",
       "  </tbody>\n",
       "</table>\n",
       "</div>"
      ],
      "text/plain": [
       "       Unnamed: 0   perfil_id     user_id\n",
       "count  188.000000  188.000000  188.000000\n",
       "mean    93.500000    3.712766  209.079787\n",
       "std     54.415071    3.140634  105.263250\n",
       "min      0.000000    0.000000    3.000000\n",
       "25%     46.750000    0.000000  137.750000\n",
       "50%     93.500000    6.000000  196.000000\n",
       "75%    140.250000    6.000000  305.250000\n",
       "max    187.000000    8.000000  436.000000"
      ]
     },
     "execution_count": 24,
     "metadata": {},
     "output_type": "execute_result"
    }
   ],
   "source": [
    "Tutores_perfil.describe()"
   ]
  },
  {
   "cell_type": "code",
   "execution_count": null,
   "id": "0da6075c-337d-4354-b107-43f51370b575",
   "metadata": {},
   "outputs": [],
   "source": []
  },
  {
   "cell_type": "code",
   "execution_count": null,
   "id": "26837b90",
   "metadata": {},
   "outputs": [],
   "source": []
  },
  {
   "cell_type": "code",
   "execution_count": null,
   "id": "eb0745bf",
   "metadata": {},
   "outputs": [],
   "source": [
    "Conocimientos"
   ]
  },
  {
   "cell_type": "code",
   "execution_count": null,
   "id": "3bb425a8",
   "metadata": {},
   "outputs": [],
   "source": [
    "#Nombre de columnas\n",
    "Conocimientos.columns"
   ]
  },
  {
   "cell_type": "code",
   "execution_count": null,
   "id": "b9e5a75c",
   "metadata": {},
   "outputs": [],
   "source": [
    "Conocimientos=Conocimientos.drop(['Unnamed: 0'], axis=1)\n",
    "Conocimientos=Conocimientos.drop(['color'], axis=1)\n"
   ]
  },
  {
   "cell_type": "code",
   "execution_count": null,
   "id": "f56431ba-05ec-4251-b6ea-f4251d5835b6",
   "metadata": {},
   "outputs": [],
   "source": [
    "#Tipos de variables\n",
    "Conocimientos.dtypes"
   ]
  },
  {
   "cell_type": "code",
   "execution_count": null,
   "id": "759ba6b7-70ee-4d24-85d6-12219e6d37b6",
   "metadata": {},
   "outputs": [],
   "source": [
    "#Duplicados\n",
    "Conocimientos.duplicated().sum() # busca duplicados de fila completa"
   ]
  },
  {
   "cell_type": "code",
   "execution_count": null,
   "id": "1f3555e8-0d7d-466b-b553-cc5600c50ee7",
   "metadata": {},
   "outputs": [],
   "source": [
    "#NA'S\n",
    "Conocimientos.isna()\n",
    "#Eliminamos last_acceses por %100 de NA'S \n",
    "Conocimientos.isna().sum()"
   ]
  },
  {
   "cell_type": "code",
   "execution_count": null,
   "id": "179e7cf6",
   "metadata": {},
   "outputs": [],
   "source": [
    "Conocimientos.shape"
   ]
  },
  {
   "cell_type": "code",
   "execution_count": null,
   "id": "b0b8d775-54c0-43e3-b0cc-7ded1463d36e",
   "metadata": {},
   "outputs": [],
   "source": [
    "Conocimientos=Conocimientos.drop(['description'], axis=1)\n",
    "Conocimientos=Conocimientos.drop(['referencia'], axis=1)\n"
   ]
  },
  {
   "cell_type": "code",
   "execution_count": null,
   "id": "2ccecc20-ba2d-4b8a-8f8c-4014e0876ea4",
   "metadata": {},
   "outputs": [],
   "source": [
    "Conocimientos = Conocimientos.fillna(\"Sin asignar\")\n"
   ]
  },
  {
   "cell_type": "code",
   "execution_count": null,
   "id": "f7832afe-dd0d-4a6f-b011-00958cd1962b",
   "metadata": {},
   "outputs": [],
   "source": [
    "#Outliers"
   ]
  },
  {
   "cell_type": "code",
   "execution_count": 26,
   "id": "64d02517-d193-4144-8f5a-8a6329a614da",
   "metadata": {},
   "outputs": [
    {
     "data": {
      "text/html": [
       "<div>\n",
       "<style scoped>\n",
       "    .dataframe tbody tr th:only-of-type {\n",
       "        vertical-align: middle;\n",
       "    }\n",
       "\n",
       "    .dataframe tbody tr th {\n",
       "        vertical-align: top;\n",
       "    }\n",
       "\n",
       "    .dataframe thead th {\n",
       "        text-align: right;\n",
       "    }\n",
       "</style>\n",
       "<table border=\"1\" class=\"dataframe\">\n",
       "  <thead>\n",
       "    <tr style=\"text-align: right;\">\n",
       "      <th></th>\n",
       "      <th>Unnamed: 0</th>\n",
       "      <th>conocimiento_id</th>\n",
       "      <th>created_by</th>\n",
       "      <th>categoria_conocimiento_id</th>\n",
       "    </tr>\n",
       "  </thead>\n",
       "  <tbody>\n",
       "    <tr>\n",
       "      <th>count</th>\n",
       "      <td>155.000000</td>\n",
       "      <td>155.000000</td>\n",
       "      <td>155.000000</td>\n",
       "      <td>155.000000</td>\n",
       "    </tr>\n",
       "    <tr>\n",
       "      <th>mean</th>\n",
       "      <td>77.000000</td>\n",
       "      <td>87.664516</td>\n",
       "      <td>152.432258</td>\n",
       "      <td>44.141935</td>\n",
       "    </tr>\n",
       "    <tr>\n",
       "      <th>std</th>\n",
       "      <td>44.888751</td>\n",
       "      <td>49.260278</td>\n",
       "      <td>57.356939</td>\n",
       "      <td>56.412838</td>\n",
       "    </tr>\n",
       "    <tr>\n",
       "      <th>min</th>\n",
       "      <td>0.000000</td>\n",
       "      <td>1.000000</td>\n",
       "      <td>26.000000</td>\n",
       "      <td>0.000000</td>\n",
       "    </tr>\n",
       "    <tr>\n",
       "      <th>25%</th>\n",
       "      <td>38.500000</td>\n",
       "      <td>42.500000</td>\n",
       "      <td>135.000000</td>\n",
       "      <td>1.000000</td>\n",
       "    </tr>\n",
       "    <tr>\n",
       "      <th>50%</th>\n",
       "      <td>77.000000</td>\n",
       "      <td>91.000000</td>\n",
       "      <td>135.000000</td>\n",
       "      <td>11.000000</td>\n",
       "    </tr>\n",
       "    <tr>\n",
       "      <th>75%</th>\n",
       "      <td>115.500000</td>\n",
       "      <td>129.500000</td>\n",
       "      <td>151.000000</td>\n",
       "      <td>79.000000</td>\n",
       "    </tr>\n",
       "    <tr>\n",
       "      <th>max</th>\n",
       "      <td>154.000000</td>\n",
       "      <td>168.000000</td>\n",
       "      <td>292.000000</td>\n",
       "      <td>158.000000</td>\n",
       "    </tr>\n",
       "  </tbody>\n",
       "</table>\n",
       "</div>"
      ],
      "text/plain": [
       "       Unnamed: 0  conocimiento_id  created_by  categoria_conocimiento_id\n",
       "count  155.000000       155.000000  155.000000                 155.000000\n",
       "mean    77.000000        87.664516  152.432258                  44.141935\n",
       "std     44.888751        49.260278   57.356939                  56.412838\n",
       "min      0.000000         1.000000   26.000000                   0.000000\n",
       "25%     38.500000        42.500000  135.000000                   1.000000\n",
       "50%     77.000000        91.000000  135.000000                  11.000000\n",
       "75%    115.500000       129.500000  151.000000                  79.000000\n",
       "max    154.000000       168.000000  292.000000                 158.000000"
      ]
     },
     "execution_count": 26,
     "metadata": {},
     "output_type": "execute_result"
    }
   ],
   "source": [
    "Conocimientos.describe()"
   ]
  },
  {
   "cell_type": "code",
   "execution_count": null,
   "id": "23907d0e-9e57-47c6-958e-407697f0a568",
   "metadata": {},
   "outputs": [],
   "source": []
  },
  {
   "cell_type": "code",
   "execution_count": null,
   "id": "b40d28df",
   "metadata": {},
   "outputs": [],
   "source": []
  },
  {
   "cell_type": "code",
   "execution_count": 37,
   "id": "5e3de40e",
   "metadata": {},
   "outputs": [
    {
     "data": {
      "text/html": [
       "<div>\n",
       "<style scoped>\n",
       "    .dataframe tbody tr th:only-of-type {\n",
       "        vertical-align: middle;\n",
       "    }\n",
       "\n",
       "    .dataframe tbody tr th {\n",
       "        vertical-align: top;\n",
       "    }\n",
       "\n",
       "    .dataframe thead th {\n",
       "        text-align: right;\n",
       "    }\n",
       "</style>\n",
       "<table border=\"1\" class=\"dataframe\">\n",
       "  <thead>\n",
       "    <tr style=\"text-align: right;\">\n",
       "      <th></th>\n",
       "      <th>Unnamed: 0</th>\n",
       "      <th>course_id</th>\n",
       "      <th>course_name</th>\n",
       "      <th>category</th>\n",
       "      <th>hours</th>\n",
       "      <th>course_shortname</th>\n",
       "      <th>sortorder</th>\n",
       "      <th>summary</th>\n",
       "    </tr>\n",
       "  </thead>\n",
       "  <tbody>\n",
       "    <tr>\n",
       "      <th>0</th>\n",
       "      <td>0</td>\n",
       "      <td>1</td>\n",
       "      <td>EDERJakin FagorEDERLAN</td>\n",
       "      <td>0</td>\n",
       "      <td>0</td>\n",
       "      <td>EDERJAKIN</td>\n",
       "      <td>1</td>\n",
       "      <td>NaN</td>\n",
       "    </tr>\n",
       "    <tr>\n",
       "      <th>1</th>\n",
       "      <td>1</td>\n",
       "      <td>2</td>\n",
       "      <td>ITINERARIO GRADO DUAL 2018/19</td>\n",
       "      <td>3</td>\n",
       "      <td>0</td>\n",
       "      <td>ITI_GRADO_DUAL_18/19</td>\n",
       "      <td>40016</td>\n",
       "      <td>Itinerario de Aprendizaje del GRADO DUAL en Fa...</td>\n",
       "    </tr>\n",
       "    <tr>\n",
       "      <th>2</th>\n",
       "      <td>2</td>\n",
       "      <td>6</td>\n",
       "      <td>ITINERARIO CICLO DUAL 2018/19</td>\n",
       "      <td>3</td>\n",
       "      <td>0</td>\n",
       "      <td>ITI_CICLO_DUAL_18/19</td>\n",
       "      <td>40014</td>\n",
       "      <td>Itinerario de Aprendizaje del CICLO DUAL en Fa...</td>\n",
       "    </tr>\n",
       "    <tr>\n",
       "      <th>3</th>\n",
       "      <td>3</td>\n",
       "      <td>9</td>\n",
       "      <td>TEC_01 - PRODUCTOS FAGOR EDERLAN</td>\n",
       "      <td>3</td>\n",
       "      <td>4</td>\n",
       "      <td>TEC_01</td>\n",
       "      <td>40022</td>\n",
       "      <td>Conocer los PRODUCTOS fabricados de Fagor EDERLAN</td>\n",
       "    </tr>\n",
       "    <tr>\n",
       "      <th>4</th>\n",
       "      <td>4</td>\n",
       "      <td>10</td>\n",
       "      <td>TEC_02 - PROCESOS PRODUCTIVOS</td>\n",
       "      <td>3</td>\n",
       "      <td>20</td>\n",
       "      <td>TEC_02</td>\n",
       "      <td>40024</td>\n",
       "      <td>Conocer los PROCESOS PRODUCTIVOS de Fagor EDERLAN</td>\n",
       "    </tr>\n",
       "    <tr>\n",
       "      <th>...</th>\n",
       "      <td>...</td>\n",
       "      <td>...</td>\n",
       "      <td>...</td>\n",
       "      <td>...</td>\n",
       "      <td>...</td>\n",
       "      <td>...</td>\n",
       "      <td>...</td>\n",
       "      <td>...</td>\n",
       "    </tr>\n",
       "    <tr>\n",
       "      <th>134</th>\n",
       "      <td>134</td>\n",
       "      <td>303</td>\n",
       "      <td>CONTROL VISUAL MEC - MLA IKUS KONTROLA</td>\n",
       "      <td>27</td>\n",
       "      <td>0</td>\n",
       "      <td>TEC_CVMEC_02_MLA</td>\n",
       "      <td>110003</td>\n",
       "      <td>NaN</td>\n",
       "    </tr>\n",
       "    <tr>\n",
       "      <th>135</th>\n",
       "      <td>135</td>\n",
       "      <td>304</td>\n",
       "      <td>CONTROL VISUAL MEC - BR IKUS KONTROLA</td>\n",
       "      <td>27</td>\n",
       "      <td>0</td>\n",
       "      <td>TEC_CVMEC_02_BR</td>\n",
       "      <td>110002</td>\n",
       "      <td>NaN</td>\n",
       "    </tr>\n",
       "    <tr>\n",
       "      <th>136</th>\n",
       "      <td>136</td>\n",
       "      <td>305</td>\n",
       "      <td>CONTROL VISUAL MEC - UKL</td>\n",
       "      <td>27</td>\n",
       "      <td>0</td>\n",
       "      <td>TEC_CVMEC_01_UKL</td>\n",
       "      <td>110001</td>\n",
       "      <td>NaN</td>\n",
       "    </tr>\n",
       "    <tr>\n",
       "      <th>137</th>\n",
       "      <td>137</td>\n",
       "      <td>306</td>\n",
       "      <td>CURSO UXUE</td>\n",
       "      <td>27</td>\n",
       "      <td>0</td>\n",
       "      <td>TEC_ABP_UXUE</td>\n",
       "      <td>0</td>\n",
       "      <td>NaN</td>\n",
       "    </tr>\n",
       "    <tr>\n",
       "      <th>138</th>\n",
       "      <td>138</td>\n",
       "      <td>307</td>\n",
       "      <td>FUSIOA ABP - FUSIO DORREA N2</td>\n",
       "      <td>27</td>\n",
       "      <td>40</td>\n",
       "      <td>_ALDATU_</td>\n",
       "      <td>0</td>\n",
       "      <td>NaN</td>\n",
       "    </tr>\n",
       "  </tbody>\n",
       "</table>\n",
       "<p>137 rows × 8 columns</p>\n",
       "</div>"
      ],
      "text/plain": [
       "     Unnamed: 0  course_id                             course_name  category  \\\n",
       "0             0          1                  EDERJakin FagorEDERLAN         0   \n",
       "1             1          2           ITINERARIO GRADO DUAL 2018/19         3   \n",
       "2             2          6           ITINERARIO CICLO DUAL 2018/19         3   \n",
       "3             3          9        TEC_01 - PRODUCTOS FAGOR EDERLAN         3   \n",
       "4             4         10           TEC_02 - PROCESOS PRODUCTIVOS         3   \n",
       "..          ...        ...                                     ...       ...   \n",
       "134         134        303  CONTROL VISUAL MEC - MLA IKUS KONTROLA        27   \n",
       "135         135        304   CONTROL VISUAL MEC - BR IKUS KONTROLA        27   \n",
       "136         136        305                CONTROL VISUAL MEC - UKL        27   \n",
       "137         137        306                              CURSO UXUE        27   \n",
       "138         138        307            FUSIOA ABP - FUSIO DORREA N2        27   \n",
       "\n",
       "     hours      course_shortname  sortorder  \\\n",
       "0        0             EDERJAKIN          1   \n",
       "1        0  ITI_GRADO_DUAL_18/19      40016   \n",
       "2        0  ITI_CICLO_DUAL_18/19      40014   \n",
       "3        4                TEC_01      40022   \n",
       "4       20                TEC_02      40024   \n",
       "..     ...                   ...        ...   \n",
       "134      0      TEC_CVMEC_02_MLA     110003   \n",
       "135      0       TEC_CVMEC_02_BR     110002   \n",
       "136      0      TEC_CVMEC_01_UKL     110001   \n",
       "137      0          TEC_ABP_UXUE          0   \n",
       "138     40              _ALDATU_          0   \n",
       "\n",
       "                                               summary  \n",
       "0                                                  NaN  \n",
       "1    Itinerario de Aprendizaje del GRADO DUAL en Fa...  \n",
       "2    Itinerario de Aprendizaje del CICLO DUAL en Fa...  \n",
       "3    Conocer los PRODUCTOS fabricados de Fagor EDERLAN  \n",
       "4    Conocer los PROCESOS PRODUCTIVOS de Fagor EDERLAN  \n",
       "..                                                 ...  \n",
       "134                                                NaN  \n",
       "135                                                NaN  \n",
       "136                                                NaN  \n",
       "137                                                NaN  \n",
       "138                                                NaN  \n",
       "\n",
       "[137 rows x 8 columns]"
      ]
     },
     "execution_count": 37,
     "metadata": {},
     "output_type": "execute_result"
    }
   ],
   "source": [
    "Cursos\n"
   ]
  },
  {
   "cell_type": "code",
   "execution_count": null,
   "id": "b5b540da",
   "metadata": {
    "scrolled": true
   },
   "outputs": [],
   "source": [
    "#Nombre de columnas\n",
    "Cursos.columns"
   ]
  },
  {
   "cell_type": "code",
   "execution_count": null,
   "id": "5c4afc55-25a9-48d4-9523-95195bb89e13",
   "metadata": {},
   "outputs": [],
   "source": [
    "Cursos=Cursos.drop(\"course_shortname\",axis=1)\n",
    "Cursos=Cursos.drop(\"Unnamed: 0\",axis=1)"
   ]
  },
  {
   "cell_type": "code",
   "execution_count": null,
   "id": "2dec59a7-8be4-4a16-a7b9-7daae69dc6fc",
   "metadata": {},
   "outputs": [],
   "source": [
    "#Tipos de variables\n",
    "Cursos.dtypes"
   ]
  },
  {
   "cell_type": "code",
   "execution_count": null,
   "id": "13c8e3cd-f9e6-4410-8734-bf542d147360",
   "metadata": {},
   "outputs": [],
   "source": [
    "#Duplicados\n",
    "Cursos.duplicated().sum() # busca duplicados de fila completa"
   ]
  },
  {
   "cell_type": "code",
   "execution_count": null,
   "id": "17521b2b-f472-4bb3-b035-df472249101c",
   "metadata": {},
   "outputs": [],
   "source": [
    "Cursos.shape"
   ]
  },
  {
   "cell_type": "code",
   "execution_count": null,
   "id": "47aa6ec3-8f9c-4a01-bd97-4e4919c1866c",
   "metadata": {},
   "outputs": [],
   "source": [
    "#NA'S\n",
    "Cursos.isna()\n",
    "#Eliminamos last_acceses por %100 de NA'S \n",
    "Cursos.isna().sum()"
   ]
  },
  {
   "cell_type": "code",
   "execution_count": null,
   "id": "bc6dc8bd",
   "metadata": {},
   "outputs": [],
   "source": [
    "Cursos = Cursos.fillna(\"No especificado\")"
   ]
  },
  {
   "cell_type": "code",
   "execution_count": null,
   "id": "4be1b87a-d5ba-4089-a0a3-9525ef16523c",
   "metadata": {},
   "outputs": [],
   "source": []
  },
  {
   "cell_type": "code",
   "execution_count": null,
   "id": "98aed6d3-7928-4ac7-894d-fb717ad36d06",
   "metadata": {},
   "outputs": [],
   "source": [
    "#Outliers"
   ]
  },
  {
   "cell_type": "code",
   "execution_count": 21,
   "id": "76a928b1-bc54-4357-8dbf-9c6e9e477f8c",
   "metadata": {},
   "outputs": [
    {
     "data": {
      "text/plain": [
       "count    139.000000\n",
       "mean      12.086331\n",
       "std       84.481151\n",
       "min        0.000000\n",
       "25%        0.000000\n",
       "50%        0.000000\n",
       "75%        2.000000\n",
       "max      800.000000\n",
       "Name: hours, dtype: float64"
      ]
     },
     "execution_count": 21,
     "metadata": {},
     "output_type": "execute_result"
    }
   ],
   "source": [
    "Cursos.hours.describe()"
   ]
  },
  {
   "cell_type": "code",
   "execution_count": 22,
   "id": "5350e93b-02ac-4fb9-833c-4dd4ccf8e728",
   "metadata": {},
   "outputs": [
    {
     "data": {
      "text/plain": [
       "<AxesSubplot:>"
      ]
     },
     "execution_count": 22,
     "metadata": {},
     "output_type": "execute_result"
    },
    {
     "data": {
      "image/png": "[encoded data removed]",
      "text/plain": [
       "<Figure size 432x288 with 1 Axes>"
      ]
     },
     "metadata": {
      "needs_background": "light"
     },
     "output_type": "display_data"
    }
   ],
   "source": [
    "Cursos.hours.plot(kind =\"box\")"
   ]
  },
  {
   "cell_type": "code",
   "execution_count": 39,
   "id": "6266610a",
   "metadata": {},
   "outputs": [
    {
     "data": {
      "text/plain": [
       "<AxesSubplot:ylabel='Frequency'>"
      ]
     },
     "execution_count": 39,
     "metadata": {},
     "output_type": "execute_result"
    },
    {
     "data": {
      "image/png": "[encoded data removed]",
      "text/plain": [
       "<Figure size 432x288 with 1 Axes>"
      ]
     },
     "metadata": {
      "needs_background": "light"
     },
     "output_type": "display_data"
    }
   ],
   "source": [
    "Cursos.hours.plot(kind =\"hist\", bins = 50)"
   ]
  },
  {
   "cell_type": "code",
   "execution_count": 38,
   "id": "81df8af3-3cf4-4cf9-a253-03cd053ae8f9",
   "metadata": {},
   "outputs": [],
   "source": [
    "Cursos=Cursos[Cursos.hours<13]"
   ]
  },
  {
   "cell_type": "code",
   "execution_count": null,
   "id": "ac8a0b7f",
   "metadata": {},
   "outputs": [],
   "source": [
    "Programas"
   ]
  },
  {
   "cell_type": "code",
   "execution_count": null,
   "id": "cce1230c",
   "metadata": {},
   "outputs": [],
   "source": [
    "#Nombre de columnas\n",
    "Programas.columns"
   ]
  },
  {
   "cell_type": "code",
   "execution_count": null,
   "id": "8fdb750f",
   "metadata": {},
   "outputs": [],
   "source": [
    "#Numero de columnas/filas\n",
    "Programas.shape"
   ]
  },
  {
   "cell_type": "code",
   "execution_count": null,
   "id": "ca6302be",
   "metadata": {},
   "outputs": [],
   "source": [
    "Programas.info"
   ]
  },
  {
   "cell_type": "code",
   "execution_count": null,
   "id": "df4f7335",
   "metadata": {},
   "outputs": [],
   "source": [
    "#Tipos de variables\n",
    "Programas.dtypes"
   ]
  },
  {
   "cell_type": "code",
   "execution_count": null,
   "id": "b4e221c0",
   "metadata": {},
   "outputs": [],
   "source": [
    "#Duplicados\n",
    "Programas.duplicated().sum() # busca duplicados de fila completa"
   ]
  },
  {
   "cell_type": "code",
   "execution_count": null,
   "id": "192d825b",
   "metadata": {},
   "outputs": [],
   "source": [
    "#NA'S\n",
    "Programas.isna()\n",
    "Programas.isna().sum()"
   ]
  },
  {
   "cell_type": "code",
   "execution_count": null,
   "id": "801a9f8c",
   "metadata": {},
   "outputs": [],
   "source": [
    "#Eliminamos la fila que contiene NA en program_category_id.\n",
    "Programas=Programas.dropna(axis = 0, how = 'any') \n",
    "Programas.isna().sum()"
   ]
  },
  {
   "cell_type": "code",
   "execution_count": null,
   "id": "18be9e1a",
   "metadata": {},
   "outputs": [],
   "source": [
    "#Eliminamos la columna 'Unnamed: 0' ya que no aporta valor.\n",
    "Programas=Programas.drop(['Unnamed: 0'], axis=1)"
   ]
  },
  {
   "cell_type": "code",
   "execution_count": null,
   "id": "889dd5cb",
   "metadata": {},
   "outputs": [],
   "source": [
    "Programas"
   ]
  },
  {
   "cell_type": "code",
   "execution_count": null,
   "id": "a648a604-6dcf-4a7a-aab5-19bdaf79d9fc",
   "metadata": {},
   "outputs": [],
   "source": [
    "#Outliers"
   ]
  },
  {
   "cell_type": "code",
   "execution_count": 27,
   "id": "94216442",
   "metadata": {},
   "outputs": [
    {
     "data": {
      "text/html": [
       "<div>\n",
       "<style scoped>\n",
       "    .dataframe tbody tr th:only-of-type {\n",
       "        vertical-align: middle;\n",
       "    }\n",
       "\n",
       "    .dataframe tbody tr th {\n",
       "        vertical-align: top;\n",
       "    }\n",
       "\n",
       "    .dataframe thead th {\n",
       "        text-align: right;\n",
       "    }\n",
       "</style>\n",
       "<table border=\"1\" class=\"dataframe\">\n",
       "  <thead>\n",
       "    <tr style=\"text-align: right;\">\n",
       "      <th></th>\n",
       "      <th>Unnamed: 0</th>\n",
       "      <th>program_id</th>\n",
       "    </tr>\n",
       "  </thead>\n",
       "  <tbody>\n",
       "    <tr>\n",
       "      <th>count</th>\n",
       "      <td>110.000000</td>\n",
       "      <td>110.000000</td>\n",
       "    </tr>\n",
       "    <tr>\n",
       "      <th>mean</th>\n",
       "      <td>54.500000</td>\n",
       "      <td>132.063636</td>\n",
       "    </tr>\n",
       "    <tr>\n",
       "      <th>std</th>\n",
       "      <td>31.898276</td>\n",
       "      <td>34.482618</td>\n",
       "    </tr>\n",
       "    <tr>\n",
       "      <th>min</th>\n",
       "      <td>0.000000</td>\n",
       "      <td>60.000000</td>\n",
       "    </tr>\n",
       "    <tr>\n",
       "      <th>25%</th>\n",
       "      <td>27.250000</td>\n",
       "      <td>106.250000</td>\n",
       "    </tr>\n",
       "    <tr>\n",
       "      <th>50%</th>\n",
       "      <td>54.500000</td>\n",
       "      <td>133.500000</td>\n",
       "    </tr>\n",
       "    <tr>\n",
       "      <th>75%</th>\n",
       "      <td>81.750000</td>\n",
       "      <td>160.750000</td>\n",
       "    </tr>\n",
       "    <tr>\n",
       "      <th>max</th>\n",
       "      <td>109.000000</td>\n",
       "      <td>188.000000</td>\n",
       "    </tr>\n",
       "  </tbody>\n",
       "</table>\n",
       "</div>"
      ],
      "text/plain": [
       "       Unnamed: 0  program_id\n",
       "count  110.000000  110.000000\n",
       "mean    54.500000  132.063636\n",
       "std     31.898276   34.482618\n",
       "min      0.000000   60.000000\n",
       "25%     27.250000  106.250000\n",
       "50%     54.500000  133.500000\n",
       "75%     81.750000  160.750000\n",
       "max    109.000000  188.000000"
      ]
     },
     "execution_count": 27,
     "metadata": {},
     "output_type": "execute_result"
    }
   ],
   "source": [
    "Programas.describe()"
   ]
  },
  {
   "cell_type": "code",
   "execution_count": null,
   "id": "eb4f146a-93e2-4cc5-a1ed-be688d16eff2",
   "metadata": {},
   "outputs": [],
   "source": []
  },
  {
   "cell_type": "code",
   "execution_count": null,
   "id": "adc0bfbf",
   "metadata": {},
   "outputs": [],
   "source": [
    "Cursos_en_Programas"
   ]
  },
  {
   "cell_type": "code",
   "execution_count": null,
   "id": "692fb9db",
   "metadata": {},
   "outputs": [],
   "source": [
    "#Nombre de columnas\n",
    "Cursos_en_Programas.columns"
   ]
  },
  {
   "cell_type": "code",
   "execution_count": null,
   "id": "f1ef6abb",
   "metadata": {},
   "outputs": [],
   "source": [
    "#Numero de columnas/filas\n",
    "Cursos_en_Programas.shape"
   ]
  },
  {
   "cell_type": "code",
   "execution_count": null,
   "id": "255e537c",
   "metadata": {},
   "outputs": [],
   "source": [
    "Cursos_en_Programas.info"
   ]
  },
  {
   "cell_type": "code",
   "execution_count": null,
   "id": "1a19e75e",
   "metadata": {},
   "outputs": [],
   "source": [
    "Cursos_en_Programas.dtypes"
   ]
  },
  {
   "cell_type": "code",
   "execution_count": null,
   "id": "ee39fbe3",
   "metadata": {},
   "outputs": [],
   "source": [
    "#Duplicados\n",
    "Cursos_en_Programas.duplicated().sum() # busca duplicados de fila completa"
   ]
  },
  {
   "cell_type": "code",
   "execution_count": null,
   "id": "857c3100",
   "metadata": {},
   "outputs": [],
   "source": [
    "#NA'S\n",
    "Cursos_en_Programas.isna()\n",
    "Cursos_en_Programas.isna().sum()"
   ]
  },
  {
   "cell_type": "code",
   "execution_count": null,
   "id": "bbc3d4ba",
   "metadata": {},
   "outputs": [],
   "source": [
    "#Eliminamos la columna 'Unnamed: 0' ya que no aporta valor.\n",
    "Cursos_en_Programas=Cursos_en_Programas.drop(['Unnamed: 0'], axis=1)"
   ]
  },
  {
   "cell_type": "code",
   "execution_count": null,
   "id": "86e566a8",
   "metadata": {},
   "outputs": [],
   "source": [
    "Cursos_en_Programas"
   ]
  },
  {
   "cell_type": "code",
   "execution_count": null,
   "id": "07d35ef2-effd-4674-8df1-62a8cdf79958",
   "metadata": {},
   "outputs": [],
   "source": [
    "#Outliers"
   ]
  },
  {
   "cell_type": "code",
   "execution_count": 28,
   "id": "8c4438a3",
   "metadata": {},
   "outputs": [
    {
     "data": {
      "text/html": [
       "<div>\n",
       "<style scoped>\n",
       "    .dataframe tbody tr th:only-of-type {\n",
       "        vertical-align: middle;\n",
       "    }\n",
       "\n",
       "    .dataframe tbody tr th {\n",
       "        vertical-align: top;\n",
       "    }\n",
       "\n",
       "    .dataframe thead th {\n",
       "        text-align: right;\n",
       "    }\n",
       "</style>\n",
       "<table border=\"1\" class=\"dataframe\">\n",
       "  <thead>\n",
       "    <tr style=\"text-align: right;\">\n",
       "      <th></th>\n",
       "      <th>Unnamed: 0</th>\n",
       "      <th>program_course_online_id</th>\n",
       "      <th>course_moodle_id</th>\n",
       "      <th>conocimiento_id</th>\n",
       "      <th>num_periodo</th>\n",
       "      <th>program_id</th>\n",
       "    </tr>\n",
       "  </thead>\n",
       "  <tbody>\n",
       "    <tr>\n",
       "      <th>count</th>\n",
       "      <td>253.000000</td>\n",
       "      <td>253.000000</td>\n",
       "      <td>253.000000</td>\n",
       "      <td>253.000000</td>\n",
       "      <td>253.000000</td>\n",
       "      <td>253.000000</td>\n",
       "    </tr>\n",
       "    <tr>\n",
       "      <th>mean</th>\n",
       "      <td>126.000000</td>\n",
       "      <td>4867.679842</td>\n",
       "      <td>133.142292</td>\n",
       "      <td>57.905138</td>\n",
       "      <td>1.047431</td>\n",
       "      <td>136.343874</td>\n",
       "    </tr>\n",
       "    <tr>\n",
       "      <th>std</th>\n",
       "      <td>73.179004</td>\n",
       "      <td>908.578453</td>\n",
       "      <td>86.093270</td>\n",
       "      <td>48.011892</td>\n",
       "      <td>0.658976</td>\n",
       "      <td>38.722819</td>\n",
       "    </tr>\n",
       "    <tr>\n",
       "      <th>min</th>\n",
       "      <td>0.000000</td>\n",
       "      <td>1866.000000</td>\n",
       "      <td>10.000000</td>\n",
       "      <td>2.000000</td>\n",
       "      <td>0.000000</td>\n",
       "      <td>60.000000</td>\n",
       "    </tr>\n",
       "    <tr>\n",
       "      <th>25%</th>\n",
       "      <td>63.000000</td>\n",
       "      <td>4259.000000</td>\n",
       "      <td>69.000000</td>\n",
       "      <td>20.000000</td>\n",
       "      <td>1.000000</td>\n",
       "      <td>116.000000</td>\n",
       "    </tr>\n",
       "    <tr>\n",
       "      <th>50%</th>\n",
       "      <td>126.000000</td>\n",
       "      <td>5147.000000</td>\n",
       "      <td>86.000000</td>\n",
       "      <td>29.000000</td>\n",
       "      <td>1.000000</td>\n",
       "      <td>142.000000</td>\n",
       "    </tr>\n",
       "    <tr>\n",
       "      <th>75%</th>\n",
       "      <td>189.000000</td>\n",
       "      <td>5638.000000</td>\n",
       "      <td>218.000000</td>\n",
       "      <td>100.000000</td>\n",
       "      <td>1.000000</td>\n",
       "      <td>167.000000</td>\n",
       "    </tr>\n",
       "    <tr>\n",
       "      <th>max</th>\n",
       "      <td>252.000000</td>\n",
       "      <td>5730.000000</td>\n",
       "      <td>306.000000</td>\n",
       "      <td>168.000000</td>\n",
       "      <td>3.000000</td>\n",
       "      <td>188.000000</td>\n",
       "    </tr>\n",
       "  </tbody>\n",
       "</table>\n",
       "</div>"
      ],
      "text/plain": [
       "       Unnamed: 0  program_course_online_id  course_moodle_id  \\\n",
       "count  253.000000                253.000000        253.000000   \n",
       "mean   126.000000               4867.679842        133.142292   \n",
       "std     73.179004                908.578453         86.093270   \n",
       "min      0.000000               1866.000000         10.000000   \n",
       "25%     63.000000               4259.000000         69.000000   \n",
       "50%    126.000000               5147.000000         86.000000   \n",
       "75%    189.000000               5638.000000        218.000000   \n",
       "max    252.000000               5730.000000        306.000000   \n",
       "\n",
       "       conocimiento_id  num_periodo  program_id  \n",
       "count       253.000000   253.000000  253.000000  \n",
       "mean         57.905138     1.047431  136.343874  \n",
       "std          48.011892     0.658976   38.722819  \n",
       "min           2.000000     0.000000   60.000000  \n",
       "25%          20.000000     1.000000  116.000000  \n",
       "50%          29.000000     1.000000  142.000000  \n",
       "75%         100.000000     1.000000  167.000000  \n",
       "max         168.000000     3.000000  188.000000  "
      ]
     },
     "execution_count": 28,
     "metadata": {},
     "output_type": "execute_result"
    }
   ],
   "source": [
    "Cursos_en_Programas.describe()"
   ]
  },
  {
   "cell_type": "code",
   "execution_count": null,
   "id": "84e1f96f",
   "metadata": {},
   "outputs": [],
   "source": [
    "Itinearios"
   ]
  },
  {
   "cell_type": "code",
   "execution_count": null,
   "id": "70b9c828",
   "metadata": {},
   "outputs": [],
   "source": [
    "#Nombre de columnas\n",
    "Itinearios.columns"
   ]
  },
  {
   "cell_type": "code",
   "execution_count": null,
   "id": "77cd172a",
   "metadata": {},
   "outputs": [],
   "source": [
    "#Numero de columnas/filas\n",
    "Itinearios.shape"
   ]
  },
  {
   "cell_type": "code",
   "execution_count": 40,
   "id": "9ff46d7a",
   "metadata": {},
   "outputs": [
    {
     "data": {
      "text/plain": [
       "<bound method DataFrame.info of      Unnamed: 0  active_flag  category_id                date_enroll  \\\n",
       "0             0            0            8  2020-05-04T00:00:00+01:00   \n",
       "1             1            1            2  2021-07-22T00:00:00+01:00   \n",
       "2             2            1            8  2021-09-08T00:00:00+01:00   \n",
       "3             3            0            2  2020-06-18T00:00:00+01:00   \n",
       "4             4            0            2  2020-09-24T00:00:00+01:00   \n",
       "..          ...          ...          ...                        ...   \n",
       "462         462            1            5  2021-10-25T00:00:00+01:00   \n",
       "463         463            1            5  2021-10-25T00:00:00+01:00   \n",
       "464         464            1            5  2021-10-25T00:00:00+01:00   \n",
       "465         465            1            8  2021-10-28T00:00:00+01:00   \n",
       "466         466            1            8  2021-10-28T00:00:00+01:00   \n",
       "\n",
       "                    enroll_end  program_id remarks  tutor_academico_id  \\\n",
       "0    2023-04-01T23:59:00+01:00          66     NaN                   0   \n",
       "1                          NaN         145     NaN                   0   \n",
       "2                          NaN         146     NaN                   0   \n",
       "3                          NaN          64     NaN                 148   \n",
       "4    2021-06-30T23:59:00+01:00         135     NaN                 148   \n",
       "..                         ...         ...     ...                 ...   \n",
       "462                        NaN         163     NaN                   0   \n",
       "463                        NaN         163     NaN                   0   \n",
       "464                        NaN         163     NaN                   0   \n",
       "465                        NaN          66     NaN                   0   \n",
       "466                        NaN         188     NaN                   0   \n",
       "\n",
       "     tutor_empresa_id  user_id     category_name  \\\n",
       "0                 190        3  SOPORTE&OPERARIO   \n",
       "1                  50        3              DUAL   \n",
       "2                 110        3  SOPORTE&OPERARIO   \n",
       "3                  41        4              DUAL   \n",
       "4                  41        4              DUAL   \n",
       "..                ...      ...               ...   \n",
       "462               286      433      ESPECIALISTA   \n",
       "463               287      434      ESPECIALISTA   \n",
       "464               285      435      ESPECIALISTA   \n",
       "465               190      436  SOPORTE&OPERARIO   \n",
       "466               190      436  SOPORTE&OPERARIO   \n",
       "\n",
       "                              program_name  \n",
       "0          Tratamiento Térmico ABP Bergara  \n",
       "1                               pruebas_01  \n",
       "2               Operario Control Final CBI  \n",
       "3                 ITI GRADO DUAL 2019-2020  \n",
       "4                 ITI GRADO DUAL 2020-2021  \n",
       "..                                     ...  \n",
       "462  Maquinista Mecanizados Autogestión MT  \n",
       "463  Maquinista Mecanizados Autogestión MT  \n",
       "464  Maquinista Mecanizados Autogestión MT  \n",
       "465        Tratamiento Térmico ABP Bergara  \n",
       "466                 Control Visual Mec ABP  \n",
       "\n",
       "[467 rows x 12 columns]>"
      ]
     },
     "execution_count": 40,
     "metadata": {},
     "output_type": "execute_result"
    }
   ],
   "source": [
    "Itinearios.info"
   ]
  },
  {
   "cell_type": "code",
   "execution_count": null,
   "id": "a7b84675",
   "metadata": {},
   "outputs": [],
   "source": [
    "#Tipos de variables\n",
    "Itinearios.dtypes"
   ]
  },
  {
   "cell_type": "code",
   "execution_count": null,
   "id": "fec02267",
   "metadata": {},
   "outputs": [],
   "source": [
    "#Corregimos fecha y hora de date_enroll y enroll_end\n",
    "Itinearios['date_enroll']= pd.to_datetime(Itinearios['date_enroll'],utc=True)\n",
    "Itinearios['enroll_end']= pd.to_datetime(Itinearios['enroll_end'],utc=True)\n",
    "Itinearios"
   ]
  },
  {
   "cell_type": "code",
   "execution_count": null,
   "id": "277f64c1",
   "metadata": {},
   "outputs": [],
   "source": [
    "#Tipos de variables corregido fecha y hora\n",
    "Itinearios.dtypes"
   ]
  },
  {
   "cell_type": "code",
   "execution_count": null,
   "id": "a9def857",
   "metadata": {},
   "outputs": [],
   "source": [
    "#Duplicados\n",
    "Itinearios.duplicated().sum() # busca duplicados de fila completa"
   ]
  },
  {
   "cell_type": "code",
   "execution_count": null,
   "id": "50483d06",
   "metadata": {},
   "outputs": [],
   "source": [
    "#NA'S\n",
    "Itinearios.isna()\n",
    "Itinearios.isna().sum()"
   ]
  },
  {
   "cell_type": "code",
   "execution_count": null,
   "id": "441e3b49",
   "metadata": {},
   "outputs": [],
   "source": [
    "#Eliminamos la columna 'Unnamed: 0' ya que no aporta valor.\n",
    "#Eliminamos la columna 'remarcks' ya que casi tiene un 100% de NA\n",
    "#Eliminamos de momento la variable 'enroll_end' ya que tiene mas de un 60% de NA.\n",
    "Itinearios=Itinearios.drop(['Unnamed: 0'], axis=1)\n",
    "Itinearios=Itinearios.drop(['remarks'], axis=1)\n",
    "Itinearios=Itinearios.drop(['enroll_end'], axis=1)"
   ]
  },
  {
   "cell_type": "code",
   "execution_count": null,
   "id": "56481a77",
   "metadata": {},
   "outputs": [],
   "source": [
    "Itinearios"
   ]
  },
  {
   "cell_type": "code",
   "execution_count": null,
   "id": "18fa812b",
   "metadata": {},
   "outputs": [],
   "source": []
  },
  {
   "cell_type": "code",
   "execution_count": null,
   "id": "550c6eae",
   "metadata": {},
   "outputs": [],
   "source": [
    "Notas_Cursos"
   ]
  },
  {
   "cell_type": "code",
   "execution_count": null,
   "id": "bb209d5c",
   "metadata": {},
   "outputs": [],
   "source": [
    "Notas_Cursos.columns"
   ]
  },
  {
   "cell_type": "code",
   "execution_count": null,
   "id": "9329b872",
   "metadata": {},
   "outputs": [],
   "source": [
    "Notas_Cursos.shape"
   ]
  },
  {
   "cell_type": "code",
   "execution_count": null,
   "id": "be56cd8e",
   "metadata": {},
   "outputs": [],
   "source": [
    "Notas_Cursos.info"
   ]
  },
  {
   "cell_type": "code",
   "execution_count": null,
   "id": "e537080b",
   "metadata": {},
   "outputs": [],
   "source": [
    "Notas_Cursos.dtypes"
   ]
  },
  {
   "cell_type": "code",
   "execution_count": null,
   "id": "c5f5c9c4",
   "metadata": {},
   "outputs": [],
   "source": [
    "#Duplicados\n",
    "Notas_Cursos.duplicated().sum() #busca duplicados de fila completa"
   ]
  },
  {
   "cell_type": "code",
   "execution_count": null,
   "id": "a2eff7f6",
   "metadata": {},
   "outputs": [],
   "source": [
    "#NA'S\n",
    "Notas_Cursos.isna()\n",
    "Notas_Cursos.isna().sum()"
   ]
  },
  {
   "cell_type": "code",
   "execution_count": null,
   "id": "4508701f",
   "metadata": {},
   "outputs": [],
   "source": [
    "#Duplicados\n",
    "Notas_Cursos.duplicated(subset = ['grade', 'online_progress']).sum()"
   ]
  },
  {
   "cell_type": "code",
   "execution_count": null,
   "id": "e9ab75b8",
   "metadata": {},
   "outputs": [],
   "source": [
    "#Eliminamos la columna 'Unnamed: 0' ya que no aporta valor.\n",
    "Notas_Cursos=Notas_Cursos.drop(['Unnamed: 0'], axis=1)"
   ]
  },
  {
   "cell_type": "code",
   "execution_count": null,
   "id": "8b36156f",
   "metadata": {},
   "outputs": [],
   "source": [
    "Notas_Cursos = Notas_Cursos.fillna(-999)"
   ]
  },
  {
   "cell_type": "code",
   "execution_count": null,
   "id": "7cbe58d8",
   "metadata": {},
   "outputs": [],
   "source": [
    "Notas_Cursos"
   ]
  },
  {
   "cell_type": "code",
   "execution_count": null,
   "id": "9e07808b",
   "metadata": {},
   "outputs": [],
   "source": []
  },
  {
   "cell_type": "code",
   "execution_count": null,
   "id": "5f4f0cad",
   "metadata": {},
   "outputs": [],
   "source": [
    "Roles"
   ]
  },
  {
   "cell_type": "code",
   "execution_count": null,
   "id": "dc68fd0e",
   "metadata": {},
   "outputs": [],
   "source": [
    "Roles.columns"
   ]
  },
  {
   "cell_type": "code",
   "execution_count": null,
   "id": "c71f52aa",
   "metadata": {},
   "outputs": [],
   "source": [
    "Roles.shape"
   ]
  },
  {
   "cell_type": "code",
   "execution_count": null,
   "id": "4c9b300a",
   "metadata": {},
   "outputs": [],
   "source": [
    "Roles.info"
   ]
  },
  {
   "cell_type": "code",
   "execution_count": null,
   "id": "0489c58c",
   "metadata": {},
   "outputs": [],
   "source": [
    "#Tipo de variables\n",
    "Roles.dtypes"
   ]
  },
  {
   "cell_type": "code",
   "execution_count": null,
   "id": "715e2900",
   "metadata": {},
   "outputs": [],
   "source": [
    "#Duplicados\n",
    "Roles.duplicated().sum() #busca duplicados de fila completa"
   ]
  },
  {
   "cell_type": "code",
   "execution_count": null,
   "id": "6c4bbdf2",
   "metadata": {},
   "outputs": [],
   "source": [
    "#NA'S\n",
    "Roles.isna()\n",
    "Roles.isna().sum()"
   ]
  },
  {
   "cell_type": "code",
   "execution_count": null,
   "id": "87413364",
   "metadata": {},
   "outputs": [],
   "source": [
    "#Eliminamos la columna 'Unnamed: 0' ya que no aporta valor.\n",
    "Roles=Roles.drop(['Unnamed: 0'], axis=1)"
   ]
  },
  {
   "cell_type": "code",
   "execution_count": null,
   "id": "c130e47d",
   "metadata": {},
   "outputs": [],
   "source": [
    "Roles"
   ]
  },
  {
   "cell_type": "code",
   "execution_count": null,
   "id": "399742df",
   "metadata": {},
   "outputs": [],
   "source": []
  },
  {
   "cell_type": "code",
   "execution_count": null,
   "id": "104a15d4-b80f-4b3a-af1e-359a6d2e023a",
   "metadata": {},
   "outputs": [],
   "source": [
    "Plantas"
   ]
  },
  {
   "cell_type": "code",
   "execution_count": null,
   "id": "3cb280f1",
   "metadata": {},
   "outputs": [],
   "source": [
    "Plantas=Plantas.drop(['Unnamed: 0'], axis=1)"
   ]
  },
  {
   "cell_type": "code",
   "execution_count": null,
   "id": "5eb15bb3",
   "metadata": {},
   "outputs": [],
   "source": [
    "Plantas.dtypes"
   ]
  },
  {
   "cell_type": "code",
   "execution_count": null,
   "id": "9fe56355",
   "metadata": {},
   "outputs": [],
   "source": [
    "#Duplicados\n",
    "Plantas.duplicated().sum() # busca duplicados de fila completa"
   ]
  },
  {
   "cell_type": "code",
   "execution_count": null,
   "id": "122fb070",
   "metadata": {},
   "outputs": [],
   "source": [
    "#NA'S\n",
    "Plantas.isna().sum()"
   ]
  },
  {
   "cell_type": "code",
   "execution_count": null,
   "id": "4c6fc117",
   "metadata": {},
   "outputs": [],
   "source": [
    "Plantas"
   ]
  },
  {
   "cell_type": "code",
   "execution_count": null,
   "id": "b358c0a0",
   "metadata": {},
   "outputs": [],
   "source": []
  },
  {
   "cell_type": "code",
   "execution_count": null,
   "id": "4c85a237-8d83-4b32-9e96-609a8cb899a6",
   "metadata": {},
   "outputs": [],
   "source": [
    "Accesos"
   ]
  },
  {
   "cell_type": "code",
   "execution_count": null,
   "id": "6b38cd83",
   "metadata": {},
   "outputs": [],
   "source": [
    "Accesos=Accesos.drop(['Unnamed: 0'], axis=1)"
   ]
  },
  {
   "cell_type": "code",
   "execution_count": null,
   "id": "4c62d047",
   "metadata": {},
   "outputs": [],
   "source": [
    "Accesos.dtypes"
   ]
  },
  {
   "cell_type": "code",
   "execution_count": null,
   "id": "558d2b64",
   "metadata": {},
   "outputs": [],
   "source": [
    "Accesos['timestamp']= pd.to_datetime(Accesos['timestamp'],utc=True)"
   ]
  },
  {
   "cell_type": "code",
   "execution_count": null,
   "id": "299a849a",
   "metadata": {},
   "outputs": [],
   "source": [
    "Accesos"
   ]
  },
  {
   "cell_type": "code",
   "execution_count": null,
   "id": "edbba4ac",
   "metadata": {},
   "outputs": [],
   "source": [
    "Accesos.dtypes"
   ]
  },
  {
   "cell_type": "code",
   "execution_count": null,
   "id": "93c0019f",
   "metadata": {},
   "outputs": [],
   "source": [
    "#Duplicados\n",
    "Accesos.duplicated().sum() # busca duplicados de fila completa"
   ]
  },
  {
   "cell_type": "code",
   "execution_count": null,
   "id": "13e8a2c8",
   "metadata": {},
   "outputs": [],
   "source": [
    "Accesos=Accesos.drop_duplicates()"
   ]
  },
  {
   "cell_type": "code",
   "execution_count": null,
   "id": "84a6c72e",
   "metadata": {},
   "outputs": [],
   "source": [
    "Accesos.duplicated().sum()"
   ]
  },
  {
   "cell_type": "code",
   "execution_count": null,
   "id": "9671a4dc",
   "metadata": {},
   "outputs": [],
   "source": [
    "Accesos.isna().sum()"
   ]
  },
  {
   "cell_type": "code",
   "execution_count": null,
   "id": "ab39b5c9",
   "metadata": {},
   "outputs": [],
   "source": []
  },
  {
   "cell_type": "code",
   "execution_count": null,
   "id": "ef0c79be-5ca5-4794-b5db-aa71a98025c5",
   "metadata": {},
   "outputs": [],
   "source": [
    "Acceso_1ero_ultimo"
   ]
  },
  {
   "cell_type": "code",
   "execution_count": null,
   "id": "467163c7",
   "metadata": {},
   "outputs": [],
   "source": [
    "Acceso_1ero_ultimo.dtypes"
   ]
  },
  {
   "cell_type": "code",
   "execution_count": null,
   "id": "59d856b0",
   "metadata": {},
   "outputs": [],
   "source": [
    "Acceso_1ero_ultimo=Acceso_1ero_ultimo.drop(['Unnamed: 0'], axis=1)"
   ]
  },
  {
   "cell_type": "code",
   "execution_count": null,
   "id": "17697a70",
   "metadata": {},
   "outputs": [],
   "source": [
    "#Duplicados\n",
    "Acceso_1ero_ultimo.duplicated().sum() # busca duplicados de fila completa"
   ]
  },
  {
   "cell_type": "code",
   "execution_count": null,
   "id": "15f2d335",
   "metadata": {},
   "outputs": [],
   "source": [
    "Acceso_1ero_ultimo['1er acceso'][Acceso_1ero_ultimo['1er acceso']==\"--\"]=None\n",
    "Acceso_1ero_ultimo['ultimo acceso'][Acceso_1ero_ultimo['ultimo acceso']==\"--\"]=None"
   ]
  },
  {
   "cell_type": "code",
   "execution_count": null,
   "id": "31c8c885",
   "metadata": {},
   "outputs": [],
   "source": [
    "Acceso_1ero_ultimo"
   ]
  },
  {
   "cell_type": "code",
   "execution_count": null,
   "id": "a331e902",
   "metadata": {},
   "outputs": [],
   "source": [
    "Acceso_1ero_ultimo.isna().sum()"
   ]
  },
  {
   "cell_type": "code",
   "execution_count": null,
   "id": "5322bb91",
   "metadata": {},
   "outputs": [],
   "source": [
    "Acceso_1ero_ultimo.duplicated(subset = ['1er acceso', 'ultimo acceso']).sum()"
   ]
  },
  {
   "cell_type": "code",
   "execution_count": null,
   "id": "9e062ea5",
   "metadata": {},
   "outputs": [],
   "source": [
    "Acceso_1ero_ultimo[Acceso_1ero_ultimo.duplicated(subset = ['1er acceso', 'ultimo acceso'])].fillna('NUNCA')"
   ]
  },
  {
   "cell_type": "code",
   "execution_count": null,
   "id": "f8b19318",
   "metadata": {},
   "outputs": [],
   "source": [
    "Acceso_1ero_ultimo[Acceso_1ero_ultimo.duplicated(subset = ['1er acceso', 'ultimo acceso'])]=Acceso_1ero_ultimo[Acceso_1ero_ultimo.duplicated(subset = ['1er acceso', 'ultimo acceso'])].fillna('NUNCA')"
   ]
  },
  {
   "cell_type": "code",
   "execution_count": null,
   "id": "8d48b925",
   "metadata": {},
   "outputs": [],
   "source": [
    "Acceso_1ero_ultimo.isna().sum()"
   ]
  },
  {
   "cell_type": "code",
   "execution_count": null,
   "id": "535f9b78",
   "metadata": {},
   "outputs": [],
   "source": [
    "Acceso_1ero_ultimo[Acceso_1ero_ultimo['1er acceso'].isna()]"
   ]
  },
  {
   "cell_type": "code",
   "execution_count": null,
   "id": "185ad638",
   "metadata": {},
   "outputs": [],
   "source": [
    "Acceso_1ero_ultimo[Acceso_1ero_ultimo['1er acceso'].isna()]='NUNCA'"
   ]
  },
  {
   "cell_type": "code",
   "execution_count": null,
   "id": "558422ec",
   "metadata": {},
   "outputs": [],
   "source": [
    "Acceso_1ero_ultimo.isna().sum()"
   ]
  },
  {
   "cell_type": "code",
   "execution_count": null,
   "id": "5f1eefb7",
   "metadata": {},
   "outputs": [],
   "source": [
    "Acceso_1ero_ultimo"
   ]
  },
  {
   "cell_type": "code",
   "execution_count": 14,
   "id": "356cfb85-7604-4728-a5e9-60a0ac08308b",
   "metadata": {},
   "outputs": [
    {
     "data": {
      "text/html": [
       "<div>\n",
       "<style scoped>\n",
       "    .dataframe tbody tr th:only-of-type {\n",
       "        vertical-align: middle;\n",
       "    }\n",
       "\n",
       "    .dataframe tbody tr th {\n",
       "        vertical-align: top;\n",
       "    }\n",
       "\n",
       "    .dataframe thead th {\n",
       "        text-align: right;\n",
       "    }\n",
       "</style>\n",
       "<table border=\"1\" class=\"dataframe\">\n",
       "  <thead>\n",
       "    <tr style=\"text-align: right;\">\n",
       "      <th></th>\n",
       "      <th>Unnamed: 0</th>\n",
       "      <th>mdl_user_id</th>\n",
       "      <th>course_name</th>\n",
       "      <th>course_id</th>\n",
       "      <th>category</th>\n",
       "      <th>actividad_name</th>\n",
       "      <th>grade</th>\n",
       "      <th>time</th>\n",
       "    </tr>\n",
       "  </thead>\n",
       "  <tbody>\n",
       "    <tr>\n",
       "      <th>0</th>\n",
       "      <td>0</td>\n",
       "      <td>190</td>\n",
       "      <td>A - FORMACIÓN ESPECÍFICA CALIDAD ABP</td>\n",
       "      <td>224</td>\n",
       "      <td>TÉCNICOS/TECNOLÓGICOS ABP</td>\n",
       "      <td>TEST FINAL</td>\n",
       "      <td>NaN</td>\n",
       "      <td>NaN</td>\n",
       "    </tr>\n",
       "    <tr>\n",
       "      <th>1</th>\n",
       "      <td>1</td>\n",
       "      <td>190</td>\n",
       "      <td>A - FORMACIÓN ESPECÍFICA CALIDAD ABP</td>\n",
       "      <td>224</td>\n",
       "      <td>TÉCNICOS/TECNOLÓGICOS ABP</td>\n",
       "      <td>A - FORMACIÓN ESPECÍFICA CALIDAD ABP - Total</td>\n",
       "      <td>NaN</td>\n",
       "      <td>NaN</td>\n",
       "    </tr>\n",
       "    <tr>\n",
       "      <th>2</th>\n",
       "      <td>2</td>\n",
       "      <td>296</td>\n",
       "      <td>A - FORMACIÓN ESPECÍFICA CALIDAD ABP</td>\n",
       "      <td>224</td>\n",
       "      <td>TÉCNICOS/TECNOLÓGICOS ABP</td>\n",
       "      <td>A - FORMACIÓN ESPECÍFICA CALIDAD ABP - Total</td>\n",
       "      <td>9.32</td>\n",
       "      <td>2020-12-18 15:25:05</td>\n",
       "    </tr>\n",
       "    <tr>\n",
       "      <th>3</th>\n",
       "      <td>3</td>\n",
       "      <td>296</td>\n",
       "      <td>A - FORMACIÓN ESPECÍFICA CALIDAD ABP</td>\n",
       "      <td>224</td>\n",
       "      <td>TÉCNICOS/TECNOLÓGICOS ABP</td>\n",
       "      <td>TEST FINAL</td>\n",
       "      <td>9.32</td>\n",
       "      <td>2020-12-18 15:25:05</td>\n",
       "    </tr>\n",
       "    <tr>\n",
       "      <th>4</th>\n",
       "      <td>4</td>\n",
       "      <td>299</td>\n",
       "      <td>A - FORMACIÓN ESPECÍFICA CALIDAD ABP</td>\n",
       "      <td>224</td>\n",
       "      <td>TÉCNICOS/TECNOLÓGICOS ABP</td>\n",
       "      <td>TEST FINAL</td>\n",
       "      <td>9.66</td>\n",
       "      <td>2020-12-18 16:45:34</td>\n",
       "    </tr>\n",
       "    <tr>\n",
       "      <th>...</th>\n",
       "      <td>...</td>\n",
       "      <td>...</td>\n",
       "      <td>...</td>\n",
       "      <td>...</td>\n",
       "      <td>...</td>\n",
       "      <td>...</td>\n",
       "      <td>...</td>\n",
       "      <td>...</td>\n",
       "    </tr>\n",
       "    <tr>\n",
       "      <th>3459</th>\n",
       "      <td>3459</td>\n",
       "      <td>21</td>\n",
       "      <td>Trazabilidad LPPFe MEC</td>\n",
       "      <td>278</td>\n",
       "      <td>Técnico / Tecnológico LPPFE</td>\n",
       "      <td>TEST - Enbalajearen etiketa / Etiquetado de em...</td>\n",
       "      <td>9.29</td>\n",
       "      <td>2021-06-14 16:36:31</td>\n",
       "    </tr>\n",
       "    <tr>\n",
       "      <th>3460</th>\n",
       "      <td>3460</td>\n",
       "      <td>21</td>\n",
       "      <td>Trazabilidad LPPFe MEC</td>\n",
       "      <td>278</td>\n",
       "      <td>Técnico / Tecnológico LPPFE</td>\n",
       "      <td>Trazabilidad LPPFe MEC - Total</td>\n",
       "      <td>9.29</td>\n",
       "      <td>2021-06-14 16:36:32</td>\n",
       "    </tr>\n",
       "    <tr>\n",
       "      <th>3461</th>\n",
       "      <td>3461</td>\n",
       "      <td>21</td>\n",
       "      <td>Trazabilidad LPPFe MEC</td>\n",
       "      <td>278</td>\n",
       "      <td>Técnico / Tecnológico LPPFE</td>\n",
       "      <td>Trazabilidad LPPFe MEC - Total</td>\n",
       "      <td>9.29</td>\n",
       "      <td>2021-06-14 16:36:32</td>\n",
       "    </tr>\n",
       "    <tr>\n",
       "      <th>3462</th>\n",
       "      <td>3462</td>\n",
       "      <td>339</td>\n",
       "      <td>Trazabilidad LPPFe MEC</td>\n",
       "      <td>278</td>\n",
       "      <td>Técnico / Tecnológico LPPFE</td>\n",
       "      <td>Trazabilidad LPPFe MEC - Total</td>\n",
       "      <td>10.00</td>\n",
       "      <td>2021-06-14 10:13:15</td>\n",
       "    </tr>\n",
       "    <tr>\n",
       "      <th>3463</th>\n",
       "      <td>3463</td>\n",
       "      <td>339</td>\n",
       "      <td>Trazabilidad LPPFe MEC</td>\n",
       "      <td>278</td>\n",
       "      <td>Técnico / Tecnológico LPPFE</td>\n",
       "      <td>TEST - Enbalajearen etiketa / Etiquetado de em...</td>\n",
       "      <td>10.00</td>\n",
       "      <td>2021-06-14 10:13:15</td>\n",
       "    </tr>\n",
       "  </tbody>\n",
       "</table>\n",
       "<p>3464 rows × 8 columns</p>\n",
       "</div>"
      ],
      "text/plain": [
       "      Unnamed: 0  mdl_user_id                           course_name  \\\n",
       "0              0          190  A - FORMACIÓN ESPECÍFICA CALIDAD ABP   \n",
       "1              1          190  A - FORMACIÓN ESPECÍFICA CALIDAD ABP   \n",
       "2              2          296  A - FORMACIÓN ESPECÍFICA CALIDAD ABP   \n",
       "3              3          296  A - FORMACIÓN ESPECÍFICA CALIDAD ABP   \n",
       "4              4          299  A - FORMACIÓN ESPECÍFICA CALIDAD ABP   \n",
       "...          ...          ...                                   ...   \n",
       "3459        3459           21                Trazabilidad LPPFe MEC   \n",
       "3460        3460           21                Trazabilidad LPPFe MEC   \n",
       "3461        3461           21                Trazabilidad LPPFe MEC   \n",
       "3462        3462          339                Trazabilidad LPPFe MEC   \n",
       "3463        3463          339                Trazabilidad LPPFe MEC   \n",
       "\n",
       "      course_id                     category  \\\n",
       "0           224    TÉCNICOS/TECNOLÓGICOS ABP   \n",
       "1           224    TÉCNICOS/TECNOLÓGICOS ABP   \n",
       "2           224    TÉCNICOS/TECNOLÓGICOS ABP   \n",
       "3           224    TÉCNICOS/TECNOLÓGICOS ABP   \n",
       "4           224    TÉCNICOS/TECNOLÓGICOS ABP   \n",
       "...         ...                          ...   \n",
       "3459        278  Técnico / Tecnológico LPPFE   \n",
       "3460        278  Técnico / Tecnológico LPPFE   \n",
       "3461        278  Técnico / Tecnológico LPPFE   \n",
       "3462        278  Técnico / Tecnológico LPPFE   \n",
       "3463        278  Técnico / Tecnológico LPPFE   \n",
       "\n",
       "                                         actividad_name  grade  \\\n",
       "0                                            TEST FINAL    NaN   \n",
       "1          A - FORMACIÓN ESPECÍFICA CALIDAD ABP - Total    NaN   \n",
       "2          A - FORMACIÓN ESPECÍFICA CALIDAD ABP - Total   9.32   \n",
       "3                                            TEST FINAL   9.32   \n",
       "4                                            TEST FINAL   9.66   \n",
       "...                                                 ...    ...   \n",
       "3459  TEST - Enbalajearen etiketa / Etiquetado de em...   9.29   \n",
       "3460                     Trazabilidad LPPFe MEC - Total   9.29   \n",
       "3461                     Trazabilidad LPPFe MEC - Total   9.29   \n",
       "3462                     Trazabilidad LPPFe MEC - Total  10.00   \n",
       "3463  TEST - Enbalajearen etiketa / Etiquetado de em...  10.00   \n",
       "\n",
       "                     time  \n",
       "0                     NaN  \n",
       "1                     NaN  \n",
       "2     2020-12-18 15:25:05  \n",
       "3     2020-12-18 15:25:05  \n",
       "4     2020-12-18 16:45:34  \n",
       "...                   ...  \n",
       "3459  2021-06-14 16:36:31  \n",
       "3460  2021-06-14 16:36:32  \n",
       "3461  2021-06-14 16:36:32  \n",
       "3462  2021-06-14 10:13:15  \n",
       "3463  2021-06-14 10:13:15  \n",
       "\n",
       "[3464 rows x 8 columns]"
      ]
     },
     "execution_count": 14,
     "metadata": {},
     "output_type": "execute_result"
    }
   ],
   "source": [
    "Actividades"
   ]
  },
  {
   "cell_type": "code",
   "execution_count": 15,
   "id": "651bfafb",
   "metadata": {},
   "outputs": [],
   "source": [
    "Actividades=Actividades.drop(['Unnamed: 0'], axis=1)"
   ]
  },
  {
   "cell_type": "code",
   "execution_count": 16,
   "id": "945d39b5-00c2-4da7-8aa8-12c10a80f020",
   "metadata": {},
   "outputs": [
    {
     "data": {
      "text/html": [
       "<div>\n",
       "<style scoped>\n",
       "    .dataframe tbody tr th:only-of-type {\n",
       "        vertical-align: middle;\n",
       "    }\n",
       "\n",
       "    .dataframe tbody tr th {\n",
       "        vertical-align: top;\n",
       "    }\n",
       "\n",
       "    .dataframe thead th {\n",
       "        text-align: right;\n",
       "    }\n",
       "</style>\n",
       "<table border=\"1\" class=\"dataframe\">\n",
       "  <thead>\n",
       "    <tr style=\"text-align: right;\">\n",
       "      <th></th>\n",
       "      <th>mdl_user_id</th>\n",
       "      <th>course_name</th>\n",
       "      <th>course_id</th>\n",
       "      <th>category</th>\n",
       "      <th>actividad_name</th>\n",
       "      <th>grade</th>\n",
       "      <th>time</th>\n",
       "    </tr>\n",
       "  </thead>\n",
       "  <tbody>\n",
       "    <tr>\n",
       "      <th>0</th>\n",
       "      <td>190</td>\n",
       "      <td>A - FORMACIÓN ESPECÍFICA CALIDAD ABP</td>\n",
       "      <td>224</td>\n",
       "      <td>TÉCNICOS/TECNOLÓGICOS ABP</td>\n",
       "      <td>TEST FINAL</td>\n",
       "      <td>NaN</td>\n",
       "      <td>NaN</td>\n",
       "    </tr>\n",
       "    <tr>\n",
       "      <th>1</th>\n",
       "      <td>190</td>\n",
       "      <td>A - FORMACIÓN ESPECÍFICA CALIDAD ABP</td>\n",
       "      <td>224</td>\n",
       "      <td>TÉCNICOS/TECNOLÓGICOS ABP</td>\n",
       "      <td>A - FORMACIÓN ESPECÍFICA CALIDAD ABP - Total</td>\n",
       "      <td>NaN</td>\n",
       "      <td>NaN</td>\n",
       "    </tr>\n",
       "    <tr>\n",
       "      <th>2</th>\n",
       "      <td>296</td>\n",
       "      <td>A - FORMACIÓN ESPECÍFICA CALIDAD ABP</td>\n",
       "      <td>224</td>\n",
       "      <td>TÉCNICOS/TECNOLÓGICOS ABP</td>\n",
       "      <td>A - FORMACIÓN ESPECÍFICA CALIDAD ABP - Total</td>\n",
       "      <td>9.32</td>\n",
       "      <td>2020-12-18 15:25:05</td>\n",
       "    </tr>\n",
       "    <tr>\n",
       "      <th>3</th>\n",
       "      <td>296</td>\n",
       "      <td>A - FORMACIÓN ESPECÍFICA CALIDAD ABP</td>\n",
       "      <td>224</td>\n",
       "      <td>TÉCNICOS/TECNOLÓGICOS ABP</td>\n",
       "      <td>TEST FINAL</td>\n",
       "      <td>9.32</td>\n",
       "      <td>2020-12-18 15:25:05</td>\n",
       "    </tr>\n",
       "    <tr>\n",
       "      <th>4</th>\n",
       "      <td>299</td>\n",
       "      <td>A - FORMACIÓN ESPECÍFICA CALIDAD ABP</td>\n",
       "      <td>224</td>\n",
       "      <td>TÉCNICOS/TECNOLÓGICOS ABP</td>\n",
       "      <td>TEST FINAL</td>\n",
       "      <td>9.66</td>\n",
       "      <td>2020-12-18 16:45:34</td>\n",
       "    </tr>\n",
       "    <tr>\n",
       "      <th>...</th>\n",
       "      <td>...</td>\n",
       "      <td>...</td>\n",
       "      <td>...</td>\n",
       "      <td>...</td>\n",
       "      <td>...</td>\n",
       "      <td>...</td>\n",
       "      <td>...</td>\n",
       "    </tr>\n",
       "    <tr>\n",
       "      <th>3459</th>\n",
       "      <td>21</td>\n",
       "      <td>Trazabilidad LPPFe MEC</td>\n",
       "      <td>278</td>\n",
       "      <td>Técnico / Tecnológico LPPFE</td>\n",
       "      <td>TEST - Enbalajearen etiketa / Etiquetado de em...</td>\n",
       "      <td>9.29</td>\n",
       "      <td>2021-06-14 16:36:31</td>\n",
       "    </tr>\n",
       "    <tr>\n",
       "      <th>3460</th>\n",
       "      <td>21</td>\n",
       "      <td>Trazabilidad LPPFe MEC</td>\n",
       "      <td>278</td>\n",
       "      <td>Técnico / Tecnológico LPPFE</td>\n",
       "      <td>Trazabilidad LPPFe MEC - Total</td>\n",
       "      <td>9.29</td>\n",
       "      <td>2021-06-14 16:36:32</td>\n",
       "    </tr>\n",
       "    <tr>\n",
       "      <th>3461</th>\n",
       "      <td>21</td>\n",
       "      <td>Trazabilidad LPPFe MEC</td>\n",
       "      <td>278</td>\n",
       "      <td>Técnico / Tecnológico LPPFE</td>\n",
       "      <td>Trazabilidad LPPFe MEC - Total</td>\n",
       "      <td>9.29</td>\n",
       "      <td>2021-06-14 16:36:32</td>\n",
       "    </tr>\n",
       "    <tr>\n",
       "      <th>3462</th>\n",
       "      <td>339</td>\n",
       "      <td>Trazabilidad LPPFe MEC</td>\n",
       "      <td>278</td>\n",
       "      <td>Técnico / Tecnológico LPPFE</td>\n",
       "      <td>Trazabilidad LPPFe MEC - Total</td>\n",
       "      <td>10.00</td>\n",
       "      <td>2021-06-14 10:13:15</td>\n",
       "    </tr>\n",
       "    <tr>\n",
       "      <th>3463</th>\n",
       "      <td>339</td>\n",
       "      <td>Trazabilidad LPPFe MEC</td>\n",
       "      <td>278</td>\n",
       "      <td>Técnico / Tecnológico LPPFE</td>\n",
       "      <td>TEST - Enbalajearen etiketa / Etiquetado de em...</td>\n",
       "      <td>10.00</td>\n",
       "      <td>2021-06-14 10:13:15</td>\n",
       "    </tr>\n",
       "  </tbody>\n",
       "</table>\n",
       "<p>3464 rows × 7 columns</p>\n",
       "</div>"
      ],
      "text/plain": [
       "      mdl_user_id                           course_name  course_id  \\\n",
       "0             190  A - FORMACIÓN ESPECÍFICA CALIDAD ABP        224   \n",
       "1             190  A - FORMACIÓN ESPECÍFICA CALIDAD ABP        224   \n",
       "2             296  A - FORMACIÓN ESPECÍFICA CALIDAD ABP        224   \n",
       "3             296  A - FORMACIÓN ESPECÍFICA CALIDAD ABP        224   \n",
       "4             299  A - FORMACIÓN ESPECÍFICA CALIDAD ABP        224   \n",
       "...           ...                                   ...        ...   \n",
       "3459           21                Trazabilidad LPPFe MEC        278   \n",
       "3460           21                Trazabilidad LPPFe MEC        278   \n",
       "3461           21                Trazabilidad LPPFe MEC        278   \n",
       "3462          339                Trazabilidad LPPFe MEC        278   \n",
       "3463          339                Trazabilidad LPPFe MEC        278   \n",
       "\n",
       "                         category  \\\n",
       "0       TÉCNICOS/TECNOLÓGICOS ABP   \n",
       "1       TÉCNICOS/TECNOLÓGICOS ABP   \n",
       "2       TÉCNICOS/TECNOLÓGICOS ABP   \n",
       "3       TÉCNICOS/TECNOLÓGICOS ABP   \n",
       "4       TÉCNICOS/TECNOLÓGICOS ABP   \n",
       "...                           ...   \n",
       "3459  Técnico / Tecnológico LPPFE   \n",
       "3460  Técnico / Tecnológico LPPFE   \n",
       "3461  Técnico / Tecnológico LPPFE   \n",
       "3462  Técnico / Tecnológico LPPFE   \n",
       "3463  Técnico / Tecnológico LPPFE   \n",
       "\n",
       "                                         actividad_name  grade  \\\n",
       "0                                            TEST FINAL    NaN   \n",
       "1          A - FORMACIÓN ESPECÍFICA CALIDAD ABP - Total    NaN   \n",
       "2          A - FORMACIÓN ESPECÍFICA CALIDAD ABP - Total   9.32   \n",
       "3                                            TEST FINAL   9.32   \n",
       "4                                            TEST FINAL   9.66   \n",
       "...                                                 ...    ...   \n",
       "3459  TEST - Enbalajearen etiketa / Etiquetado de em...   9.29   \n",
       "3460                     Trazabilidad LPPFe MEC - Total   9.29   \n",
       "3461                     Trazabilidad LPPFe MEC - Total   9.29   \n",
       "3462                     Trazabilidad LPPFe MEC - Total  10.00   \n",
       "3463  TEST - Enbalajearen etiketa / Etiquetado de em...  10.00   \n",
       "\n",
       "                     time  \n",
       "0                     NaN  \n",
       "1                     NaN  \n",
       "2     2020-12-18 15:25:05  \n",
       "3     2020-12-18 15:25:05  \n",
       "4     2020-12-18 16:45:34  \n",
       "...                   ...  \n",
       "3459  2021-06-14 16:36:31  \n",
       "3460  2021-06-14 16:36:32  \n",
       "3461  2021-06-14 16:36:32  \n",
       "3462  2021-06-14 10:13:15  \n",
       "3463  2021-06-14 10:13:15  \n",
       "\n",
       "[3464 rows x 7 columns]"
      ]
     },
     "execution_count": 16,
     "metadata": {},
     "output_type": "execute_result"
    }
   ],
   "source": [
    "Actividades"
   ]
  },
  {
   "cell_type": "code",
   "execution_count": 17,
   "id": "280df992",
   "metadata": {},
   "outputs": [
    {
     "data": {
      "text/plain": [
       "mdl_user_id         int64\n",
       "course_name        object\n",
       "course_id           int64\n",
       "category           object\n",
       "actividad_name     object\n",
       "grade             float64\n",
       "time               object\n",
       "dtype: object"
      ]
     },
     "execution_count": 17,
     "metadata": {},
     "output_type": "execute_result"
    }
   ],
   "source": [
    "Actividades.dtypes"
   ]
  },
  {
   "cell_type": "code",
   "execution_count": 18,
   "id": "860f306e-e0f9-4cca-9c90-8c50fe08df94",
   "metadata": {},
   "outputs": [],
   "source": [
    "Actividades['time']= pd.to_datetime(Actividades['time'])"
   ]
  },
  {
   "cell_type": "code",
   "execution_count": 19,
   "id": "86e9da01",
   "metadata": {},
   "outputs": [
    {
     "data": {
      "text/plain": [
       "mdl_user_id                int64\n",
       "course_name               object\n",
       "course_id                  int64\n",
       "category                  object\n",
       "actividad_name            object\n",
       "grade                    float64\n",
       "time              datetime64[ns]\n",
       "dtype: object"
      ]
     },
     "execution_count": 19,
     "metadata": {},
     "output_type": "execute_result"
    }
   ],
   "source": [
    "Actividades.dtypes"
   ]
  },
  {
   "cell_type": "code",
   "execution_count": 20,
   "id": "c42f3aa0",
   "metadata": {},
   "outputs": [
    {
     "data": {
      "text/plain": [
       "89"
      ]
     },
     "execution_count": 20,
     "metadata": {},
     "output_type": "execute_result"
    }
   ],
   "source": [
    "#Duplicados\n",
    "Actividades.duplicated().sum() # busca duplicados de fila completa"
   ]
  },
  {
   "cell_type": "code",
   "execution_count": 21,
   "id": "d578ed9a",
   "metadata": {},
   "outputs": [],
   "source": [
    "Actividades=Actividades.drop_duplicates()"
   ]
  },
  {
   "cell_type": "code",
   "execution_count": 22,
   "id": "d6f93141",
   "metadata": {},
   "outputs": [
    {
     "data": {
      "text/plain": [
       "0"
      ]
     },
     "execution_count": 22,
     "metadata": {},
     "output_type": "execute_result"
    }
   ],
   "source": [
    "Actividades.duplicated().sum()"
   ]
  },
  {
   "cell_type": "code",
   "execution_count": 23,
   "id": "d5604bcf",
   "metadata": {},
   "outputs": [
    {
     "data": {
      "text/plain": [
       "mdl_user_id          0\n",
       "course_name          0\n",
       "course_id            0\n",
       "category             0\n",
       "actividad_name       4\n",
       "grade             1278\n",
       "time              1263\n",
       "dtype: int64"
      ]
     },
     "execution_count": 23,
     "metadata": {},
     "output_type": "execute_result"
    }
   ],
   "source": [
    "Actividades.isna().sum()"
   ]
  },
  {
   "cell_type": "code",
   "execution_count": 28,
   "id": "e1175084",
   "metadata": {},
   "outputs": [],
   "source": [
    "Actividades=Actividades[Actividades['actividad_name'].isna()].drop"
   ]
  },
  {
   "cell_type": "code",
   "execution_count": 29,
   "id": "e3744248",
   "metadata": {},
   "outputs": [
    {
     "ename": "AttributeError",
     "evalue": "'function' object has no attribute 'isna'",
     "output_type": "error",
     "traceback": [
      "\u001b[1;31m---------------------------------------------------------------------------\u001b[0m",
      "\u001b[1;31mAttributeError\u001b[0m                            Traceback (most recent call last)",
      "\u001b[1;32m<ipython-input-29-e152a88957ad>\u001b[0m in \u001b[0;36m<module>\u001b[1;34m\u001b[0m\n\u001b[1;32m----> 1\u001b[1;33m \u001b[0mActividades\u001b[0m\u001b[1;33m.\u001b[0m\u001b[0misna\u001b[0m\u001b[1;33m(\u001b[0m\u001b[1;33m)\u001b[0m\u001b[1;33m.\u001b[0m\u001b[0msum\u001b[0m\u001b[1;33m(\u001b[0m\u001b[1;33m)\u001b[0m\u001b[1;33m\u001b[0m\u001b[1;33m\u001b[0m\u001b[0m\n\u001b[0m",
      "\u001b[1;31mAttributeError\u001b[0m: 'function' object has no attribute 'isna'"
     ]
    }
   ],
   "source": [
    "Actividades.isna().sum()"
   ]
  },
  {
   "cell_type": "code",
   "execution_count": null,
   "id": "1da4636c",
   "metadata": {},
   "outputs": [],
   "source": [
    "Actividades=Actividades[Actividades.duplicated(subset = ['grade', 'time'])].fillna('-999')"
   ]
  },
  {
   "cell_type": "code",
   "execution_count": null,
   "id": "a10479fb",
   "metadata": {},
   "outputs": [],
   "source": []
  },
  {
   "cell_type": "code",
   "execution_count": null,
   "id": "5e004596",
   "metadata": {},
   "outputs": [],
   "source": [
    "Actividades"
   ]
  },
  {
   "cell_type": "code",
   "execution_count": null,
   "id": "fa68de38",
   "metadata": {},
   "outputs": [],
   "source": [
    "Actividades.isna().sum()"
   ]
  },
  {
   "cell_type": "code",
   "execution_count": null,
   "id": "0daa1f4d",
   "metadata": {},
   "outputs": [],
   "source": [
    "\n",
    "\n",
    "\n"
   ]
  }
 ],
 "metadata": {
  "kernelspec": {
   "display_name": "Python 3",
   "language": "python",
   "name": "python3"
  },
  "language_info": {
   "codemirror_mode": {
    "name": "ipython",
    "version": 3
   },
   "file_extension": ".py",
   "mimetype": "text/x-python",
   "name": "python",
   "nbconvert_exporter": "python",
   "pygments_lexer": "ipython3",
   "version": "3.8.8"
  }
 },
 "nbformat": 4,
 "nbformat_minor": 5
}
