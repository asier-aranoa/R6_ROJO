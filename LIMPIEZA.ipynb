{
 "cells": [
  {
   "cell_type": "code",
   "execution_count": 1,
   "metadata": {},
   "outputs": [],
   "source": [
    "import pandas as pd\n",
    "import numpy as np\n",
    "import datetime as dt"
   ]
  },
  {
   "cell_type": "code",
   "execution_count": 2,
   "metadata": {},
   "outputs": [],
   "source": [
    "# Importamos las librerias necesarias.\n",
    "import os\n",
    "\n",
    "import pandas as pd\n",
    "import numpy as np\n",
    "import matplotlib.pyplot as plt\n",
    "import matplotlib.dates as mdates\n",
    "import matplotlib.image as mimg"
   ]
  },
  {
   "cell_type": "code",
   "execution_count": 3,
   "metadata": {},
   "outputs": [],
   "source": [
    "%matplotlib inline"
   ]
  },
  {
   "cell_type": "code",
   "execution_count": 4,
   "metadata": {},
   "outputs": [],
   "source": [
    "pd.options.display.max_columns = None"
   ]
  },
  {
   "cell_type": "code",
   "execution_count": 5,
   "metadata": {},
   "outputs": [],
   "source": [
    "df = pd.read_excel('EDERJAKIN_LA_Datos_2021.xlsm', sheet_name=None)"
   ]
  },
  {
   "cell_type": "code",
   "execution_count": 6,
   "metadata": {},
   "outputs": [],
   "source": [
    "Usuarios = pd.read_csv('UsuariosSheet.csv')\n",
    "Tutores_perfil = pd.read_csv('Tutores perfilSheet.csv')\n",
    "Conocimientos = pd.read_csv('ConocimientosSheet.csv')\n",
    "Cursos = pd.read_csv('CursosSheet.csv')\n",
    "Programas = pd.read_csv('ProgramasSheet.csv')\n",
    "Cursos_en_Programas = pd.read_csv('Cursos en ProgramasSheet.csv')\n",
    "Itinearios = pd.read_csv('ItineariosSheet.csv')\n",
    "Notas_Cursos = pd.read_csv('Notas_CursosSheet.csv')\n",
    "Roles = pd.read_csv('RolesSheet.csv')\n",
    "Plantas = pd.read_csv('PlantasSheet.csv')\n",
    "Accesos = pd.read_csv('AccesosSheet.csv')\n",
    "Acceso_1ero_ultimo = pd.read_csv('Acceso_1ero_ultimoSheet.csv')\n",
    "Actividades = pd.read_csv('ActividadesSheet.csv')"
   ]
  },
  {
   "cell_type": "code",
   "execution_count": 7,
   "metadata": {},
   "outputs": [],
   "source": [
    "#Eliminamos columna porque no sirve para nada.\n",
    "Usuarios=Usuarios.drop(['Unnamed: 0'], axis=1)\n",
    "Tutores_perfil=Tutores_perfil.drop(['Unnamed: 0'], axis=1)\n",
    "Conocimientos=Conocimientos.drop(['Unnamed: 0'], axis=1)\n",
    "Cursos=Cursos.drop(['Unnamed: 0'], axis=1)\n",
    "Programas=Programas.drop(['Unnamed: 0'], axis=1)\n",
    "Cursos_en_Programas=Cursos_en_Programas.drop(['Unnamed: 0'], axis=1)\n",
    "Itinearios=Itinearios.drop(['Unnamed: 0'], axis=1)\n",
    "Notas_Cursos=Notas_Cursos.drop(['Unnamed: 0'], axis=1)\n",
    "Roles=Roles.drop(['Unnamed: 0'], axis=1)\n",
    "Plantas=Plantas.drop(['Unnamed: 0'], axis=1)\n",
    "Accesos=Accesos.drop(['Unnamed: 0'], axis=1)\n",
    "Acceso_1ero_ultimo=Acceso_1ero_ultimo.drop(['Unnamed: 0'], axis=1)\n",
    "Actividades=Actividades.drop(['Unnamed: 0'], axis=1)"
   ]
  },
  {
   "cell_type": "code",
   "execution_count": 8,
   "metadata": {},
   "outputs": [
    {
     "name": "stdout",
     "output_type": "stream",
     "text": [
      "   user_id useranonimo_name  active_flag language  last_access  mdl_user_id  \\\n",
      "0        3      username_03            1       es          NaN         13.0   \n",
      "1        4      username_04            1       es          NaN         14.0   \n",
      "2        5      username_05            1       es          NaN         15.0   \n",
      "3        6      username_06            1       es          NaN         17.0   \n",
      "4        7      username_07            1       es          NaN         18.0   \n",
      "\n",
      "   role_admin  role_manager  role_student  role_tutor   planta_name  \n",
      "0           0             0             1           0   ABP Bergara  \n",
      "1           0             0             1           0  Fagorederlan  \n",
      "2           0             0             1           0  ABP Arrasate  \n",
      "3           0             0             1           0  Fagorederlan  \n",
      "4           0             0             1           0  ABP Arrasate  \n"
     ]
    }
   ],
   "source": [
    "print(Usuarios.head())"
   ]
  },
  {
   "cell_type": "code",
   "execution_count": 9,
   "metadata": {},
   "outputs": [
    {
     "name": "stdout",
     "output_type": "stream",
     "text": [
      "(3898, 8)\n"
     ]
    }
   ],
   "source": [
    "print(Notas_Cursos.shape)"
   ]
  },
  {
   "cell_type": "code",
   "execution_count": 10,
   "metadata": {},
   "outputs": [],
   "source": [
    "dflimpio = pd.merge(Notas_Cursos.iloc[:,[2,4,5,7]], Cursos.iloc[:,[0,2,3]], on='course_id', how='left')"
   ]
  },
  {
   "cell_type": "code",
   "execution_count": 11,
   "metadata": {},
   "outputs": [
    {
     "name": "stdout",
     "output_type": "stream",
     "text": [
      "(3898, 6)\n"
     ]
    }
   ],
   "source": [
    "print(dflimpio.shape)"
   ]
  },
  {
   "cell_type": "code",
   "execution_count": 12,
   "metadata": {},
   "outputs": [],
   "source": [
    "dflimpio = pd.merge(dflimpio, Usuarios.iloc[:,[0,3,5,10]], on='user_id', how='left')"
   ]
  },
  {
   "cell_type": "code",
   "execution_count": 13,
   "metadata": {},
   "outputs": [
    {
     "name": "stdout",
     "output_type": "stream",
     "text": [
      "(3898, 9)\n"
     ]
    }
   ],
   "source": [
    "print(dflimpio.shape)"
   ]
  },
  {
   "cell_type": "code",
   "execution_count": 14,
   "metadata": {},
   "outputs": [],
   "source": [
    "dflimpio = pd.merge(dflimpio, Acceso_1ero_ultimo, on='mdl_user_id', how='left')"
   ]
  },
  {
   "cell_type": "code",
   "execution_count": 15,
   "metadata": {},
   "outputs": [
    {
     "name": "stdout",
     "output_type": "stream",
     "text": [
      "(3898, 11)\n"
     ]
    }
   ],
   "source": [
    "print(dflimpio.shape)"
   ]
  },
  {
   "cell_type": "code",
   "execution_count": 16,
   "metadata": {},
   "outputs": [],
   "source": [
    "dflimpio = pd.merge(dflimpio, Plantas, on='planta_name', how='left')"
   ]
  },
  {
   "cell_type": "code",
   "execution_count": 17,
   "metadata": {},
   "outputs": [
    {
     "name": "stdout",
     "output_type": "stream",
     "text": [
      "(3898, 12)\n"
     ]
    }
   ],
   "source": [
    "print(dflimpio.shape)"
   ]
  },
  {
   "cell_type": "code",
   "execution_count": 18,
   "metadata": {},
   "outputs": [
    {
     "name": "stdout",
     "output_type": "stream",
     "text": [
      "   course_id  grade  online_progress  user_id  category  hours language  \\\n",
      "0        224   0.00              0.0      138        27      0       es   \n",
      "1        224   9.32              0.0      262        27      0       es   \n",
      "2        224   9.66              0.0      265        27      0       es   \n",
      "3        224    NaN              NaN      263        27      0       es   \n",
      "4        224    NaN              NaN      264        27      0       es   \n",
      "\n",
      "   mdl_user_id   planta_name                               1er acceso  \\\n",
      "0        183.0  ABP Arrasate          lunes, 4 de mayo de 2020, 17:04   \n",
      "1        296.0  ABP Arrasate  viernes, 18 de diciembre de 2020, 14:44   \n",
      "2        299.0  ABP Arrasate  viernes, 18 de diciembre de 2020, 16:18   \n",
      "3        297.0  ABP Arrasate                                       --   \n",
      "4        298.0  ABP Arrasate                                       --   \n",
      "\n",
      "                             ultimo acceso  planta_id  \n",
      "0       martes, 13 de julio de 2021, 15:10        2.0  \n",
      "1     viernes, 1 de octubre de 2021, 15:56        2.0  \n",
      "2  viernes, 18 de diciembre de 2020, 17:01        2.0  \n",
      "3                                       --        2.0  \n",
      "4                                       --        2.0  \n"
     ]
    }
   ],
   "source": [
    "print(dflimpio.head())"
   ]
  },
  {
   "cell_type": "code",
   "execution_count": 19,
   "metadata": {},
   "outputs": [
    {
     "name": "stdout",
     "output_type": "stream",
     "text": [
      "course_id            int64\n",
      "grade              float64\n",
      "online_progress    float64\n",
      "user_id              int64\n",
      "category             int64\n",
      "hours                int64\n",
      "language            object\n",
      "mdl_user_id        float64\n",
      "planta_name         object\n",
      "1er acceso          object\n",
      "ultimo acceso       object\n",
      "planta_id          float64\n",
      "dtype: object\n"
     ]
    }
   ],
   "source": [
    "print(dflimpio.dtypes)"
   ]
  },
  {
   "cell_type": "code",
   "execution_count": 20,
   "metadata": {},
   "outputs": [
    {
     "data": {
      "text/html": [
       "<div>\n",
       "<style scoped>\n",
       "    .dataframe tbody tr th:only-of-type {\n",
       "        vertical-align: middle;\n",
       "    }\n",
       "\n",
       "    .dataframe tbody tr th {\n",
       "        vertical-align: top;\n",
       "    }\n",
       "\n",
       "    .dataframe thead th {\n",
       "        text-align: right;\n",
       "    }\n",
       "</style>\n",
       "<table border=\"1\" class=\"dataframe\">\n",
       "  <thead>\n",
       "    <tr style=\"text-align: right;\">\n",
       "      <th></th>\n",
       "      <th>course_id</th>\n",
       "      <th>grade</th>\n",
       "      <th>online_progress</th>\n",
       "      <th>user_id</th>\n",
       "      <th>category</th>\n",
       "      <th>hours</th>\n",
       "      <th>language</th>\n",
       "      <th>mdl_user_id</th>\n",
       "      <th>planta_name</th>\n",
       "      <th>1er acceso</th>\n",
       "      <th>ultimo acceso</th>\n",
       "      <th>planta_id</th>\n",
       "    </tr>\n",
       "  </thead>\n",
       "  <tbody>\n",
       "    <tr>\n",
       "      <th>0</th>\n",
       "      <td>224</td>\n",
       "      <td>0.00</td>\n",
       "      <td>0.0</td>\n",
       "      <td>138</td>\n",
       "      <td>27</td>\n",
       "      <td>0</td>\n",
       "      <td>es</td>\n",
       "      <td>183.0</td>\n",
       "      <td>ABP Arrasate</td>\n",
       "      <td>lunes, 4 de mayo de 2020, 17:04</td>\n",
       "      <td>martes, 13 de julio de 2021, 15:10</td>\n",
       "      <td>2.0</td>\n",
       "    </tr>\n",
       "    <tr>\n",
       "      <th>1</th>\n",
       "      <td>224</td>\n",
       "      <td>9.32</td>\n",
       "      <td>0.0</td>\n",
       "      <td>262</td>\n",
       "      <td>27</td>\n",
       "      <td>0</td>\n",
       "      <td>es</td>\n",
       "      <td>296.0</td>\n",
       "      <td>ABP Arrasate</td>\n",
       "      <td>viernes, 18 de diciembre de 2020, 14:44</td>\n",
       "      <td>viernes, 1 de octubre de 2021, 15:56</td>\n",
       "      <td>2.0</td>\n",
       "    </tr>\n",
       "    <tr>\n",
       "      <th>2</th>\n",
       "      <td>224</td>\n",
       "      <td>9.66</td>\n",
       "      <td>0.0</td>\n",
       "      <td>265</td>\n",
       "      <td>27</td>\n",
       "      <td>0</td>\n",
       "      <td>es</td>\n",
       "      <td>299.0</td>\n",
       "      <td>ABP Arrasate</td>\n",
       "      <td>viernes, 18 de diciembre de 2020, 16:18</td>\n",
       "      <td>viernes, 18 de diciembre de 2020, 17:01</td>\n",
       "      <td>2.0</td>\n",
       "    </tr>\n",
       "    <tr>\n",
       "      <th>3</th>\n",
       "      <td>224</td>\n",
       "      <td>NaN</td>\n",
       "      <td>NaN</td>\n",
       "      <td>263</td>\n",
       "      <td>27</td>\n",
       "      <td>0</td>\n",
       "      <td>es</td>\n",
       "      <td>297.0</td>\n",
       "      <td>ABP Arrasate</td>\n",
       "      <td>--</td>\n",
       "      <td>--</td>\n",
       "      <td>2.0</td>\n",
       "    </tr>\n",
       "    <tr>\n",
       "      <th>4</th>\n",
       "      <td>224</td>\n",
       "      <td>NaN</td>\n",
       "      <td>NaN</td>\n",
       "      <td>264</td>\n",
       "      <td>27</td>\n",
       "      <td>0</td>\n",
       "      <td>es</td>\n",
       "      <td>298.0</td>\n",
       "      <td>ABP Arrasate</td>\n",
       "      <td>--</td>\n",
       "      <td>--</td>\n",
       "      <td>2.0</td>\n",
       "    </tr>\n",
       "    <tr>\n",
       "      <th>...</th>\n",
       "      <td>...</td>\n",
       "      <td>...</td>\n",
       "      <td>...</td>\n",
       "      <td>...</td>\n",
       "      <td>...</td>\n",
       "      <td>...</td>\n",
       "      <td>...</td>\n",
       "      <td>...</td>\n",
       "      <td>...</td>\n",
       "      <td>...</td>\n",
       "      <td>...</td>\n",
       "      <td>...</td>\n",
       "    </tr>\n",
       "    <tr>\n",
       "      <th>3893</th>\n",
       "      <td>278</td>\n",
       "      <td>NaN</td>\n",
       "      <td>NaN</td>\n",
       "      <td>311</td>\n",
       "      <td>44</td>\n",
       "      <td>0</td>\n",
       "      <td>es</td>\n",
       "      <td>336.0</td>\n",
       "      <td>LPP Eskoriatza</td>\n",
       "      <td>viernes, 4 de junio de 2021, 11:03</td>\n",
       "      <td>viernes, 11 de junio de 2021, 11:27</td>\n",
       "      <td>8.0</td>\n",
       "    </tr>\n",
       "    <tr>\n",
       "      <th>3894</th>\n",
       "      <td>278</td>\n",
       "      <td>NaN</td>\n",
       "      <td>NaN</td>\n",
       "      <td>312</td>\n",
       "      <td>44</td>\n",
       "      <td>0</td>\n",
       "      <td>es</td>\n",
       "      <td>337.0</td>\n",
       "      <td>LPP Eskoriatza</td>\n",
       "      <td>viernes, 4 de junio de 2021, 10:59</td>\n",
       "      <td>viernes, 11 de junio de 2021, 11:41</td>\n",
       "      <td>8.0</td>\n",
       "    </tr>\n",
       "    <tr>\n",
       "      <th>3895</th>\n",
       "      <td>278</td>\n",
       "      <td>NaN</td>\n",
       "      <td>NaN</td>\n",
       "      <td>313</td>\n",
       "      <td>44</td>\n",
       "      <td>0</td>\n",
       "      <td>es</td>\n",
       "      <td>338.0</td>\n",
       "      <td>LPP Eskoriatza</td>\n",
       "      <td>viernes, 4 de junio de 2021, 10:58</td>\n",
       "      <td>martes, 8 de junio de 2021, 15:51</td>\n",
       "      <td>8.0</td>\n",
       "    </tr>\n",
       "    <tr>\n",
       "      <th>3896</th>\n",
       "      <td>278</td>\n",
       "      <td>NaN</td>\n",
       "      <td>NaN</td>\n",
       "      <td>317</td>\n",
       "      <td>44</td>\n",
       "      <td>0</td>\n",
       "      <td>es</td>\n",
       "      <td>62.0</td>\n",
       "      <td>LPP Eskoriatza</td>\n",
       "      <td>viernes, 15 de octubre de 2021, 09:17</td>\n",
       "      <td>lunes, 18 de octubre de 2021, 14:35</td>\n",
       "      <td>8.0</td>\n",
       "    </tr>\n",
       "    <tr>\n",
       "      <th>3897</th>\n",
       "      <td>278</td>\n",
       "      <td>NaN</td>\n",
       "      <td>NaN</td>\n",
       "      <td>324</td>\n",
       "      <td>44</td>\n",
       "      <td>0</td>\n",
       "      <td>NaN</td>\n",
       "      <td>NaN</td>\n",
       "      <td>NaN</td>\n",
       "      <td>NaN</td>\n",
       "      <td>NaN</td>\n",
       "      <td>NaN</td>\n",
       "    </tr>\n",
       "  </tbody>\n",
       "</table>\n",
       "<p>3898 rows × 12 columns</p>\n",
       "</div>"
      ],
      "text/plain": [
       "      course_id  grade  online_progress  user_id  category  hours language  \\\n",
       "0           224   0.00              0.0      138        27      0       es   \n",
       "1           224   9.32              0.0      262        27      0       es   \n",
       "2           224   9.66              0.0      265        27      0       es   \n",
       "3           224    NaN              NaN      263        27      0       es   \n",
       "4           224    NaN              NaN      264        27      0       es   \n",
       "...         ...    ...              ...      ...       ...    ...      ...   \n",
       "3893        278    NaN              NaN      311        44      0       es   \n",
       "3894        278    NaN              NaN      312        44      0       es   \n",
       "3895        278    NaN              NaN      313        44      0       es   \n",
       "3896        278    NaN              NaN      317        44      0       es   \n",
       "3897        278    NaN              NaN      324        44      0      NaN   \n",
       "\n",
       "      mdl_user_id     planta_name                               1er acceso  \\\n",
       "0           183.0    ABP Arrasate          lunes, 4 de mayo de 2020, 17:04   \n",
       "1           296.0    ABP Arrasate  viernes, 18 de diciembre de 2020, 14:44   \n",
       "2           299.0    ABP Arrasate  viernes, 18 de diciembre de 2020, 16:18   \n",
       "3           297.0    ABP Arrasate                                       --   \n",
       "4           298.0    ABP Arrasate                                       --   \n",
       "...           ...             ...                                      ...   \n",
       "3893        336.0  LPP Eskoriatza       viernes, 4 de junio de 2021, 11:03   \n",
       "3894        337.0  LPP Eskoriatza       viernes, 4 de junio de 2021, 10:59   \n",
       "3895        338.0  LPP Eskoriatza       viernes, 4 de junio de 2021, 10:58   \n",
       "3896         62.0  LPP Eskoriatza    viernes, 15 de octubre de 2021, 09:17   \n",
       "3897          NaN             NaN                                      NaN   \n",
       "\n",
       "                                ultimo acceso  planta_id  \n",
       "0          martes, 13 de julio de 2021, 15:10        2.0  \n",
       "1        viernes, 1 de octubre de 2021, 15:56        2.0  \n",
       "2     viernes, 18 de diciembre de 2020, 17:01        2.0  \n",
       "3                                          --        2.0  \n",
       "4                                          --        2.0  \n",
       "...                                       ...        ...  \n",
       "3893      viernes, 11 de junio de 2021, 11:27        8.0  \n",
       "3894      viernes, 11 de junio de 2021, 11:41        8.0  \n",
       "3895        martes, 8 de junio de 2021, 15:51        8.0  \n",
       "3896      lunes, 18 de octubre de 2021, 14:35        8.0  \n",
       "3897                                      NaN        NaN  \n",
       "\n",
       "[3898 rows x 12 columns]"
      ]
     },
     "execution_count": 20,
     "metadata": {},
     "output_type": "execute_result"
    }
   ],
   "source": [
    "dflimpio"
   ]
  },
  {
   "cell_type": "code",
   "execution_count": 21,
   "metadata": {},
   "outputs": [
    {
     "data": {
      "text/plain": [
       "635"
      ]
     },
     "execution_count": 21,
     "metadata": {},
     "output_type": "execute_result"
    }
   ],
   "source": [
    "dflimpio.duplicated().sum()"
   ]
  },
  {
   "cell_type": "code",
   "execution_count": 22,
   "metadata": {
    "tags": []
   },
   "outputs": [],
   "source": [
    "dflimpio=dflimpio.drop_duplicates()"
   ]
  },
  {
   "cell_type": "code",
   "execution_count": 23,
   "metadata": {},
   "outputs": [
    {
     "data": {
      "text/plain": [
       "course_id             0\n",
       "grade              1969\n",
       "online_progress    1957\n",
       "user_id               0\n",
       "category              0\n",
       "hours                 0\n",
       "language             62\n",
       "mdl_user_id          62\n",
       "planta_name          62\n",
       "1er acceso          314\n",
       "ultimo acceso       314\n",
       "planta_id            62\n",
       "dtype: int64"
      ]
     },
     "execution_count": 23,
     "metadata": {},
     "output_type": "execute_result"
    }
   ],
   "source": [
    "dflimpio.isna().sum()"
   ]
  },
  {
   "cell_type": "code",
   "execution_count": 24,
   "metadata": {},
   "outputs": [
    {
     "data": {
      "text/plain": [
       "course_id             0\n",
       "grade              1969\n",
       "online_progress    1957\n",
       "user_id               0\n",
       "category              0\n",
       "hours                 0\n",
       "language             62\n",
       "mdl_user_id          62\n",
       "planta_name          62\n",
       "1er acceso          314\n",
       "ultimo acceso       314\n",
       "planta_id            62\n",
       "dtype: int64"
      ]
     },
     "execution_count": 24,
     "metadata": {},
     "output_type": "execute_result"
    }
   ],
   "source": [
    "dflimpio.isnull().sum()"
   ]
  },
  {
   "cell_type": "code",
   "execution_count": 25,
   "metadata": {},
   "outputs": [
    {
     "data": {
      "text/plain": [
       "(3263, 12)"
      ]
     },
     "execution_count": 25,
     "metadata": {},
     "output_type": "execute_result"
    }
   ],
   "source": [
    "dflimpio.shape"
   ]
  },
  {
   "cell_type": "code",
   "execution_count": 26,
   "metadata": {},
   "outputs": [],
   "source": [
    "dflimpio=dflimpio.dropna(subset = ['language'])"
   ]
  },
  {
   "cell_type": "code",
   "execution_count": 27,
   "metadata": {},
   "outputs": [
    {
     "data": {
      "text/plain": [
       "course_id             0\n",
       "grade              1930\n",
       "online_progress    1919\n",
       "user_id               0\n",
       "category              0\n",
       "hours                 0\n",
       "language              0\n",
       "mdl_user_id           0\n",
       "planta_name           0\n",
       "1er acceso          252\n",
       "ultimo acceso       252\n",
       "planta_id             0\n",
       "dtype: int64"
      ]
     },
     "execution_count": 27,
     "metadata": {},
     "output_type": "execute_result"
    }
   ],
   "source": [
    "dflimpio.isna().sum()"
   ]
  },
  {
   "cell_type": "code",
   "execution_count": 28,
   "metadata": {},
   "outputs": [],
   "source": [
    "dflimpio['mdl_user_id'] = dflimpio['mdl_user_id'].astype('int64')"
   ]
  },
  {
   "cell_type": "code",
   "execution_count": 29,
   "metadata": {},
   "outputs": [],
   "source": [
    "dflimpio['planta_id'] = dflimpio['planta_id'].astype('int64')"
   ]
  },
  {
   "cell_type": "code",
   "execution_count": 30,
   "metadata": {},
   "outputs": [
    {
     "name": "stdout",
     "output_type": "stream",
     "text": [
      "course_id            int64\n",
      "grade              float64\n",
      "online_progress    float64\n",
      "user_id              int64\n",
      "category             int64\n",
      "hours                int64\n",
      "language            object\n",
      "mdl_user_id          int64\n",
      "planta_name         object\n",
      "1er acceso          object\n",
      "ultimo acceso       object\n",
      "planta_id            int64\n",
      "dtype: object\n"
     ]
    }
   ],
   "source": [
    "print(dflimpio.dtypes)"
   ]
  },
  {
   "cell_type": "code",
   "execution_count": 31,
   "metadata": {},
   "outputs": [],
   "source": [
    "#Binarizamos para poder crear modelos\n",
    "dflimpio = pd.get_dummies(dflimpio, columns = [\"language\"], drop_first = False)"
   ]
  },
  {
   "cell_type": "code",
   "execution_count": 32,
   "metadata": {},
   "outputs": [],
   "source": [
    "#Al solo haber 2 idiomas con una columna binariza nos es suficienre\n",
    "dflimpio = dflimpio.drop(['language_eu'], axis=1)"
   ]
  },
  {
   "cell_type": "code",
   "execution_count": 33,
   "metadata": {},
   "outputs": [],
   "source": [
    "#aqui nose si es mejor eliminar o igualar a 0 los registros que faltan\n",
    "dflimpio = dflimpio[dflimpio['1er acceso'].notna()]"
   ]
  },
  {
   "cell_type": "code",
   "execution_count": 34,
   "metadata": {},
   "outputs": [
    {
     "data": {
      "text/plain": [
       "course_id             0\n",
       "grade              1755\n",
       "online_progress    1755\n",
       "user_id               0\n",
       "category              0\n",
       "hours                 0\n",
       "mdl_user_id           0\n",
       "planta_name           0\n",
       "1er acceso            0\n",
       "ultimo acceso         0\n",
       "planta_id             0\n",
       "language_es           0\n",
       "dtype: int64"
      ]
     },
     "execution_count": 34,
     "metadata": {},
     "output_type": "execute_result"
    }
   ],
   "source": [
    "dflimpio.isna().sum()"
   ]
  },
  {
   "cell_type": "code",
   "execution_count": 35,
   "metadata": {},
   "outputs": [],
   "source": [
    "#Grade"
   ]
  },
  {
   "cell_type": "code",
   "execution_count": 36,
   "metadata": {},
   "outputs": [
    {
     "data": {
      "text/plain": [
       "<matplotlib.axes._subplots.AxesSubplot at 0x1a004006e20>"
      ]
     },
     "execution_count": 36,
     "metadata": {},
     "output_type": "execute_result"
    },
    {
     "data": {
      "image/png": "[encoded data removed]",
      "text/plain": [
       "<Figure size 432x288 with 1 Axes>"
      ]
     },
     "metadata": {
      "needs_background": "light"
     },
     "output_type": "display_data"
    }
   ],
   "source": [
    "dflimpio[dflimpio['grade']>=-1].grade.plot(kind =\"box\")"
   ]
  },
  {
   "cell_type": "code",
   "execution_count": 37,
   "metadata": {},
   "outputs": [
    {
     "data": {
      "text/plain": [
       "array([[<matplotlib.axes._subplots.AxesSubplot object at 0x000001A003F00910>]],\n",
       "      dtype=object)"
      ]
     },
     "execution_count": 37,
     "metadata": {},
     "output_type": "execute_result"
    },
    {
     "data": {
      "image/png": "[encoded data removed]",
      "text/plain": [
       "<Figure size 432x288 with 1 Axes>"
      ]
     },
     "metadata": {
      "needs_background": "light"
     },
     "output_type": "display_data"
    }
   ],
   "source": [
    "dflimpio.hist(\"grade\")"
   ]
  },
  {
   "cell_type": "code",
   "execution_count": 38,
   "metadata": {},
   "outputs": [
    {
     "data": {
      "text/html": [
       "<div>\n",
       "<style scoped>\n",
       "    .dataframe tbody tr th:only-of-type {\n",
       "        vertical-align: middle;\n",
       "    }\n",
       "\n",
       "    .dataframe tbody tr th {\n",
       "        vertical-align: top;\n",
       "    }\n",
       "\n",
       "    .dataframe thead th {\n",
       "        text-align: right;\n",
       "    }\n",
       "</style>\n",
       "<table border=\"1\" class=\"dataframe\">\n",
       "  <thead>\n",
       "    <tr style=\"text-align: right;\">\n",
       "      <th></th>\n",
       "      <th>grade</th>\n",
       "    </tr>\n",
       "  </thead>\n",
       "  <tbody>\n",
       "    <tr>\n",
       "      <th>count</th>\n",
       "      <td>1194.000000</td>\n",
       "    </tr>\n",
       "    <tr>\n",
       "      <th>mean</th>\n",
       "      <td>6.073735</td>\n",
       "    </tr>\n",
       "    <tr>\n",
       "      <th>std</th>\n",
       "      <td>5.318400</td>\n",
       "    </tr>\n",
       "    <tr>\n",
       "      <th>min</th>\n",
       "      <td>0.000000</td>\n",
       "    </tr>\n",
       "    <tr>\n",
       "      <th>25%</th>\n",
       "      <td>0.000000</td>\n",
       "    </tr>\n",
       "    <tr>\n",
       "      <th>50%</th>\n",
       "      <td>8.515000</td>\n",
       "    </tr>\n",
       "    <tr>\n",
       "      <th>75%</th>\n",
       "      <td>10.000000</td>\n",
       "    </tr>\n",
       "    <tr>\n",
       "      <th>max</th>\n",
       "      <td>38.850000</td>\n",
       "    </tr>\n",
       "  </tbody>\n",
       "</table>\n",
       "</div>"
      ],
      "text/plain": [
       "             grade\n",
       "count  1194.000000\n",
       "mean      6.073735\n",
       "std       5.318400\n",
       "min       0.000000\n",
       "25%       0.000000\n",
       "50%       8.515000\n",
       "75%      10.000000\n",
       "max      38.850000"
      ]
     },
     "execution_count": 38,
     "metadata": {},
     "output_type": "execute_result"
    }
   ],
   "source": [
    "dflimpio[[\"grade\"]].describe()"
   ]
  },
  {
   "cell_type": "code",
   "execution_count": 39,
   "metadata": {},
   "outputs": [
    {
     "name": "stdout",
     "output_type": "stream",
     "text": [
      "(2949, 12)\n"
     ]
    }
   ],
   "source": [
    "print(dflimpio.shape)"
   ]
  },
  {
   "cell_type": "code",
   "execution_count": 40,
   "metadata": {},
   "outputs": [],
   "source": [
    "for a in dflimpio.index: \n",
    "    if dflimpio.loc[a,'grade']>10: \n",
    "        dflimpio.loc[a,'grade']=(dflimpio.loc[a,'grade']/10)"
   ]
  },
  {
   "cell_type": "code",
   "execution_count": 41,
   "metadata": {},
   "outputs": [
    {
     "name": "stdout",
     "output_type": "stream",
     "text": [
      "(2949, 12)\n"
     ]
    }
   ],
   "source": [
    "print(dflimpio.shape)"
   ]
  },
  {
   "cell_type": "code",
   "execution_count": 42,
   "metadata": {},
   "outputs": [
    {
     "data": {
      "text/html": [
       "<div>\n",
       "<style scoped>\n",
       "    .dataframe tbody tr th:only-of-type {\n",
       "        vertical-align: middle;\n",
       "    }\n",
       "\n",
       "    .dataframe tbody tr th {\n",
       "        vertical-align: top;\n",
       "    }\n",
       "\n",
       "    .dataframe thead th {\n",
       "        text-align: right;\n",
       "    }\n",
       "</style>\n",
       "<table border=\"1\" class=\"dataframe\">\n",
       "  <thead>\n",
       "    <tr style=\"text-align: right;\">\n",
       "      <th></th>\n",
       "      <th>course_id</th>\n",
       "      <th>grade</th>\n",
       "      <th>online_progress</th>\n",
       "      <th>user_id</th>\n",
       "      <th>category</th>\n",
       "      <th>hours</th>\n",
       "      <th>mdl_user_id</th>\n",
       "      <th>planta_id</th>\n",
       "      <th>language_es</th>\n",
       "    </tr>\n",
       "  </thead>\n",
       "  <tbody>\n",
       "    <tr>\n",
       "      <th>count</th>\n",
       "      <td>2949.000000</td>\n",
       "      <td>1194.000000</td>\n",
       "      <td>1194.000000</td>\n",
       "      <td>2949.000000</td>\n",
       "      <td>2949.000000</td>\n",
       "      <td>2949.000000</td>\n",
       "      <td>2949.000000</td>\n",
       "      <td>2949.000000</td>\n",
       "      <td>2949.000000</td>\n",
       "    </tr>\n",
       "    <tr>\n",
       "      <th>mean</th>\n",
       "      <td>202.387589</td>\n",
       "      <td>5.654919</td>\n",
       "      <td>33.676127</td>\n",
       "      <td>301.842659</td>\n",
       "      <td>35.032553</td>\n",
       "      <td>13.972872</td>\n",
       "      <td>328.332316</td>\n",
       "      <td>5.007121</td>\n",
       "      <td>0.979315</td>\n",
       "    </tr>\n",
       "    <tr>\n",
       "      <th>std</th>\n",
       "      <td>71.567377</td>\n",
       "      <td>4.557320</td>\n",
       "      <td>45.711980</td>\n",
       "      <td>124.755485</td>\n",
       "      <td>13.658399</td>\n",
       "      <td>93.035103</td>\n",
       "      <td>124.755542</td>\n",
       "      <td>2.994616</td>\n",
       "      <td>0.142352</td>\n",
       "    </tr>\n",
       "    <tr>\n",
       "      <th>min</th>\n",
       "      <td>10.000000</td>\n",
       "      <td>0.000000</td>\n",
       "      <td>0.000000</td>\n",
       "      <td>3.000000</td>\n",
       "      <td>3.000000</td>\n",
       "      <td>0.000000</td>\n",
       "      <td>10.000000</td>\n",
       "      <td>1.000000</td>\n",
       "      <td>0.000000</td>\n",
       "    </tr>\n",
       "    <tr>\n",
       "      <th>25%</th>\n",
       "      <td>212.000000</td>\n",
       "      <td>0.000000</td>\n",
       "      <td>0.000000</td>\n",
       "      <td>224.000000</td>\n",
       "      <td>24.000000</td>\n",
       "      <td>0.000000</td>\n",
       "      <td>261.000000</td>\n",
       "      <td>5.000000</td>\n",
       "      <td>1.000000</td>\n",
       "    </tr>\n",
       "    <tr>\n",
       "      <th>50%</th>\n",
       "      <td>231.000000</td>\n",
       "      <td>8.330000</td>\n",
       "      <td>0.000000</td>\n",
       "      <td>355.000000</td>\n",
       "      <td>44.000000</td>\n",
       "      <td>0.000000</td>\n",
       "      <td>381.000000</td>\n",
       "      <td>5.000000</td>\n",
       "      <td>1.000000</td>\n",
       "    </tr>\n",
       "    <tr>\n",
       "      <th>75%</th>\n",
       "      <td>239.000000</td>\n",
       "      <td>10.000000</td>\n",
       "      <td>100.000000</td>\n",
       "      <td>396.000000</td>\n",
       "      <td>45.000000</td>\n",
       "      <td>0.000000</td>\n",
       "      <td>422.000000</td>\n",
       "      <td>5.000000</td>\n",
       "      <td>1.000000</td>\n",
       "    </tr>\n",
       "    <tr>\n",
       "      <th>max</th>\n",
       "      <td>306.000000</td>\n",
       "      <td>10.000000</td>\n",
       "      <td>100.000000</td>\n",
       "      <td>436.000000</td>\n",
       "      <td>45.000000</td>\n",
       "      <td>800.000000</td>\n",
       "      <td>461.000000</td>\n",
       "      <td>18.000000</td>\n",
       "      <td>1.000000</td>\n",
       "    </tr>\n",
       "  </tbody>\n",
       "</table>\n",
       "</div>"
      ],
      "text/plain": [
       "         course_id        grade  online_progress      user_id     category  \\\n",
       "count  2949.000000  1194.000000      1194.000000  2949.000000  2949.000000   \n",
       "mean    202.387589     5.654919        33.676127   301.842659    35.032553   \n",
       "std      71.567377     4.557320        45.711980   124.755485    13.658399   \n",
       "min      10.000000     0.000000         0.000000     3.000000     3.000000   \n",
       "25%     212.000000     0.000000         0.000000   224.000000    24.000000   \n",
       "50%     231.000000     8.330000         0.000000   355.000000    44.000000   \n",
       "75%     239.000000    10.000000       100.000000   396.000000    45.000000   \n",
       "max     306.000000    10.000000       100.000000   436.000000    45.000000   \n",
       "\n",
       "             hours  mdl_user_id    planta_id  language_es  \n",
       "count  2949.000000  2949.000000  2949.000000  2949.000000  \n",
       "mean     13.972872   328.332316     5.007121     0.979315  \n",
       "std      93.035103   124.755542     2.994616     0.142352  \n",
       "min       0.000000    10.000000     1.000000     0.000000  \n",
       "25%       0.000000   261.000000     5.000000     1.000000  \n",
       "50%       0.000000   381.000000     5.000000     1.000000  \n",
       "75%       0.000000   422.000000     5.000000     1.000000  \n",
       "max     800.000000   461.000000    18.000000     1.000000  "
      ]
     },
     "execution_count": 42,
     "metadata": {},
     "output_type": "execute_result"
    }
   ],
   "source": [
    "dflimpio.describe()"
   ]
  },
  {
   "cell_type": "code",
   "execution_count": 43,
   "metadata": {},
   "outputs": [],
   "source": [
    "dflimpio1=dflimpio[dflimpio[\"grade\"]<0].index\n",
    "dflimpio2=dflimpio.drop(dflimpio1)"
   ]
  },
  {
   "cell_type": "code",
   "execution_count": 44,
   "metadata": {},
   "outputs": [],
   "source": [
    "dflimpio=dflimpio2.copy()"
   ]
  },
  {
   "cell_type": "code",
   "execution_count": 45,
   "metadata": {},
   "outputs": [
    {
     "data": {
      "text/html": [
       "<div>\n",
       "<style scoped>\n",
       "    .dataframe tbody tr th:only-of-type {\n",
       "        vertical-align: middle;\n",
       "    }\n",
       "\n",
       "    .dataframe tbody tr th {\n",
       "        vertical-align: top;\n",
       "    }\n",
       "\n",
       "    .dataframe thead th {\n",
       "        text-align: right;\n",
       "    }\n",
       "</style>\n",
       "<table border=\"1\" class=\"dataframe\">\n",
       "  <thead>\n",
       "    <tr style=\"text-align: right;\">\n",
       "      <th></th>\n",
       "      <th>course_id</th>\n",
       "      <th>grade</th>\n",
       "      <th>online_progress</th>\n",
       "      <th>user_id</th>\n",
       "      <th>category</th>\n",
       "      <th>hours</th>\n",
       "      <th>mdl_user_id</th>\n",
       "      <th>planta_name</th>\n",
       "      <th>1er acceso</th>\n",
       "      <th>ultimo acceso</th>\n",
       "      <th>planta_id</th>\n",
       "      <th>language_es</th>\n",
       "    </tr>\n",
       "  </thead>\n",
       "  <tbody>\n",
       "    <tr>\n",
       "      <th>0</th>\n",
       "      <td>224</td>\n",
       "      <td>0.00</td>\n",
       "      <td>0.0</td>\n",
       "      <td>138</td>\n",
       "      <td>27</td>\n",
       "      <td>0</td>\n",
       "      <td>183</td>\n",
       "      <td>ABP Arrasate</td>\n",
       "      <td>lunes, 4 de mayo de 2020, 17:04</td>\n",
       "      <td>martes, 13 de julio de 2021, 15:10</td>\n",
       "      <td>2</td>\n",
       "      <td>1</td>\n",
       "    </tr>\n",
       "    <tr>\n",
       "      <th>1</th>\n",
       "      <td>224</td>\n",
       "      <td>9.32</td>\n",
       "      <td>0.0</td>\n",
       "      <td>262</td>\n",
       "      <td>27</td>\n",
       "      <td>0</td>\n",
       "      <td>296</td>\n",
       "      <td>ABP Arrasate</td>\n",
       "      <td>viernes, 18 de diciembre de 2020, 14:44</td>\n",
       "      <td>viernes, 1 de octubre de 2021, 15:56</td>\n",
       "      <td>2</td>\n",
       "      <td>1</td>\n",
       "    </tr>\n",
       "    <tr>\n",
       "      <th>2</th>\n",
       "      <td>224</td>\n",
       "      <td>9.66</td>\n",
       "      <td>0.0</td>\n",
       "      <td>265</td>\n",
       "      <td>27</td>\n",
       "      <td>0</td>\n",
       "      <td>299</td>\n",
       "      <td>ABP Arrasate</td>\n",
       "      <td>viernes, 18 de diciembre de 2020, 16:18</td>\n",
       "      <td>viernes, 18 de diciembre de 2020, 17:01</td>\n",
       "      <td>2</td>\n",
       "      <td>1</td>\n",
       "    </tr>\n",
       "    <tr>\n",
       "      <th>3</th>\n",
       "      <td>224</td>\n",
       "      <td>NaN</td>\n",
       "      <td>NaN</td>\n",
       "      <td>263</td>\n",
       "      <td>27</td>\n",
       "      <td>0</td>\n",
       "      <td>297</td>\n",
       "      <td>ABP Arrasate</td>\n",
       "      <td>--</td>\n",
       "      <td>--</td>\n",
       "      <td>2</td>\n",
       "      <td>1</td>\n",
       "    </tr>\n",
       "    <tr>\n",
       "      <th>4</th>\n",
       "      <td>224</td>\n",
       "      <td>NaN</td>\n",
       "      <td>NaN</td>\n",
       "      <td>264</td>\n",
       "      <td>27</td>\n",
       "      <td>0</td>\n",
       "      <td>298</td>\n",
       "      <td>ABP Arrasate</td>\n",
       "      <td>--</td>\n",
       "      <td>--</td>\n",
       "      <td>2</td>\n",
       "      <td>1</td>\n",
       "    </tr>\n",
       "  </tbody>\n",
       "</table>\n",
       "</div>"
      ],
      "text/plain": [
       "   course_id  grade  online_progress  user_id  category  hours  mdl_user_id  \\\n",
       "0        224   0.00              0.0      138        27      0          183   \n",
       "1        224   9.32              0.0      262        27      0          296   \n",
       "2        224   9.66              0.0      265        27      0          299   \n",
       "3        224    NaN              NaN      263        27      0          297   \n",
       "4        224    NaN              NaN      264        27      0          298   \n",
       "\n",
       "    planta_name                               1er acceso  \\\n",
       "0  ABP Arrasate          lunes, 4 de mayo de 2020, 17:04   \n",
       "1  ABP Arrasate  viernes, 18 de diciembre de 2020, 14:44   \n",
       "2  ABP Arrasate  viernes, 18 de diciembre de 2020, 16:18   \n",
       "3  ABP Arrasate                                       --   \n",
       "4  ABP Arrasate                                       --   \n",
       "\n",
       "                             ultimo acceso  planta_id  language_es  \n",
       "0       martes, 13 de julio de 2021, 15:10          2            1  \n",
       "1     viernes, 1 de octubre de 2021, 15:56          2            1  \n",
       "2  viernes, 18 de diciembre de 2020, 17:01          2            1  \n",
       "3                                       --          2            1  \n",
       "4                                       --          2            1  "
      ]
     },
     "execution_count": 45,
     "metadata": {},
     "output_type": "execute_result"
    }
   ],
   "source": [
    "dflimpio.head()"
   ]
  },
  {
   "cell_type": "code",
   "execution_count": 46,
   "metadata": {},
   "outputs": [
    {
     "data": {
      "text/html": [
       "<div>\n",
       "<style scoped>\n",
       "    .dataframe tbody tr th:only-of-type {\n",
       "        vertical-align: middle;\n",
       "    }\n",
       "\n",
       "    .dataframe tbody tr th {\n",
       "        vertical-align: top;\n",
       "    }\n",
       "\n",
       "    .dataframe thead th {\n",
       "        text-align: right;\n",
       "    }\n",
       "</style>\n",
       "<table border=\"1\" class=\"dataframe\">\n",
       "  <thead>\n",
       "    <tr style=\"text-align: right;\">\n",
       "      <th></th>\n",
       "      <th>course_id</th>\n",
       "      <th>grade</th>\n",
       "      <th>online_progress</th>\n",
       "      <th>user_id</th>\n",
       "      <th>category</th>\n",
       "      <th>hours</th>\n",
       "      <th>mdl_user_id</th>\n",
       "      <th>planta_id</th>\n",
       "      <th>language_es</th>\n",
       "    </tr>\n",
       "  </thead>\n",
       "  <tbody>\n",
       "    <tr>\n",
       "      <th>count</th>\n",
       "      <td>2949.000000</td>\n",
       "      <td>1194.000000</td>\n",
       "      <td>1194.000000</td>\n",
       "      <td>2949.000000</td>\n",
       "      <td>2949.000000</td>\n",
       "      <td>2949.000000</td>\n",
       "      <td>2949.000000</td>\n",
       "      <td>2949.000000</td>\n",
       "      <td>2949.000000</td>\n",
       "    </tr>\n",
       "    <tr>\n",
       "      <th>mean</th>\n",
       "      <td>202.387589</td>\n",
       "      <td>5.654919</td>\n",
       "      <td>33.676127</td>\n",
       "      <td>301.842659</td>\n",
       "      <td>35.032553</td>\n",
       "      <td>13.972872</td>\n",
       "      <td>328.332316</td>\n",
       "      <td>5.007121</td>\n",
       "      <td>0.979315</td>\n",
       "    </tr>\n",
       "    <tr>\n",
       "      <th>std</th>\n",
       "      <td>71.567377</td>\n",
       "      <td>4.557320</td>\n",
       "      <td>45.711980</td>\n",
       "      <td>124.755485</td>\n",
       "      <td>13.658399</td>\n",
       "      <td>93.035103</td>\n",
       "      <td>124.755542</td>\n",
       "      <td>2.994616</td>\n",
       "      <td>0.142352</td>\n",
       "    </tr>\n",
       "    <tr>\n",
       "      <th>min</th>\n",
       "      <td>10.000000</td>\n",
       "      <td>0.000000</td>\n",
       "      <td>0.000000</td>\n",
       "      <td>3.000000</td>\n",
       "      <td>3.000000</td>\n",
       "      <td>0.000000</td>\n",
       "      <td>10.000000</td>\n",
       "      <td>1.000000</td>\n",
       "      <td>0.000000</td>\n",
       "    </tr>\n",
       "    <tr>\n",
       "      <th>25%</th>\n",
       "      <td>212.000000</td>\n",
       "      <td>0.000000</td>\n",
       "      <td>0.000000</td>\n",
       "      <td>224.000000</td>\n",
       "      <td>24.000000</td>\n",
       "      <td>0.000000</td>\n",
       "      <td>261.000000</td>\n",
       "      <td>5.000000</td>\n",
       "      <td>1.000000</td>\n",
       "    </tr>\n",
       "    <tr>\n",
       "      <th>50%</th>\n",
       "      <td>231.000000</td>\n",
       "      <td>8.330000</td>\n",
       "      <td>0.000000</td>\n",
       "      <td>355.000000</td>\n",
       "      <td>44.000000</td>\n",
       "      <td>0.000000</td>\n",
       "      <td>381.000000</td>\n",
       "      <td>5.000000</td>\n",
       "      <td>1.000000</td>\n",
       "    </tr>\n",
       "    <tr>\n",
       "      <th>75%</th>\n",
       "      <td>239.000000</td>\n",
       "      <td>10.000000</td>\n",
       "      <td>100.000000</td>\n",
       "      <td>396.000000</td>\n",
       "      <td>45.000000</td>\n",
       "      <td>0.000000</td>\n",
       "      <td>422.000000</td>\n",
       "      <td>5.000000</td>\n",
       "      <td>1.000000</td>\n",
       "    </tr>\n",
       "    <tr>\n",
       "      <th>max</th>\n",
       "      <td>306.000000</td>\n",
       "      <td>10.000000</td>\n",
       "      <td>100.000000</td>\n",
       "      <td>436.000000</td>\n",
       "      <td>45.000000</td>\n",
       "      <td>800.000000</td>\n",
       "      <td>461.000000</td>\n",
       "      <td>18.000000</td>\n",
       "      <td>1.000000</td>\n",
       "    </tr>\n",
       "  </tbody>\n",
       "</table>\n",
       "</div>"
      ],
      "text/plain": [
       "         course_id        grade  online_progress      user_id     category  \\\n",
       "count  2949.000000  1194.000000      1194.000000  2949.000000  2949.000000   \n",
       "mean    202.387589     5.654919        33.676127   301.842659    35.032553   \n",
       "std      71.567377     4.557320        45.711980   124.755485    13.658399   \n",
       "min      10.000000     0.000000         0.000000     3.000000     3.000000   \n",
       "25%     212.000000     0.000000         0.000000   224.000000    24.000000   \n",
       "50%     231.000000     8.330000         0.000000   355.000000    44.000000   \n",
       "75%     239.000000    10.000000       100.000000   396.000000    45.000000   \n",
       "max     306.000000    10.000000       100.000000   436.000000    45.000000   \n",
       "\n",
       "             hours  mdl_user_id    planta_id  language_es  \n",
       "count  2949.000000  2949.000000  2949.000000  2949.000000  \n",
       "mean     13.972872   328.332316     5.007121     0.979315  \n",
       "std      93.035103   124.755542     2.994616     0.142352  \n",
       "min       0.000000    10.000000     1.000000     0.000000  \n",
       "25%       0.000000   261.000000     5.000000     1.000000  \n",
       "50%       0.000000   381.000000     5.000000     1.000000  \n",
       "75%       0.000000   422.000000     5.000000     1.000000  \n",
       "max     800.000000   461.000000    18.000000     1.000000  "
      ]
     },
     "execution_count": 46,
     "metadata": {},
     "output_type": "execute_result"
    }
   ],
   "source": [
    "dflimpio.describe()"
   ]
  },
  {
   "cell_type": "code",
   "execution_count": 47,
   "metadata": {},
   "outputs": [
    {
     "data": {
      "text/plain": [
       "(2949, 12)"
      ]
     },
     "execution_count": 47,
     "metadata": {},
     "output_type": "execute_result"
    }
   ],
   "source": [
    "dflimpio.shape"
   ]
  },
  {
   "cell_type": "code",
   "execution_count": 48,
   "metadata": {},
   "outputs": [],
   "source": [
    "#Online_progress"
   ]
  },
  {
   "cell_type": "code",
   "execution_count": 49,
   "metadata": {},
   "outputs": [
    {
     "data": {
      "text/html": [
       "<div>\n",
       "<style scoped>\n",
       "    .dataframe tbody tr th:only-of-type {\n",
       "        vertical-align: middle;\n",
       "    }\n",
       "\n",
       "    .dataframe tbody tr th {\n",
       "        vertical-align: top;\n",
       "    }\n",
       "\n",
       "    .dataframe thead th {\n",
       "        text-align: right;\n",
       "    }\n",
       "</style>\n",
       "<table border=\"1\" class=\"dataframe\">\n",
       "  <thead>\n",
       "    <tr style=\"text-align: right;\">\n",
       "      <th></th>\n",
       "      <th>online_progress</th>\n",
       "    </tr>\n",
       "  </thead>\n",
       "  <tbody>\n",
       "    <tr>\n",
       "      <th>count</th>\n",
       "      <td>1194.000000</td>\n",
       "    </tr>\n",
       "    <tr>\n",
       "      <th>mean</th>\n",
       "      <td>33.676127</td>\n",
       "    </tr>\n",
       "    <tr>\n",
       "      <th>std</th>\n",
       "      <td>45.711980</td>\n",
       "    </tr>\n",
       "    <tr>\n",
       "      <th>min</th>\n",
       "      <td>0.000000</td>\n",
       "    </tr>\n",
       "    <tr>\n",
       "      <th>25%</th>\n",
       "      <td>0.000000</td>\n",
       "    </tr>\n",
       "    <tr>\n",
       "      <th>50%</th>\n",
       "      <td>0.000000</td>\n",
       "    </tr>\n",
       "    <tr>\n",
       "      <th>75%</th>\n",
       "      <td>100.000000</td>\n",
       "    </tr>\n",
       "    <tr>\n",
       "      <th>max</th>\n",
       "      <td>100.000000</td>\n",
       "    </tr>\n",
       "  </tbody>\n",
       "</table>\n",
       "</div>"
      ],
      "text/plain": [
       "       online_progress\n",
       "count      1194.000000\n",
       "mean         33.676127\n",
       "std          45.711980\n",
       "min           0.000000\n",
       "25%           0.000000\n",
       "50%           0.000000\n",
       "75%         100.000000\n",
       "max         100.000000"
      ]
     },
     "execution_count": 49,
     "metadata": {},
     "output_type": "execute_result"
    }
   ],
   "source": [
    "dflimpio[[\"online_progress\"]].describe()"
   ]
  },
  {
   "cell_type": "code",
   "execution_count": 50,
   "metadata": {},
   "outputs": [
    {
     "data": {
      "text/plain": [
       "<matplotlib.axes._subplots.AxesSubplot at 0x1a003a4ec40>"
      ]
     },
     "execution_count": 50,
     "metadata": {},
     "output_type": "execute_result"
    },
    {
     "data": {
      "image/png": "[encoded data removed]",
      "text/plain": [
       "<Figure size 432x288 with 1 Axes>"
      ]
     },
     "metadata": {
      "needs_background": "light"
     },
     "output_type": "display_data"
    }
   ],
   "source": [
    "dflimpio[dflimpio['online_progress']>-1].online_progress.plot(kind =\"box\")"
   ]
  },
  {
   "cell_type": "code",
   "execution_count": 51,
   "metadata": {},
   "outputs": [
    {
     "data": {
      "text/plain": [
       "array([[<matplotlib.axes._subplots.AxesSubplot object at 0x000001A003A4E880>]],\n",
       "      dtype=object)"
      ]
     },
     "execution_count": 51,
     "metadata": {},
     "output_type": "execute_result"
    },
    {
     "data": {
      "image/png": "[encoded data removed]",
      "text/plain": [
       "<Figure size 432x288 with 1 Axes>"
      ]
     },
     "metadata": {
      "needs_background": "light"
     },
     "output_type": "display_data"
    }
   ],
   "source": [
    "dflimpio.hist(\"online_progress\")"
   ]
  },
  {
   "cell_type": "code",
   "execution_count": 52,
   "metadata": {},
   "outputs": [
    {
     "name": "stderr",
     "output_type": "stream",
     "text": [
      "C:\\Users\\Cristian\\anaconda3\\lib\\site-packages\\numpy\\lib\\histograms.py:839: RuntimeWarning: invalid value encountered in greater_equal\n",
      "  keep = (tmp_a >= first_edge)\n",
      "C:\\Users\\Cristian\\anaconda3\\lib\\site-packages\\numpy\\lib\\histograms.py:840: RuntimeWarning: invalid value encountered in less_equal\n",
      "  keep &= (tmp_a <= last_edge)\n"
     ]
    },
    {
     "data": {
      "image/png": "[encoded data removed]",
      "text/plain": [
       "<Figure size 1300x650 with 1 Axes>"
      ]
     },
     "metadata": {
      "needs_background": "light"
     },
     "output_type": "display_data"
    }
   ],
   "source": [
    "# Creamos los objetos figura y axe.\n",
    "fig9, ax9 = plt.subplots()\n",
    "\n",
    "# Utilizamos la funcion hist().\n",
    "ax9.hist(dflimpio['online_progress'], bins = 10, alpha = 0.75, edgecolor = \"black\")\n",
    "ax9.set(xlabel=\"Progreso online\",ylabel=\"Conteo\")\n",
    "ax9.annotate(\"Mayor concentracion\",xy=[15,200],color=\"tab:blue\")\n",
    "# Cambiamos el tamaño de toda la figura.\n",
    "fig9.set_size_inches(10, 5)\n",
    "fig9.set_dpi(130)"
   ]
  },
  {
   "cell_type": "code",
   "execution_count": 53,
   "metadata": {},
   "outputs": [],
   "source": [
    "#hours"
   ]
  },
  {
   "cell_type": "code",
   "execution_count": 54,
   "metadata": {},
   "outputs": [
    {
     "data": {
      "text/html": [
       "<div>\n",
       "<style scoped>\n",
       "    .dataframe tbody tr th:only-of-type {\n",
       "        vertical-align: middle;\n",
       "    }\n",
       "\n",
       "    .dataframe tbody tr th {\n",
       "        vertical-align: top;\n",
       "    }\n",
       "\n",
       "    .dataframe thead th {\n",
       "        text-align: right;\n",
       "    }\n",
       "</style>\n",
       "<table border=\"1\" class=\"dataframe\">\n",
       "  <thead>\n",
       "    <tr style=\"text-align: right;\">\n",
       "      <th></th>\n",
       "      <th>hours</th>\n",
       "    </tr>\n",
       "  </thead>\n",
       "  <tbody>\n",
       "    <tr>\n",
       "      <th>count</th>\n",
       "      <td>2949.000000</td>\n",
       "    </tr>\n",
       "    <tr>\n",
       "      <th>mean</th>\n",
       "      <td>13.972872</td>\n",
       "    </tr>\n",
       "    <tr>\n",
       "      <th>std</th>\n",
       "      <td>93.035103</td>\n",
       "    </tr>\n",
       "    <tr>\n",
       "      <th>min</th>\n",
       "      <td>0.000000</td>\n",
       "    </tr>\n",
       "    <tr>\n",
       "      <th>25%</th>\n",
       "      <td>0.000000</td>\n",
       "    </tr>\n",
       "    <tr>\n",
       "      <th>50%</th>\n",
       "      <td>0.000000</td>\n",
       "    </tr>\n",
       "    <tr>\n",
       "      <th>75%</th>\n",
       "      <td>0.000000</td>\n",
       "    </tr>\n",
       "    <tr>\n",
       "      <th>max</th>\n",
       "      <td>800.000000</td>\n",
       "    </tr>\n",
       "  </tbody>\n",
       "</table>\n",
       "</div>"
      ],
      "text/plain": [
       "             hours\n",
       "count  2949.000000\n",
       "mean     13.972872\n",
       "std      93.035103\n",
       "min       0.000000\n",
       "25%       0.000000\n",
       "50%       0.000000\n",
       "75%       0.000000\n",
       "max     800.000000"
      ]
     },
     "execution_count": 54,
     "metadata": {},
     "output_type": "execute_result"
    }
   ],
   "source": [
    "dflimpio[[\"hours\"]].describe()"
   ]
  },
  {
   "cell_type": "code",
   "execution_count": 55,
   "metadata": {},
   "outputs": [
    {
     "data": {
      "image/png": "[encoded data removed]",
      "text/plain": [
       "<Figure size 432x288 with 1 Axes>"
      ]
     },
     "metadata": {
      "needs_background": "light"
     },
     "output_type": "display_data"
    }
   ],
   "source": [
    "# Creamos los objetos figura y axe.\n",
    "fig, ax = plt.subplots()\n",
    "\n",
    "# Utilizamos la funcion hist().\n",
    "ax.hist(dflimpio['hours'], bins = 10, alpha = 0.75, edgecolor = \"black\")\n",
    "ax.set(xlabel=\"hours\",ylabel=\"Conteo\")\n",
    "ax.annotate(\"Mayor concentracion\",xy=[15,200],color=\"tab:blue\")\n",
    "# Cambiamos el tamaño de toda la figura.\n",
    "fig9.set_size_inches(10, 5)\n",
    "fig9.set_dpi(130)"
   ]
  },
  {
   "cell_type": "code",
   "execution_count": 56,
   "metadata": {},
   "outputs": [],
   "source": [
    "#Los cursos con mas de 15 horas los dividimos entre 60, ya que son muchas horas y puede que esten en minutos\n",
    "for a in dflimpio.index: \n",
    "    if dflimpio.loc[a,'hours']>15: \n",
    "        dflimpio.loc[a,'hours']=(dflimpio.loc[a,'hours']/60)"
   ]
  },
  {
   "cell_type": "code",
   "execution_count": 57,
   "metadata": {},
   "outputs": [
    {
     "data": {
      "text/html": [
       "<div>\n",
       "<style scoped>\n",
       "    .dataframe tbody tr th:only-of-type {\n",
       "        vertical-align: middle;\n",
       "    }\n",
       "\n",
       "    .dataframe tbody tr th {\n",
       "        vertical-align: top;\n",
       "    }\n",
       "\n",
       "    .dataframe thead th {\n",
       "        text-align: right;\n",
       "    }\n",
       "</style>\n",
       "<table border=\"1\" class=\"dataframe\">\n",
       "  <thead>\n",
       "    <tr style=\"text-align: right;\">\n",
       "      <th></th>\n",
       "      <th>hours</th>\n",
       "    </tr>\n",
       "  </thead>\n",
       "  <tbody>\n",
       "    <tr>\n",
       "      <th>count</th>\n",
       "      <td>2949.000000</td>\n",
       "    </tr>\n",
       "    <tr>\n",
       "      <th>mean</th>\n",
       "      <td>0.875099</td>\n",
       "    </tr>\n",
       "    <tr>\n",
       "      <th>std</th>\n",
       "      <td>2.183647</td>\n",
       "    </tr>\n",
       "    <tr>\n",
       "      <th>min</th>\n",
       "      <td>0.000000</td>\n",
       "    </tr>\n",
       "    <tr>\n",
       "      <th>25%</th>\n",
       "      <td>0.000000</td>\n",
       "    </tr>\n",
       "    <tr>\n",
       "      <th>50%</th>\n",
       "      <td>0.000000</td>\n",
       "    </tr>\n",
       "    <tr>\n",
       "      <th>75%</th>\n",
       "      <td>0.000000</td>\n",
       "    </tr>\n",
       "    <tr>\n",
       "      <th>max</th>\n",
       "      <td>13.333333</td>\n",
       "    </tr>\n",
       "  </tbody>\n",
       "</table>\n",
       "</div>"
      ],
      "text/plain": [
       "             hours\n",
       "count  2949.000000\n",
       "mean      0.875099\n",
       "std       2.183647\n",
       "min       0.000000\n",
       "25%       0.000000\n",
       "50%       0.000000\n",
       "75%       0.000000\n",
       "max      13.333333"
      ]
     },
     "execution_count": 57,
     "metadata": {},
     "output_type": "execute_result"
    }
   ],
   "source": [
    "dflimpio[[\"hours\"]].describe()"
   ]
  },
  {
   "cell_type": "code",
   "execution_count": 61,
   "metadata": {},
   "outputs": [
    {
     "data": {
      "image/png": "[encoded data removed]",
      "text/plain": [
       "<Figure size 432x288 with 1 Axes>"
      ]
     },
     "metadata": {
      "needs_background": "light"
     },
     "output_type": "display_data"
    }
   ],
   "source": [
    "# Creamos los objetos figura y axe.\n",
    "fig, ax = plt.subplots()\n",
    "\n",
    "# Utilizamos la funcion hist().\n",
    "ax.hist(dflimpio['hours'], bins = 10, alpha = 0.75, edgecolor = \"black\")\n",
    "ax.set(xlabel=\"hours\",ylabel=\"Conteo\")\n",
    "ax.annotate(\"Mayor concentracion\",xy=[15,200],color=\"tab:blue\")\n",
    "# Cambiamos el tamaño de toda la figura.\n",
    "fig9.set_size_inches(10, 5)\n",
    "fig9.set_dpi(130)"
   ]
  },
  {
   "cell_type": "code",
   "execution_count": 58,
   "metadata": {},
   "outputs": [
    {
     "data": {
      "text/plain": [
       "course_id             0\n",
       "grade              1755\n",
       "online_progress    1755\n",
       "user_id               0\n",
       "category              0\n",
       "hours                 0\n",
       "mdl_user_id           0\n",
       "planta_name           0\n",
       "1er acceso            0\n",
       "ultimo acceso         0\n",
       "planta_id             0\n",
       "language_es           0\n",
       "dtype: int64"
      ]
     },
     "execution_count": 58,
     "metadata": {},
     "output_type": "execute_result"
    }
   ],
   "source": [
    "dflimpio.isna().sum()"
   ]
  },
  {
   "cell_type": "code",
   "execution_count": 59,
   "metadata": {},
   "outputs": [],
   "source": [
    "dflimpio = dflimpio[dflimpio['grade'].notna()]\n",
    "dflimpio = dflimpio[dflimpio['online_progress'].notna()]"
   ]
  },
  {
   "cell_type": "code",
   "execution_count": 62,
   "metadata": {},
   "outputs": [
    {
     "data": {
      "text/plain": [
       "course_id          0\n",
       "grade              0\n",
       "online_progress    0\n",
       "user_id            0\n",
       "category           0\n",
       "hours              0\n",
       "mdl_user_id        0\n",
       "planta_name        0\n",
       "1er acceso         0\n",
       "ultimo acceso      0\n",
       "planta_id          0\n",
       "language_es        0\n",
       "dtype: int64"
      ]
     },
     "execution_count": 62,
     "metadata": {},
     "output_type": "execute_result"
    }
   ],
   "source": [
    "dflimpio.isna().sum()"
   ]
  },
  {
   "cell_type": "code",
   "execution_count": 63,
   "metadata": {},
   "outputs": [],
   "source": [
    "#Pasar a csv\n",
    "dflimpio.to_csv(\"DATOS_LIMPIOS.csv\")"
   ]
  },
  {
   "cell_type": "code",
   "execution_count": 64,
   "metadata": {},
   "outputs": [
    {
     "data": {
      "text/plain": [
       "Index(['course_id', 'grade', 'online_progress', 'user_id', 'category', 'hours',\n",
       "       'mdl_user_id', 'planta_name', '1er acceso', 'ultimo acceso',\n",
       "       'planta_id', 'language_es'],\n",
       "      dtype='object')"
      ]
     },
     "execution_count": 64,
     "metadata": {},
     "output_type": "execute_result"
    }
   ],
   "source": [
    "dflimpio.columns"
   ]
  },
  {
   "cell_type": "code",
   "execution_count": 65,
   "metadata": {},
   "outputs": [
    {
     "name": "stdout",
     "output_type": "stream",
     "text": [
      "   course_id  grade  online_progress  user_id  category  hours  mdl_user_id  \\\n",
      "0        224   0.00              0.0      138        27    0.0          183   \n",
      "1        224   9.32              0.0      262        27    0.0          296   \n",
      "2        224   9.66              0.0      265        27    0.0          299   \n",
      "6        223   8.85              0.0      262        27    0.0          296   \n",
      "7        223   9.43              0.0      265        27    0.0          299   \n",
      "\n",
      "    planta_name                               1er acceso  \\\n",
      "0  ABP Arrasate          lunes, 4 de mayo de 2020, 17:04   \n",
      "1  ABP Arrasate  viernes, 18 de diciembre de 2020, 14:44   \n",
      "2  ABP Arrasate  viernes, 18 de diciembre de 2020, 16:18   \n",
      "6  ABP Arrasate  viernes, 18 de diciembre de 2020, 14:44   \n",
      "7  ABP Arrasate  viernes, 18 de diciembre de 2020, 16:18   \n",
      "\n",
      "                             ultimo acceso  planta_id  language_es  \n",
      "0       martes, 13 de julio de 2021, 15:10          2            1  \n",
      "1     viernes, 1 de octubre de 2021, 15:56          2            1  \n",
      "2  viernes, 18 de diciembre de 2020, 17:01          2            1  \n",
      "6     viernes, 1 de octubre de 2021, 15:56          2            1  \n",
      "7  viernes, 18 de diciembre de 2020, 17:01          2            1  \n"
     ]
    }
   ],
   "source": [
    "print(dflimpio.head())"
   ]
  },
  {
   "cell_type": "code",
   "execution_count": null,
   "metadata": {},
   "outputs": [],
   "source": [
    "# dflimpio['1er acceso'] = pd.to_datetime(dflimpio['1er acceso'])\n",
    "# dflimpio['ultimo acceso'] = pd.to_datetime(dflimpio['ultimo acceso'])"
   ]
  },
  {
   "cell_type": "code",
   "execution_count": null,
   "metadata": {},
   "outputs": [],
   "source": [
    "# dflimpio['ultimo acceso'][0]"
   ]
  },
  {
   "cell_type": "code",
   "execution_count": null,
   "metadata": {},
   "outputs": [],
   "source": [
    "# print(dflimpio['1er acceso'].strftime(\"%Y-%m-%d\"))"
   ]
  }
 ],
 "metadata": {
  "kernelspec": {
   "display_name": "Python 3",
   "language": "python",
   "name": "python3"
  },
  "language_info": {
   "codemirror_mode": {
    "name": "ipython",
    "version": 3
   },
   "file_extension": ".py",
   "mimetype": "text/x-python",
   "name": "python",
   "nbconvert_exporter": "python",
   "pygments_lexer": "ipython3",
   "version": "3.8.3"
  }
 },
 "nbformat": 4,
 "nbformat_minor": 4
}
